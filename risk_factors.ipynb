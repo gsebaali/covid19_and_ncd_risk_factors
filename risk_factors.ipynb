{
  "cells": [
    {
      "metadata": {
        "toc": true
      },
      "cell_type": "markdown",
      "source": "<h1>Table of Contents<span class=\"tocSkip\"></span></h1>\n<div class=\"toc\"><ul class=\"toc-item\"><li><span><a href=\"#Import-dataset-and-clean\" data-toc-modified-id=\"Import-dataset-and-clean-1\"><span class=\"toc-item-num\">1&nbsp;&nbsp;</span>Import dataset and clean</a></span><ul class=\"toc-item\"><li><span><a href=\"#Import-data\" data-toc-modified-id=\"Import-data-1.1\"><span class=\"toc-item-num\">1.1&nbsp;&nbsp;</span>Import data</a></span></li><li><span><a href=\"#Group-Risk-Factors\" data-toc-modified-id=\"Group-Risk-Factors-1.2\"><span class=\"toc-item-num\">1.2&nbsp;&nbsp;</span>Group Risk Factors</a></span></li><li><span><a href=\"#Indicator-availability-over-years\" data-toc-modified-id=\"Indicator-availability-over-years-1.3\"><span class=\"toc-item-num\">1.3&nbsp;&nbsp;</span>Indicator availability over years</a></span></li><li><span><a href=\"#Handle-Disagregation\" data-toc-modified-id=\"Handle-Disagregation-1.4\"><span class=\"toc-item-num\">1.4&nbsp;&nbsp;</span>Handle Disagregation</a></span><ul class=\"toc-item\"><li><span><a href=\"#NCD-Risk-Factor\" data-toc-modified-id=\"NCD-Risk-Factor-1.4.1\"><span class=\"toc-item-num\">1.4.1&nbsp;&nbsp;</span>NCD Risk Factor</a></span></li><li><span><a href=\"#Metabolic-Risk-Factor\" data-toc-modified-id=\"Metabolic-Risk-Factor-1.4.2\"><span class=\"toc-item-num\">1.4.2&nbsp;&nbsp;</span>Metabolic Risk Factor</a></span></li><li><span><a href=\"#Other-Risk-Factor\" data-toc-modified-id=\"Other-Risk-Factor-1.4.3\"><span class=\"toc-item-num\">1.4.3&nbsp;&nbsp;</span>Other Risk Factor</a></span></li></ul></li><li><span><a href=\"#Change-rates-to-number\" data-toc-modified-id=\"Change-rates-to-number-1.5\"><span class=\"toc-item-num\">1.5&nbsp;&nbsp;</span>Change rates to number</a></span><ul class=\"toc-item\"><li><span><a href=\"#Metabolic-Risk-Factor\" data-toc-modified-id=\"Metabolic-Risk-Factor-1.5.1\"><span class=\"toc-item-num\">1.5.1&nbsp;&nbsp;</span>Metabolic Risk Factor</a></span></li></ul></li><li><span><a href=\"#Correlations-of-indicators-of-risk-factors\" data-toc-modified-id=\"Correlations-of-indicators-of-risk-factors-1.6\"><span class=\"toc-item-num\">1.6&nbsp;&nbsp;</span>Correlations of indicators of risk factors</a></span><ul class=\"toc-item\"><li><span><a href=\"#Metabolic-Risk-Factor\" data-toc-modified-id=\"Metabolic-Risk-Factor-1.6.1\"><span class=\"toc-item-num\">1.6.1&nbsp;&nbsp;</span>Metabolic Risk Factor</a></span></li><li><span><a href=\"#Behavorial-Risk-Factor\" data-toc-modified-id=\"Behavorial-Risk-Factor-1.6.2\"><span class=\"toc-item-num\">1.6.2&nbsp;&nbsp;</span>Behavorial Risk Factor</a></span></li><li><span><a href=\"#NCD-Risk-Factor\" data-toc-modified-id=\"NCD-Risk-Factor-1.6.3\"><span class=\"toc-item-num\">1.6.3&nbsp;&nbsp;</span>NCD Risk Factor</a></span></li><li><span><a href=\"#Missing-countries\" data-toc-modified-id=\"Missing-countries-1.6.4\"><span class=\"toc-item-num\">1.6.4&nbsp;&nbsp;</span>Missing countries</a></span></li></ul></li></ul></li><li><span><a href=\"#Methods-to-assign-scores\" data-toc-modified-id=\"Methods-to-assign-scores-2\"><span class=\"toc-item-num\">2&nbsp;&nbsp;</span>Methods to assign scores</a></span><ul class=\"toc-item\"><li><span><a href=\"#Percentage-Binning\" data-toc-modified-id=\"Percentage-Binning-2.1\"><span class=\"toc-item-num\">2.1&nbsp;&nbsp;</span>Percentage Binning</a></span></li><li><span><a href=\"#Check-Distribution\" data-toc-modified-id=\"Check-Distribution-2.2\"><span class=\"toc-item-num\">2.2&nbsp;&nbsp;</span>Check Distribution</a></span></li><li><span><a href=\"#Add-labels:-above/below-average\" data-toc-modified-id=\"Add-labels:-above/below-average-2.3\"><span class=\"toc-item-num\">2.3&nbsp;&nbsp;</span>Add labels: above/below average</a></span></li></ul></li><li><span><a href=\"#Max-Min-score-(ex:-asthma)\" data-toc-modified-id=\"Max-Min-score-(ex:-asthma)-3\"><span class=\"toc-item-num\">3&nbsp;&nbsp;</span>Max Min score (ex: asthma)</a></span></li></ul></div>"
    },
    {
      "metadata": {
        "trusted": true
      },
      "cell_type": "code",
      "source": "# https://stackoverflow.com/questions/6620471/fitting-empirical-distribution-to-theoretical-ones-with-scipy-python?lq=1\n# https://pythonhealthcare.org/2018/05/03/81-distribution-fitting-to-data/\n#https://stackoverflow.com/questions/6620471/fitting-empirical-distribution-to-theoretical-ones-with-scipy-python",
      "execution_count": null,
      "outputs": []
    },
    {
      "metadata": {},
      "cell_type": "markdown",
      "source": "## Import dataset and clean"
    },
    {
      "metadata": {},
      "cell_type": "markdown",
      "source": "### Import data"
    },
    {
      "metadata": {
        "trusted": true
      },
      "cell_type": "code",
      "source": "import pandas as pd\ndf = pd.read_csv('covid19- merged risk factors-v2-06May20.csv')",
      "execution_count": null,
      "outputs": []
    },
    {
      "metadata": {
        "trusted": true
      },
      "cell_type": "code",
      "source": "print('There are {} rows in the imported dataset'.format(df.shape[0]))",
      "execution_count": null,
      "outputs": []
    },
    {
      "metadata": {
        "trusted": true
      },
      "cell_type": "code",
      "source": "print('there are {} unique indicators in the imported dataset in total'.format(df['Indicator'].nunique()))",
      "execution_count": null,
      "outputs": []
    },
    {
      "metadata": {
        "trusted": true
      },
      "cell_type": "code",
      "source": "print('colums imported and their datatypes')\ndf.dtypes",
      "execution_count": null,
      "outputs": []
    },
    {
      "metadata": {
        "trusted": true
      },
      "cell_type": "code",
      "source": "df.head()",
      "execution_count": null,
      "outputs": []
    },
    {
      "metadata": {},
      "cell_type": "markdown",
      "source": "### Group Risk Factors"
    },
    {
      "metadata": {
        "trusted": true
      },
      "cell_type": "code",
      "source": "groups=[]\nfor i in df['Indicator']:\n    if i in ('Alcohol, heavy episodic drinking (15+) past 30 days (%), age-standardized',\n             'Alcohol, recorded per capita (15+) consumption (in litres of pure alcohol)',\n             'Current cigarette smoking, age-standardised',\n             'Current tobacco smoking, age-standardised',\n             'Daily cigarette smoking, age-standardised',\n             'Daily tobacco smoking, age-standardised'):\n        groups.append('Behavioral Risk Factor')\n    elif i in ('Raised blood pressure (SBP>=140 OR DBP>=90) (crude estimate), 18+  years',\n               'Raised fasting blood glucose (>= 7.0 mmol/L or on medication) (crude estimate), 18+  years',\n               'Stunting - height-for-age (<-2SD)',\n               'Interstitial lung disease and pulmonary sarcoidosis prevalence rate',\n               'Prevalence of obesity among adults, BMI &GreaterEqual; 30 (age-standardized estimate) (%)',\n               'Prevalence of overweight among adults, BMI &GreaterEqual; 25 (crude estimate) (%)'):\n        groups.append('Metabolic Risk Factor')\n    elif i in ('Chronic obstructive pulmonary disease prevalence rate',\n               'Chronic respiratory diseases prevalence rate',\n               'Asthma prevalence rate',\n               'Other chronic respiratory diseases prevalence rate',\n               'Pneumoconiosis prevalence rate',\n               'Estimated number of new cases, all cancers, all ages (crude-estimate)',\n               'Diabetes prevalence',\n               'Cancer prevalence',\n               'Cardiovascular diseases prevalence'):\n        groups.append('NCD Prevalence Rate')\n    elif i in ('Concentrations of fine particulate matter (PM2.5)',\n               'Total population by five-year age group (thousands)'):\n        groups.append('Other')\n    else:\n        groups.append('')\n        \ndf['Risk Factor']=groups",
      "execution_count": null,
      "outputs": []
    },
    {
      "metadata": {
        "trusted": true
      },
      "cell_type": "code",
      "source": "df_other = df[(df['Risk Factor'] != 'NCD Prevalence Rate') \n   & (df['Risk Factor'] != 'Metabolic Risk Factor') \n   & (df['Risk Factor'] != 'Behavioral Risk Factor')\n & (df['Risk Factor'] != 'Other')]\ndf_other['Risk Factor'].unique()",
      "execution_count": null,
      "outputs": []
    },
    {
      "metadata": {
        "trusted": true
      },
      "cell_type": "code",
      "source": "print('Drop the following indicators that are not to be included in any risk factor analysis:')\ndropi = df[df['Risk Factor'] ==''].index\ndf.iloc[dropi,:]['Indicator'].unique()",
      "execution_count": null,
      "outputs": []
    },
    {
      "metadata": {
        "trusted": true
      },
      "cell_type": "code",
      "source": "df.drop(dropi, inplace=True)",
      "execution_count": null,
      "outputs": []
    },
    {
      "metadata": {
        "trusted": true
      },
      "cell_type": "code",
      "source": "print('The dataset is reduced to {} rows.'.format(df.shape[0]))",
      "execution_count": null,
      "outputs": []
    },
    {
      "metadata": {},
      "cell_type": "markdown",
      "source": "### Indicator availability over years "
    },
    {
      "metadata": {
        "trusted": true
      },
      "cell_type": "code",
      "source": "print('The dataset has data in total {} unique countries.'.format( df['Country'].nunique() ))",
      "execution_count": 11,
      "outputs": [
        {
          "output_type": "stream",
          "text": "The dataset has data in total 220 unique countries.\n",
          "name": "stdout"
        }
      ]
    },
    {
      "metadata": {
        "trusted": true
      },
      "cell_type": "code",
      "source": "df.groupby(['Risk Factor','Indicator','Year'])['Country'].nunique()\n",
      "execution_count": 12,
      "outputs": [
        {
          "output_type": "execute_result",
          "execution_count": 12,
          "data": {
            "text/plain": "Risk Factor             Indicator                                                                                   Year\nBehavioral Risk Factor  Alcohol, heavy episodic drinking (15+) past 30 days (%), age-standardized                   2016    188\n                        Alcohol, recorded per capita (15+) consumption (in litres of pure alcohol)                  2011      2\n                                                                                                                    2013     10\n                                                                                                                    2014      1\n                                                                                                                    2015     83\n                                                                                                                    2016     93\n                        Current cigarette smoking, age-standardised                                                 2013    127\n                        Current tobacco smoking, age-standardised                                                   2013    127\n                        Daily cigarette smoking, age-standardised                                                   2013    127\n                        Daily tobacco smoking, age-standardised                                                     2013    127\nMetabolic Risk Factor   Interstitial lung disease and pulmonary sarcoidosis prevalence rate                         2017    194\n                        Prevalence of obesity among adults, BMI &GreaterEqual; 30 (age-standardized estimate) (%)   2016    190\n                        Prevalence of overweight among adults, BMI &GreaterEqual; 25 (crude estimate) (%)           2016    190\n                        Raised blood pressure (SBP>=140 OR DBP>=90) (crude estimate), 18+  years                    2015    190\n                        Raised fasting blood glucose (>= 7.0 mmol/L or on medication) (crude estimate), 18+  years  2014    190\n                        Stunting - height-for-age (<-2SD)                                                           1985      1\n                                                                                                                    1994      1\n                                                                                                                    1995      3\n                                                                                                                    2000      3\n                                                                                                                    2001      1\n                                                                                                                    2002      1\n                                                                                                                    2004      3\n                                                                                                                    2005      1\n                                                                                                                    2007      5\n                                                                                                                    2008      2\n                                                                                                                    2009      6\n                                                                                                                    2010      8\n                                                                                                                    2011      4\n                                                                                                                    2012     13\n                                                                                                                    2013      9\n                                                                                                                    2014     19\n                                                                                                                    2015      9\n                                                                                                                    2016     16\n                                                                                                                    2017     14\n                                                                                                                    2018     26\n                                                                                                                    2019      6\nNCD Prevalence Rate     Asthma prevalence rate                                                                      2017    194\n                        Chronic obstructive pulmonary disease prevalence rate                                       2017    194\n                        Chronic respiratory diseases prevalence rate                                                2017    194\n                        Estimated number of new cases, all cancers, all ages (crude-estimate)                       2018    184\n                        Other chronic respiratory diseases prevalence rate                                          2017     17\n                        Pneumoconiosis prevalence rate                                                              2017    194\nOther                   Concentrations of fine particulate matter (PM2.5)                                           2016    193\n                        Total population by five-year age group (thousands)                                         2020    200\nName: Country, dtype: int64"
          },
          "metadata": {}
        }
      ]
    },
    {
      "metadata": {
        "trusted": true
      },
      "cell_type": "code",
      "source": "#unique number of countries in every year\ndf.groupby('Year')['Country'].nunique()",
      "execution_count": 13,
      "outputs": [
        {
          "output_type": "execute_result",
          "execution_count": 13,
          "data": {
            "text/plain": "Year\n1985      1\n1994      1\n1995      3\n2000      3\n2001      1\n2002      1\n2004      3\n2005      1\n2007      5\n2008      2\n2009      6\n2010      8\n2011      6\n2012     13\n2013    137\n2014    192\n2015    190\n2016    193\n2017    194\n2018    184\n2019      6\n2020    200\nName: Country, dtype: int64"
          },
          "metadata": {}
        }
      ]
    },
    {
      "metadata": {
        "trusted": true
      },
      "cell_type": "code",
      "source": "print('For 2017')\ndf[df['Year']==2017].groupby(['Risk Factor','Indicator', 'Year'])['Country'].nunique()",
      "execution_count": 14,
      "outputs": [
        {
          "output_type": "stream",
          "text": "For 2017\n",
          "name": "stdout"
        },
        {
          "output_type": "execute_result",
          "execution_count": 14,
          "data": {
            "text/plain": "Risk Factor            Indicator                                                            Year\nMetabolic Risk Factor  Interstitial lung disease and pulmonary sarcoidosis prevalence rate  2017    194\n                       Stunting - height-for-age (<-2SD)                                    2017     14\nNCD Prevalence Rate    Asthma prevalence rate                                               2017    194\n                       Chronic obstructive pulmonary disease prevalence rate                2017    194\n                       Chronic respiratory diseases prevalence rate                         2017    194\n                       Other chronic respiratory diseases prevalence rate                   2017     17\n                       Pneumoconiosis prevalence rate                                       2017    194\nName: Country, dtype: int64"
          },
          "metadata": {}
        }
      ]
    },
    {
      "metadata": {
        "trusted": true
      },
      "cell_type": "code",
      "source": "#'Drop stunting factor due to lack of data points\ndropi = df[df['Indicator'] =='Stunting - height-for-age (<-2SD)'].index\ndf.iloc[dropi,:]['Indicator'].unique()\ndf.drop(dropi,inplace=True)",
      "execution_count": 15,
      "outputs": []
    },
    {
      "metadata": {},
      "cell_type": "markdown",
      "source": "### Handle Disagregation"
    },
    {
      "metadata": {
        "trusted": true
      },
      "cell_type": "code",
      "source": "df.groupby(['Indicator'])['Disaggregation'].nunique()",
      "execution_count": 16,
      "outputs": [
        {
          "output_type": "execute_result",
          "execution_count": 16,
          "data": {
            "text/plain": "Indicator\nAlcohol, heavy episodic drinking (15+) past 30 days (%), age-standardized                      3\nAlcohol, recorded per capita (15+) consumption (in litres of pure alcohol)                     1\nAsthma prevalence rate                                                                         1\nChronic obstructive pulmonary disease prevalence rate                                          1\nChronic respiratory diseases prevalence rate                                                   1\nConcentrations of fine particulate matter (PM2.5)                                              3\nCurrent cigarette smoking, age-standardised                                                    3\nCurrent tobacco smoking, age-standardised                                                      3\nDaily cigarette smoking, age-standardised                                                      3\nDaily tobacco smoking, age-standardised                                                        3\nEstimated number of new cases, all cancers, all ages (crude-estimate)                          0\nInterstitial lung disease and pulmonary sarcoidosis prevalence rate                            1\nOther chronic respiratory diseases prevalence rate                                             1\nPneumoconiosis prevalence rate                                                                 1\nPrevalence of obesity among adults, BMI &GreaterEqual; 30 (age-standardized estimate) (%)      3\nPrevalence of overweight among adults, BMI &GreaterEqual; 25 (crude estimate) (%)              3\nRaised blood pressure (SBP>=140 OR DBP>=90) (crude estimate), 18+  years                       3\nRaised fasting blood glucose (>= 7.0 mmol/L or on medication) (crude estimate), 18+  years     3\nTotal population by five-year age group (thousands)                                           21\nName: Disaggregation, dtype: int64"
          },
          "metadata": {}
        }
      ]
    },
    {
      "metadata": {},
      "cell_type": "markdown",
      "source": "#### NCD Risk Factor"
    },
    {
      "metadata": {
        "trusted": true
      },
      "cell_type": "code",
      "source": "#this is only aggregated so good to go\ndf[(df['Risk Factor']=='NCD Prevalence Rate')]['Disaggregation'].unique()",
      "execution_count": 17,
      "outputs": [
        {
          "output_type": "execute_result",
          "execution_count": 17,
          "data": {
            "text/plain": "array([nan, 'Both sexes'], dtype=object)"
          },
          "metadata": {}
        }
      ]
    },
    {
      "metadata": {},
      "cell_type": "markdown",
      "source": "#### Metabolic Risk Factor"
    },
    {
      "metadata": {
        "trusted": true
      },
      "cell_type": "code",
      "source": "dropi =  df[(df['Risk Factor']=='Metabolic Risk Factor')\n                &(df['Indicator'].isin(['Alcohol, heavy episodic drinking (15+) past 30 days (%), age-standardized', #both sexes\n                                 \n                                   'Current cigarette smoking, age-standardised',#both sexes\n                                   'Current tobacco smoking, age-standardised',#both sexes\n                                   'Daily cigarette smoking, age-standardised',#both sexes\n                                   'Daily tobacco smoking, age-standardised',#both sexes\n                                   'Prevalence of obesity among adults, BMI &GreaterEqual; 30 (age-standardized estimate) (%)',#both sexes\n                                   'Prevalence of overweight among adults, BMI &GreaterEqual; 25 (crude estimate) (%)',#both sexes\n                                   'Raised blood pressure (SBP>=140 OR DBP>=90) (crude estimate), 18+  years',#both sexes\n                                   'Raised fasting blood glucose (>= 7.0 mmol/L or on medication) (crude estimate), 18+  years']#both sexes\n                                 )) \n           & (df['Disaggregation']!='Both sexes')].index\n\ndf.iloc[dropi,:]['Disaggregation'].unique()\ndf.drop(dropi,inplace = True)",
      "execution_count": 18,
      "outputs": []
    },
    {
      "metadata": {},
      "cell_type": "markdown",
      "source": "#### Other Risk Factor"
    },
    {
      "metadata": {
        "trusted": true
      },
      "cell_type": "code",
      "source": "##how to handle this disaggregation\ndf[df['Indicator']=='Total population by five-year age group (thousands)']['Disaggregation'].unique()\n#  'Concentrations of fine particulate matter (PM2.5)',#total",
      "execution_count": 19,
      "outputs": [
        {
          "output_type": "execute_result",
          "execution_count": 19,
          "data": {
            "text/plain": "array(['0-4', '5-9', '10-14', '15-19', '20-24', '25-29', '30-34', '35-39',\n       '40-44', '45-49', '50-54', '55-59', '60-64', '65-69', '70-74',\n       '75-79', '80-84', '85-89', '90-94', '95-99', '100+'], dtype=object)"
          },
          "metadata": {}
        }
      ]
    },
    {
      "metadata": {},
      "cell_type": "markdown",
      "source": "### Change rates to number"
    },
    {
      "metadata": {
        "trusted": true
      },
      "cell_type": "code",
      "source": "#https://data.worldbank.org/indicator/SP.POP.TOTL\npop = pd.read_csv('population.csv')\npop.drop([0,1,2],inplace=True)\n\n#pop.iloc[0,4:62]  = pop.iloc[0,4:62].round(0)\npop.rename(columns=pop.iloc[0],inplace=True)\npop.drop([3],inplace=True)\n\npop.head()",
      "execution_count": null,
      "outputs": []
    },
    {
      "metadata": {
        "trusted": true
      },
      "cell_type": "code",
      "source": "c= pd.DataFrame(pop['Country Name'].unique(),columns=['Country']) #264",
      "execution_count": null,
      "outputs": []
    },
    {
      "metadata": {
        "trusted": true
      },
      "cell_type": "code",
      "source": "d= pd.DataFrame( df['Country'].unique(),columns=['Country']) #220",
      "execution_count": null,
      "outputs": []
    },
    {
      "metadata": {
        "trusted": true
      },
      "cell_type": "code",
      "source": "d[~d['Country'].isin(c['Country'])]",
      "execution_count": null,
      "outputs": []
    },
    {
      "metadata": {
        "trusted": true
      },
      "cell_type": "code",
      "source": "",
      "execution_count": null,
      "outputs": []
    },
    {
      "metadata": {},
      "cell_type": "markdown",
      "source": "#### Metabolic Risk Factor"
    },
    {
      "metadata": {
        "trusted": true
      },
      "cell_type": "code",
      "source": "rate_2016 = ['Prevalence of obesity among adults, BMI &GreaterEqual; 30 (age-standardized estimate) (%)', \n        'Prevalence of overweight among adults, BMI &GreaterEqual; 25 (crude estimate) (%)']\n\nd=[]\nfor i in rate_2016:\n    for i in len(df):\n        if df.iloc[i,'Indicator']==i:\n            d=(df.iloc[i,'Data'])/100\n            ",
      "execution_count": null,
      "outputs": []
    },
    {
      "metadata": {
        "trusted": true
      },
      "cell_type": "code",
      "source": "---not rate ----Interstitial lung disease and pulmonary sarcoidosis prevalence rate                         2017    194\nyes rate!!!! Prevalence of obesity among adults, BMI &GreaterEqual; 30 (age-standardized estimate) (%)   2016    190\nyes rate!!!!                        Prevalence of overweight among adults, BMI &GreaterEqual; 25 (crude estimate) (%)           2016    190\nyes rate!!!!                        Raised blood pressure (SBP>=140 OR DBP>=90) (crude estimate), 18+  years                    2015    190\nyes rate!!!!                       Raised fasting blood glucose (>= 7.0 mmol/L or on medication) (crude estimate), 18+  years  2014    190",
      "execution_count": null,
      "outputs": []
    },
    {
      "metadata": {},
      "cell_type": "markdown",
      "source": "### Correlations of indicators of risk factors"
    },
    {
      "metadata": {},
      "cell_type": "markdown",
      "source": "#### Metabolic Risk Factor"
    },
    {
      "metadata": {
        "trusted": true
      },
      "cell_type": "code",
      "source": "df_meta = df[(df['Risk Factor']=='Metabolic Risk Factor') &\n            df['Indicator'].isin (['Interstitial lung disease and pulmonary sarcoidosis prevalence rate' ,                     \n                        'Prevalence of obesity among adults, BMI &GreaterEqual; 30 (age-standardized estimate) (%)'  ,\n                        'Prevalence of overweight among adults, BMI &GreaterEqual; 25 (crude estimate) (%)' ,          \n                        'Raised blood pressure (SBP>=140 OR DBP>=90) (crude estimate), 18+  years' ,                  \n                        'Raised fasting blood glucose (>= 7.0 mmol/L or on medication) (crude estimate), 18+  years'])\n            & (df['Disaggregation']=='Both sexes')]\n\ndf_meta.head()",
      "execution_count": 20,
      "outputs": [
        {
          "output_type": "execute_result",
          "execution_count": 20,
          "data": {
            "text/plain": "          Country  Year                                          Indicator  \\\n2084  Afghanistan  2014  Raised fasting blood glucose (>= 7.0 mmol/L or...   \n2087      Albania  2014  Raised fasting blood glucose (>= 7.0 mmol/L or...   \n2090      Algeria  2014  Raised fasting blood glucose (>= 7.0 mmol/L or...   \n2093      Andorra  2014  Raised fasting blood glucose (>= 7.0 mmol/L or...   \n2096       Angola  2014  Raised fasting blood glucose (>= 7.0 mmol/L or...   \n\n     Disaggregation  Data                                             Source  \\\n2084     Both sexes   8.4  WHO GHO. https://apps.who.int/gho/data/node.ma...   \n2087     Both sexes   8.3  WHO GHO. https://apps.who.int/gho/data/node.ma...   \n2090     Both sexes  10.5  WHO GHO. https://apps.who.int/gho/data/node.ma...   \n2093     Both sexes   9.1  WHO GHO. https://apps.who.int/gho/data/node.ma...   \n2096     Both sexes   5.6  WHO GHO. https://apps.who.int/gho/data/node.ma...   \n\n                Risk Factor  \n2084  Metabolic Risk Factor  \n2087  Metabolic Risk Factor  \n2090  Metabolic Risk Factor  \n2093  Metabolic Risk Factor  \n2096  Metabolic Risk Factor  ",
            "text/html": "<div>\n<table border=\"1\" class=\"dataframe\">\n  <thead>\n    <tr style=\"text-align: right;\">\n      <th></th>\n      <th>Country</th>\n      <th>Year</th>\n      <th>Indicator</th>\n      <th>Disaggregation</th>\n      <th>Data</th>\n      <th>Source</th>\n      <th>Risk Factor</th>\n    </tr>\n  </thead>\n  <tbody>\n    <tr>\n      <th>2084</th>\n      <td>Afghanistan</td>\n      <td>2014</td>\n      <td>Raised fasting blood glucose (&gt;= 7.0 mmol/L or...</td>\n      <td>Both sexes</td>\n      <td>8.4</td>\n      <td>WHO GHO. https://apps.who.int/gho/data/node.ma...</td>\n      <td>Metabolic Risk Factor</td>\n    </tr>\n    <tr>\n      <th>2087</th>\n      <td>Albania</td>\n      <td>2014</td>\n      <td>Raised fasting blood glucose (&gt;= 7.0 mmol/L or...</td>\n      <td>Both sexes</td>\n      <td>8.3</td>\n      <td>WHO GHO. https://apps.who.int/gho/data/node.ma...</td>\n      <td>Metabolic Risk Factor</td>\n    </tr>\n    <tr>\n      <th>2090</th>\n      <td>Algeria</td>\n      <td>2014</td>\n      <td>Raised fasting blood glucose (&gt;= 7.0 mmol/L or...</td>\n      <td>Both sexes</td>\n      <td>10.5</td>\n      <td>WHO GHO. https://apps.who.int/gho/data/node.ma...</td>\n      <td>Metabolic Risk Factor</td>\n    </tr>\n    <tr>\n      <th>2093</th>\n      <td>Andorra</td>\n      <td>2014</td>\n      <td>Raised fasting blood glucose (&gt;= 7.0 mmol/L or...</td>\n      <td>Both sexes</td>\n      <td>9.1</td>\n      <td>WHO GHO. https://apps.who.int/gho/data/node.ma...</td>\n      <td>Metabolic Risk Factor</td>\n    </tr>\n    <tr>\n      <th>2096</th>\n      <td>Angola</td>\n      <td>2014</td>\n      <td>Raised fasting blood glucose (&gt;= 7.0 mmol/L or...</td>\n      <td>Both sexes</td>\n      <td>5.6</td>\n      <td>WHO GHO. https://apps.who.int/gho/data/node.ma...</td>\n      <td>Metabolic Risk Factor</td>\n    </tr>\n  </tbody>\n</table>\n</div>"
          },
          "metadata": {}
        }
      ]
    },
    {
      "metadata": {
        "trusted": true
      },
      "cell_type": "code",
      "source": "df_meta[(df_meta['Indicator']=='Interstitial lung disease and pulmonary sarcoidosis prevalence rate')& (df_meta['Country']=='Congo')]\n\ndf_meta.drop([6949],inplace=True)\ndf_meta[(df_meta['Indicator']=='Raised fasting blood glucose (>= 7.0 mmol/L or on medication) (crude estimate), 18+  years')& (df_meta['Country']=='Congo')]\ndf_meta.drop([2198],inplace=True)\ndf_meta[(df_meta['Indicator']=='Prevalence of obesity among adults, BMI &GreaterEqual; 30 (age-standardized estimate) (%)')& (df_meta['Country']=='Congo')]\ndf_meta.drop([3944],inplace=True)\ndf_meta[(df_meta['Indicator']== 'Prevalence of overweight among adults, BMI &GreaterEqual; 25 (crude estimate) (%)')& (df_meta['Country']=='Congo')]\ndf_meta.drop([3344],inplace=True)\n\ndf_meta[(df_meta['Indicator']== 'Raised blood pressure (SBP>=140 OR DBP>=90) (crude estimate), 18+  years' )& (df_meta['Country']=='Congo')]\ndf_meta.drop([2798],inplace=True)",
      "execution_count": 21,
      "outputs": [
        {
          "output_type": "stream",
          "text": "/home/nbuser/anaconda3_420/lib/python3.5/site-packages/ipykernel/__main__.py:3: SettingWithCopyWarning: \nA value is trying to be set on a copy of a slice from a DataFrame\n\nSee the caveats in the documentation: http://pandas.pydata.org/pandas-docs/stable/indexing.html#indexing-view-versus-copy\n  app.launch_new_instance()\n/home/nbuser/anaconda3_420/lib/python3.5/site-packages/ipykernel/__main__.py:5: SettingWithCopyWarning: \nA value is trying to be set on a copy of a slice from a DataFrame\n\nSee the caveats in the documentation: http://pandas.pydata.org/pandas-docs/stable/indexing.html#indexing-view-versus-copy\n/home/nbuser/anaconda3_420/lib/python3.5/site-packages/ipykernel/__main__.py:7: SettingWithCopyWarning: \nA value is trying to be set on a copy of a slice from a DataFrame\n\nSee the caveats in the documentation: http://pandas.pydata.org/pandas-docs/stable/indexing.html#indexing-view-versus-copy\n/home/nbuser/anaconda3_420/lib/python3.5/site-packages/ipykernel/__main__.py:9: SettingWithCopyWarning: \nA value is trying to be set on a copy of a slice from a DataFrame\n\nSee the caveats in the documentation: http://pandas.pydata.org/pandas-docs/stable/indexing.html#indexing-view-versus-copy\n/home/nbuser/anaconda3_420/lib/python3.5/site-packages/ipykernel/__main__.py:12: SettingWithCopyWarning: \nA value is trying to be set on a copy of a slice from a DataFrame\n\nSee the caveats in the documentation: http://pandas.pydata.org/pandas-docs/stable/indexing.html#indexing-view-versus-copy\n",
          "name": "stderr"
        }
      ]
    },
    {
      "metadata": {
        "trusted": true
      },
      "cell_type": "code",
      "source": "df_metarisk=pd.DataFrame()\nirange = df_meta['Indicator'].unique()\ndf_meta.sort_values(['Indicator', 'Country'], ascending=True, inplace = True)\n\n\nprint(irange)\nfor i in irange:\n    print(i)\n    pivot = df_meta[df_meta['Indicator']==i].pivot(index='Country', columns='Indicator', values='Data')\n    pivot.reset_index(inplace=True)\n    pivot.columns =['Country', i]\n    df_metarisk['Country']=pivot['Country']\n    df_metarisk [i] = pivot[i]\n    \n\n\ndf_metarisk.head()",
      "execution_count": 22,
      "outputs": [
        {
          "output_type": "stream",
          "text": "['Raised fasting blood glucose (>= 7.0 mmol/L or on medication) (crude estimate), 18+  years'\n 'Raised blood pressure (SBP>=140 OR DBP>=90) (crude estimate), 18+  years'\n 'Prevalence of overweight among adults, BMI &GreaterEqual; 25 (crude estimate) (%)'\n 'Prevalence of obesity among adults, BMI &GreaterEqual; 30 (age-standardized estimate) (%)'\n 'Interstitial lung disease and pulmonary sarcoidosis prevalence rate']\nRaised fasting blood glucose (>= 7.0 mmol/L or on medication) (crude estimate), 18+  years\nRaised blood pressure (SBP>=140 OR DBP>=90) (crude estimate), 18+  years\nPrevalence of overweight among adults, BMI &GreaterEqual; 25 (crude estimate) (%)\nPrevalence of obesity among adults, BMI &GreaterEqual; 30 (age-standardized estimate) (%)\nInterstitial lung disease and pulmonary sarcoidosis prevalence rate\n",
          "name": "stdout"
        },
        {
          "output_type": "stream",
          "text": "/home/nbuser/anaconda3_420/lib/python3.5/site-packages/ipykernel/__main__.py:3: SettingWithCopyWarning: \nA value is trying to be set on a copy of a slice from a DataFrame\n\nSee the caveats in the documentation: http://pandas.pydata.org/pandas-docs/stable/indexing.html#indexing-view-versus-copy\n  app.launch_new_instance()\n",
          "name": "stderr"
        },
        {
          "output_type": "execute_result",
          "execution_count": 22,
          "data": {
            "text/plain": "          Country  \\\n0     Afghanistan   \n1         Albania   \n2         Algeria   \n3  American Samoa   \n4         Andorra   \n\n   Raised fasting blood glucose (>= 7.0 mmol/L or on medication) (crude estimate), 18+  years  \\\n0                                                8.4                                            \n1                                                8.3                                            \n2                                               10.5                                            \n3                                                9.1                                            \n4                                                5.6                                            \n\n   Raised blood pressure (SBP>=140 OR DBP>=90) (crude estimate), 18+  years  \\\n0                                               23.0                          \n1                                               31.6                          \n2                                               21.7                          \n3                                               24.5                          \n4                                               22.3                          \n\n   Prevalence of overweight among adults, BMI &GreaterEqual; 25 (crude estimate) (%)  \\\n0                                               19.7                                   \n1                                               58.7                                   \n2                                               60.7                                   \n3                                               68.1                                   \n4                                               23.9                                   \n\n   Prevalence of obesity among adults, BMI &GreaterEqual; 30 (age-standardized estimate) (%)  \\\n0                                                5.5                                           \n1                                               21.7                                           \n2                                               27.4                                           \n3                                               25.6                                           \n4                                                8.2                                           \n\n   Interstitial lung disease and pulmonary sarcoidosis prevalence rate  \n0                                          12.167489                    \n1                                         246.426196                    \n2                                          28.361035                    \n3                                          60.451629                    \n4                                          93.292681                    ",
            "text/html": "<div>\n<table border=\"1\" class=\"dataframe\">\n  <thead>\n    <tr style=\"text-align: right;\">\n      <th></th>\n      <th>Country</th>\n      <th>Raised fasting blood glucose (&gt;= 7.0 mmol/L or on medication) (crude estimate), 18+  years</th>\n      <th>Raised blood pressure (SBP&gt;=140 OR DBP&gt;=90) (crude estimate), 18+  years</th>\n      <th>Prevalence of overweight among adults, BMI &amp;GreaterEqual; 25 (crude estimate) (%)</th>\n      <th>Prevalence of obesity among adults, BMI &amp;GreaterEqual; 30 (age-standardized estimate) (%)</th>\n      <th>Interstitial lung disease and pulmonary sarcoidosis prevalence rate</th>\n    </tr>\n  </thead>\n  <tbody>\n    <tr>\n      <th>0</th>\n      <td>Afghanistan</td>\n      <td>8.4</td>\n      <td>23.0</td>\n      <td>19.7</td>\n      <td>5.5</td>\n      <td>12.167489</td>\n    </tr>\n    <tr>\n      <th>1</th>\n      <td>Albania</td>\n      <td>8.3</td>\n      <td>31.6</td>\n      <td>58.7</td>\n      <td>21.7</td>\n      <td>246.426196</td>\n    </tr>\n    <tr>\n      <th>2</th>\n      <td>Algeria</td>\n      <td>10.5</td>\n      <td>21.7</td>\n      <td>60.7</td>\n      <td>27.4</td>\n      <td>28.361035</td>\n    </tr>\n    <tr>\n      <th>3</th>\n      <td>American Samoa</td>\n      <td>9.1</td>\n      <td>24.5</td>\n      <td>68.1</td>\n      <td>25.6</td>\n      <td>60.451629</td>\n    </tr>\n    <tr>\n      <th>4</th>\n      <td>Andorra</td>\n      <td>5.6</td>\n      <td>22.3</td>\n      <td>23.9</td>\n      <td>8.2</td>\n      <td>93.292681</td>\n    </tr>\n  </tbody>\n</table>\n</div>"
          },
          "metadata": {}
        }
      ]
    },
    {
      "metadata": {
        "trusted": true
      },
      "cell_type": "code",
      "source": "import matplotlib.pyplot as pl\nimport seaborn as sns\nimport numpy as np\nx = df_metarisk.iloc[:,1:5]\ncorr = x.corr()\nprint(corr.style.background_gradient(cmap='coolwarm').set_precision(2))\n\nf, ax = pl.subplots(figsize=(8, 6))\nsns.heatmap(corr, mask=np.zeros_like(corr, dtype=np.bool), cmap=sns.diverging_palette(220, 10, as_cmap=True),\n            square=True, ax=ax)",
      "execution_count": 23,
      "outputs": [
        {
          "output_type": "stream",
          "text": "<pandas.formats.style.Styler object at 0x7fa491d79908>\n",
          "name": "stdout"
        },
        {
          "output_type": "execute_result",
          "execution_count": 23,
          "data": {
            "text/plain": "<matplotlib.axes._subplots.AxesSubplot at 0x7fa48cab8358>"
          },
          "metadata": {}
        }
      ]
    },
    {
      "metadata": {
        "trusted": true
      },
      "cell_type": "code",
      "source": "corr.style.background_gradient(cmap='coolwarm').set_precision(2)",
      "execution_count": 24,
      "outputs": [
        {
          "output_type": "execute_result",
          "execution_count": 24,
          "data": {
            "text/plain": "<pandas.formats.style.Styler at 0x7fa491d385c0>",
            "text/html": "\n        <style  type=\"text/css\" >\n        \n        \n            #T_3919c0fc_97df_11ea_8383_00155dd52ef6row0_col0 {\n            \n                background-color:  #b40426;\n            \n            }\n        \n            #T_3919c0fc_97df_11ea_8383_00155dd52ef6row0_col1 {\n            \n                background-color:  #4a63d3;\n            \n            }\n        \n            #T_3919c0fc_97df_11ea_8383_00155dd52ef6row0_col2 {\n            \n                background-color:  #f4c6af;\n            \n            }\n        \n            #T_3919c0fc_97df_11ea_8383_00155dd52ef6row0_col3 {\n            \n                background-color:  #e97a5f;\n            \n            }\n        \n            #T_3919c0fc_97df_11ea_8383_00155dd52ef6row1_col0 {\n            \n                background-color:  #3b4cc0;\n            \n            }\n        \n            #T_3919c0fc_97df_11ea_8383_00155dd52ef6row1_col1 {\n            \n                background-color:  #b40426;\n            \n            }\n        \n            #T_3919c0fc_97df_11ea_8383_00155dd52ef6row1_col2 {\n            \n                background-color:  #3b4cc0;\n            \n            }\n        \n            #T_3919c0fc_97df_11ea_8383_00155dd52ef6row1_col3 {\n            \n                background-color:  #3b4cc0;\n            \n            }\n        \n            #T_3919c0fc_97df_11ea_8383_00155dd52ef6row2_col0 {\n            \n                background-color:  #f7b89c;\n            \n            }\n        \n            #T_3919c0fc_97df_11ea_8383_00155dd52ef6row2_col1 {\n            \n                background-color:  #6e90f2;\n            \n            }\n        \n            #T_3919c0fc_97df_11ea_8383_00155dd52ef6row2_col2 {\n            \n                background-color:  #b40426;\n            \n            }\n        \n            #T_3919c0fc_97df_11ea_8383_00155dd52ef6row2_col3 {\n            \n                background-color:  #d0473d;\n            \n            }\n        \n            #T_3919c0fc_97df_11ea_8383_00155dd52ef6row3_col0 {\n            \n                background-color:  #eb7d62;\n            \n            }\n        \n            #T_3919c0fc_97df_11ea_8383_00155dd52ef6row3_col1 {\n            \n                background-color:  #3b4cc0;\n            \n            }\n        \n            #T_3919c0fc_97df_11ea_8383_00155dd52ef6row3_col2 {\n            \n                background-color:  #d55042;\n            \n            }\n        \n            #T_3919c0fc_97df_11ea_8383_00155dd52ef6row3_col3 {\n            \n                background-color:  #b40426;\n            \n            }\n        \n        </style>\n\n        <table id=\"T_3919c0fc_97df_11ea_8383_00155dd52ef6\" None>\n        \n\n        <thead>\n            \n            <tr>\n                \n                \n                <th class=\"blank level0\" >\n                  \n                \n                \n                \n                <th class=\"col_heading level0 col0\" colspan=1>\n                  Raised fasting blood glucose (>= 7.0 mmol/L or on medication) (crude estimate), 18+  years\n                \n                \n                \n                <th class=\"col_heading level0 col1\" colspan=1>\n                  Raised blood pressure (SBP>=140 OR DBP>=90) (crude estimate), 18+  years\n                \n                \n                \n                <th class=\"col_heading level0 col2\" colspan=1>\n                  Prevalence of overweight among adults, BMI &GreaterEqual; 25 (crude estimate) (%)\n                \n                \n                \n                <th class=\"col_heading level0 col3\" colspan=1>\n                  Prevalence of obesity among adults, BMI &GreaterEqual; 30 (age-standardized estimate) (%)\n                \n                \n            </tr>\n            \n        </thead>\n        <tbody>\n            \n            <tr>\n                \n                \n                <th id=\"T_3919c0fc_97df_11ea_8383_00155dd52ef6\"\n                 class=\"row_heading level0 row0\" rowspan=1>\n                    Raised fasting blood glucose (>= 7.0 mmol/L or on medication) (crude estimate), 18+  years\n                \n                \n                \n                <td id=\"T_3919c0fc_97df_11ea_8383_00155dd52ef6row0_col0\"\n                 class=\"data row0 col0\" >\n                    1\n                \n                \n                \n                <td id=\"T_3919c0fc_97df_11ea_8383_00155dd52ef6row0_col1\"\n                 class=\"data row0 col1\" >\n                    0.02\n                \n                \n                \n                <td id=\"T_3919c0fc_97df_11ea_8383_00155dd52ef6row0_col2\"\n                 class=\"data row0 col2\" >\n                    0.67\n                \n                \n                \n                <td id=\"T_3919c0fc_97df_11ea_8383_00155dd52ef6row0_col3\"\n                 class=\"data row0 col3\" >\n                    0.82\n                \n                \n            </tr>\n            \n            <tr>\n                \n                \n                <th id=\"T_3919c0fc_97df_11ea_8383_00155dd52ef6\"\n                 class=\"row_heading level0 row1\" rowspan=1>\n                    Raised blood pressure (SBP>=140 OR DBP>=90) (crude estimate), 18+  years\n                \n                \n                \n                <td id=\"T_3919c0fc_97df_11ea_8383_00155dd52ef6row1_col0\"\n                 class=\"data row1 col0\" >\n                    0.02\n                \n                \n                \n                <td id=\"T_3919c0fc_97df_11ea_8383_00155dd52ef6row1_col1\"\n                 class=\"data row1 col1\" >\n                    1\n                \n                \n                \n                <td id=\"T_3919c0fc_97df_11ea_8383_00155dd52ef6row1_col2\"\n                 class=\"data row1 col2\" >\n                    0.14\n                \n                \n                \n                <td id=\"T_3919c0fc_97df_11ea_8383_00155dd52ef6row1_col3\"\n                 class=\"data row1 col3\" >\n                    -0.033\n                \n                \n            </tr>\n            \n            <tr>\n                \n                \n                <th id=\"T_3919c0fc_97df_11ea_8383_00155dd52ef6\"\n                 class=\"row_heading level0 row2\" rowspan=1>\n                    Prevalence of overweight among adults, BMI &GreaterEqual; 25 (crude estimate) (%)\n                \n                \n                \n                <td id=\"T_3919c0fc_97df_11ea_8383_00155dd52ef6row2_col0\"\n                 class=\"data row2 col0\" >\n                    0.67\n                \n                \n                \n                <td id=\"T_3919c0fc_97df_11ea_8383_00155dd52ef6row2_col1\"\n                 class=\"data row2 col1\" >\n                    0.14\n                \n                \n                \n                <td id=\"T_3919c0fc_97df_11ea_8383_00155dd52ef6row2_col2\"\n                 class=\"data row2 col2\" >\n                    1\n                \n                \n                \n                <td id=\"T_3919c0fc_97df_11ea_8383_00155dd52ef6row2_col3\"\n                 class=\"data row2 col3\" >\n                    0.92\n                \n                \n            </tr>\n            \n            <tr>\n                \n                \n                <th id=\"T_3919c0fc_97df_11ea_8383_00155dd52ef6\"\n                 class=\"row_heading level0 row3\" rowspan=1>\n                    Prevalence of obesity among adults, BMI &GreaterEqual; 30 (age-standardized estimate) (%)\n                \n                \n                \n                <td id=\"T_3919c0fc_97df_11ea_8383_00155dd52ef6row3_col0\"\n                 class=\"data row3 col0\" >\n                    0.82\n                \n                \n                \n                <td id=\"T_3919c0fc_97df_11ea_8383_00155dd52ef6row3_col1\"\n                 class=\"data row3 col1\" >\n                    -0.033\n                \n                \n                \n                <td id=\"T_3919c0fc_97df_11ea_8383_00155dd52ef6row3_col2\"\n                 class=\"data row3 col2\" >\n                    0.92\n                \n                \n                \n                <td id=\"T_3919c0fc_97df_11ea_8383_00155dd52ef6row3_col3\"\n                 class=\"data row3 col3\" >\n                    1\n                \n                \n            </tr>\n            \n        </tbody>\n        </table>\n        "
          },
          "metadata": {}
        }
      ]
    },
    {
      "metadata": {},
      "cell_type": "markdown",
      "source": "#### Behavorial Risk Factor"
    },
    {
      "metadata": {
        "trusted": true
      },
      "cell_type": "code",
      "source": "df_beh = df[(df['Risk Factor']=='Behavioral Risk Factor') &\n            df['Indicator'].isin (['Alcohol, heavy episodic drinking (15+) past 30 days (%), age-standardized' ,                     \n                       'Alcohol, recorded per capita (15+) consumption (in litres of pure alcohol)'  ,\n                                   'Current cigarette smoking, age-standardised',\n                                   'Current tobacco smoking, age-standardised',\n                                   'Daily cigarette smoking, age-standardised',\n                                   'Daily tobacco smoking, age-standardised'\n                                   \n                        ])\n            & (df['Disaggregation']=='Both sexes')]\n\ndf_beh.shape",
      "execution_count": 25,
      "outputs": [
        {
          "output_type": "execute_result",
          "execution_count": 25,
          "data": {
            "text/plain": "(689, 7)"
          },
          "metadata": {}
        }
      ]
    },
    {
      "metadata": {
        "trusted": true
      },
      "cell_type": "code",
      "source": "df_beh[(df_beh['Indicator']=='Alcohol, heavy episodic drinking (15+) past 30 days (%), age-standardized')& (df_beh['Country']=='Congo')]\n\ndf_beh.drop([7581],inplace=True)",
      "execution_count": 26,
      "outputs": [
        {
          "output_type": "stream",
          "text": "/home/nbuser/anaconda3_420/lib/python3.5/site-packages/ipykernel/__main__.py:3: SettingWithCopyWarning: \nA value is trying to be set on a copy of a slice from a DataFrame\n\nSee the caveats in the documentation: http://pandas.pydata.org/pandas-docs/stable/indexing.html#indexing-view-versus-copy\n  app.launch_new_instance()\n",
          "name": "stderr"
        }
      ]
    },
    {
      "metadata": {
        "trusted": true
      },
      "cell_type": "code",
      "source": "df_behrisk=pd.DataFrame()\nirange = df_beh['Indicator'].unique()\ndf_beh.sort_values(['Indicator', 'Country'], ascending=True, inplace = True)\n\n\nprint(irange)\nfor i in irange:\n    print(i)\n    pivot = df_beh[df_beh['Indicator']==i].pivot(index='Country', columns='Indicator', values='Data')\n    pivot.reset_index(inplace=True)\n    pivot.columns =['Country', i]\n    df_behrisk['Country']=pivot['Country']\n    df_behrisk [i] = pivot[i]\n    \n\n\ndf_behrisk.head()",
      "execution_count": 27,
      "outputs": [
        {
          "output_type": "stream",
          "text": "['Daily tobacco smoking, age-standardised'\n 'Daily cigarette smoking, age-standardised'\n 'Current tobacco smoking, age-standardised'\n 'Current cigarette smoking, age-standardised'\n 'Alcohol, heavy episodic drinking (15+) past 30 days (%), age-standardized']\nDaily tobacco smoking, age-standardised\nDaily cigarette smoking, age-standardised\nCurrent tobacco smoking, age-standardised\nCurrent cigarette smoking, age-standardised\nAlcohol, heavy episodic drinking (15+) past 30 days (%), age-standardized\n",
          "name": "stdout"
        },
        {
          "output_type": "stream",
          "text": "/home/nbuser/anaconda3_420/lib/python3.5/site-packages/ipykernel/__main__.py:3: SettingWithCopyWarning: \nA value is trying to be set on a copy of a slice from a DataFrame\n\nSee the caveats in the documentation: http://pandas.pydata.org/pandas-docs/stable/indexing.html#indexing-view-versus-copy\n  app.launch_new_instance()\n",
          "name": "stderr"
        },
        {
          "output_type": "execute_result",
          "execution_count": 27,
          "data": {
            "text/plain": "       Country  Daily tobacco smoking, age-standardised  \\\n0  Afghanistan                                     23.8   \n1      Albania                                     27.9   \n2      Algeria                                     18.1   \n3      Andorra                                     24.7   \n4       Angola                                     13.7   \n\n   Daily cigarette smoking, age-standardised  \\\n0                                       21.3   \n1                                       22.0   \n2                                       17.3   \n3                                       22.7   \n4                                       11.0   \n\n   Current tobacco smoking, age-standardised  \\\n0                                       29.7   \n1                                       33.1   \n2                                       25.3   \n3                                       28.0   \n4                                       16.0   \n\n   Current cigarette smoking, age-standardised  \\\n0                                         24.5   \n1                                         27.2   \n2                                         22.9   \n3                                         26.2   \n4                                         13.0   \n\n   Alcohol, heavy episodic drinking (15+) past 30 days (%), age-standardized  \n0                                                0.0                          \n1                                               24.6                          \n2                                                0.6                          \n3                                               34.9                          \n4                                               37.6                          ",
            "text/html": "<div>\n<table border=\"1\" class=\"dataframe\">\n  <thead>\n    <tr style=\"text-align: right;\">\n      <th></th>\n      <th>Country</th>\n      <th>Daily tobacco smoking, age-standardised</th>\n      <th>Daily cigarette smoking, age-standardised</th>\n      <th>Current tobacco smoking, age-standardised</th>\n      <th>Current cigarette smoking, age-standardised</th>\n      <th>Alcohol, heavy episodic drinking (15+) past 30 days (%), age-standardized</th>\n    </tr>\n  </thead>\n  <tbody>\n    <tr>\n      <th>0</th>\n      <td>Afghanistan</td>\n      <td>23.8</td>\n      <td>21.3</td>\n      <td>29.7</td>\n      <td>24.5</td>\n      <td>0.0</td>\n    </tr>\n    <tr>\n      <th>1</th>\n      <td>Albania</td>\n      <td>27.9</td>\n      <td>22.0</td>\n      <td>33.1</td>\n      <td>27.2</td>\n      <td>24.6</td>\n    </tr>\n    <tr>\n      <th>2</th>\n      <td>Algeria</td>\n      <td>18.1</td>\n      <td>17.3</td>\n      <td>25.3</td>\n      <td>22.9</td>\n      <td>0.6</td>\n    </tr>\n    <tr>\n      <th>3</th>\n      <td>Andorra</td>\n      <td>24.7</td>\n      <td>22.7</td>\n      <td>28.0</td>\n      <td>26.2</td>\n      <td>34.9</td>\n    </tr>\n    <tr>\n      <th>4</th>\n      <td>Angola</td>\n      <td>13.7</td>\n      <td>11.0</td>\n      <td>16.0</td>\n      <td>13.0</td>\n      <td>37.6</td>\n    </tr>\n  </tbody>\n</table>\n</div>"
          },
          "metadata": {}
        }
      ]
    },
    {
      "metadata": {
        "trusted": true
      },
      "cell_type": "code",
      "source": "x = df_behrisk.iloc[:,1:6]\ncorr = x.corr()\nprint(corr.style.background_gradient(cmap='coolwarm').set_precision(2))\n\nf, ax = pl.subplots(figsize=(8, 6))\nsns.heatmap(corr, mask=np.zeros_like(corr, dtype=np.bool), cmap=sns.diverging_palette(220, 10, as_cmap=True),\n            square=True, ax=ax)",
      "execution_count": 28,
      "outputs": [
        {
          "output_type": "stream",
          "text": "<pandas.formats.style.Styler object at 0x7fa491d79a20>\n",
          "name": "stdout"
        },
        {
          "output_type": "execute_result",
          "execution_count": 28,
          "data": {
            "text/plain": "<matplotlib.axes._subplots.AxesSubplot at 0x7fa48c756d68>"
          },
          "metadata": {}
        },
        {
          "output_type": "display_data",
          "data": {
            "image/png": "[encoded data removed]",
            "text/plain": "<matplotlib.figure.Figure at 0x7fa491d38dd8>"
          },
          "metadata": {}
        }
      ]
    },
    {
      "metadata": {
        "trusted": true
      },
      "cell_type": "code",
      "source": "corr.style.background_gradient(cmap='coolwarm').set_precision(2)",
      "execution_count": 29,
      "outputs": [
        {
          "output_type": "execute_result",
          "execution_count": 29,
          "data": {
            "text/plain": "<pandas.formats.style.Styler at 0x7fa491d79da0>",
            "text/html": "\n        <style  type=\"text/css\" >\n        \n        \n            #T_3f92a4bc_97df_11ea_8383_00155dd52ef6row0_col0 {\n            \n                background-color:  #b40426;\n            \n            }\n        \n            #T_3f92a4bc_97df_11ea_8383_00155dd52ef6row0_col1 {\n            \n                background-color:  #cc403a;\n            \n            }\n        \n            #T_3f92a4bc_97df_11ea_8383_00155dd52ef6row0_col2 {\n            \n                background-color:  #bb1b2c;\n            \n            }\n        \n            #T_3f92a4bc_97df_11ea_8383_00155dd52ef6row0_col3 {\n            \n                background-color:  #c32e31;\n            \n            }\n        \n            #T_3f92a4bc_97df_11ea_8383_00155dd52ef6row0_col4 {\n            \n                background-color:  #3d50c3;\n            \n            }\n        \n            #T_3f92a4bc_97df_11ea_8383_00155dd52ef6row1_col0 {\n            \n                background-color:  #cc403a;\n            \n            }\n        \n            #T_3f92a4bc_97df_11ea_8383_00155dd52ef6row1_col1 {\n            \n                background-color:  #b40426;\n            \n            }\n        \n            #T_3f92a4bc_97df_11ea_8383_00155dd52ef6row1_col2 {\n            \n                background-color:  #cf453c;\n            \n            }\n        \n            #T_3f92a4bc_97df_11ea_8383_00155dd52ef6row1_col3 {\n            \n                background-color:  #c32e31;\n            \n            }\n        \n            #T_3f92a4bc_97df_11ea_8383_00155dd52ef6row1_col4 {\n            \n                background-color:  #465ecf;\n            \n            }\n        \n            #T_3f92a4bc_97df_11ea_8383_00155dd52ef6row2_col0 {\n            \n                background-color:  #bb1b2c;\n            \n            }\n        \n            #T_3f92a4bc_97df_11ea_8383_00155dd52ef6row2_col1 {\n            \n                background-color:  #d0473d;\n            \n            }\n        \n            #T_3f92a4bc_97df_11ea_8383_00155dd52ef6row2_col2 {\n            \n                background-color:  #b40426;\n            \n            }\n        \n            #T_3f92a4bc_97df_11ea_8383_00155dd52ef6row2_col3 {\n            \n                background-color:  #be242e;\n            \n            }\n        \n            #T_3f92a4bc_97df_11ea_8383_00155dd52ef6row2_col4 {\n            \n                background-color:  #3b4cc0;\n            \n            }\n        \n            #T_3f92a4bc_97df_11ea_8383_00155dd52ef6row3_col0 {\n            \n                background-color:  #c32e31;\n            \n            }\n        \n            #T_3f92a4bc_97df_11ea_8383_00155dd52ef6row3_col1 {\n            \n                background-color:  #c32e31;\n            \n            }\n        \n            #T_3f92a4bc_97df_11ea_8383_00155dd52ef6row3_col2 {\n            \n                background-color:  #be242e;\n            \n            }\n        \n            #T_3f92a4bc_97df_11ea_8383_00155dd52ef6row3_col3 {\n            \n                background-color:  #b40426;\n            \n            }\n        \n            #T_3f92a4bc_97df_11ea_8383_00155dd52ef6row3_col4 {\n            \n                background-color:  #4055c8;\n            \n            }\n        \n            #T_3f92a4bc_97df_11ea_8383_00155dd52ef6row4_col0 {\n            \n                background-color:  #3b4cc0;\n            \n            }\n        \n            #T_3f92a4bc_97df_11ea_8383_00155dd52ef6row4_col1 {\n            \n                background-color:  #3b4cc0;\n            \n            }\n        \n            #T_3f92a4bc_97df_11ea_8383_00155dd52ef6row4_col2 {\n            \n                background-color:  #3b4cc0;\n            \n            }\n        \n            #T_3f92a4bc_97df_11ea_8383_00155dd52ef6row4_col3 {\n            \n                background-color:  #3b4cc0;\n            \n            }\n        \n            #T_3f92a4bc_97df_11ea_8383_00155dd52ef6row4_col4 {\n            \n                background-color:  #b40426;\n            \n            }\n        \n        </style>\n\n        <table id=\"T_3f92a4bc_97df_11ea_8383_00155dd52ef6\" None>\n        \n\n        <thead>\n            \n            <tr>\n                \n                \n                <th class=\"blank level0\" >\n                  \n                \n                \n                \n                <th class=\"col_heading level0 col0\" colspan=1>\n                  Daily tobacco smoking, age-standardised\n                \n                \n                \n                <th class=\"col_heading level0 col1\" colspan=1>\n                  Daily cigarette smoking, age-standardised\n                \n                \n                \n                <th class=\"col_heading level0 col2\" colspan=1>\n                  Current tobacco smoking, age-standardised\n                \n                \n                \n                <th class=\"col_heading level0 col3\" colspan=1>\n                  Current cigarette smoking, age-standardised\n                \n                \n                \n                <th class=\"col_heading level0 col4\" colspan=1>\n                  Alcohol, heavy episodic drinking (15+) past 30 days (%), age-standardized\n                \n                \n            </tr>\n            \n        </thead>\n        <tbody>\n            \n            <tr>\n                \n                \n                <th id=\"T_3f92a4bc_97df_11ea_8383_00155dd52ef6\"\n                 class=\"row_heading level0 row0\" rowspan=1>\n                    Daily tobacco smoking, age-standardised\n                \n                \n                \n                <td id=\"T_3f92a4bc_97df_11ea_8383_00155dd52ef6row0_col0\"\n                 class=\"data row0 col0\" >\n                    1\n                \n                \n                \n                <td id=\"T_3f92a4bc_97df_11ea_8383_00155dd52ef6row0_col1\"\n                 class=\"data row0 col1\" >\n                    0.93\n                \n                \n                \n                <td id=\"T_3f92a4bc_97df_11ea_8383_00155dd52ef6row0_col2\"\n                 class=\"data row0 col2\" >\n                    0.98\n                \n                \n                \n                <td id=\"T_3f92a4bc_97df_11ea_8383_00155dd52ef6row0_col3\"\n                 class=\"data row0 col3\" >\n                    0.96\n                \n                \n                \n                <td id=\"T_3f92a4bc_97df_11ea_8383_00155dd52ef6row0_col4\"\n                 class=\"data row0 col4\" >\n                    -0.012\n                \n                \n            </tr>\n            \n            <tr>\n                \n                \n                <th id=\"T_3f92a4bc_97df_11ea_8383_00155dd52ef6\"\n                 class=\"row_heading level0 row1\" rowspan=1>\n                    Daily cigarette smoking, age-standardised\n                \n                \n                \n                <td id=\"T_3f92a4bc_97df_11ea_8383_00155dd52ef6row1_col0\"\n                 class=\"data row1 col0\" >\n                    0.93\n                \n                \n                \n                <td id=\"T_3f92a4bc_97df_11ea_8383_00155dd52ef6row1_col1\"\n                 class=\"data row1 col1\" >\n                    1\n                \n                \n                \n                <td id=\"T_3f92a4bc_97df_11ea_8383_00155dd52ef6row1_col2\"\n                 class=\"data row1 col2\" >\n                    0.92\n                \n                \n                \n                <td id=\"T_3f92a4bc_97df_11ea_8383_00155dd52ef6row1_col3\"\n                 class=\"data row1 col3\" >\n                    0.96\n                \n                \n                \n                <td id=\"T_3f92a4bc_97df_11ea_8383_00155dd52ef6row1_col4\"\n                 class=\"data row1 col4\" >\n                    0.018\n                \n                \n            </tr>\n            \n            <tr>\n                \n                \n                <th id=\"T_3f92a4bc_97df_11ea_8383_00155dd52ef6\"\n                 class=\"row_heading level0 row2\" rowspan=1>\n                    Current tobacco smoking, age-standardised\n                \n                \n                \n                <td id=\"T_3f92a4bc_97df_11ea_8383_00155dd52ef6row2_col0\"\n                 class=\"data row2 col0\" >\n                    0.98\n                \n                \n                \n                <td id=\"T_3f92a4bc_97df_11ea_8383_00155dd52ef6row2_col1\"\n                 class=\"data row2 col1\" >\n                    0.92\n                \n                \n                \n                <td id=\"T_3f92a4bc_97df_11ea_8383_00155dd52ef6row2_col2\"\n                 class=\"data row2 col2\" >\n                    1\n                \n                \n                \n                <td id=\"T_3f92a4bc_97df_11ea_8383_00155dd52ef6row2_col3\"\n                 class=\"data row2 col3\" >\n                    0.97\n                \n                \n                \n                <td id=\"T_3f92a4bc_97df_11ea_8383_00155dd52ef6row2_col4\"\n                 class=\"data row2 col4\" >\n                    -0.022\n                \n                \n            </tr>\n            \n            <tr>\n                \n                \n                <th id=\"T_3f92a4bc_97df_11ea_8383_00155dd52ef6\"\n                 class=\"row_heading level0 row3\" rowspan=1>\n                    Current cigarette smoking, age-standardised\n                \n                \n                \n                <td id=\"T_3f92a4bc_97df_11ea_8383_00155dd52ef6row3_col0\"\n                 class=\"data row3 col0\" >\n                    0.96\n                \n                \n                \n                <td id=\"T_3f92a4bc_97df_11ea_8383_00155dd52ef6row3_col1\"\n                 class=\"data row3 col1\" >\n                    0.96\n                \n                \n                \n                <td id=\"T_3f92a4bc_97df_11ea_8383_00155dd52ef6row3_col2\"\n                 class=\"data row3 col2\" >\n                    0.97\n                \n                \n                \n                <td id=\"T_3f92a4bc_97df_11ea_8383_00155dd52ef6row3_col3\"\n                 class=\"data row3 col3\" >\n                    1\n                \n                \n                \n                <td id=\"T_3f92a4bc_97df_11ea_8383_00155dd52ef6row3_col4\"\n                 class=\"data row3 col4\" >\n                    -0.00051\n                \n                \n            </tr>\n            \n            <tr>\n                \n                \n                <th id=\"T_3f92a4bc_97df_11ea_8383_00155dd52ef6\"\n                 class=\"row_heading level0 row4\" rowspan=1>\n                    Alcohol, heavy episodic drinking (15+) past 30 days (%), age-standardized\n                \n                \n                \n                <td id=\"T_3f92a4bc_97df_11ea_8383_00155dd52ef6row4_col0\"\n                 class=\"data row4 col0\" >\n                    -0.012\n                \n                \n                \n                <td id=\"T_3f92a4bc_97df_11ea_8383_00155dd52ef6row4_col1\"\n                 class=\"data row4 col1\" >\n                    0.018\n                \n                \n                \n                <td id=\"T_3f92a4bc_97df_11ea_8383_00155dd52ef6row4_col2\"\n                 class=\"data row4 col2\" >\n                    -0.022\n                \n                \n                \n                <td id=\"T_3f92a4bc_97df_11ea_8383_00155dd52ef6row4_col3\"\n                 class=\"data row4 col3\" >\n                    -0.00051\n                \n                \n                \n                <td id=\"T_3f92a4bc_97df_11ea_8383_00155dd52ef6row4_col4\"\n                 class=\"data row4 col4\" >\n                    1\n                \n                \n            </tr>\n            \n        </tbody>\n        </table>\n        "
          },
          "metadata": {}
        }
      ]
    },
    {
      "metadata": {},
      "cell_type": "markdown",
      "source": "#### NCD Risk Factor"
    },
    {
      "metadata": {
        "trusted": true
      },
      "cell_type": "code",
      "source": "df_perv=df[(df['Year']==2017) & (df['Risk Factor']=='NCD Prevalence Rate')]",
      "execution_count": 30,
      "outputs": []
    },
    {
      "metadata": {
        "trusted": true
      },
      "cell_type": "code",
      "source": "## remove duplicates of Congo\n\ndf_perv[(df_perv['Indicator']=='Asthma prevalence rate')&( df_perv['Country']=='Congo')]\ndf_perv.drop([6367], inplace=True)\n\n\ndf_perv[df_perv['Indicator']=='Chronic obstructive pulmonary disease prevalence rate']['Country'].nunique()\ndf_perv.drop([6563], inplace=True)\n\ndf_perv[df_perv['Indicator']=='Chronic respiratory diseases prevalence rate']['Country'].nunique()\ndf_perv.drop([6758], inplace=True)\n\ndf_perv[df_perv['Indicator']=='Pneumoconiosis prevalence rate']['Country'].nunique()\ndf_perv.drop([7165], inplace=True)\n\n",
      "execution_count": 35,
      "outputs": [
        {
          "output_type": "stream",
          "text": "/home/nbuser/anaconda3_420/lib/python3.5/site-packages/ipykernel/__main__.py:4: SettingWithCopyWarning: \nA value is trying to be set on a copy of a slice from a DataFrame\n\nSee the caveats in the documentation: http://pandas.pydata.org/pandas-docs/stable/indexing.html#indexing-view-versus-copy\n/home/nbuser/anaconda3_420/lib/python3.5/site-packages/ipykernel/__main__.py:8: SettingWithCopyWarning: \nA value is trying to be set on a copy of a slice from a DataFrame\n\nSee the caveats in the documentation: http://pandas.pydata.org/pandas-docs/stable/indexing.html#indexing-view-versus-copy\n/home/nbuser/anaconda3_420/lib/python3.5/site-packages/ipykernel/__main__.py:11: SettingWithCopyWarning: \nA value is trying to be set on a copy of a slice from a DataFrame\n\nSee the caveats in the documentation: http://pandas.pydata.org/pandas-docs/stable/indexing.html#indexing-view-versus-copy\n/home/nbuser/anaconda3_420/lib/python3.5/site-packages/ipykernel/__main__.py:14: SettingWithCopyWarning: \nA value is trying to be set on a copy of a slice from a DataFrame\n\nSee the caveats in the documentation: http://pandas.pydata.org/pandas-docs/stable/indexing.html#indexing-view-versus-copy\n",
          "name": "stderr"
        }
      ]
    },
    {
      "metadata": {
        "trusted": true
      },
      "cell_type": "code",
      "source": "#exclude pne cz it is percentage\nprint('all 0 for the indicator: Other chronic respiratory diseases prevalence rate so will drop this indicator as no info is there')\ndf_perv[df_perv['Indicator']=='Other chronic respiratory diseases prevalence rate']\ndropi = df_perv[df_perv['Indicator']=='Other chronic respiratory diseases prevalence rate'].index #all 0's\ndf_perv.drop(dropi, inplace=True)",
      "execution_count": 36,
      "outputs": [
        {
          "output_type": "stream",
          "text": "all 0 for the indicator: Other chronic respiratory diseases prevalence rate so will drop this indicator as no info is there\n",
          "name": "stdout"
        },
        {
          "output_type": "stream",
          "text": "/home/nbuser/anaconda3_420/lib/python3.5/site-packages/ipykernel/__main__.py:5: SettingWithCopyWarning: \nA value is trying to be set on a copy of a slice from a DataFrame\n\nSee the caveats in the documentation: http://pandas.pydata.org/pandas-docs/stable/indexing.html#indexing-view-versus-copy\n",
          "name": "stderr"
        }
      ]
    },
    {
      "metadata": {
        "trusted": true
      },
      "cell_type": "code",
      "source": "df_ncd=pd.DataFrame()\nirange = df_perv['Indicator'].unique()\ndf_perv.sort_values(['Indicator', 'Country'], ascending=True, inplace = True)\n\n\nprint(irange)\nfor i in irange:\n\n    pivot = df_perv[df_perv['Indicator']==i].pivot(index='Country', columns='Indicator', values='Data')\n    pivot.reset_index(inplace=True)\n    pivot.columns =['Country', i]\n    df_ncd['Country']=pivot['Country']\n    df_ncd [i] = pivot[i]\n    \n\n\ndf_ncd",
      "execution_count": 81,
      "outputs": [
        {
          "output_type": "stream",
          "text": "['Asthma prevalence rate'\n 'Chronic obstructive pulmonary disease prevalence rate'\n 'Chronic respiratory diseases prevalence rate'\n 'Pneumoconiosis prevalence rate']\n",
          "name": "stdout"
        },
        {
          "output_type": "stream",
          "text": "/home/nbuser/anaconda3_420/lib/python3.5/site-packages/ipykernel/__main__.py:3: SettingWithCopyWarning: \nA value is trying to be set on a copy of a slice from a DataFrame\n\nSee the caveats in the documentation: http://pandas.pydata.org/pandas-docs/stable/indexing.html#indexing-view-versus-copy\n  app.launch_new_instance()\n",
          "name": "stderr"
        },
        {
          "output_type": "execute_result",
          "execution_count": 81,
          "data": {
            "text/plain": "                                               Country  \\\n0                                          Afghanistan   \n1                                              Albania   \n2                                              Algeria   \n3                                       American Samoa   \n4                                              Andorra   \n5                                               Angola   \n6                                  Antigua and Barbuda   \n7                                            Argentina   \n8                                              Armenia   \n9                                            Australia   \n10                                             Austria   \n11                                          Azerbaijan   \n12                                             Bahamas   \n13                                             Bahrain   \n14                                          Bangladesh   \n15                                            Barbados   \n16                                             Belarus   \n17                                             Belgium   \n18                                              Belize   \n19                                               Benin   \n20                                             Bermuda   \n21                                              Bhutan   \n22                    Bolivia (Plurinational State of)   \n23                              Bosnia and Herzegovina   \n24                                            Botswana   \n25                                              Brazil   \n26                                   Brunei Darussalam   \n27                                            Bulgaria   \n28                                        Burkina Faso   \n29                                             Burundi   \n..                                                 ...   \n164                                              Sudan   \n165                                           Suriname   \n166                                          Swaziland   \n167                                             Sweden   \n168                                        Switzerland   \n169                               Syrian Arab Republic   \n170                                         Tajikistan   \n171                                           Thailand   \n172                                        Timor-Leste   \n173                                               Togo   \n174                                              Tonga   \n175                                Trinidad and Tobago   \n176                                            Tunisia   \n177                                             Turkey   \n178                                       Turkmenistan   \n179                                             Uganda   \n180                                            Ukraine   \n181                               United Arab Emirates   \n182  United Kingdom of Great Britain and Northern I...   \n183                        United Republic of Tanzania   \n184                       United States Virgin Islands   \n185                           United States of America   \n186                                            Uruguay   \n187                                         Uzbekistan   \n188                                            Vanuatu   \n189                 Venezuela (Bolivarian Republic of)   \n190                                           Viet Nam   \n191                                              Yemen   \n192                                             Zambia   \n193                                           Zimbabwe   \n\n     Asthma prevalence rate  \\\n0               5520.271311   \n1               2997.681117   \n2               5538.954664   \n3              10523.876750   \n4               6255.701893   \n5               5385.893848   \n6               6542.797093   \n7               4390.674756   \n8               3592.019303   \n9               9413.838825   \n10              5100.418224   \n11              3251.309462   \n12              6942.474265   \n13              4597.862253   \n14              2448.776356   \n15              5728.586888   \n16              4131.652864   \n17              4380.247323   \n18              7733.414014   \n19              3319.899060   \n20              7170.860057   \n21              2601.195258   \n22              6438.124643   \n23              4485.459567   \n24              3341.152949   \n25              4136.324286   \n26              3976.507470   \n27              3780.565577   \n28              3809.047755   \n29              4159.920271   \n..                      ...   \n164             5215.331045   \n165             7357.649874   \n166             3750.316799   \n167             8064.736929   \n168             5867.575480   \n169             4862.599272   \n170             2850.910674   \n171             5109.747854   \n172             4511.099437   \n173             3659.519510   \n174            12095.018780   \n175             7122.960441   \n176             4523.117920   \n177             4849.783003   \n178             3163.492724   \n179             4927.708168   \n180             3775.259625   \n181             5773.252021   \n182             8371.166107   \n183             5745.895948   \n184             6891.116539   \n185             4983.143322   \n186             5305.144764   \n187             3708.911491   \n188            10416.146450   \n189             3980.826652   \n190             3771.913247   \n191             4315.173988   \n192             3782.476635   \n193             2657.800355   \n\n     Chronic obstructive pulmonary disease prevalence rate  \\\n0                                          2469.099987       \n1                                          6006.422879       \n2                                          3244.627805       \n3                                          3124.340929       \n4                                          5819.334315       \n5                                          1334.181789       \n6                                          2206.434387       \n7                                          4076.110372       \n8                                          5253.235903       \n9                                          4734.496904       \n10                                         9237.456001       \n11                                         3677.177582       \n12                                         2231.400856       \n13                                         3382.914945       \n14                                         3123.070821       \n15                                         2813.583806       \n16                                         5910.784289       \n17                                         8171.154983       \n18                                         1849.987953       \n19                                         1612.206097       \n20                                         4700.069591       \n21                                         2088.204222       \n22                                         2017.889493       \n23                                         8635.850707       \n24                                         3415.761598       \n25                                         4197.998801       \n26                                         1810.692799       \n27                                        10091.455550       \n28                                         1653.135279       \n29                                         1086.617681       \n..                                                 ...       \n164                                        1989.135048       \n165                                        3086.461442       \n166                                        2726.708672       \n167                                        7265.460363       \n168                                        6030.117878       \n169                                        3071.003085       \n170                                        2259.178392       \n171                                        2296.599523       \n172                                        2404.695448       \n173                                        1729.803466       \n174                                        3048.860123       \n175                                        2829.058028       \n176                                        3585.928632       \n177                                        6057.871837       \n178                                        2587.599482       \n179                                         965.638393       \n180                                        6140.665279       \n181                                        4082.691032       \n182                                        8188.933054       \n183                                        1082.068653       \n184                                        3608.893983       \n185                                        6412.460095       \n186                                        5283.639437       \n187                                        2329.224434       \n188                                        3573.680222       \n189                                        3489.642762       \n190                                        3254.261834       \n191                                        2104.093002       \n192                                        1074.193904       \n193                                        2941.050239       \n\n     Chronic respiratory diseases prevalence rate  \\\n0                                     7642.147073   \n1                                     8591.616027   \n2                                     8362.724221   \n3                                    12777.207680   \n4                                    11420.807580   \n5                                     6508.420172   \n6                                     8412.348545   \n7                                     8110.212322   \n8                                     8561.551610   \n9                                    13265.601070   \n10                                   13521.648000   \n11                                    6764.334846   \n12                                    8814.819278   \n13                                    7663.492425   \n14                                    5274.119699   \n15                                    8236.625089   \n16                                    9642.246709   \n17                                   11738.114340   \n18                                    9188.972068   \n19                                    4804.531080   \n20                                   11290.539630   \n21                                    4474.529700   \n22                                    8142.319980   \n23                                   12227.339780   \n24                                    6471.929884   \n25                                    8025.351606   \n26                                    5716.453585   \n27                                   12875.376880   \n28                                    5314.808484   \n29                                    5130.364403   \n..                                            ...   \n164                                   6937.142116   \n165                                   9964.795059   \n166                                   6215.643156   \n167                                  14255.089340   \n168                                  11238.617690   \n169                                   7596.351700   \n170                                   5106.661384   \n171                                   7121.535434   \n172                                   6617.238204   \n173                                   5249.923496   \n174                                  14067.852750   \n175                                   9522.949504   \n176                                   7735.498191   \n177                                  10221.024260   \n178                                   5660.482506   \n179                                   5747.170426   \n180                                   9508.916812   \n181                                   9408.905949   \n182                                  15356.234020   \n183                                   6634.674686   \n184                                  10047.744110   \n185                                  10619.925550   \n186                                  10025.301970   \n187                                   5958.562767   \n188                                  13031.646720   \n189                                   7173.961384   \n190                                   6726.454370   \n191                                   6196.333913   \n192                                   4757.929779   \n193                                   5371.270211   \n\n     Pneumoconiosis prevalence rate  \n0                          2.058286  \n1                         10.350787  \n2                          3.654775  \n3                          6.501375  \n4                          0.227133  \n5                          1.463972  \n6                          1.374471  \n7                          2.086866  \n8                          3.751240  \n9                          3.309778  \n10                         8.175619  \n11                         1.843920  \n12                         1.130460  \n13                         4.943310  \n14                         2.346336  \n15                         1.557011  \n16                         4.205932  \n17                         0.829038  \n18                         0.978087  \n19                         0.814680  \n20                         1.841623  \n21                         2.130333  \n22                         1.355788  \n23                         9.669441  \n24                         3.798496  \n25                         3.231874  \n26                         1.403156  \n27                        12.831170  \n28                         0.815095  \n29                         1.614951  \n..                              ...  \n164                        2.443145  \n165                        1.431998  \n166                        3.560048  \n167                        0.684576  \n168                        0.701908  \n169                        3.171528  \n170                        1.595061  \n171                        6.476129  \n172                        1.519128  \n173                        0.947174  \n174                        6.292749  \n175                        1.342858  \n176                        4.298769  \n177                        3.715843  \n178                        1.556986  \n179                        1.341769  \n180                        6.375061  \n181                        5.789898  \n182                        9.128909  \n183                        1.612459  \n184                        1.862081  \n185                       10.260302  \n186                        2.156559  \n187                        1.901748  \n188                        4.893540  \n189                        7.591647  \n190                        3.723646  \n191                        2.370074  \n192                        2.334082  \n193                        2.901368  \n\n[194 rows x 5 columns]",
            "text/html": "<div>\n<table border=\"1\" class=\"dataframe\">\n  <thead>\n    <tr style=\"text-align: right;\">\n      <th></th>\n      <th>Country</th>\n      <th>Asthma prevalence rate</th>\n      <th>Chronic obstructive pulmonary disease prevalence rate</th>\n      <th>Chronic respiratory diseases prevalence rate</th>\n      <th>Pneumoconiosis prevalence rate</th>\n    </tr>\n  </thead>\n  <tbody>\n    <tr>\n      <th>0</th>\n      <td>Afghanistan</td>\n      <td>5520.271311</td>\n      <td>2469.099987</td>\n      <td>7642.147073</td>\n      <td>2.058286</td>\n    </tr>\n    <tr>\n      <th>1</th>\n      <td>Albania</td>\n      <td>2997.681117</td>\n      <td>6006.422879</td>\n      <td>8591.616027</td>\n      <td>10.350787</td>\n    </tr>\n    <tr>\n      <th>2</th>\n      <td>Algeria</td>\n      <td>5538.954664</td>\n      <td>3244.627805</td>\n      <td>8362.724221</td>\n      <td>3.654775</td>\n    </tr>\n    <tr>\n      <th>3</th>\n      <td>American Samoa</td>\n      <td>10523.876750</td>\n      <td>3124.340929</td>\n      <td>12777.207680</td>\n      <td>6.501375</td>\n    </tr>\n    <tr>\n      <th>4</th>\n      <td>Andorra</td>\n      <td>6255.701893</td>\n      <td>5819.334315</td>\n      <td>11420.807580</td>\n      <td>0.227133</td>\n    </tr>\n    <tr>\n      <th>5</th>\n      <td>Angola</td>\n      <td>5385.893848</td>\n      <td>1334.181789</td>\n      <td>6508.420172</td>\n      <td>1.463972</td>\n    </tr>\n    <tr>\n      <th>6</th>\n      <td>Antigua and Barbuda</td>\n      <td>6542.797093</td>\n      <td>2206.434387</td>\n      <td>8412.348545</td>\n      <td>1.374471</td>\n    </tr>\n    <tr>\n      <th>7</th>\n      <td>Argentina</td>\n      <td>4390.674756</td>\n      <td>4076.110372</td>\n      <td>8110.212322</td>\n      <td>2.086866</td>\n    </tr>\n    <tr>\n      <th>8</th>\n      <td>Armenia</td>\n      <td>3592.019303</td>\n      <td>5253.235903</td>\n      <td>8561.551610</td>\n      <td>3.751240</td>\n    </tr>\n    <tr>\n      <th>9</th>\n      <td>Australia</td>\n      <td>9413.838825</td>\n      <td>4734.496904</td>\n      <td>13265.601070</td>\n      <td>3.309778</td>\n    </tr>\n    <tr>\n      <th>10</th>\n      <td>Austria</td>\n      <td>5100.418224</td>\n      <td>9237.456001</td>\n      <td>13521.648000</td>\n      <td>8.175619</td>\n    </tr>\n    <tr>\n      <th>11</th>\n      <td>Azerbaijan</td>\n      <td>3251.309462</td>\n      <td>3677.177582</td>\n      <td>6764.334846</td>\n      <td>1.843920</td>\n    </tr>\n    <tr>\n      <th>12</th>\n      <td>Bahamas</td>\n      <td>6942.474265</td>\n      <td>2231.400856</td>\n      <td>8814.819278</td>\n      <td>1.130460</td>\n    </tr>\n    <tr>\n      <th>13</th>\n      <td>Bahrain</td>\n      <td>4597.862253</td>\n      <td>3382.914945</td>\n      <td>7663.492425</td>\n      <td>4.943310</td>\n    </tr>\n    <tr>\n      <th>14</th>\n      <td>Bangladesh</td>\n      <td>2448.776356</td>\n      <td>3123.070821</td>\n      <td>5274.119699</td>\n      <td>2.346336</td>\n    </tr>\n    <tr>\n      <th>15</th>\n      <td>Barbados</td>\n      <td>5728.586888</td>\n      <td>2813.583806</td>\n      <td>8236.625089</td>\n      <td>1.557011</td>\n    </tr>\n    <tr>\n      <th>16</th>\n      <td>Belarus</td>\n      <td>4131.652864</td>\n      <td>5910.784289</td>\n      <td>9642.246709</td>\n      <td>4.205932</td>\n    </tr>\n    <tr>\n      <th>17</th>\n      <td>Belgium</td>\n      <td>4380.247323</td>\n      <td>8171.154983</td>\n      <td>11738.114340</td>\n      <td>0.829038</td>\n    </tr>\n    <tr>\n      <th>18</th>\n      <td>Belize</td>\n      <td>7733.414014</td>\n      <td>1849.987953</td>\n      <td>9188.972068</td>\n      <td>0.978087</td>\n    </tr>\n    <tr>\n      <th>19</th>\n      <td>Benin</td>\n      <td>3319.899060</td>\n      <td>1612.206097</td>\n      <td>4804.531080</td>\n      <td>0.814680</td>\n    </tr>\n    <tr>\n      <th>20</th>\n      <td>Bermuda</td>\n      <td>7170.860057</td>\n      <td>4700.069591</td>\n      <td>11290.539630</td>\n      <td>1.841623</td>\n    </tr>\n    <tr>\n      <th>21</th>\n      <td>Bhutan</td>\n      <td>2601.195258</td>\n      <td>2088.204222</td>\n      <td>4474.529700</td>\n      <td>2.130333</td>\n    </tr>\n    <tr>\n      <th>22</th>\n      <td>Bolivia (Plurinational State of)</td>\n      <td>6438.124643</td>\n      <td>2017.889493</td>\n      <td>8142.319980</td>\n      <td>1.355788</td>\n    </tr>\n    <tr>\n      <th>23</th>\n      <td>Bosnia and Herzegovina</td>\n      <td>4485.459567</td>\n      <td>8635.850707</td>\n      <td>12227.339780</td>\n      <td>9.669441</td>\n    </tr>\n    <tr>\n      <th>24</th>\n      <td>Botswana</td>\n      <td>3341.152949</td>\n      <td>3415.761598</td>\n      <td>6471.929884</td>\n      <td>3.798496</td>\n    </tr>\n    <tr>\n      <th>25</th>\n      <td>Brazil</td>\n      <td>4136.324286</td>\n      <td>4197.998801</td>\n      <td>8025.351606</td>\n      <td>3.231874</td>\n    </tr>\n    <tr>\n      <th>26</th>\n      <td>Brunei Darussalam</td>\n      <td>3976.507470</td>\n      <td>1810.692799</td>\n      <td>5716.453585</td>\n      <td>1.403156</td>\n    </tr>\n    <tr>\n      <th>27</th>\n      <td>Bulgaria</td>\n      <td>3780.565577</td>\n      <td>10091.455550</td>\n      <td>12875.376880</td>\n      <td>12.831170</td>\n    </tr>\n    <tr>\n      <th>28</th>\n      <td>Burkina Faso</td>\n      <td>3809.047755</td>\n      <td>1653.135279</td>\n      <td>5314.808484</td>\n      <td>0.815095</td>\n    </tr>\n    <tr>\n      <th>29</th>\n      <td>Burundi</td>\n      <td>4159.920271</td>\n      <td>1086.617681</td>\n      <td>5130.364403</td>\n      <td>1.614951</td>\n    </tr>\n    <tr>\n      <th>...</th>\n      <td>...</td>\n      <td>...</td>\n      <td>...</td>\n      <td>...</td>\n      <td>...</td>\n    </tr>\n    <tr>\n      <th>164</th>\n      <td>Sudan</td>\n      <td>5215.331045</td>\n      <td>1989.135048</td>\n      <td>6937.142116</td>\n      <td>2.443145</td>\n    </tr>\n    <tr>\n      <th>165</th>\n      <td>Suriname</td>\n      <td>7357.649874</td>\n      <td>3086.461442</td>\n      <td>9964.795059</td>\n      <td>1.431998</td>\n    </tr>\n    <tr>\n      <th>166</th>\n      <td>Swaziland</td>\n      <td>3750.316799</td>\n      <td>2726.708672</td>\n      <td>6215.643156</td>\n      <td>3.560048</td>\n    </tr>\n    <tr>\n      <th>167</th>\n      <td>Sweden</td>\n      <td>8064.736929</td>\n      <td>7265.460363</td>\n      <td>14255.089340</td>\n      <td>0.684576</td>\n    </tr>\n    <tr>\n      <th>168</th>\n      <td>Switzerland</td>\n      <td>5867.575480</td>\n      <td>6030.117878</td>\n      <td>11238.617690</td>\n      <td>0.701908</td>\n    </tr>\n    <tr>\n      <th>169</th>\n      <td>Syrian Arab Republic</td>\n      <td>4862.599272</td>\n      <td>3071.003085</td>\n      <td>7596.351700</td>\n      <td>3.171528</td>\n    </tr>\n    <tr>\n      <th>170</th>\n      <td>Tajikistan</td>\n      <td>2850.910674</td>\n      <td>2259.178392</td>\n      <td>5106.661384</td>\n      <td>1.595061</td>\n    </tr>\n    <tr>\n      <th>171</th>\n      <td>Thailand</td>\n      <td>5109.747854</td>\n      <td>2296.599523</td>\n      <td>7121.535434</td>\n      <td>6.476129</td>\n    </tr>\n    <tr>\n      <th>172</th>\n      <td>Timor-Leste</td>\n      <td>4511.099437</td>\n      <td>2404.695448</td>\n      <td>6617.238204</td>\n      <td>1.519128</td>\n    </tr>\n    <tr>\n      <th>173</th>\n      <td>Togo</td>\n      <td>3659.519510</td>\n      <td>1729.803466</td>\n      <td>5249.923496</td>\n      <td>0.947174</td>\n    </tr>\n    <tr>\n      <th>174</th>\n      <td>Tonga</td>\n      <td>12095.018780</td>\n      <td>3048.860123</td>\n      <td>14067.852750</td>\n      <td>6.292749</td>\n    </tr>\n    <tr>\n      <th>175</th>\n      <td>Trinidad and Tobago</td>\n      <td>7122.960441</td>\n      <td>2829.058028</td>\n      <td>9522.949504</td>\n      <td>1.342858</td>\n    </tr>\n    <tr>\n      <th>176</th>\n      <td>Tunisia</td>\n      <td>4523.117920</td>\n      <td>3585.928632</td>\n      <td>7735.498191</td>\n      <td>4.298769</td>\n    </tr>\n    <tr>\n      <th>177</th>\n      <td>Turkey</td>\n      <td>4849.783003</td>\n      <td>6057.871837</td>\n      <td>10221.024260</td>\n      <td>3.715843</td>\n    </tr>\n    <tr>\n      <th>178</th>\n      <td>Turkmenistan</td>\n      <td>3163.492724</td>\n      <td>2587.599482</td>\n      <td>5660.482506</td>\n      <td>1.556986</td>\n    </tr>\n    <tr>\n      <th>179</th>\n      <td>Uganda</td>\n      <td>4927.708168</td>\n      <td>965.638393</td>\n      <td>5747.170426</td>\n      <td>1.341769</td>\n    </tr>\n    <tr>\n      <th>180</th>\n      <td>Ukraine</td>\n      <td>3775.259625</td>\n      <td>6140.665279</td>\n      <td>9508.916812</td>\n      <td>6.375061</td>\n    </tr>\n    <tr>\n      <th>181</th>\n      <td>United Arab Emirates</td>\n      <td>5773.252021</td>\n      <td>4082.691032</td>\n      <td>9408.905949</td>\n      <td>5.789898</td>\n    </tr>\n    <tr>\n      <th>182</th>\n      <td>United Kingdom of Great Britain and Northern I...</td>\n      <td>8371.166107</td>\n      <td>8188.933054</td>\n      <td>15356.234020</td>\n      <td>9.128909</td>\n    </tr>\n    <tr>\n      <th>183</th>\n      <td>United Republic of Tanzania</td>\n      <td>5745.895948</td>\n      <td>1082.068653</td>\n      <td>6634.674686</td>\n      <td>1.612459</td>\n    </tr>\n    <tr>\n      <th>184</th>\n      <td>United States Virgin Islands</td>\n      <td>6891.116539</td>\n      <td>3608.893983</td>\n      <td>10047.744110</td>\n      <td>1.862081</td>\n    </tr>\n    <tr>\n      <th>185</th>\n      <td>United States of America</td>\n      <td>4983.143322</td>\n      <td>6412.460095</td>\n      <td>10619.925550</td>\n      <td>10.260302</td>\n    </tr>\n    <tr>\n      <th>186</th>\n      <td>Uruguay</td>\n      <td>5305.144764</td>\n      <td>5283.639437</td>\n      <td>10025.301970</td>\n      <td>2.156559</td>\n    </tr>\n    <tr>\n      <th>187</th>\n      <td>Uzbekistan</td>\n      <td>3708.911491</td>\n      <td>2329.224434</td>\n      <td>5958.562767</td>\n      <td>1.901748</td>\n    </tr>\n    <tr>\n      <th>188</th>\n      <td>Vanuatu</td>\n      <td>10416.146450</td>\n      <td>3573.680222</td>\n      <td>13031.646720</td>\n      <td>4.893540</td>\n    </tr>\n    <tr>\n      <th>189</th>\n      <td>Venezuela (Bolivarian Republic of)</td>\n      <td>3980.826652</td>\n      <td>3489.642762</td>\n      <td>7173.961384</td>\n      <td>7.591647</td>\n    </tr>\n    <tr>\n      <th>190</th>\n      <td>Viet Nam</td>\n      <td>3771.913247</td>\n      <td>3254.261834</td>\n      <td>6726.454370</td>\n      <td>3.723646</td>\n    </tr>\n    <tr>\n      <th>191</th>\n      <td>Yemen</td>\n      <td>4315.173988</td>\n      <td>2104.093002</td>\n      <td>6196.333913</td>\n      <td>2.370074</td>\n    </tr>\n    <tr>\n      <th>192</th>\n      <td>Zambia</td>\n      <td>3782.476635</td>\n      <td>1074.193904</td>\n      <td>4757.929779</td>\n      <td>2.334082</td>\n    </tr>\n    <tr>\n      <th>193</th>\n      <td>Zimbabwe</td>\n      <td>2657.800355</td>\n      <td>2941.050239</td>\n      <td>5371.270211</td>\n      <td>2.901368</td>\n    </tr>\n  </tbody>\n</table>\n<p>194 rows × 5 columns</p>\n</div>"
          },
          "metadata": {}
        }
      ]
    },
    {
      "metadata": {
        "trusted": true
      },
      "cell_type": "code",
      "source": "x =  df_ncd.iloc[:,1:4]\nx.head()\nimport matplotlib.pyplot as pl\nimport seaborn as sns\nimport numpy as np\n\ncorr = x.corr()\nprint(corr.style.background_gradient(cmap='coolwarm').set_precision(2))\n\nf, ax = pl.subplots(figsize=(8, 6))\nsns.heatmap(corr, mask=np.zeros_like(corr, dtype=np.bool), cmap=sns.diverging_palette(220, 10, as_cmap=True),\n            square=True, ax=ax)",
      "execution_count": 39,
      "outputs": [
        {
          "output_type": "stream",
          "text": "<pandas.formats.style.Styler object at 0x7fa491d38f98>\n",
          "name": "stdout"
        },
        {
          "output_type": "execute_result",
          "execution_count": 39,
          "data": {
            "text/plain": "<matplotlib.axes._subplots.AxesSubplot at 0x7fa48bf8ef98>"
          },
          "metadata": {}
        },
        {
          "output_type": "display_data",
          "data": {
            "image/png": "[encoded data removed]",
            "text/plain": "<matplotlib.figure.Figure at 0x7fa48bb20160>"
          },
          "metadata": {}
        }
      ]
    },
    {
      "metadata": {
        "trusted": true
      },
      "cell_type": "code",
      "source": "corr.style.background_gradient(cmap='coolwarm').set_precision(2)",
      "execution_count": 40,
      "outputs": [
        {
          "output_type": "execute_result",
          "execution_count": 40,
          "data": {
            "text/plain": "<pandas.formats.style.Styler at 0x7fa48bb24a20>",
            "text/html": "\n        <style  type=\"text/css\" >\n        \n        \n            #T_81528e26_97df_11ea_8383_00155dd52ef6row0_col0 {\n            \n                background-color:  #b40426;\n            \n            }\n        \n            #T_81528e26_97df_11ea_8383_00155dd52ef6row0_col1 {\n            \n                background-color:  #3b4cc0;\n            \n            }\n        \n            #T_81528e26_97df_11ea_8383_00155dd52ef6row0_col2 {\n            \n                background-color:  #3b4cc0;\n            \n            }\n        \n            #T_81528e26_97df_11ea_8383_00155dd52ef6row1_col0 {\n            \n                background-color:  #3b4cc0;\n            \n            }\n        \n            #T_81528e26_97df_11ea_8383_00155dd52ef6row1_col1 {\n            \n                background-color:  #b40426;\n            \n            }\n        \n            #T_81528e26_97df_11ea_8383_00155dd52ef6row1_col2 {\n            \n                background-color:  #93b5fe;\n            \n            }\n        \n            #T_81528e26_97df_11ea_8383_00155dd52ef6row2_col0 {\n            \n                background-color:  #f7b99e;\n            \n            }\n        \n            #T_81528e26_97df_11ea_8383_00155dd52ef6row2_col1 {\n            \n                background-color:  #f4987a;\n            \n            }\n        \n            #T_81528e26_97df_11ea_8383_00155dd52ef6row2_col2 {\n            \n                background-color:  #b40426;\n            \n            }\n        \n        </style>\n\n        <table id=\"T_81528e26_97df_11ea_8383_00155dd52ef6\" None>\n        \n\n        <thead>\n            \n            <tr>\n                \n                \n                <th class=\"blank level0\" >\n                  \n                \n                \n                \n                <th class=\"col_heading level0 col0\" colspan=1>\n                  Asthma prevalence rate\n                \n                \n                \n                <th class=\"col_heading level0 col1\" colspan=1>\n                  Chronic obstructive pulmonary disease prevalence rate\n                \n                \n                \n                <th class=\"col_heading level0 col2\" colspan=1>\n                  Chronic respiratory diseases prevalence rate\n                \n                \n            </tr>\n            \n        </thead>\n        <tbody>\n            \n            <tr>\n                \n                \n                <th id=\"T_81528e26_97df_11ea_8383_00155dd52ef6\"\n                 class=\"row_heading level0 row0\" rowspan=1>\n                    Asthma prevalence rate\n                \n                \n                \n                <td id=\"T_81528e26_97df_11ea_8383_00155dd52ef6row0_col0\"\n                 class=\"data row0 col0\" >\n                    1\n                \n                \n                \n                <td id=\"T_81528e26_97df_11ea_8383_00155dd52ef6row0_col1\"\n                 class=\"data row0 col1\" >\n                    0.041\n                \n                \n                \n                <td id=\"T_81528e26_97df_11ea_8383_00155dd52ef6row0_col2\"\n                 class=\"data row0 col2\" >\n                    0.68\n                \n                \n            </tr>\n            \n            <tr>\n                \n                \n                <th id=\"T_81528e26_97df_11ea_8383_00155dd52ef6\"\n                 class=\"row_heading level0 row1\" rowspan=1>\n                    Chronic obstructive pulmonary disease prevalence rate\n                \n                \n                \n                <td id=\"T_81528e26_97df_11ea_8383_00155dd52ef6row1_col0\"\n                 class=\"data row1 col0\" >\n                    0.041\n                \n                \n                \n                <td id=\"T_81528e26_97df_11ea_8383_00155dd52ef6row1_col1\"\n                 class=\"data row1 col1\" >\n                    1\n                \n                \n                \n                <td id=\"T_81528e26_97df_11ea_8383_00155dd52ef6row1_col2\"\n                 class=\"data row1 col2\" >\n                    0.76\n                \n                \n            </tr>\n            \n            <tr>\n                \n                \n                <th id=\"T_81528e26_97df_11ea_8383_00155dd52ef6\"\n                 class=\"row_heading level0 row2\" rowspan=1>\n                    Chronic respiratory diseases prevalence rate\n                \n                \n                \n                <td id=\"T_81528e26_97df_11ea_8383_00155dd52ef6row2_col0\"\n                 class=\"data row2 col0\" >\n                    0.68\n                \n                \n                \n                <td id=\"T_81528e26_97df_11ea_8383_00155dd52ef6row2_col1\"\n                 class=\"data row2 col1\" >\n                    0.76\n                \n                \n                \n                <td id=\"T_81528e26_97df_11ea_8383_00155dd52ef6row2_col2\"\n                 class=\"data row2 col2\" >\n                    1\n                \n                \n            </tr>\n            \n        </tbody>\n        </table>\n        "
          },
          "metadata": {}
        }
      ]
    },
    {
      "metadata": {},
      "cell_type": "markdown",
      "source": "#### Missing countries"
    },
    {
      "metadata": {
        "trusted": true
      },
      "cell_type": "code",
      "source": "a = df[(df['Indicator']=='Prevalence of obesity among adults, BMI &GreaterEqual; 30 (age-standardized estimate) (%)')  & ( df['Year']==2016)\n      ]#    190\n\n\nb = df[(df['Indicator']=='Prevalence of overweight among adults, BMI &GreaterEqual; 25 (crude estimate) (%)')          & (df['Year'] ==2016)]\n\n\nc = df[(df['Indicator']=='Raised blood pressure (SBP>=140 OR DBP>=90) (crude estimate), 18+  years'  )                 & (df['Year'] ==2015 ) ]\n\nd = df[(df['Indicator'] == 'Raised fasting blood glucose (>= 7.0 mmol/L or on medication) (crude estimate), 18+  years') & (df['Year']==2014 ) \n      ]\ne=a",
      "execution_count": 93,
      "outputs": []
    },
    {
      "metadata": {
        "trusted": true
      },
      "cell_type": "code",
      "source": "#e = df[(df['Indicator']=='Alcohol, heavy episodic drinking (15+) past 30 days (%), age-standardized' )     & ( df['Year']==2016)  ]  \n#e = df[(df['Indicator']== 'Alcohol, recorded per capita (15+) consumption (in litres of pure alcohol)' )    & ( df['Year']==2016) ]         \n#e = df[(df['Indicator']== 'Current cigarette smoking, age-standardised')  & ( df['Year']==2013)   ]\n#e = df[(df['Indicator']==  'Current tobacco smoking, age-standardised')     & ( df['Year']==2013)]                                             \n#e = df[(df['Indicator']==  'Daily cigarette smoking, age-standardised')       & ( df['Year']==2013)  ]                             \ne = df[(df['Indicator']==  'Daily tobacco smoking, age-standardised')       & ( df['Year']==2013)  ]   \ne",
      "execution_count": null,
      "outputs": []
    },
    {
      "metadata": {
        "trusted": true
      },
      "cell_type": "code",
      "source": "#e = df[(df['Indicator']=='Concentrations of fine particulate matter (PM2.5)  ' )     & ( df['Year']==2016)  ]  \n#e = df[(df['Indicator']=='Concentrations of fine particulate matter (PM2.5)  ' )     & ( df['Year']==2020)  ]  ",
      "execution_count": null,
      "outputs": []
    },
    {
      "metadata": {
        "trusted": true
      },
      "cell_type": "code",
      "source": "set_country = e['Country'].unique()\nset_country =  pd.DataFrame(set_country,columns=['Country'])\ncomplete_country =df[(df['Year']==2017) & (df['Risk Factor']=='NCD Prevalence Rate')]['Country'].unique()\ncomplete_country=pd.DataFrame(complete_country,columns=['Country'])\n#x = pd.concat([set_country, complete_country])\n#y = x.drop_duplicates(keep=False, inplace=False)\n#y\n\nm = complete_country[~complete_country['Country'].isin(set_country['Country'])]\n#Behavioral Risk Factor ",
      "execution_count": 94,
      "outputs": [
        {
          "output_type": "execute_result",
          "execution_count": 94,
          "data": {
            "text/plain": "                   Country\n28              Cabo Verde\n39            Cook Islands\n44                 Czechia\n57                Eswatini\n117                  Nauru\n124                   Niue\n128                  Palau\n143  Saint Kitts and Nevis\n175                 Tuvalu",
            "text/html": "<div>\n<table border=\"1\" class=\"dataframe\">\n  <thead>\n    <tr style=\"text-align: right;\">\n      <th></th>\n      <th>Country</th>\n    </tr>\n  </thead>\n  <tbody>\n    <tr>\n      <th>28</th>\n      <td>Cabo Verde</td>\n    </tr>\n    <tr>\n      <th>39</th>\n      <td>Cook Islands</td>\n    </tr>\n    <tr>\n      <th>44</th>\n      <td>Czechia</td>\n    </tr>\n    <tr>\n      <th>57</th>\n      <td>Eswatini</td>\n    </tr>\n    <tr>\n      <th>117</th>\n      <td>Nauru</td>\n    </tr>\n    <tr>\n      <th>124</th>\n      <td>Niue</td>\n    </tr>\n    <tr>\n      <th>128</th>\n      <td>Palau</td>\n    </tr>\n    <tr>\n      <th>143</th>\n      <td>Saint Kitts and Nevis</td>\n    </tr>\n    <tr>\n      <th>175</th>\n      <td>Tuvalu</td>\n    </tr>\n  </tbody>\n</table>\n</div>"
          },
          "metadata": {}
        }
      ]
    },
    {
      "metadata": {
        "trusted": true
      },
      "cell_type": "code",
      "source": "import base64  \nfrom IPython.display import HTML\n\ndef create_download_link( df, title = \"Download CSV file\", filename = \"data.csv\"):  \n    csv = df.to_csv()\n    b64 = base64.b64encode(csv.encode())\n    payload = b64.decode()\n    html = '<a download=\"{filename}\" href=\"data:text/csv;base64,{payload}\" target=\"_blank\">{title}</a>'\n    html = html.format(payload=payload,title=title,filename=filename)\n    return HTML(html)\n\n\n#create_download_link(df_17_ncd)\ncreate_download_link(m)",
      "execution_count": null,
      "outputs": []
    },
    {
      "metadata": {},
      "cell_type": "markdown",
      "source": "## Methods to assign scores"
    },
    {
      "metadata": {},
      "cell_type": "markdown",
      "source": "### Percentage Binning"
    },
    {
      "metadata": {
        "trusted": true
      },
      "cell_type": "code",
      "source": "\"\"\" ## 2017 data chosen\ndf=df[(df['Year']==2017) & (df['Risk Factor']=='NCD Prevalence Rate')]\ndf['Disaggregation'].unique()\n## remove duplicates of Congo\ndf[df['Indicator']=='Asthma prevalence rate']['Country'].nunique()\ndp=df[df['Indicator']=='Asthma prevalence rate']\ndp[dp['Country']=='Congo']\ndf.drop([6367], inplace=True)\n\n\ndf[df['Indicator']=='Chronic obstructive pulmonary disease prevalence rate']['Country'].nunique()\ndp = df[df['Indicator']=='Chronic obstructive pulmonary disease prevalence rate']\ndp[dp['Country']=='Congo']\ndf.drop([6563], inplace=True)\n\ndf[df['Indicator']=='Chronic respiratory diseases prevalence rate']['Country'].nunique()\ndp = df[df['Indicator']=='Chronic respiratory diseases prevalence rate']\ndp[dp['Country']=='Congo']\ndf.drop([6758], inplace=True)\n\ndf[df['Indicator']=='Pneumoconiosis prevalence rate']['Country'].nunique()\ndp = df[df['Indicator']=='Pneumoconiosis prevalence rate']\ndp[dp['Country']=='Congo']\ndf.drop([7165], inplace=True)\nprint('all 0 for the indicator: Other chronic respiratory diseases prevalence rate so will drop this indicator as no info is there')\ndf[df['Indicator']=='Other chronic respiratory diseases prevalence rate']\ndropi = df[df['Indicator']=='Other chronic respiratory diseases prevalence rate'].index #all 0's\ndf.drop(dropi, inplace=True)\"\"\"",
      "execution_count": null,
      "outputs": []
    },
    {
      "metadata": {
        "trusted": true
      },
      "cell_type": "code",
      "source": "\nc = df_ncd.iloc[:,0]\ndf_ncd = df_ncd.iloc[:,1:4]",
      "execution_count": 87,
      "outputs": []
    },
    {
      "metadata": {
        "trusted": true
      },
      "cell_type": "code",
      "source": "\"\"\"df_ncd=pd.DataFrame()\nirange = df['Indicator'].unique()\ndf.sort_values(['Indicator', 'Country'], ascending=True, inplace = True)\n\n\nfor i in irange:\n\n    pivot = df[df['Indicator']==i].pivot(index='Country', columns='Indicator', values='Data')\n    pivot.reset_index(inplace=True)\n    pivot.columns =['Country', i]\n    df_ncd['Country']=pivot['Country']\n    df_ncd [i] = pivot[i]\n    \n\ndf_ncd = df_ncd.set_index('Country')\ndf_ncd = df_ncd.iloc[:,0:3]\ndf_ncd\n \"\"\"\n",
      "execution_count": 66,
      "outputs": [
        {
          "output_type": "execute_result",
          "execution_count": 66,
          "data": {
            "text/plain": "\"df_ncd=pd.DataFrame()\\nirange = df['Indicator'].unique()\\ndf.sort_values(['Indicator', 'Country'], ascending=True, inplace = True)\\n\\n\\nfor i in irange:\\n\\n    pivot = df[df['Indicator']==i].pivot(index='Country', columns='Indicator', values='Data')\\n    pivot.reset_index(inplace=True)\\n    pivot.columns =['Country', i]\\n    df_ncd['Country']=pivot['Country']\\n    df_ncd [i] = pivot[i]\\n    \\n\\ndf_ncd = df_ncd.set_index('Country')\\ndf_ncd = df_ncd.iloc[:,0:3]\\ndf_ncd\\n \""
          },
          "metadata": {}
        }
      ]
    },
    {
      "metadata": {
        "trusted": true
      },
      "cell_type": "code",
      "source": "qt = df_ncd.quantile([.1, 0.2, 0.3, 0.4, 0.5, 0.6, 0.7,0.8,0.9,1])\nqt",
      "execution_count": 60,
      "outputs": [
        {
          "output_type": "execute_result",
          "execution_count": 60,
          "data": {
            "text/plain": "     Asthma prevalence rate  \\\n0.1             3126.645501   \n0.2             3408.827396   \n0.3             3797.558609   \n0.4             4172.810457   \n0.5             4624.548553   \n0.6             5061.977852   \n0.7             5427.108594   \n0.8             6410.425313   \n0.9             7520.879333   \n1.0            12095.018780   \n\n     Chronic obstructive pulmonary disease prevalence rate  \\\n0.1                                        1492.849325       \n0.2                                        1841.480321       \n0.3                                        2205.271818       \n0.4                                        2689.453156       \n0.5                                        3037.251289       \n0.6                                        3409.192267       \n0.7                                        4210.077151       \n0.8                                        5841.020325       \n0.9                                        6478.024228       \n1.0                                       10643.456040       \n\n     Chronic respiratory diseases prevalence rate  \n0.1                                   4901.256075  \n0.2                                   5734.883690  \n0.3                                   6352.331379  \n0.4                                   7095.647589  \n0.5                                   7895.822310  \n0.6                                   8737.381272  \n0.7                                   9704.144244  \n0.8                                  11256.259790  \n0.9                                  12322.973105  \n1.0                                  15356.234020  ",
            "text/html": "<div>\n<table border=\"1\" class=\"dataframe\">\n  <thead>\n    <tr style=\"text-align: right;\">\n      <th></th>\n      <th>Asthma prevalence rate</th>\n      <th>Chronic obstructive pulmonary disease prevalence rate</th>\n      <th>Chronic respiratory diseases prevalence rate</th>\n    </tr>\n  </thead>\n  <tbody>\n    <tr>\n      <th>0.1</th>\n      <td>3126.645501</td>\n      <td>1492.849325</td>\n      <td>4901.256075</td>\n    </tr>\n    <tr>\n      <th>0.2</th>\n      <td>3408.827396</td>\n      <td>1841.480321</td>\n      <td>5734.883690</td>\n    </tr>\n    <tr>\n      <th>0.3</th>\n      <td>3797.558609</td>\n      <td>2205.271818</td>\n      <td>6352.331379</td>\n    </tr>\n    <tr>\n      <th>0.4</th>\n      <td>4172.810457</td>\n      <td>2689.453156</td>\n      <td>7095.647589</td>\n    </tr>\n    <tr>\n      <th>0.5</th>\n      <td>4624.548553</td>\n      <td>3037.251289</td>\n      <td>7895.822310</td>\n    </tr>\n    <tr>\n      <th>0.6</th>\n      <td>5061.977852</td>\n      <td>3409.192267</td>\n      <td>8737.381272</td>\n    </tr>\n    <tr>\n      <th>0.7</th>\n      <td>5427.108594</td>\n      <td>4210.077151</td>\n      <td>9704.144244</td>\n    </tr>\n    <tr>\n      <th>0.8</th>\n      <td>6410.425313</td>\n      <td>5841.020325</td>\n      <td>11256.259790</td>\n    </tr>\n    <tr>\n      <th>0.9</th>\n      <td>7520.879333</td>\n      <td>6478.024228</td>\n      <td>12322.973105</td>\n    </tr>\n    <tr>\n      <th>1.0</th>\n      <td>12095.018780</td>\n      <td>10643.456040</td>\n      <td>15356.234020</td>\n    </tr>\n  </tbody>\n</table>\n</div>"
          },
          "metadata": {}
        }
      ]
    },
    {
      "metadata": {
        "trusted": true
      },
      "cell_type": "code",
      "source": "perc=pd.DataFrame()\nl = df_ncd.shape[0]\n\nfor i in range(0,3):\n    binn = []\n    for j in range(0,l ):\n        for q in range (0,10):\n            if df_ncd.iloc[j,i]<=qt.iloc[q,i]:\n                binn.append(q+1)\n                break\n    perc[i] = binn\nperc.columns = df_ncd.columns\nperc['Country']=c\n            ",
      "execution_count": 89,
      "outputs": []
    },
    {
      "metadata": {
        "trusted": true
      },
      "cell_type": "code",
      "source": "perc",
      "execution_count": 90,
      "outputs": [
        {
          "output_type": "execute_result",
          "execution_count": 90,
          "data": {
            "text/plain": "     Asthma prevalence rate  \\\n0                         8   \n1                         1   \n2                         8   \n3                        10   \n4                         8   \n5                         7   \n6                         9   \n7                         5   \n8                         3   \n9                        10   \n10                        7   \n11                        2   \n12                        9   \n13                        5   \n14                        1   \n15                        8   \n16                        4   \n17                        5   \n18                       10   \n19                        2   \n20                        9   \n21                        1   \n22                        9   \n23                        5   \n24                        2   \n25                        4   \n26                        4   \n27                        3   \n28                        4   \n29                        4   \n..                      ...   \n164                       7   \n165                       9   \n166                       3   \n167                      10   \n168                       8   \n169                       6   \n170                       1   \n171                       7   \n172                       5   \n173                       3   \n174                      10   \n175                       9   \n176                       5   \n177                       6   \n178                       2   \n179                       6   \n180                       3   \n181                       8   \n182                      10   \n183                       8   \n184                       9   \n185                       6   \n186                       7   \n187                       3   \n188                      10   \n189                       4   \n190                       3   \n191                       5   \n192                       3   \n193                       1   \n\n     Chronic obstructive pulmonary disease prevalence rate  \\\n0                                                    4       \n1                                                    9       \n2                                                    6       \n3                                                    6       \n4                                                    8       \n5                                                    1       \n6                                                    4       \n7                                                    7       \n8                                                    8       \n9                                                    8       \n10                                                  10       \n11                                                   7       \n12                                                   4       \n13                                                   6       \n14                                                   6       \n15                                                   5       \n16                                                   9       \n17                                                  10       \n18                                                   3       \n19                                                   2       \n20                                                   8       \n21                                                   3       \n22                                                   3       \n23                                                  10       \n24                                                   7       \n25                                                   7       \n26                                                   2       \n27                                                  10       \n28                                                   2       \n29                                                   1       \n..                                                 ...       \n164                                                  3       \n165                                                  6       \n166                                                  5       \n167                                                 10       \n168                                                  9       \n169                                                  6       \n170                                                  4       \n171                                                  4       \n172                                                  4       \n173                                                  2       \n174                                                  6       \n175                                                  5       \n176                                                  7       \n177                                                  9       \n178                                                  4       \n179                                                  1       \n180                                                  9       \n181                                                  7       \n182                                                 10       \n183                                                  1       \n184                                                  7       \n185                                                  9       \n186                                                  8       \n187                                                  4       \n188                                                  7       \n189                                                  7       \n190                                                  6       \n191                                                  3       \n192                                                  1       \n193                                                  5       \n\n     Chronic respiratory diseases prevalence rate  \\\n0                                               5   \n1                                               6   \n2                                               6   \n3                                              10   \n4                                               9   \n5                                               4   \n6                                               6   \n7                                               6   \n8                                               6   \n9                                              10   \n10                                             10   \n11                                              4   \n12                                              7   \n13                                              5   \n14                                              2   \n15                                              6   \n16                                              7   \n17                                              9   \n18                                              7   \n19                                              1   \n20                                              9   \n21                                              1   \n22                                              6   \n23                                              9   \n24                                              4   \n25                                              6   \n26                                              2   \n27                                             10   \n28                                              2   \n29                                              2   \n..                                            ...   \n164                                             4   \n165                                             8   \n166                                             3   \n167                                            10   \n168                                             8   \n169                                             5   \n170                                             2   \n171                                             5   \n172                                             4   \n173                                             2   \n174                                            10   \n175                                             7   \n176                                             5   \n177                                             8   \n178                                             2   \n179                                             3   \n180                                             7   \n181                                             7   \n182                                            10   \n183                                             4   \n184                                             8   \n185                                             8   \n186                                             8   \n187                                             3   \n188                                            10   \n189                                             5   \n190                                             4   \n191                                             3   \n192                                             1   \n193                                             2   \n\n                                               Country  \n0                                          Afghanistan  \n1                                              Albania  \n2                                              Algeria  \n3                                       American Samoa  \n4                                              Andorra  \n5                                               Angola  \n6                                  Antigua and Barbuda  \n7                                            Argentina  \n8                                              Armenia  \n9                                            Australia  \n10                                             Austria  \n11                                          Azerbaijan  \n12                                             Bahamas  \n13                                             Bahrain  \n14                                          Bangladesh  \n15                                            Barbados  \n16                                             Belarus  \n17                                             Belgium  \n18                                              Belize  \n19                                               Benin  \n20                                             Bermuda  \n21                                              Bhutan  \n22                    Bolivia (Plurinational State of)  \n23                              Bosnia and Herzegovina  \n24                                            Botswana  \n25                                              Brazil  \n26                                   Brunei Darussalam  \n27                                            Bulgaria  \n28                                        Burkina Faso  \n29                                             Burundi  \n..                                                 ...  \n164                                              Sudan  \n165                                           Suriname  \n166                                          Swaziland  \n167                                             Sweden  \n168                                        Switzerland  \n169                               Syrian Arab Republic  \n170                                         Tajikistan  \n171                                           Thailand  \n172                                        Timor-Leste  \n173                                               Togo  \n174                                              Tonga  \n175                                Trinidad and Tobago  \n176                                            Tunisia  \n177                                             Turkey  \n178                                       Turkmenistan  \n179                                             Uganda  \n180                                            Ukraine  \n181                               United Arab Emirates  \n182  United Kingdom of Great Britain and Northern I...  \n183                        United Republic of Tanzania  \n184                       United States Virgin Islands  \n185                           United States of America  \n186                                            Uruguay  \n187                                         Uzbekistan  \n188                                            Vanuatu  \n189                 Venezuela (Bolivarian Republic of)  \n190                                           Viet Nam  \n191                                              Yemen  \n192                                             Zambia  \n193                                           Zimbabwe  \n\n[194 rows x 4 columns]",
            "text/html": "<div>\n<table border=\"1\" class=\"dataframe\">\n  <thead>\n    <tr style=\"text-align: right;\">\n      <th></th>\n      <th>Asthma prevalence rate</th>\n      <th>Chronic obstructive pulmonary disease prevalence rate</th>\n      <th>Chronic respiratory diseases prevalence rate</th>\n      <th>Country</th>\n    </tr>\n  </thead>\n  <tbody>\n    <tr>\n      <th>0</th>\n      <td>8</td>\n      <td>4</td>\n      <td>5</td>\n      <td>Afghanistan</td>\n    </tr>\n    <tr>\n      <th>1</th>\n      <td>1</td>\n      <td>9</td>\n      <td>6</td>\n      <td>Albania</td>\n    </tr>\n    <tr>\n      <th>2</th>\n      <td>8</td>\n      <td>6</td>\n      <td>6</td>\n      <td>Algeria</td>\n    </tr>\n    <tr>\n      <th>3</th>\n      <td>10</td>\n      <td>6</td>\n      <td>10</td>\n      <td>American Samoa</td>\n    </tr>\n    <tr>\n      <th>4</th>\n      <td>8</td>\n      <td>8</td>\n      <td>9</td>\n      <td>Andorra</td>\n    </tr>\n    <tr>\n      <th>5</th>\n      <td>7</td>\n      <td>1</td>\n      <td>4</td>\n      <td>Angola</td>\n    </tr>\n    <tr>\n      <th>6</th>\n      <td>9</td>\n      <td>4</td>\n      <td>6</td>\n      <td>Antigua and Barbuda</td>\n    </tr>\n    <tr>\n      <th>7</th>\n      <td>5</td>\n      <td>7</td>\n      <td>6</td>\n      <td>Argentina</td>\n    </tr>\n    <tr>\n      <th>8</th>\n      <td>3</td>\n      <td>8</td>\n      <td>6</td>\n      <td>Armenia</td>\n    </tr>\n    <tr>\n      <th>9</th>\n      <td>10</td>\n      <td>8</td>\n      <td>10</td>\n      <td>Australia</td>\n    </tr>\n    <tr>\n      <th>10</th>\n      <td>7</td>\n      <td>10</td>\n      <td>10</td>\n      <td>Austria</td>\n    </tr>\n    <tr>\n      <th>11</th>\n      <td>2</td>\n      <td>7</td>\n      <td>4</td>\n      <td>Azerbaijan</td>\n    </tr>\n    <tr>\n      <th>12</th>\n      <td>9</td>\n      <td>4</td>\n      <td>7</td>\n      <td>Bahamas</td>\n    </tr>\n    <tr>\n      <th>13</th>\n      <td>5</td>\n      <td>6</td>\n      <td>5</td>\n      <td>Bahrain</td>\n    </tr>\n    <tr>\n      <th>14</th>\n      <td>1</td>\n      <td>6</td>\n      <td>2</td>\n      <td>Bangladesh</td>\n    </tr>\n    <tr>\n      <th>15</th>\n      <td>8</td>\n      <td>5</td>\n      <td>6</td>\n      <td>Barbados</td>\n    </tr>\n    <tr>\n      <th>16</th>\n      <td>4</td>\n      <td>9</td>\n      <td>7</td>\n      <td>Belarus</td>\n    </tr>\n    <tr>\n      <th>17</th>\n      <td>5</td>\n      <td>10</td>\n      <td>9</td>\n      <td>Belgium</td>\n    </tr>\n    <tr>\n      <th>18</th>\n      <td>10</td>\n      <td>3</td>\n      <td>7</td>\n      <td>Belize</td>\n    </tr>\n    <tr>\n      <th>19</th>\n      <td>2</td>\n      <td>2</td>\n      <td>1</td>\n      <td>Benin</td>\n    </tr>\n    <tr>\n      <th>20</th>\n      <td>9</td>\n      <td>8</td>\n      <td>9</td>\n      <td>Bermuda</td>\n    </tr>\n    <tr>\n      <th>21</th>\n      <td>1</td>\n      <td>3</td>\n      <td>1</td>\n      <td>Bhutan</td>\n    </tr>\n    <tr>\n      <th>22</th>\n      <td>9</td>\n      <td>3</td>\n      <td>6</td>\n      <td>Bolivia (Plurinational State of)</td>\n    </tr>\n    <tr>\n      <th>23</th>\n      <td>5</td>\n      <td>10</td>\n      <td>9</td>\n      <td>Bosnia and Herzegovina</td>\n    </tr>\n    <tr>\n      <th>24</th>\n      <td>2</td>\n      <td>7</td>\n      <td>4</td>\n      <td>Botswana</td>\n    </tr>\n    <tr>\n      <th>25</th>\n      <td>4</td>\n      <td>7</td>\n      <td>6</td>\n      <td>Brazil</td>\n    </tr>\n    <tr>\n      <th>26</th>\n      <td>4</td>\n      <td>2</td>\n      <td>2</td>\n      <td>Brunei Darussalam</td>\n    </tr>\n    <tr>\n      <th>27</th>\n      <td>3</td>\n      <td>10</td>\n      <td>10</td>\n      <td>Bulgaria</td>\n    </tr>\n    <tr>\n      <th>28</th>\n      <td>4</td>\n      <td>2</td>\n      <td>2</td>\n      <td>Burkina Faso</td>\n    </tr>\n    <tr>\n      <th>29</th>\n      <td>4</td>\n      <td>1</td>\n      <td>2</td>\n      <td>Burundi</td>\n    </tr>\n    <tr>\n      <th>...</th>\n      <td>...</td>\n      <td>...</td>\n      <td>...</td>\n      <td>...</td>\n    </tr>\n    <tr>\n      <th>164</th>\n      <td>7</td>\n      <td>3</td>\n      <td>4</td>\n      <td>Sudan</td>\n    </tr>\n    <tr>\n      <th>165</th>\n      <td>9</td>\n      <td>6</td>\n      <td>8</td>\n      <td>Suriname</td>\n    </tr>\n    <tr>\n      <th>166</th>\n      <td>3</td>\n      <td>5</td>\n      <td>3</td>\n      <td>Swaziland</td>\n    </tr>\n    <tr>\n      <th>167</th>\n      <td>10</td>\n      <td>10</td>\n      <td>10</td>\n      <td>Sweden</td>\n    </tr>\n    <tr>\n      <th>168</th>\n      <td>8</td>\n      <td>9</td>\n      <td>8</td>\n      <td>Switzerland</td>\n    </tr>\n    <tr>\n      <th>169</th>\n      <td>6</td>\n      <td>6</td>\n      <td>5</td>\n      <td>Syrian Arab Republic</td>\n    </tr>\n    <tr>\n      <th>170</th>\n      <td>1</td>\n      <td>4</td>\n      <td>2</td>\n      <td>Tajikistan</td>\n    </tr>\n    <tr>\n      <th>171</th>\n      <td>7</td>\n      <td>4</td>\n      <td>5</td>\n      <td>Thailand</td>\n    </tr>\n    <tr>\n      <th>172</th>\n      <td>5</td>\n      <td>4</td>\n      <td>4</td>\n      <td>Timor-Leste</td>\n    </tr>\n    <tr>\n      <th>173</th>\n      <td>3</td>\n      <td>2</td>\n      <td>2</td>\n      <td>Togo</td>\n    </tr>\n    <tr>\n      <th>174</th>\n      <td>10</td>\n      <td>6</td>\n      <td>10</td>\n      <td>Tonga</td>\n    </tr>\n    <tr>\n      <th>175</th>\n      <td>9</td>\n      <td>5</td>\n      <td>7</td>\n      <td>Trinidad and Tobago</td>\n    </tr>\n    <tr>\n      <th>176</th>\n      <td>5</td>\n      <td>7</td>\n      <td>5</td>\n      <td>Tunisia</td>\n    </tr>\n    <tr>\n      <th>177</th>\n      <td>6</td>\n      <td>9</td>\n      <td>8</td>\n      <td>Turkey</td>\n    </tr>\n    <tr>\n      <th>178</th>\n      <td>2</td>\n      <td>4</td>\n      <td>2</td>\n      <td>Turkmenistan</td>\n    </tr>\n    <tr>\n      <th>179</th>\n      <td>6</td>\n      <td>1</td>\n      <td>3</td>\n      <td>Uganda</td>\n    </tr>\n    <tr>\n      <th>180</th>\n      <td>3</td>\n      <td>9</td>\n      <td>7</td>\n      <td>Ukraine</td>\n    </tr>\n    <tr>\n      <th>181</th>\n      <td>8</td>\n      <td>7</td>\n      <td>7</td>\n      <td>United Arab Emirates</td>\n    </tr>\n    <tr>\n      <th>182</th>\n      <td>10</td>\n      <td>10</td>\n      <td>10</td>\n      <td>United Kingdom of Great Britain and Northern I...</td>\n    </tr>\n    <tr>\n      <th>183</th>\n      <td>8</td>\n      <td>1</td>\n      <td>4</td>\n      <td>United Republic of Tanzania</td>\n    </tr>\n    <tr>\n      <th>184</th>\n      <td>9</td>\n      <td>7</td>\n      <td>8</td>\n      <td>United States Virgin Islands</td>\n    </tr>\n    <tr>\n      <th>185</th>\n      <td>6</td>\n      <td>9</td>\n      <td>8</td>\n      <td>United States of America</td>\n    </tr>\n    <tr>\n      <th>186</th>\n      <td>7</td>\n      <td>8</td>\n      <td>8</td>\n      <td>Uruguay</td>\n    </tr>\n    <tr>\n      <th>187</th>\n      <td>3</td>\n      <td>4</td>\n      <td>3</td>\n      <td>Uzbekistan</td>\n    </tr>\n    <tr>\n      <th>188</th>\n      <td>10</td>\n      <td>7</td>\n      <td>10</td>\n      <td>Vanuatu</td>\n    </tr>\n    <tr>\n      <th>189</th>\n      <td>4</td>\n      <td>7</td>\n      <td>5</td>\n      <td>Venezuela (Bolivarian Republic of)</td>\n    </tr>\n    <tr>\n      <th>190</th>\n      <td>3</td>\n      <td>6</td>\n      <td>4</td>\n      <td>Viet Nam</td>\n    </tr>\n    <tr>\n      <th>191</th>\n      <td>5</td>\n      <td>3</td>\n      <td>3</td>\n      <td>Yemen</td>\n    </tr>\n    <tr>\n      <th>192</th>\n      <td>3</td>\n      <td>1</td>\n      <td>1</td>\n      <td>Zambia</td>\n    </tr>\n    <tr>\n      <th>193</th>\n      <td>1</td>\n      <td>5</td>\n      <td>2</td>\n      <td>Zimbabwe</td>\n    </tr>\n  </tbody>\n</table>\n<p>194 rows × 4 columns</p>\n</div>"
          },
          "metadata": {}
        }
      ]
    },
    {
      "metadata": {
        "trusted": true
      },
      "cell_type": "code",
      "source": "\"\"\" df_ncd.reset_index(inplace=True)\nperc['Country']= df_ncd['Country'] \nperc.head()\"\"\"",
      "execution_count": 67,
      "outputs": [
        {
          "output_type": "execute_result",
          "execution_count": 67,
          "data": {
            "text/plain": "\" df_ncd.reset_index(inplace=True)\\nperc['Country']= df_ncd['Country'] \\nperc.head()\""
          },
          "metadata": {}
        }
      ]
    },
    {
      "metadata": {
        "trusted": true
      },
      "cell_type": "code",
      "source": "print(perc['Asthma prevalence rate'].value_counts())\nprint(perc['Chronic obstructive pulmonary disease prevalence rate'].value_counts())\nprint(perc['Chronic respiratory diseases prevalence rate'].value_counts())\nperc[perc['Chronic respiratory diseases prevalence rate']==7]",
      "execution_count": 91,
      "outputs": [
        {
          "output_type": "stream",
          "text": "10    20\n7     20\n4     20\n1     20\n9     19\n8     19\n6     19\n5     19\n3     19\n2     19\nName: Asthma prevalence rate, dtype: int64\n10    20\n7     20\n4     20\n1     20\n9     19\n8     19\n6     19\n5     19\n3     19\n2     19\nName: Chronic obstructive pulmonary disease prevalence rate, dtype: int64\n10    20\n7     20\n4     20\n1     20\n9     19\n8     19\n6     19\n5     19\n3     19\n2     19\nName: Chronic respiratory diseases prevalence rate, dtype: int64\n",
          "name": "stdout"
        },
        {
          "output_type": "execute_result",
          "execution_count": 91,
          "data": {
            "text/plain": "     Asthma prevalence rate  \\\n12                        9   \n16                        4   \n18                       10   \n51                        9   \n54                        8   \n65                        3   \n70                        9   \n76                        9   \n87                        9   \n88                        5   \n97                        9   \n101                       3   \n134                       8   \n139                       5   \n145                       9   \n146                       9   \n155                       2   \n175                       9   \n180                       3   \n181                       8   \n\n     Chronic obstructive pulmonary disease prevalence rate  \\\n12                                                   4       \n16                                                   9       \n18                                                   3       \n51                                                   5       \n54                                                   6       \n65                                                   9       \n70                                                   6       \n76                                                   4       \n87                                                   4       \n88                                                   7       \n97                                                   5       \n101                                                  9       \n134                                                  6       \n139                                                  8       \n145                                                  5       \n146                                                  4       \n155                                                 10       \n175                                                  5       \n180                                                  9       \n181                                                  7       \n\n     Chronic respiratory diseases prevalence rate  \\\n12                                              7   \n16                                              7   \n18                                              7   \n51                                              7   \n54                                              7   \n65                                              7   \n70                                              7   \n76                                              7   \n87                                              7   \n88                                              7   \n97                                              7   \n101                                             7   \n134                                             7   \n139                                             7   \n145                                             7   \n146                                             7   \n155                                             7   \n175                                             7   \n180                                             7   \n181                                             7   \n\n                              Country  \n12                            Bahamas  \n16                            Belarus  \n18                             Belize  \n51                           Dominica  \n54                              Egypt  \n65                            Georgia  \n70                            Grenada  \n76                              Haiti  \n87                            Jamaica  \n88                              Japan  \n97                            Lebanon  \n101                         Lithuania  \n134                       Philippines  \n139                 Republic of Korea  \n145                       Saint Lucia  \n146  Saint Vincent and the Grenadines  \n155                          Slovakia  \n175               Trinidad and Tobago  \n180                           Ukraine  \n181              United Arab Emirates  ",
            "text/html": "<div>\n<table border=\"1\" class=\"dataframe\">\n  <thead>\n    <tr style=\"text-align: right;\">\n      <th></th>\n      <th>Asthma prevalence rate</th>\n      <th>Chronic obstructive pulmonary disease prevalence rate</th>\n      <th>Chronic respiratory diseases prevalence rate</th>\n      <th>Country</th>\n    </tr>\n  </thead>\n  <tbody>\n    <tr>\n      <th>12</th>\n      <td>9</td>\n      <td>4</td>\n      <td>7</td>\n      <td>Bahamas</td>\n    </tr>\n    <tr>\n      <th>16</th>\n      <td>4</td>\n      <td>9</td>\n      <td>7</td>\n      <td>Belarus</td>\n    </tr>\n    <tr>\n      <th>18</th>\n      <td>10</td>\n      <td>3</td>\n      <td>7</td>\n      <td>Belize</td>\n    </tr>\n    <tr>\n      <th>51</th>\n      <td>9</td>\n      <td>5</td>\n      <td>7</td>\n      <td>Dominica</td>\n    </tr>\n    <tr>\n      <th>54</th>\n      <td>8</td>\n      <td>6</td>\n      <td>7</td>\n      <td>Egypt</td>\n    </tr>\n    <tr>\n      <th>65</th>\n      <td>3</td>\n      <td>9</td>\n      <td>7</td>\n      <td>Georgia</td>\n    </tr>\n    <tr>\n      <th>70</th>\n      <td>9</td>\n      <td>6</td>\n      <td>7</td>\n      <td>Grenada</td>\n    </tr>\n    <tr>\n      <th>76</th>\n      <td>9</td>\n      <td>4</td>\n      <td>7</td>\n      <td>Haiti</td>\n    </tr>\n    <tr>\n      <th>87</th>\n      <td>9</td>\n      <td>4</td>\n      <td>7</td>\n      <td>Jamaica</td>\n    </tr>\n    <tr>\n      <th>88</th>\n      <td>5</td>\n      <td>7</td>\n      <td>7</td>\n      <td>Japan</td>\n    </tr>\n    <tr>\n      <th>97</th>\n      <td>9</td>\n      <td>5</td>\n      <td>7</td>\n      <td>Lebanon</td>\n    </tr>\n    <tr>\n      <th>101</th>\n      <td>3</td>\n      <td>9</td>\n      <td>7</td>\n      <td>Lithuania</td>\n    </tr>\n    <tr>\n      <th>134</th>\n      <td>8</td>\n      <td>6</td>\n      <td>7</td>\n      <td>Philippines</td>\n    </tr>\n    <tr>\n      <th>139</th>\n      <td>5</td>\n      <td>8</td>\n      <td>7</td>\n      <td>Republic of Korea</td>\n    </tr>\n    <tr>\n      <th>145</th>\n      <td>9</td>\n      <td>5</td>\n      <td>7</td>\n      <td>Saint Lucia</td>\n    </tr>\n    <tr>\n      <th>146</th>\n      <td>9</td>\n      <td>4</td>\n      <td>7</td>\n      <td>Saint Vincent and the Grenadines</td>\n    </tr>\n    <tr>\n      <th>155</th>\n      <td>2</td>\n      <td>10</td>\n      <td>7</td>\n      <td>Slovakia</td>\n    </tr>\n    <tr>\n      <th>175</th>\n      <td>9</td>\n      <td>5</td>\n      <td>7</td>\n      <td>Trinidad and Tobago</td>\n    </tr>\n    <tr>\n      <th>180</th>\n      <td>3</td>\n      <td>9</td>\n      <td>7</td>\n      <td>Ukraine</td>\n    </tr>\n    <tr>\n      <th>181</th>\n      <td>8</td>\n      <td>7</td>\n      <td>7</td>\n      <td>United Arab Emirates</td>\n    </tr>\n  </tbody>\n</table>\n</div>"
          },
          "metadata": {}
        }
      ]
    },
    {
      "metadata": {
        "trusted": true
      },
      "cell_type": "code",
      "source": "import base64  \nfrom IPython.display import HTML\n\ndef create_download_link( df, title = \"Download CSV file\", filename = \"data.csv\"):  \n    csv = df.to_csv()\n    b64 = base64.b64encode(csv.encode())\n    payload = b64.decode()\n    html = '<a download=\"{filename}\" href=\"data:text/csv;base64,{payload}\" target=\"_blank\">{title}</a>'\n    html = html.format(payload=payload,title=title,filename=filename)\n    return HTML(html)\n\n\n#create_download_link(df_17_ncd)\ncreate_download_link(perc)",
      "execution_count": null,
      "outputs": []
    },
    {
      "metadata": {},
      "cell_type": "markdown",
      "source": "### Check Distribution"
    },
    {
      "metadata": {
        "trusted": true
      },
      "cell_type": "code",
      "source": "## 2017 data chosen\ndf=df[(df['Year']==2017) & (df['Risk Factor']=='NCD Prevalence Rate')]",
      "execution_count": null,
      "outputs": []
    },
    {
      "metadata": {
        "trusted": true
      },
      "cell_type": "code",
      "source": "## remove duplicates of Congo\n\ndf[df['Indicator']=='Asthma prevalence rate']['Country'].nunique()\ndp=df[df['Indicator']=='Asthma prevalence rate']\ndp[dp['Country']=='Congo']\ndf.drop([6367], inplace=True)\n\n\ndf[df['Indicator']=='Chronic obstructive pulmonary disease prevalence rate']['Country'].nunique()\ndp = df[df['Indicator']=='Chronic obstructive pulmonary disease prevalence rate']\ndp[dp['Country']=='Congo']\ndf.drop([6563], inplace=True)\n\ndf[df['Indicator']=='Chronic respiratory diseases prevalence rate']['Country'].nunique()\ndp = df[df['Indicator']=='Chronic respiratory diseases prevalence rate']\ndp[dp['Country']=='Congo']\ndf.drop([6758], inplace=True)\n\ndf[df['Indicator']=='Pneumoconiosis prevalence rate']['Country'].nunique()\ndp = df[df['Indicator']=='Pneumoconiosis prevalence rate']\ndp[dp['Country']=='Congo']\ndf.drop([7165], inplace=True)",
      "execution_count": null,
      "outputs": []
    },
    {
      "metadata": {
        "trusted": true
      },
      "cell_type": "code",
      "source": "",
      "execution_count": null,
      "outputs": []
    },
    {
      "metadata": {
        "trusted": true
      },
      "cell_type": "code",
      "source": "print('all 0 for the indicator: Other chronic respiratory diseases prevalence rate so will drop this indicator as no info is there')\ndf[df['Indicator']=='Other chronic respiratory diseases prevalence rate']",
      "execution_count": null,
      "outputs": []
    },
    {
      "metadata": {
        "trusted": true
      },
      "cell_type": "code",
      "source": "dropi = df[df['Indicator']=='Other chronic respiratory diseases prevalence rate'].index #all 0's\ndf.drop(dropi, inplace=True)",
      "execution_count": null,
      "outputs": []
    },
    {
      "metadata": {
        "trusted": true
      },
      "cell_type": "code",
      "source": "df_ncd=pd.DataFrame()\nirange = df['Indicator'].unique()\ndf.sort_values(['Indicator', 'Country'], ascending=True, inplace = True)\n\n\nprint(irange)\nfor i in irange:\n\n    pivot = df[df['Indicator']==i].pivot(index='Country', columns='Indicator', values='Data')\n    pivot.reset_index(inplace=True)\n    pivot.columns =['Country', i]\n    df_ncd['Country']=pivot['Country']\n    df_ncd [i] = pivot[i]\n    \n\n\ndf_ncd",
      "execution_count": null,
      "outputs": []
    },
    {
      "metadata": {
        "trusted": true
      },
      "cell_type": "code",
      "source": "#exclude pne cz it is percentage\nx =  df_ncd.iloc[:,1:4]\nx.head()",
      "execution_count": null,
      "outputs": []
    },
    {
      "metadata": {
        "trusted": true
      },
      "cell_type": "code",
      "source": "import matplotlib.pyplot as pl\nimport seaborn as sns\nimport numpy as np\n\ncorr = x.corr()\nprint(corr.style.background_gradient(cmap='coolwarm').set_precision(2))\n\nf, ax = pl.subplots(figsize=(8, 6))\nsns.heatmap(corr, mask=np.zeros_like(corr, dtype=np.bool), cmap=sns.diverging_palette(220, 10, as_cmap=True),\n            square=True, ax=ax)",
      "execution_count": null,
      "outputs": []
    },
    {
      "metadata": {
        "trusted": true
      },
      "cell_type": "code",
      "source": "from sklearn import preprocessing\n\n#X_scaled = preprocessing.scale(x)\n#X_scaled\n\nmin_max_scaler = preprocessing.MinMaxScaler()\nX_scaled= min_max_scaler.fit_transform(x)",
      "execution_count": null,
      "outputs": []
    },
    {
      "metadata": {
        "trusted": true
      },
      "cell_type": "code",
      "source": "import warnings\nimport numpy as np\nimport pandas as pd\nimport scipy.stats as st\nimport statsmodels as sm\nimport matplotlib\nimport matplotlib.pyplot as plt\n\nmatplotlib.rcParams['figure.figsize'] = (16.0, 12.0)\nmatplotlib.style.use('ggplot')\n\n# Create models from data\ndef best_fit_distribution(data, bins=200, ax=None):\n    \"\"\"Model data by finding best fit distribution to data\"\"\"\n    # Get histogram of original data\n    y, x = np.histogram(data, bins=bins, density=True)\n    x = (x + np.roll(x, -1))[:-1] / 2.0\n\n    # Distributions to check\n    DISTRIBUTIONS = [        \n        st.alpha,st.anglit,st.arcsine,st.beta,st.betaprime,st.bradford,st.burr,st.cauchy,st.chi,st.chi2,st.cosine,\n        st.dgamma,st.dweibull,st.erlang,st.expon,st.exponnorm,st.exponweib,st.exponpow,st.f,st.fatiguelife,st.fisk,\n        st.foldcauchy,st.foldnorm,st.frechet_r,st.frechet_l,st.genlogistic,st.genpareto,st.gennorm,st.genexpon,\n        st.genextreme,st.gausshyper,st.gamma,st.gengamma,st.genhalflogistic,st.gilbrat,st.gompertz,st.gumbel_r,\n        st.gumbel_l,st.halfcauchy,st.halflogistic,st.halfnorm,st.halfgennorm,st.hypsecant,st.invgamma,st.invgauss,\n        st.invweibull,st.johnsonsb,st.johnsonsu,st.ksone,st.kstwobign,st.laplace,st.levy,st.levy_l,st.levy_stable,\n        st.logistic,st.loggamma,st.loglaplace,st.lognorm,st.lomax,st.maxwell,st.mielke,st.nakagami,st.ncx2,st.ncf,\n        st.nct,st.norm,st.pareto,st.pearson3,st.powerlaw,st.powerlognorm,st.powernorm,st.rdist,st.reciprocal,\n        st.rayleigh,st.rice,st.recipinvgauss,st.semicircular,st.t,st.triang,st.truncexpon,st.truncnorm,st.tukeylambda,\n        st.uniform,st.vonmises,st.vonmises_line,st.wald,st.weibull_min,st.weibull_max,st.wrapcauchy\n    ]\n\n    # Best holders\n    best_distribution = st.norm\n    best_params = (0.0, 1.0)\n    best_sse = np.inf\n\n    # Estimate distribution parameters from data\n    for distribution in DISTRIBUTIONS:\n\n        # Try to fit the distribution\n        try:\n            # Ignore warnings from data that can't be fit\n            with warnings.catch_warnings():\n                warnings.filterwarnings('ignore')\n\n                # fit dist to data\n                params = distribution.fit(data)\n\n                # Separate parts of parameters\n                arg = params[:-2]\n                loc = params[-2]\n                scale = params[-1]\n\n                # Calculate fitted PDF and error with fit in distribution\n                pdf = distribution.pdf(x, loc=loc, scale=scale, *arg)\n                sse = np.sum(np.power(y - pdf, 2.0))\n\n                # if axis pass in add to plot\n                try:\n                    if ax:\n                        pd.Series(pdf, x).plot(ax=ax)\n                    end\n                except Exception:\n                    pass\n\n                # identify if this distribution is better\n                if best_sse > sse > 0:\n                    best_distribution = distribution\n                    best_params = params\n                    best_sse = sse\n\n        except Exception:\n            pass\n\n    return (best_distribution.name, best_params,best_sse)\n\ndef make_pdf(dist, params, size=10000):\n    \"\"\"Generate distributions's Probability Distribution Function \"\"\"\n\n    # Separate parts of parameters\n    arg = params[:-2]\n    loc = params[-2]\n    scale = params[-1]\n\n    # Get sane start and end points of distribution\n    start = dist.ppf(0.01, *arg, loc=loc, scale=scale) if arg else dist.ppf(0.01, loc=loc, scale=scale)\n    end = dist.ppf(0.99, *arg, loc=loc, scale=scale) if arg else dist.ppf(0.99, loc=loc, scale=scale)\n\n    # Build PDF and turn into pandas Series\n    x = np.linspace(start, end, size)\n    y = dist.pdf(x, loc=loc, scale=scale, *arg)\n    pdf = pd.Series(y, x)\n\n    return pdf\n",
      "execution_count": null,
      "outputs": []
    },
    {
      "metadata": {
        "trusted": true
      },
      "cell_type": "code",
      "source": "# Load data from statsmodels datasets\ndata = pd.DataFrame(X_scaled)\n#data =data.iloc[:,1]\ndata['sum'] = data.sum(axis=1)\ndata = data['sum']\ndata.head()\n",
      "execution_count": null,
      "outputs": []
    },
    {
      "metadata": {
        "scrolled": false,
        "trusted": true
      },
      "cell_type": "code",
      "source": "# Plot for comparison\nplt.figure(figsize=(12,8))\nax = data.plot(kind='hist', bins=50, normed=True, alpha=0.5, color=plt.rcParams['axes.color_cycle'][1])\n# Save plot limits\ndataYLim = ax.get_ylim()\n\n# Find best fit distribution\nbest_fit_name, best_fit_params, best_sse = best_fit_distribution(data, 200, ax)\nbest_dist = getattr(st, best_fit_name)\n\n# Update plots\nax.set_ylim(dataYLim)\nax.set_title(u'El Niño sea temp.\\n All Fitted Distributions')\nax.set_xlabel(u'Temp (°C)')\nax.set_ylabel('Frequency')\n\n# Make PDF with best params \npdf = make_pdf(best_dist, best_fit_params)\n\n# Display\nplt.figure(figsize=(12,8))\nax = pdf.plot(lw=2, label='PDF', legend=True)\ndata.plot(kind='hist', bins=50, normed=True, alpha=0.5, label='Data', legend=True, ax=ax)\n\nparam_names = (best_dist.shapes + ', loc, scale').split(', ') if best_dist.shapes else ['loc', 'scale']\nparam_str = ', '.join(['{}={:0.2f}'.format(k,v) for k,v in zip(param_names, best_fit_params)])\ndist_str = '{}({})'.format(best_fit_name, param_str)\n\nax.set_title(u'El Niño sea temp. with best fit distribution \\n' + dist_str)\nax.set_xlabel(u'Temp. (°C)')\nax.set_ylabel('Frequency')",
      "execution_count": null,
      "outputs": []
    },
    {
      "metadata": {
        "trusted": true
      },
      "cell_type": "code",
      "source": "best_sse",
      "execution_count": null,
      "outputs": []
    },
    {
      "metadata": {
        "trusted": true
      },
      "cell_type": "code",
      "source": "import scipy\nsize=len(data)\ny_std = data\ndist_names = ['mielke',\n              'burr',\n              'beta',\n              'expon',\n              'gamma',\n              'lognorm',\n              'norm',\n              'pearson3',\n              'triang',\n              'uniform',\n              'weibull_min', \n              'weibull_max']\n\n# Set up empty lists to stroe results\nchi_square = []\np_values = []\n\n# Set up 50 bins for chi-square test\n# Observed data will be approximately evenly distrubuted aross all bins\npercentile_bins = np.linspace(0,100,51)\npercentile_cutoffs = np.percentile(y_std, percentile_bins)\nobserved_frequency, bins = (np.histogram(y_std, bins=percentile_cutoffs))\ncum_observed_frequency = np.cumsum(observed_frequency)\n\n# Loop through candidate distributions\n\nfor distribution in dist_names:\n    # Set up distribution and get fitted distribution parameters\n    dist = getattr(scipy.stats, distribution)\n    param = dist.fit(y_std)\n    \n    # Obtain the KS test P statistic, round it to 5 decimal places\n    p = scipy.stats.kstest(y_std, distribution, args=param)[1]\n    p = np.around(p, 5)\n    p_values.append(p)    \n    \n    # Get expected counts in percentile bins\n    # This is based on a 'cumulative distrubution function' (cdf)\n    cdf_fitted = dist.cdf(percentile_cutoffs, *param[:-2], loc=param[-2], \n                          scale=param[-1])\n    expected_frequency = []\n    for bin in range(len(percentile_bins)-1):\n        expected_cdf_area = cdf_fitted[bin+1] - cdf_fitted[bin]\n        expected_frequency.append(expected_cdf_area)\n    \n    # calculate chi-squared\n    expected_frequency = np.array(expected_frequency) * size\n    cum_expected_frequency = np.cumsum(expected_frequency)\n    ss = sum (((cum_expected_frequency - cum_observed_frequency) ** 2) / cum_observed_frequency)\n    chi_square.append(ss)\n        \n# Collate results and sort by goodness of fit (best at top)\n\nresults = pd.DataFrame()\nresults['Distribution'] = dist_names\nresults['chi_square'] = chi_square\nresults['p_value'] = p_values\nresults.sort_values(['chi_square'], inplace=True)\n    \n# Report results\n\nprint ('\\nDistributions sorted by goodness of fit:')\nprint ('----------------------------------------')\nprint (results)",
      "execution_count": null,
      "outputs": []
    },
    {
      "metadata": {
        "scrolled": true,
        "trusted": true
      },
      "cell_type": "code",
      "source": "import scipy\n## qq and pp plots\ndata = data.copy()\ndata.sort()\n\n\n# Loop through selected distributions (as previously selected)\n#['burr']\ndist_names = ['mielke',\n              'burr', 'beta',\n              'expon',\n              'gamma',\n              'lognorm',\n              'norm',\n              'pearson3',\n              'triang',\n              'uniform',\n              'weibull_min', \n              'weibull_max']\n\nfor distribution in dist_names:\n    # Set up distribution\n    dist = getattr(scipy.stats, distribution)\n    param = dist.fit(data)\n    \n    # Get random numbers from distribution\n    norm = dist.rvs(*param[0:-2],loc=param[-2], scale=param[-1],size = size)\n    norm.sort()\n    \n    # Create figure\n    fig = plt.figure(figsize=(8,5)) \n    \n    # qq plot\n    ax1 = fig.add_subplot(121) # Grid of 2x2, this is suplot 1\n    ax1.plot(norm,data,\"o\")\n    min_value = np.floor(min(min(norm),min(data)))\n    max_value = np.ceil(max(max(norm),max(data)))\n    ax1.plot([min_value,max_value],[min_value,max_value],'r--')\n    ax1.set_xlim(min_value,max_value)\n    ax1.set_xlabel('Theoretical quantiles')\n    ax1.set_ylabel('Observed quantiles')\n    title = 'qq plot for ' + distribution +' distribution'\n    ax1.set_title(title)\n    \n    # pp plot\n    ax2 = fig.add_subplot(122)\n    \n    # Calculate cumulative distributions\n    bins = np.percentile(norm,range(0,101))\n    data_counts, bins = np.histogram(data,bins)\n    norm_counts, bins = np.histogram(norm,bins)\n    cum_data = np.cumsum(data_counts)\n    cum_norm = np.cumsum(norm_counts)\n    cum_data = cum_data / max(cum_data)\n    cum_norm = cum_norm / max(cum_norm)\n    \n    # plot\n    ax2.plot(cum_norm,cum_data,\"o\")\n    min_value = np.floor(min(min(cum_norm),min(cum_data)))\n    max_value = np.ceil(max(max(cum_norm),max(cum_data)))\n    ax2.plot([min_value,max_value],[min_value,max_value],'r--')\n    ax2.set_xlim(min_value,max_value)\n    ax2.set_xlabel('Theoretical cumulative distribution')\n    ax2.set_ylabel('Observed cumulative distribution')\n    title = 'pp plot for ' + distribution +' distribution'\n    ax2.set_title(title)\n    \n    # Display plot    \n    plt.tight_layout(pad=4)\n    plt.show()",
      "execution_count": null,
      "outputs": []
    },
    {
      "metadata": {
        "trusted": true
      },
      "cell_type": "code",
      "source": "X_scaled",
      "execution_count": null,
      "outputs": []
    },
    {
      "metadata": {
        "trusted": true
      },
      "cell_type": "code",
      "source": "maxV = data.max()\nminV = data.min()\n\nscore=[]\nfor i in data:\n    index = 10*(i-minV)/(maxV-minV)\n    score.append(index)\n\ndf_ncd['Score']=score\ndf_ncd",
      "execution_count": null,
      "outputs": []
    },
    {
      "metadata": {},
      "cell_type": "markdown",
      "source": "### Add labels: above/below average"
    },
    {
      "metadata": {
        "trusted": true
      },
      "cell_type": "code",
      "source": "df_17= df[df['Year']==2017]",
      "execution_count": null,
      "outputs": []
    },
    {
      "metadata": {
        "trusted": true
      },
      "cell_type": "code",
      "source": "print('all 0 for the indicator: Other chronic respiratory diseases prevalence rate so will drop this indicator as no info is there')\ndf_17[df_17['Indicator']=='Other chronic respiratory diseases prevalence rate']",
      "execution_count": null,
      "outputs": []
    },
    {
      "metadata": {
        "trusted": true
      },
      "cell_type": "code",
      "source": "dropi = df_17[df_17['Indicator']=='Other chronic respiratory diseases prevalence rate'].index #all 0's\ndf_17.drop(dropi, inplace=True)\n",
      "execution_count": null,
      "outputs": []
    },
    {
      "metadata": {
        "trusted": true
      },
      "cell_type": "code",
      "source": "df_17_ncd = df_17[df_17['Groups']== 'NCD Prevalence Rate' ]",
      "execution_count": null,
      "outputs": []
    },
    {
      "metadata": {
        "trusted": true
      },
      "cell_type": "code",
      "source": "print('for risk factor NCD Prevalence Rate, all data is aggregated by: ')\ndf_17_ncd['Disaggregation'].unique()",
      "execution_count": null,
      "outputs": []
    },
    {
      "metadata": {
        "trusted": true
      },
      "cell_type": "code",
      "source": "# elimnate Congo duplicates\ndf_17_ncd[df_17_ncd['Indicator']=='Asthma prevalence rate']['Country'].nunique()\ndp=df_17_ncd[df_17_ncd['Indicator']=='Asthma prevalence rate']\ndp[dp['Country']=='Congo']\ndf_17_ncd.drop([6367], inplace=True)\n\n\ndf_17_ncd[df_17_ncd['Indicator']=='Chronic obstructive pulmonary disease prevalence rate']['Country'].nunique()\ndp = df_17_ncd[df_17_ncd['Indicator']=='Chronic obstructive pulmonary disease prevalence rate']\ndp[dp['Country']=='Congo']\ndf_17_ncd.drop([6563], inplace=True)\n\ndf_17_ncd[df_17_ncd['Indicator']=='Chronic respiratory diseases prevalence rate']['Country'].nunique()\ndp = df_17_ncd[df_17_ncd['Indicator']=='Chronic respiratory diseases prevalence rate']\ndp[dp['Country']=='Congo']\ndf_17_ncd.drop([6758], inplace=True)\n\ndf_17_ncd[df_17_ncd['Indicator']=='Pneumoconiosis prevalence rate']['Country'].nunique()\ndp = df_17_ncd[df_17_ncd['Indicator']=='Pneumoconiosis prevalence rate']\ndp[dp['Country']=='Congo']\ndf_17_ncd.drop([7165], inplace=True)\n",
      "execution_count": null,
      "outputs": []
    },
    {
      "metadata": {
        "trusted": true
      },
      "cell_type": "code",
      "source": "l=[]\ndf_17_ncd.sort_values(by='Indicator', ascending=False,inplace=True)\nirange = df_17_ncd['Indicator'].unique()\nfor i in irange:\n\n    pivot = df_17_ncd[df_17_ncd['Indicator']==i].pivot(index='Country', columns='Indicator', values='Data')\n    #print(pivot)\n    avg =  pivot[i].mean()\n    print('Average of ',i,' is ', avg)\n    df_17_ncd_i = df_17_ncd[df_17_ncd['Indicator']==i]\n\n    for c,d in zip(df_17_ncd_i['Country'],df_17_ncd_i['Data']):\n        \n        if d>= avg:\n            label = '1' #above avg\n        else:\n            label='0'\n        l.append(label)\n        #print(i,d,avg,label)\n\ndf_17_ncd['Label']=l    \ndf_17_ncd['Label'] = df_17_ncd['Label'].astype('int64')",
      "execution_count": null,
      "outputs": []
    },
    {
      "metadata": {
        "trusted": true
      },
      "cell_type": "code",
      "source": "df_17_ncd.head()",
      "execution_count": null,
      "outputs": []
    },
    {
      "metadata": {
        "trusted": true
      },
      "cell_type": "code",
      "source": "result = df_17_ncd.pivot(index='Country', columns='Indicator', values='Label' )\nresult['Total'] = result.sum(axis=1)\nresult.sort_values(by='Total', ascending=False,inplace=True)\nresult.reset_index(inplace=True)\nresult.groupby(['Total'])['Country'].nunique()\n\n#groupby(['Groups','Indicator', 'Year'])['Country'].nunique()",
      "execution_count": null,
      "outputs": []
    },
    {
      "metadata": {},
      "cell_type": "markdown",
      "source": "## Max Min score (ex: asthma)"
    },
    {
      "metadata": {
        "trusted": true
      },
      "cell_type": "code",
      "source": "df_asthma17=df[(df['Indicator']=='Asthma prevalence rate') & (df['Year']==2017)]\ndf_asthma17.head()",
      "execution_count": null,
      "outputs": []
    },
    {
      "metadata": {
        "trusted": true
      },
      "cell_type": "code",
      "source": "df_asthma17['Disaggregation'].unique()",
      "execution_count": null,
      "outputs": []
    },
    {
      "metadata": {
        "trusted": true
      },
      "cell_type": "code",
      "source": "#df_2017=df[df['Year']>=2017]\n#df_2017.groupby(['Groups'])['Indicator'].nunique()",
      "execution_count": null,
      "outputs": []
    },
    {
      "metadata": {
        "trusted": true
      },
      "cell_type": "code",
      "source": "maxV = df_asthma17['Data'].max()\nminV = df_asthma17['Data'].min()\n\nscore=[]\nfor i in df_asthma17['Data']:\n    index = 10*(i-minV)/(maxV-minV)\n    score.append(index)\n\ndf_asthma17['Score']=score\ndf_asthma17",
      "execution_count": null,
      "outputs": []
    },
    {
      "metadata": {
        "trusted": true
      },
      "cell_type": "code",
      "source": "",
      "execution_count": null,
      "outputs": []
    },
    {
      "metadata": {
        "trusted": true
      },
      "cell_type": "code",
      "source": "import base64  \nfrom IPython.display import HTML\n\ndef create_download_link( df, title = \"Download CSV file\", filename = \"data.csv\"):  \n    csv = df.to_csv()\n    b64 = base64.b64encode(csv.encode())\n    payload = b64.decode()\n    html = '<a download=\"{filename}\" href=\"data:text/csv;base64,{payload}\" target=\"_blank\">{title}</a>'\n    html = html.format(payload=payload,title=title,filename=filename)\n    return HTML(html)\n\n\ncreate_download_link(df_asthma17)",
      "execution_count": null,
      "outputs": []
    },
    {
      "metadata": {
        "trusted": true
      },
      "cell_type": "code",
      "source": "df.pivot(index='Indicator', columns='Disaggregation', values='Data')",
      "execution_count": null,
      "outputs": []
    },
    {
      "metadata": {
        "trusted": true
      },
      "cell_type": "code",
      "source": "",
      "execution_count": null,
      "outputs": []
    },
    {
      "metadata": {
        "trusted": true
      },
      "cell_type": "code",
      "source": "import base64  \nfrom IPython.display import HTML\n\ndef create_download_link( df, title = \"Download CSV file\", filename = \"data.csv\"):  \n    csv = df.to_csv()\n    b64 = base64.b64encode(csv.encode())\n    payload = b64.decode()\n    html = '<a download=\"{filename}\" href=\"data:text/csv;base64,{payload}\" target=\"_blank\">{title}</a>'\n    html = html.format(payload=payload,title=title,filename=filename)\n    return HTML(html)\n\n\n#create_download_link(df_17_ncd)\ncreate_download_link(result)",
      "execution_count": null,
      "outputs": []
    }
  ],
  "metadata": {
    "kernelspec": {
      "name": "python3",
      "display_name": "Python 3",
      "language": "python"
    },
    "language_info": {
      "mimetype": "text/x-python",
      "nbconvert_exporter": "python",
      "name": "python",
      "file_extension": ".py",
      "version": "3.5.4",
      "pygments_lexer": "ipython3",
      "codemirror_mode": {
        "version": 3,
        "name": "ipython"
      }
    },
    "toc": {
      "nav_menu": {},
      "number_sections": true,
      "sideBar": true,
      "skip_h1_title": true,
      "base_numbering": 1,
      "title_cell": "Table of Contents",
      "title_sidebar": "Contents",
      "toc_cell": true,
      "toc_position": {},
      "toc_section_display": true,
      "toc_window_display": false
    }
  },
  "nbformat": 4,
  "nbformat_minor": 1
}