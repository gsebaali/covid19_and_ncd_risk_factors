{
 "cells": [
  {
   "cell_type": "markdown",
   "metadata": {
    "toc": true
   },
   "source": [
    "<h1>Table of Contents<span class=\"tocSkip\"></span></h1>\n",
    "<div class=\"toc\"><ul class=\"toc-item\"><li><span><a href=\"#Data-pre-processing\" data-toc-modified-id=\"Data-pre-processing-1\"><span class=\"toc-item-num\">1&nbsp;&nbsp;</span>Data pre-processing</a></span><ul class=\"toc-item\"><li><span><a href=\"#Import-data\" data-toc-modified-id=\"Import-data-1.1\"><span class=\"toc-item-num\">1.1&nbsp;&nbsp;</span>Import data</a></span></li><li><span><a href=\"#Group-indicators-into-risk-factors\" data-toc-modified-id=\"Group-indicators-into-risk-factors-1.2\"><span class=\"toc-item-num\">1.2&nbsp;&nbsp;</span>Group indicators into risk factors</a></span></li><li><span><a href=\"#Explore-Indicator-availability-over-the-years\" data-toc-modified-id=\"Explore-Indicator-availability-over-the-years-1.3\"><span class=\"toc-item-num\">1.3&nbsp;&nbsp;</span>Explore Indicator availability over the years</a></span></li><li><span><a href=\"#Explore-data-disagregation\" data-toc-modified-id=\"Explore-data-disagregation-1.4\"><span class=\"toc-item-num\">1.4&nbsp;&nbsp;</span>Explore data disagregation</a></span></li><li><span><a href=\"#Detect-outliers\" data-toc-modified-id=\"Detect-outliers-1.5\"><span class=\"toc-item-num\">1.5&nbsp;&nbsp;</span>Detect outliers</a></span></li><li><span><a href=\"#Compute-zscores\" data-toc-modified-id=\"Compute-zscores-1.6\"><span class=\"toc-item-num\">1.6&nbsp;&nbsp;</span>Compute zscores</a></span><ul class=\"toc-item\"><li><span><a href=\"#Metabolic-Risk-Factor\" data-toc-modified-id=\"Metabolic-Risk-Factor-1.6.1\"><span class=\"toc-item-num\">1.6.1&nbsp;&nbsp;</span>Metabolic Risk Factor</a></span></li><li><span><a href=\"#Behavorial-Risk-Factor\" data-toc-modified-id=\"Behavorial-Risk-Factor-1.6.2\"><span class=\"toc-item-num\">1.6.2&nbsp;&nbsp;</span>Behavorial Risk Factor</a></span></li><li><span><a href=\"#NCD-Risk-Factor\" data-toc-modified-id=\"NCD-Risk-Factor-1.6.3\"><span class=\"toc-item-num\">1.6.3&nbsp;&nbsp;</span>NCD Risk Factor</a></span></li></ul></li></ul></li><li><span><a href=\"#Results\" data-toc-modified-id=\"Results-2\"><span class=\"toc-item-num\">2&nbsp;&nbsp;</span>Results</a></span><ul class=\"toc-item\"><li><span><a href=\"#Export-to-csv\" data-toc-modified-id=\"Export-to-csv-2.1\"><span class=\"toc-item-num\">2.1&nbsp;&nbsp;</span>Export to csv</a></span></li><li><span><a href=\"#Visualization\" data-toc-modified-id=\"Visualization-2.2\"><span class=\"toc-item-num\">2.2&nbsp;&nbsp;</span>Visualization</a></span></li></ul></li></ul></div>"
   ]
  },
  {
   "cell_type": "markdown",
   "metadata": {},
   "source": [
    "## Data pre-processing"
   ]
  },
  {
   "cell_type": "code",
   "execution_count": 1,
   "metadata": {},
   "outputs": [],
   "source": [
    "#!pip install plotly==4.8.1\n",
    "#!pip install chart-studio==1.0.0"
   ]
  },
  {
   "cell_type": "markdown",
   "metadata": {},
   "source": [
    "### Import data"
   ]
  },
  {
   "cell_type": "code",
   "execution_count": 2,
   "metadata": {},
   "outputs": [
    {
     "data": {
      "text/html": [
       "<div>\n",
       "<style scoped>\n",
       "    .dataframe tbody tr th:only-of-type {\n",
       "        vertical-align: middle;\n",
       "    }\n",
       "\n",
       "    .dataframe tbody tr th {\n",
       "        vertical-align: top;\n",
       "    }\n",
       "\n",
       "    .dataframe thead th {\n",
       "        text-align: right;\n",
       "    }\n",
       "</style>\n",
       "<table border=\"1\" class=\"dataframe\">\n",
       "  <thead>\n",
       "    <tr style=\"text-align: right;\">\n",
       "      <th></th>\n",
       "      <th>Unnamed: 0</th>\n",
       "      <th>country</th>\n",
       "      <th>data</th>\n",
       "      <th>indicator</th>\n",
       "      <th>indicator_group</th>\n",
       "      <th>source</th>\n",
       "      <th>year</th>\n",
       "    </tr>\n",
       "  </thead>\n",
       "  <tbody>\n",
       "    <tr>\n",
       "      <th>0</th>\n",
       "      <td>1</td>\n",
       "      <td>São Tome and Principe</td>\n",
       "      <td>3172.942179</td>\n",
       "      <td>Dietary risks DALYs (Disability-Adjusted Life ...</td>\n",
       "      <td>Behavioral</td>\n",
       "      <td>41.0</td>\n",
       "      <td>2017</td>\n",
       "    </tr>\n",
       "    <tr>\n",
       "      <th>1</th>\n",
       "      <td>2</td>\n",
       "      <td>São Tome and Principe</td>\n",
       "      <td>264.877507</td>\n",
       "      <td>Low physical activity DALYs (Disability-Adjust...</td>\n",
       "      <td>Behavioral</td>\n",
       "      <td>41.0</td>\n",
       "      <td>2017</td>\n",
       "    </tr>\n",
       "    <tr>\n",
       "      <th>2</th>\n",
       "      <td>3</td>\n",
       "      <td>São Tome and Principe</td>\n",
       "      <td>6787.533688</td>\n",
       "      <td>Chronic respiratory diseases Prevalence Rate</td>\n",
       "      <td>NCD</td>\n",
       "      <td>41.0</td>\n",
       "      <td>2017</td>\n",
       "    </tr>\n",
       "    <tr>\n",
       "      <th>3</th>\n",
       "      <td>4</td>\n",
       "      <td>São Tome and Principe</td>\n",
       "      <td>6673.369512</td>\n",
       "      <td>Cardiovascular diseases Prevalence Rate</td>\n",
       "      <td>NCD</td>\n",
       "      <td>41.0</td>\n",
       "      <td>2017</td>\n",
       "    </tr>\n",
       "    <tr>\n",
       "      <th>4</th>\n",
       "      <td>5</td>\n",
       "      <td>São Tome and Principe</td>\n",
       "      <td>529.069554</td>\n",
       "      <td>Neoplasms Prevalence Rate</td>\n",
       "      <td>NCD</td>\n",
       "      <td>41.0</td>\n",
       "      <td>2017</td>\n",
       "    </tr>\n",
       "  </tbody>\n",
       "</table>\n",
       "</div>"
      ],
      "text/plain": [
       "   Unnamed: 0                country         data  \\\n",
       "0           1  São Tome and Principe  3172.942179   \n",
       "1           2  São Tome and Principe   264.877507   \n",
       "2           3  São Tome and Principe  6787.533688   \n",
       "3           4  São Tome and Principe  6673.369512   \n",
       "4           5  São Tome and Principe   529.069554   \n",
       "\n",
       "                                           indicator indicator_group  source  \\\n",
       "0  Dietary risks DALYs (Disability-Adjusted Life ...      Behavioral    41.0   \n",
       "1  Low physical activity DALYs (Disability-Adjust...      Behavioral    41.0   \n",
       "2       Chronic respiratory diseases Prevalence Rate             NCD    41.0   \n",
       "3            Cardiovascular diseases Prevalence Rate             NCD    41.0   \n",
       "4                          Neoplasms Prevalence Rate             NCD    41.0   \n",
       "\n",
       "   year  \n",
       "0  2017  \n",
       "1  2017  \n",
       "2  2017  \n",
       "3  2017  \n",
       "4  2017  "
      ]
     },
     "execution_count": 2,
     "metadata": {},
     "output_type": "execute_result"
    }
   ],
   "source": [
    "import pandas as pd\n",
    "#df = pd.read_excel('ncd_indicators_v2.xlsx')\n",
    "import types\n",
    "import pandas as pd\n",
    "from botocore.client import Config\n",
    "import ibm_boto3\n",
    "\n",
    "def __iter__(self): return 0\n",
    "\n",
    "# @hidden_cell\n",
    "# The following code accesses a file in your IBM Cloud Object Storage. It includes your credentials.\n",
    "# You might want to remove those credentials before you share the notebook.\n",
    "client_9ec483c0831342be812265e6eb2abb7e = ibm_boto3.client(service_name='s3',\n",
    "    ibm_api_key_id='ZZsA6bB5ZwKyJf0kALEATqM2XoTO6GdQRSz6k-7mIOBI',\n",
    "    ibm_auth_endpoint=\"https://iam.cloud.ibm.com/oidc/token\",\n",
    "    config=Config(signature_version='oauth'),\n",
    "    endpoint_url='https://s3-api.us-geo.objectstorage.service.networklayer.com')\n",
    "\n",
    "body = client_9ec483c0831342be812265e6eb2abb7e.get_object(Bucket='vulnerabilityindex-donotdelete-pr-aqv5sngmk3zknz',Key='input.csv')['Body']\n",
    "# add missing __iter__ method, so pandas accepts body as file-like object\n",
    "if not hasattr(body, \"__iter__\"): body.__iter__ = types.MethodType( __iter__, body )\n",
    "df  = pd.read_csv(body)\n",
    "\n",
    "df.head()"
   ]
  },
  {
   "cell_type": "code",
   "execution_count": 3,
   "metadata": {},
   "outputs": [
    {
     "name": "stdout",
     "output_type": "stream",
     "text": [
      "There are 2219 rows in the imported dataset.\n"
     ]
    }
   ],
   "source": [
    "print('There are {} rows in the imported dataset.'.format(df.shape[0]))"
   ]
  },
  {
   "cell_type": "code",
   "execution_count": 4,
   "metadata": {},
   "outputs": [
    {
     "name": "stdout",
     "output_type": "stream",
     "text": [
      "There are 12 unique indicators in the imported dataset in total.\n"
     ]
    }
   ],
   "source": [
    "print('There are {} unique indicators in the imported dataset in total.'.format(df['indicator'].nunique()))"
   ]
  },
  {
   "cell_type": "code",
   "execution_count": 5,
   "metadata": {},
   "outputs": [
    {
     "name": "stdout",
     "output_type": "stream",
     "text": [
      "Count of null values per column: \n"
     ]
    },
    {
     "data": {
      "text/plain": [
       "Unnamed: 0           0\n",
       "country              0\n",
       "data                 0\n",
       "indicator            0\n",
       "indicator_group      0\n",
       "source             189\n",
       "year                 0\n",
       "dtype: int64"
      ]
     },
     "execution_count": 5,
     "metadata": {},
     "output_type": "execute_result"
    }
   ],
   "source": [
    "print('Count of null values per column: ')\n",
    "df.isnull().sum()"
   ]
  },
  {
   "cell_type": "code",
   "execution_count": 6,
   "metadata": {},
   "outputs": [],
   "source": [
    "#dropi = df[df['country'] =='TERRITORY'].index\n",
    "#df.drop(dropi, inplace=True)\n",
    "\n",
    "#dropi = df[df['data']=='-'].index\n",
    "#df.drop(dropi, inplace=True)"
   ]
  },
  {
   "cell_type": "code",
   "execution_count": 7,
   "metadata": {},
   "outputs": [
    {
     "name": "stdout",
     "output_type": "stream",
     "text": [
      "Colums imported and their datatypes\n"
     ]
    },
    {
     "data": {
      "text/plain": [
       "Unnamed: 0           int64\n",
       "country             object\n",
       "data               float64\n",
       "indicator           object\n",
       "indicator_group     object\n",
       "source             float64\n",
       "year                 int64\n",
       "dtype: object"
      ]
     },
     "execution_count": 7,
     "metadata": {},
     "output_type": "execute_result"
    }
   ],
   "source": [
    "df['year'] = df['year'].astype('int64')\n",
    "df['data'] = df['data'].astype('float64')\n",
    "df['data'] = df['data'].round(2)\n",
    "print('Colums imported and their datatypes')\n",
    "df.dtypes"
   ]
  },
  {
   "cell_type": "code",
   "execution_count": 8,
   "metadata": {},
   "outputs": [
    {
     "data": {
      "text/html": [
       "<div>\n",
       "<style scoped>\n",
       "    .dataframe tbody tr th:only-of-type {\n",
       "        vertical-align: middle;\n",
       "    }\n",
       "\n",
       "    .dataframe tbody tr th {\n",
       "        vertical-align: top;\n",
       "    }\n",
       "\n",
       "    .dataframe thead th {\n",
       "        text-align: right;\n",
       "    }\n",
       "</style>\n",
       "<table border=\"1\" class=\"dataframe\">\n",
       "  <thead>\n",
       "    <tr style=\"text-align: right;\">\n",
       "      <th></th>\n",
       "      <th>Unnamed: 0</th>\n",
       "      <th>country</th>\n",
       "      <th>data</th>\n",
       "      <th>indicator</th>\n",
       "      <th>indicator_group</th>\n",
       "      <th>source</th>\n",
       "      <th>year</th>\n",
       "    </tr>\n",
       "  </thead>\n",
       "  <tbody>\n",
       "    <tr>\n",
       "      <th>0</th>\n",
       "      <td>1</td>\n",
       "      <td>São Tome and Principe</td>\n",
       "      <td>3172.94</td>\n",
       "      <td>Dietary risks DALYs (Disability-Adjusted Life ...</td>\n",
       "      <td>Behavioral</td>\n",
       "      <td>41.0</td>\n",
       "      <td>2017</td>\n",
       "    </tr>\n",
       "    <tr>\n",
       "      <th>1</th>\n",
       "      <td>2</td>\n",
       "      <td>São Tome and Principe</td>\n",
       "      <td>264.88</td>\n",
       "      <td>Low physical activity DALYs (Disability-Adjust...</td>\n",
       "      <td>Behavioral</td>\n",
       "      <td>41.0</td>\n",
       "      <td>2017</td>\n",
       "    </tr>\n",
       "    <tr>\n",
       "      <th>2</th>\n",
       "      <td>3</td>\n",
       "      <td>São Tome and Principe</td>\n",
       "      <td>6787.53</td>\n",
       "      <td>Chronic respiratory diseases Prevalence Rate</td>\n",
       "      <td>NCD</td>\n",
       "      <td>41.0</td>\n",
       "      <td>2017</td>\n",
       "    </tr>\n",
       "    <tr>\n",
       "      <th>3</th>\n",
       "      <td>4</td>\n",
       "      <td>São Tome and Principe</td>\n",
       "      <td>6673.37</td>\n",
       "      <td>Cardiovascular diseases Prevalence Rate</td>\n",
       "      <td>NCD</td>\n",
       "      <td>41.0</td>\n",
       "      <td>2017</td>\n",
       "    </tr>\n",
       "    <tr>\n",
       "      <th>4</th>\n",
       "      <td>5</td>\n",
       "      <td>São Tome and Principe</td>\n",
       "      <td>529.07</td>\n",
       "      <td>Neoplasms Prevalence Rate</td>\n",
       "      <td>NCD</td>\n",
       "      <td>41.0</td>\n",
       "      <td>2017</td>\n",
       "    </tr>\n",
       "  </tbody>\n",
       "</table>\n",
       "</div>"
      ],
      "text/plain": [
       "   Unnamed: 0                country     data  \\\n",
       "0           1  São Tome and Principe  3172.94   \n",
       "1           2  São Tome and Principe   264.88   \n",
       "2           3  São Tome and Principe  6787.53   \n",
       "3           4  São Tome and Principe  6673.37   \n",
       "4           5  São Tome and Principe   529.07   \n",
       "\n",
       "                                           indicator indicator_group  source  \\\n",
       "0  Dietary risks DALYs (Disability-Adjusted Life ...      Behavioral    41.0   \n",
       "1  Low physical activity DALYs (Disability-Adjust...      Behavioral    41.0   \n",
       "2       Chronic respiratory diseases Prevalence Rate             NCD    41.0   \n",
       "3            Cardiovascular diseases Prevalence Rate             NCD    41.0   \n",
       "4                          Neoplasms Prevalence Rate             NCD    41.0   \n",
       "\n",
       "   year  \n",
       "0  2017  \n",
       "1  2017  \n",
       "2  2017  \n",
       "3  2017  \n",
       "4  2017  "
      ]
     },
     "execution_count": 8,
     "metadata": {},
     "output_type": "execute_result"
    }
   ],
   "source": [
    "df.head()"
   ]
  },
  {
   "cell_type": "markdown",
   "metadata": {},
   "source": [
    "### Indicators vs risk factor grouping"
   ]
  },
  {
   "cell_type": "code",
   "execution_count": 9,
   "metadata": {},
   "outputs": [
    {
     "name": "stdout",
     "output_type": "stream",
     "text": [
      "Risk factors considered:  ['Behavioral' 'NCD' 'Metabolic']\n"
     ]
    }
   ],
   "source": [
    "print('Risk factors considered: ', df['indicator_group'].unique())"
   ]
  },
  {
   "cell_type": "markdown",
   "metadata": {},
   "source": [
    "### Explore Indicator availability over the years "
   ]
  },
  {
   "cell_type": "code",
   "execution_count": 10,
   "metadata": {},
   "outputs": [
    {
     "name": "stdout",
     "output_type": "stream",
     "text": [
      "The dataset has data in total 193 unique countries.\n"
     ]
    }
   ],
   "source": [
    "print('The dataset has data in total {} unique countries.'.format( df['country'].nunique() ))"
   ]
  },
  {
   "cell_type": "code",
   "execution_count": 11,
   "metadata": {},
   "outputs": [],
   "source": [
    "#df.groupby(['indicator_group','indicator','year'])['country'].nunique()"
   ]
  },
  {
   "cell_type": "code",
   "execution_count": 12,
   "metadata": {},
   "outputs": [
    {
     "name": "stdout",
     "output_type": "stream",
     "text": [
      "This is how the indicators data points per country are broken down: \n"
     ]
    },
    {
     "data": {
      "text/plain": [
       "<Figure size 1200x600 with 1 Axes>"
      ]
     },
     "metadata": {},
     "output_type": "display_data"
    }
   ],
   "source": [
    "print('This is how the indicators data points per country are broken down: ')\n",
    "#df.groupby(['indicator_group','indicator','year'])['country'].nunique()#.reset_index(name='count')\n",
    "\n",
    "x = df.groupby(['indicator_group','year'])['country'].nunique().reset_index(name='count')\n",
    "\n",
    "import matplotlib.pyplot as plt\n",
    "import numpy as np\n",
    "\n",
    "fig = plt.figure(figsize=(12,6))\n",
    "ax = fig.add_axes([0,0,1,1])\n",
    "\n",
    "\n",
    "# x positions of bars\n",
    "x1 = x[x['indicator_group']=='Behavioral']['year']\n",
    "x2 = x[x['indicator_group']=='NCD']['year']\n",
    "x3 = x[(x['indicator_group']=='Metabolic') & (x['year']>=2000)]['year']\n",
    "\n",
    "\n",
    "# y positions of bars\n",
    "\n",
    "y1 = x[x['indicator_group']=='Behavioral']['count']\n",
    "y2 = x[x['indicator_group']=='NCD']['count']\n",
    "y3 = x[(x['indicator_group']=='Metabolic') &  (x['year']>=2000)]['count']\n",
    "\n",
    "\n",
    "\n",
    "p1 = ax.bar(x1,y1,label='Behavioral',align='center',color = 'lightblue')\n",
    "p2 = ax.bar(x2,y2,label='NCD',align='center',color = 'darkred')\n",
    "p3 = ax.bar(x3,y3,label='Metabolic',align='center',color = 'pink')\n",
    "\n",
    "ax.set_ylabel('Nb of country data points')\n",
    "ax.set_xlabel('Year')\n",
    "ax.set_title('Countries Data Points Available per Risk Group and Year')\n",
    "plt.xticks(np.arange(2000, 2020, step=1))\n",
    "ax.legend()\n",
    "plt.show()"
   ]
  },
  {
   "cell_type": "markdown",
   "metadata": {},
   "source": [
    "### Explore data correlation"
   ]
  },
  {
   "cell_type": "code",
   "execution_count": 13,
   "metadata": {},
   "outputs": [
    {
     "data": {
      "text/plain": [
       "<matplotlib.axes._subplots.AxesSubplot at 0x7f476336a550>"
      ]
     },
     "execution_count": 13,
     "metadata": {},
     "output_type": "execute_result"
    },
    {
     "data": {
      "image/png": "[encoded data removed]",
      "text/plain": [
       "<Figure size 576x432 with 2 Axes>"
      ]
     },
     "metadata": {
      "needs_background": "light"
     },
     "output_type": "display_data"
    }
   ],
   "source": [
    "pivot_ind  = df.pivot(index='country', columns='indicator', values='data')\n",
    "\n",
    "\n",
    "import matplotlib.pyplot as pl\n",
    "import seaborn as sns\n",
    "import numpy as np\n",
    "\n",
    "corr = pivot_ind.corr()\n",
    "\n",
    "f, ax = pl.subplots(figsize=(8, 6))\n",
    "sns.heatmap(corr, mask=np.zeros_like(corr, dtype=np.bool), cmap=sns.diverging_palette(220, 10, as_cmap=True),\n",
    "            square=True, ax=ax)"
   ]
  },
  {
   "cell_type": "code",
   "execution_count": 14,
   "metadata": {},
   "outputs": [
    {
     "data": {
      "text/html": [
       "<style  type=\"text/css\" >\n",
       "    #T_ead240a8_aad6_11ea_9edf_bf023967ee66row0_col0 {\n",
       "            background-color:  #da3b46;\n",
       "            color:  #f1f1f1;\n",
       "        }    #T_ead240a8_aad6_11ea_9edf_bf023967ee66row0_col1 {\n",
       "            background-color:  #7ba8b6;\n",
       "            color:  #000000;\n",
       "        }    #T_ead240a8_aad6_11ea_9edf_bf023967ee66row0_col2 {\n",
       "            background-color:  #689bab;\n",
       "            color:  #000000;\n",
       "        }    #T_ead240a8_aad6_11ea_9edf_bf023967ee66row0_col3 {\n",
       "            background-color:  #468497;\n",
       "            color:  #000000;\n",
       "        }    #T_ead240a8_aad6_11ea_9edf_bf023967ee66row0_col4 {\n",
       "            background-color:  #3f7f93;\n",
       "            color:  #000000;\n",
       "        }    #T_ead240a8_aad6_11ea_9edf_bf023967ee66row0_col5 {\n",
       "            background-color:  #eea6ac;\n",
       "            color:  #000000;\n",
       "        }    #T_ead240a8_aad6_11ea_9edf_bf023967ee66row0_col6 {\n",
       "            background-color:  #c4d9e0;\n",
       "            color:  #000000;\n",
       "        }    #T_ead240a8_aad6_11ea_9edf_bf023967ee66row0_col7 {\n",
       "            background-color:  #fae3e4;\n",
       "            color:  #000000;\n",
       "        }    #T_ead240a8_aad6_11ea_9edf_bf023967ee66row0_col8 {\n",
       "            background-color:  #fae7e8;\n",
       "            color:  #000000;\n",
       "        }    #T_ead240a8_aad6_11ea_9edf_bf023967ee66row0_col9 {\n",
       "            background-color:  #94b9c4;\n",
       "            color:  #000000;\n",
       "        }    #T_ead240a8_aad6_11ea_9edf_bf023967ee66row0_col10 {\n",
       "            background-color:  #7eaab7;\n",
       "            color:  #000000;\n",
       "        }    #T_ead240a8_aad6_11ea_9edf_bf023967ee66row0_col11 {\n",
       "            background-color:  #96bac5;\n",
       "            color:  #000000;\n",
       "        }    #T_ead240a8_aad6_11ea_9edf_bf023967ee66row1_col0 {\n",
       "            background-color:  #9bbdc8;\n",
       "            color:  #000000;\n",
       "        }    #T_ead240a8_aad6_11ea_9edf_bf023967ee66row1_col1 {\n",
       "            background-color:  #da3b46;\n",
       "            color:  #f1f1f1;\n",
       "        }    #T_ead240a8_aad6_11ea_9edf_bf023967ee66row1_col2 {\n",
       "            background-color:  #bfd6dd;\n",
       "            color:  #000000;\n",
       "        }    #T_ead240a8_aad6_11ea_9edf_bf023967ee66row1_col3 {\n",
       "            background-color:  #fae3e4;\n",
       "            color:  #000000;\n",
       "        }    #T_ead240a8_aad6_11ea_9edf_bf023967ee66row1_col4 {\n",
       "            background-color:  #f2babe;\n",
       "            color:  #000000;\n",
       "        }    #T_ead240a8_aad6_11ea_9edf_bf023967ee66row1_col5 {\n",
       "            background-color:  #cee0e5;\n",
       "            color:  #000000;\n",
       "        }    #T_ead240a8_aad6_11ea_9edf_bf023967ee66row1_col6 {\n",
       "            background-color:  #f3bfc3;\n",
       "            color:  #000000;\n",
       "        }    #T_ead240a8_aad6_11ea_9edf_bf023967ee66row1_col7 {\n",
       "            background-color:  #f2bcc0;\n",
       "            color:  #000000;\n",
       "        }    #T_ead240a8_aad6_11ea_9edf_bf023967ee66row1_col8 {\n",
       "            background-color:  #d4e4e9;\n",
       "            color:  #000000;\n",
       "        }    #T_ead240a8_aad6_11ea_9edf_bf023967ee66row1_col9 {\n",
       "            background-color:  #f3c0c4;\n",
       "            color:  #000000;\n",
       "        }    #T_ead240a8_aad6_11ea_9edf_bf023967ee66row1_col10 {\n",
       "            background-color:  #92b7c3;\n",
       "            color:  #000000;\n",
       "        }    #T_ead240a8_aad6_11ea_9edf_bf023967ee66row1_col11 {\n",
       "            background-color:  #c6dae1;\n",
       "            color:  #000000;\n",
       "        }    #T_ead240a8_aad6_11ea_9edf_bf023967ee66row2_col0 {\n",
       "            background-color:  #aecbd3;\n",
       "            color:  #000000;\n",
       "        }    #T_ead240a8_aad6_11ea_9edf_bf023967ee66row2_col1 {\n",
       "            background-color:  #ddeaee;\n",
       "            color:  #000000;\n",
       "        }    #T_ead240a8_aad6_11ea_9edf_bf023967ee66row2_col2 {\n",
       "            background-color:  #da3b46;\n",
       "            color:  #f1f1f1;\n",
       "        }    #T_ead240a8_aad6_11ea_9edf_bf023967ee66row2_col3 {\n",
       "            background-color:  #f2f2f2;\n",
       "            color:  #000000;\n",
       "        }    #T_ead240a8_aad6_11ea_9edf_bf023967ee66row2_col4 {\n",
       "            background-color:  #f9e0e2;\n",
       "            color:  #000000;\n",
       "        }    #T_ead240a8_aad6_11ea_9edf_bf023967ee66row2_col5 {\n",
       "            background-color:  #f2f2f2;\n",
       "            color:  #000000;\n",
       "        }    #T_ead240a8_aad6_11ea_9edf_bf023967ee66row2_col6 {\n",
       "            background-color:  #f0adb2;\n",
       "            color:  #000000;\n",
       "        }    #T_ead240a8_aad6_11ea_9edf_bf023967ee66row2_col7 {\n",
       "            background-color:  #f1b3b8;\n",
       "            color:  #000000;\n",
       "        }    #T_ead240a8_aad6_11ea_9edf_bf023967ee66row2_col8 {\n",
       "            background-color:  #518c9e;\n",
       "            color:  #000000;\n",
       "        }    #T_ead240a8_aad6_11ea_9edf_bf023967ee66row2_col9 {\n",
       "            background-color:  #f3bdc1;\n",
       "            color:  #000000;\n",
       "        }    #T_ead240a8_aad6_11ea_9edf_bf023967ee66row2_col10 {\n",
       "            background-color:  #b9d1d9;\n",
       "            color:  #000000;\n",
       "        }    #T_ead240a8_aad6_11ea_9edf_bf023967ee66row2_col11 {\n",
       "            background-color:  #bfd6dd;\n",
       "            color:  #000000;\n",
       "        }    #T_ead240a8_aad6_11ea_9edf_bf023967ee66row3_col0 {\n",
       "            background-color:  #3f7f93;\n",
       "            color:  #000000;\n",
       "        }    #T_ead240a8_aad6_11ea_9edf_bf023967ee66row3_col1 {\n",
       "            background-color:  #edf5f7;\n",
       "            color:  #000000;\n",
       "        }    #T_ead240a8_aad6_11ea_9edf_bf023967ee66row3_col2 {\n",
       "            background-color:  #bad2da;\n",
       "            color:  #000000;\n",
       "        }    #T_ead240a8_aad6_11ea_9edf_bf023967ee66row3_col3 {\n",
       "            background-color:  #da3b46;\n",
       "            color:  #f1f1f1;\n",
       "        }    #T_ead240a8_aad6_11ea_9edf_bf023967ee66row3_col4 {\n",
       "            background-color:  #e15e68;\n",
       "            color:  #000000;\n",
       "        }    #T_ead240a8_aad6_11ea_9edf_bf023967ee66row3_col5 {\n",
       "            background-color:  #568fa0;\n",
       "            color:  #000000;\n",
       "        }    #T_ead240a8_aad6_11ea_9edf_bf023967ee66row3_col6 {\n",
       "            background-color:  #bdd4db;\n",
       "            color:  #000000;\n",
       "        }    #T_ead240a8_aad6_11ea_9edf_bf023967ee66row3_col7 {\n",
       "            background-color:  #b0cbd4;\n",
       "            color:  #000000;\n",
       "        }    #T_ead240a8_aad6_11ea_9edf_bf023967ee66row3_col8 {\n",
       "            background-color:  #74a3b1;\n",
       "            color:  #000000;\n",
       "        }    #T_ead240a8_aad6_11ea_9edf_bf023967ee66row3_col9 {\n",
       "            background-color:  #f2f2f2;\n",
       "            color:  #000000;\n",
       "        }    #T_ead240a8_aad6_11ea_9edf_bf023967ee66row3_col10 {\n",
       "            background-color:  #f7d6d8;\n",
       "            color:  #000000;\n",
       "        }    #T_ead240a8_aad6_11ea_9edf_bf023967ee66row3_col11 {\n",
       "            background-color:  #9dbfc9;\n",
       "            color:  #000000;\n",
       "        }    #T_ead240a8_aad6_11ea_9edf_bf023967ee66row4_col0 {\n",
       "            background-color:  #408094;\n",
       "            color:  #000000;\n",
       "        }    #T_ead240a8_aad6_11ea_9edf_bf023967ee66row4_col1 {\n",
       "            background-color:  #f5c9cc;\n",
       "            color:  #000000;\n",
       "        }    #T_ead240a8_aad6_11ea_9edf_bf023967ee66row4_col2 {\n",
       "            background-color:  #d9e8ec;\n",
       "            color:  #000000;\n",
       "        }    #T_ead240a8_aad6_11ea_9edf_bf023967ee66row4_col3 {\n",
       "            background-color:  #e15e68;\n",
       "            color:  #000000;\n",
       "        }    #T_ead240a8_aad6_11ea_9edf_bf023967ee66row4_col4 {\n",
       "            background-color:  #da3b46;\n",
       "            color:  #f1f1f1;\n",
       "        }    #T_ead240a8_aad6_11ea_9edf_bf023967ee66row4_col5 {\n",
       "            background-color:  #7ba8b6;\n",
       "            color:  #000000;\n",
       "        }    #T_ead240a8_aad6_11ea_9edf_bf023967ee66row4_col6 {\n",
       "            background-color:  #fbe8ea;\n",
       "            color:  #000000;\n",
       "        }    #T_ead240a8_aad6_11ea_9edf_bf023967ee66row4_col7 {\n",
       "            background-color:  #edf5f7;\n",
       "            color:  #000000;\n",
       "        }    #T_ead240a8_aad6_11ea_9edf_bf023967ee66row4_col8 {\n",
       "            background-color:  #74a3b1;\n",
       "            color:  #000000;\n",
       "        }    #T_ead240a8_aad6_11ea_9edf_bf023967ee66row4_col9 {\n",
       "            background-color:  #f3c0c4;\n",
       "            color:  #000000;\n",
       "        }    #T_ead240a8_aad6_11ea_9edf_bf023967ee66row4_col10 {\n",
       "            background-color:  #e2eef1;\n",
       "            color:  #000000;\n",
       "        }    #T_ead240a8_aad6_11ea_9edf_bf023967ee66row4_col11 {\n",
       "            background-color:  #9fc0ca;\n",
       "            color:  #000000;\n",
       "        }    #T_ead240a8_aad6_11ea_9edf_bf023967ee66row5_col0 {\n",
       "            background-color:  #f0b1b5;\n",
       "            color:  #000000;\n",
       "        }    #T_ead240a8_aad6_11ea_9edf_bf023967ee66row5_col1 {\n",
       "            background-color:  #9dbfc9;\n",
       "            color:  #000000;\n",
       "        }    #T_ead240a8_aad6_11ea_9edf_bf023967ee66row5_col2 {\n",
       "            background-color:  #a3c3cc;\n",
       "            color:  #000000;\n",
       "        }    #T_ead240a8_aad6_11ea_9edf_bf023967ee66row5_col3 {\n",
       "            background-color:  #3f7f93;\n",
       "            color:  #000000;\n",
       "        }    #T_ead240a8_aad6_11ea_9edf_bf023967ee66row5_col4 {\n",
       "            background-color:  #5d94a4;\n",
       "            color:  #000000;\n",
       "        }    #T_ead240a8_aad6_11ea_9edf_bf023967ee66row5_col5 {\n",
       "            background-color:  #da3b46;\n",
       "            color:  #f1f1f1;\n",
       "        }    #T_ead240a8_aad6_11ea_9edf_bf023967ee66row5_col6 {\n",
       "            background-color:  #f8dcde;\n",
       "            color:  #000000;\n",
       "        }    #T_ead240a8_aad6_11ea_9edf_bf023967ee66row5_col7 {\n",
       "            background-color:  #ed9da3;\n",
       "            color:  #000000;\n",
       "        }    #T_ead240a8_aad6_11ea_9edf_bf023967ee66row5_col8 {\n",
       "            background-color:  #c7dbe1;\n",
       "            color:  #000000;\n",
       "        }    #T_ead240a8_aad6_11ea_9edf_bf023967ee66row5_col9 {\n",
       "            background-color:  #c1d7de;\n",
       "            color:  #000000;\n",
       "        }    #T_ead240a8_aad6_11ea_9edf_bf023967ee66row5_col10 {\n",
       "            background-color:  #548e9f;\n",
       "            color:  #000000;\n",
       "        }    #T_ead240a8_aad6_11ea_9edf_bf023967ee66row5_col11 {\n",
       "            background-color:  #aecbd3;\n",
       "            color:  #000000;\n",
       "        }    #T_ead240a8_aad6_11ea_9edf_bf023967ee66row6_col0 {\n",
       "            background-color:  #bad2da;\n",
       "            color:  #000000;\n",
       "        }    #T_ead240a8_aad6_11ea_9edf_bf023967ee66row6_col1 {\n",
       "            background-color:  #f7d4d7;\n",
       "            color:  #000000;\n",
       "        }    #T_ead240a8_aad6_11ea_9edf_bf023967ee66row6_col2 {\n",
       "            background-color:  #f7d4d7;\n",
       "            color:  #000000;\n",
       "        }    #T_ead240a8_aad6_11ea_9edf_bf023967ee66row6_col3 {\n",
       "            background-color:  #b7d1d8;\n",
       "            color:  #000000;\n",
       "        }    #T_ead240a8_aad6_11ea_9edf_bf023967ee66row6_col4 {\n",
       "            background-color:  #f2f2f2;\n",
       "            color:  #000000;\n",
       "        }    #T_ead240a8_aad6_11ea_9edf_bf023967ee66row6_col5 {\n",
       "            background-color:  #f7d4d7;\n",
       "            color:  #000000;\n",
       "        }    #T_ead240a8_aad6_11ea_9edf_bf023967ee66row6_col6 {\n",
       "            background-color:  #da3b46;\n",
       "            color:  #f1f1f1;\n",
       "        }    #T_ead240a8_aad6_11ea_9edf_bf023967ee66row6_col7 {\n",
       "            background-color:  #dd4c57;\n",
       "            color:  #000000;\n",
       "        }    #T_ead240a8_aad6_11ea_9edf_bf023967ee66row6_col8 {\n",
       "            background-color:  #6599a9;\n",
       "            color:  #000000;\n",
       "        }    #T_ead240a8_aad6_11ea_9edf_bf023967ee66row6_col9 {\n",
       "            background-color:  #e36a73;\n",
       "            color:  #000000;\n",
       "        }    #T_ead240a8_aad6_11ea_9edf_bf023967ee66row6_col10 {\n",
       "            background-color:  #6397a7;\n",
       "            color:  #000000;\n",
       "        }    #T_ead240a8_aad6_11ea_9edf_bf023967ee66row6_col11 {\n",
       "            background-color:  #cfe1e6;\n",
       "            color:  #000000;\n",
       "        }    #T_ead240a8_aad6_11ea_9edf_bf023967ee66row7_col0 {\n",
       "            background-color:  #e9f2f5;\n",
       "            color:  #000000;\n",
       "        }    #T_ead240a8_aad6_11ea_9edf_bf023967ee66row7_col1 {\n",
       "            background-color:  #f9e1e3;\n",
       "            color:  #000000;\n",
       "        }    #T_ead240a8_aad6_11ea_9edf_bf023967ee66row7_col2 {\n",
       "            background-color:  #f2f2f2;\n",
       "            color:  #000000;\n",
       "        }    #T_ead240a8_aad6_11ea_9edf_bf023967ee66row7_col3 {\n",
       "            background-color:  #8eb4c0;\n",
       "            color:  #000000;\n",
       "        }    #T_ead240a8_aad6_11ea_9edf_bf023967ee66row7_col4 {\n",
       "            background-color:  #cee0e5;\n",
       "            color:  #000000;\n",
       "        }    #T_ead240a8_aad6_11ea_9edf_bf023967ee66row7_col5 {\n",
       "            background-color:  #eea5aa;\n",
       "            color:  #000000;\n",
       "        }    #T_ead240a8_aad6_11ea_9edf_bf023967ee66row7_col6 {\n",
       "            background-color:  #de4e59;\n",
       "            color:  #000000;\n",
       "        }    #T_ead240a8_aad6_11ea_9edf_bf023967ee66row7_col7 {\n",
       "            background-color:  #da3b46;\n",
       "            color:  #f1f1f1;\n",
       "        }    #T_ead240a8_aad6_11ea_9edf_bf023967ee66row7_col8 {\n",
       "            background-color:  #9bbdc8;\n",
       "            color:  #000000;\n",
       "        }    #T_ead240a8_aad6_11ea_9edf_bf023967ee66row7_col9 {\n",
       "            background-color:  #ea8f96;\n",
       "            color:  #000000;\n",
       "        }    #T_ead240a8_aad6_11ea_9edf_bf023967ee66row7_col10 {\n",
       "            background-color:  #3f7f93;\n",
       "            color:  #000000;\n",
       "        }    #T_ead240a8_aad6_11ea_9edf_bf023967ee66row7_col11 {\n",
       "            background-color:  #e1edf0;\n",
       "            color:  #000000;\n",
       "        }    #T_ead240a8_aad6_11ea_9edf_bf023967ee66row8_col0 {\n",
       "            background-color:  #f5c9cc;\n",
       "            color:  #000000;\n",
       "        }    #T_ead240a8_aad6_11ea_9edf_bf023967ee66row8_col1 {\n",
       "            background-color:  #e5eff3;\n",
       "            color:  #000000;\n",
       "        }    #T_ead240a8_aad6_11ea_9edf_bf023967ee66row8_col2 {\n",
       "            background-color:  #3f7f93;\n",
       "            color:  #000000;\n",
       "        }    #T_ead240a8_aad6_11ea_9edf_bf023967ee66row8_col3 {\n",
       "            background-color:  #aecbd3;\n",
       "            color:  #000000;\n",
       "        }    #T_ead240a8_aad6_11ea_9edf_bf023967ee66row8_col4 {\n",
       "            background-color:  #a9c7d0;\n",
       "            color:  #000000;\n",
       "        }    #T_ead240a8_aad6_11ea_9edf_bf023967ee66row8_col5 {\n",
       "            background-color:  #fbe8ea;\n",
       "            color:  #000000;\n",
       "        }    #T_ead240a8_aad6_11ea_9edf_bf023967ee66row8_col6 {\n",
       "            background-color:  #aac8d1;\n",
       "            color:  #000000;\n",
       "        }    #T_ead240a8_aad6_11ea_9edf_bf023967ee66row8_col7 {\n",
       "            background-color:  #e9f2f5;\n",
       "            color:  #000000;\n",
       "        }    #T_ead240a8_aad6_11ea_9edf_bf023967ee66row8_col8 {\n",
       "            background-color:  #da3b46;\n",
       "            color:  #f1f1f1;\n",
       "        }    #T_ead240a8_aad6_11ea_9edf_bf023967ee66row8_col9 {\n",
       "            background-color:  #adcad2;\n",
       "            color:  #000000;\n",
       "        }    #T_ead240a8_aad6_11ea_9edf_bf023967ee66row8_col10 {\n",
       "            background-color:  #a8c6cf;\n",
       "            color:  #000000;\n",
       "        }    #T_ead240a8_aad6_11ea_9edf_bf023967ee66row8_col11 {\n",
       "            background-color:  #d9e8ec;\n",
       "            color:  #000000;\n",
       "        }    #T_ead240a8_aad6_11ea_9edf_bf023967ee66row9_col0 {\n",
       "            background-color:  #93b8c3;\n",
       "            color:  #000000;\n",
       "        }    #T_ead240a8_aad6_11ea_9edf_bf023967ee66row9_col1 {\n",
       "            background-color:  #f6d2d4;\n",
       "            color:  #000000;\n",
       "        }    #T_ead240a8_aad6_11ea_9edf_bf023967ee66row9_col2 {\n",
       "            background-color:  #fae3e4;\n",
       "            color:  #000000;\n",
       "        }    #T_ead240a8_aad6_11ea_9edf_bf023967ee66row9_col3 {\n",
       "            background-color:  #f2f2f2;\n",
       "            color:  #000000;\n",
       "        }    #T_ead240a8_aad6_11ea_9edf_bf023967ee66row9_col4 {\n",
       "            background-color:  #f3c2c5;\n",
       "            color:  #000000;\n",
       "        }    #T_ead240a8_aad6_11ea_9edf_bf023967ee66row9_col5 {\n",
       "            background-color:  #d4e4e9;\n",
       "            color:  #000000;\n",
       "        }    #T_ead240a8_aad6_11ea_9edf_bf023967ee66row9_col6 {\n",
       "            background-color:  #e26770;\n",
       "            color:  #000000;\n",
       "        }    #T_ead240a8_aad6_11ea_9edf_bf023967ee66row9_col7 {\n",
       "            background-color:  #e8848b;\n",
       "            color:  #000000;\n",
       "        }    #T_ead240a8_aad6_11ea_9edf_bf023967ee66row9_col8 {\n",
       "            background-color:  #76a5b3;\n",
       "            color:  #000000;\n",
       "        }    #T_ead240a8_aad6_11ea_9edf_bf023967ee66row9_col9 {\n",
       "            background-color:  #da3b46;\n",
       "            color:  #f1f1f1;\n",
       "        }    #T_ead240a8_aad6_11ea_9edf_bf023967ee66row9_col10 {\n",
       "            background-color:  #70a0af;\n",
       "            color:  #000000;\n",
       "        }    #T_ead240a8_aad6_11ea_9edf_bf023967ee66row9_col11 {\n",
       "            background-color:  #d7e6ea;\n",
       "            color:  #000000;\n",
       "        }    #T_ead240a8_aad6_11ea_9edf_bf023967ee66row10_col0 {\n",
       "            background-color:  #4d899b;\n",
       "            color:  #000000;\n",
       "        }    #T_ead240a8_aad6_11ea_9edf_bf023967ee66row10_col1 {\n",
       "            background-color:  #3f7f93;\n",
       "            color:  #000000;\n",
       "        }    #T_ead240a8_aad6_11ea_9edf_bf023967ee66row10_col2 {\n",
       "            background-color:  #428195;\n",
       "            color:  #000000;\n",
       "        }    #T_ead240a8_aad6_11ea_9edf_bf023967ee66row10_col3 {\n",
       "            background-color:  #f2f2f2;\n",
       "            color:  #000000;\n",
       "        }    #T_ead240a8_aad6_11ea_9edf_bf023967ee66row10_col4 {\n",
       "            background-color:  #bfd6dd;\n",
       "            color:  #000000;\n",
       "        }    #T_ead240a8_aad6_11ea_9edf_bf023967ee66row10_col5 {\n",
       "            background-color:  #3f7f93;\n",
       "            color:  #000000;\n",
       "        }    #T_ead240a8_aad6_11ea_9edf_bf023967ee66row10_col6 {\n",
       "            background-color:  #3f7f93;\n",
       "            color:  #000000;\n",
       "        }    #T_ead240a8_aad6_11ea_9edf_bf023967ee66row10_col7 {\n",
       "            background-color:  #3f7f93;\n",
       "            color:  #000000;\n",
       "        }    #T_ead240a8_aad6_11ea_9edf_bf023967ee66row10_col8 {\n",
       "            background-color:  #3f7f93;\n",
       "            color:  #000000;\n",
       "        }    #T_ead240a8_aad6_11ea_9edf_bf023967ee66row10_col9 {\n",
       "            background-color:  #3f7f93;\n",
       "            color:  #000000;\n",
       "        }    #T_ead240a8_aad6_11ea_9edf_bf023967ee66row10_col10 {\n",
       "            background-color:  #da3b46;\n",
       "            color:  #f1f1f1;\n",
       "        }    #T_ead240a8_aad6_11ea_9edf_bf023967ee66row10_col11 {\n",
       "            background-color:  #3f7f93;\n",
       "            color:  #000000;\n",
       "        }    #T_ead240a8_aad6_11ea_9edf_bf023967ee66row11_col0 {\n",
       "            background-color:  #c8dce2;\n",
       "            color:  #000000;\n",
       "        }    #T_ead240a8_aad6_11ea_9edf_bf023967ee66row11_col1 {\n",
       "            background-color:  #d9e8ec;\n",
       "            color:  #000000;\n",
       "        }    #T_ead240a8_aad6_11ea_9edf_bf023967ee66row11_col2 {\n",
       "            background-color:  #b4cfd7;\n",
       "            color:  #000000;\n",
       "        }    #T_ead240a8_aad6_11ea_9edf_bf023967ee66row11_col3 {\n",
       "            background-color:  #d4e4e9;\n",
       "            color:  #000000;\n",
       "        }    #T_ead240a8_aad6_11ea_9edf_bf023967ee66row11_col4 {\n",
       "            background-color:  #cee0e5;\n",
       "            color:  #000000;\n",
       "        }    #T_ead240a8_aad6_11ea_9edf_bf023967ee66row11_col5 {\n",
       "            background-color:  #edf5f7;\n",
       "            color:  #000000;\n",
       "        }    #T_ead240a8_aad6_11ea_9edf_bf023967ee66row11_col6 {\n",
       "            background-color:  #fbe8ea;\n",
       "            color:  #000000;\n",
       "        }    #T_ead240a8_aad6_11ea_9edf_bf023967ee66row11_col7 {\n",
       "            background-color:  #f5cacd;\n",
       "            color:  #000000;\n",
       "        }    #T_ead240a8_aad6_11ea_9edf_bf023967ee66row11_col8 {\n",
       "            background-color:  #dbe8ed;\n",
       "            color:  #000000;\n",
       "        }    #T_ead240a8_aad6_11ea_9edf_bf023967ee66row11_col9 {\n",
       "            background-color:  #fbe8ea;\n",
       "            color:  #000000;\n",
       "        }    #T_ead240a8_aad6_11ea_9edf_bf023967ee66row11_col10 {\n",
       "            background-color:  #aac8d1;\n",
       "            color:  #000000;\n",
       "        }    #T_ead240a8_aad6_11ea_9edf_bf023967ee66row11_col11 {\n",
       "            background-color:  #da3b46;\n",
       "            color:  #f1f1f1;\n",
       "        }</style><table id=\"T_ead240a8_aad6_11ea_9edf_bf023967ee66\" ><thead>    <tr>        <th class=\"index_name level0\" >indicator</th>        <th class=\"col_heading level0 col0\" >Alcohol, total per capita (15+) consumption (in litres of pure alcohol)</th>        <th class=\"col_heading level0 col1\" >Cardiovascular diseases Prevalence Rate</th>        <th class=\"col_heading level0 col2\" >Chronic respiratory diseases Prevalence Rate</th>        <th class=\"col_heading level0 col3\" >Dietary risks DALYs (Disability-Adjusted Life Years) Rate</th>        <th class=\"col_heading level0 col4\" >Low physical activity DALYs (Disability-Adjusted Life Years) Rate</th>        <th class=\"col_heading level0 col5\" >Neoplasms Prevalence Rate</th>        <th class=\"col_heading level0 col6\" >Prevalence of obesity among adults, BMI &GreaterEqual; 30 (age-standardized estimate) (%)</th>        <th class=\"col_heading level0 col7\" >Prevalence of overweight among adults, BMI &GreaterEqual; 25 (crude estimate) (%)</th>        <th class=\"col_heading level0 col8\" >Raised blood pressure (SBP>=140 OR DBP>=90) (crude estimate), 18+  years</th>        <th class=\"col_heading level0 col9\" >Raised fasting blood glucose (>= 7.0 mmol/L or on medication) (crude estimate), 18+  years</th>        <th class=\"col_heading level0 col10\" >Stunting - height-for-age (<-2SD)</th>        <th class=\"col_heading level0 col11\" >daily tobacco smoking, age-standardized</th>    </tr>    <tr>        <th class=\"index_name level0\" >indicator</th>        <th class=\"blank\" ></th>        <th class=\"blank\" ></th>        <th class=\"blank\" ></th>        <th class=\"blank\" ></th>        <th class=\"blank\" ></th>        <th class=\"blank\" ></th>        <th class=\"blank\" ></th>        <th class=\"blank\" ></th>        <th class=\"blank\" ></th>        <th class=\"blank\" ></th>        <th class=\"blank\" ></th>        <th class=\"blank\" ></th>    </tr></thead><tbody>\n",
       "                <tr>\n",
       "                        <th id=\"T_ead240a8_aad6_11ea_9edf_bf023967ee66level0_row0\" class=\"row_heading level0 row0\" >Alcohol, total per capita (15+) consumption (in litres of pure alcohol)</th>\n",
       "                        <td id=\"T_ead240a8_aad6_11ea_9edf_bf023967ee66row0_col0\" class=\"data row0 col0\" >1</td>\n",
       "                        <td id=\"T_ead240a8_aad6_11ea_9edf_bf023967ee66row0_col1\" class=\"data row0 col1\" >-0.049</td>\n",
       "                        <td id=\"T_ead240a8_aad6_11ea_9edf_bf023967ee66row0_col2\" class=\"data row0 col2\" >0.03</td>\n",
       "                        <td id=\"T_ead240a8_aad6_11ea_9edf_bf023967ee66row0_col3\" class=\"data row0 col3\" >-0.4</td>\n",
       "                        <td id=\"T_ead240a8_aad6_11ea_9edf_bf023967ee66row0_col4\" class=\"data row0 col4\" >-0.39</td>\n",
       "                        <td id=\"T_ead240a8_aad6_11ea_9edf_bf023967ee66row0_col5\" class=\"data row0 col5\" >0.55</td>\n",
       "                        <td id=\"T_ead240a8_aad6_11ea_9edf_bf023967ee66row0_col6\" class=\"data row0 col6\" >0.071</td>\n",
       "                        <td id=\"T_ead240a8_aad6_11ea_9edf_bf023967ee66row0_col7\" class=\"data row0 col7\" >0.25</td>\n",
       "                        <td id=\"T_ead240a8_aad6_11ea_9edf_bf023967ee66row0_col8\" class=\"data row0 col8\" >0.45</td>\n",
       "                        <td id=\"T_ead240a8_aad6_11ea_9edf_bf023967ee66row0_col9\" class=\"data row0 col9\" >-0.075</td>\n",
       "                        <td id=\"T_ead240a8_aad6_11ea_9edf_bf023967ee66row0_col10\" class=\"data row0 col10\" >-0.35</td>\n",
       "                        <td id=\"T_ead240a8_aad6_11ea_9edf_bf023967ee66row0_col11\" class=\"data row0 col11\" >0.13</td>\n",
       "            </tr>\n",
       "            <tr>\n",
       "                        <th id=\"T_ead240a8_aad6_11ea_9edf_bf023967ee66level0_row1\" class=\"row_heading level0 row1\" >Cardiovascular diseases Prevalence Rate</th>\n",
       "                        <td id=\"T_ead240a8_aad6_11ea_9edf_bf023967ee66row1_col0\" class=\"data row1 col0\" >-0.049</td>\n",
       "                        <td id=\"T_ead240a8_aad6_11ea_9edf_bf023967ee66row1_col1\" class=\"data row1 col1\" >1</td>\n",
       "                        <td id=\"T_ead240a8_aad6_11ea_9edf_bf023967ee66row1_col2\" class=\"data row1 col2\" >0.29</td>\n",
       "                        <td id=\"T_ead240a8_aad6_11ea_9edf_bf023967ee66row1_col3\" class=\"data row1 col3\" >0.34</td>\n",
       "                        <td id=\"T_ead240a8_aad6_11ea_9edf_bf023967ee66row1_col4\" class=\"data row1 col4\" >0.51</td>\n",
       "                        <td id=\"T_ead240a8_aad6_11ea_9edf_bf023967ee66row1_col5\" class=\"data row1 col5\" >0.069</td>\n",
       "                        <td id=\"T_ead240a8_aad6_11ea_9edf_bf023967ee66row1_col6\" class=\"data row1 col6\" >0.47</td>\n",
       "                        <td id=\"T_ead240a8_aad6_11ea_9edf_bf023967ee66row1_col7\" class=\"data row1 col7\" >0.43</td>\n",
       "                        <td id=\"T_ead240a8_aad6_11ea_9edf_bf023967ee66row1_col8\" class=\"data row1 col8\" >0.32</td>\n",
       "                        <td id=\"T_ead240a8_aad6_11ea_9edf_bf023967ee66row1_col9\" class=\"data row1 col9\" >0.48</td>\n",
       "                        <td id=\"T_ead240a8_aad6_11ea_9edf_bf023967ee66row1_col10\" class=\"data row1 col10\" >-0.25</td>\n",
       "                        <td id=\"T_ead240a8_aad6_11ea_9edf_bf023967ee66row1_col11\" class=\"data row1 col11\" >0.27</td>\n",
       "            </tr>\n",
       "            <tr>\n",
       "                        <th id=\"T_ead240a8_aad6_11ea_9edf_bf023967ee66level0_row2\" class=\"row_heading level0 row2\" >Chronic respiratory diseases Prevalence Rate</th>\n",
       "                        <td id=\"T_ead240a8_aad6_11ea_9edf_bf023967ee66row2_col0\" class=\"data row2 col0\" >0.03</td>\n",
       "                        <td id=\"T_ead240a8_aad6_11ea_9edf_bf023967ee66row2_col1\" class=\"data row2 col1\" >0.29</td>\n",
       "                        <td id=\"T_ead240a8_aad6_11ea_9edf_bf023967ee66row2_col2\" class=\"data row2 col2\" >1</td>\n",
       "                        <td id=\"T_ead240a8_aad6_11ea_9edf_bf023967ee66row2_col3\" class=\"data row2 col3\" >0.28</td>\n",
       "                        <td id=\"T_ead240a8_aad6_11ea_9edf_bf023967ee66row2_col4\" class=\"data row2 col4\" >0.37</td>\n",
       "                        <td id=\"T_ead240a8_aad6_11ea_9edf_bf023967ee66row2_col5\" class=\"data row2 col5\" >0.21</td>\n",
       "                        <td id=\"T_ead240a8_aad6_11ea_9edf_bf023967ee66row2_col6\" class=\"data row2 col6\" >0.54</td>\n",
       "                        <td id=\"T_ead240a8_aad6_11ea_9edf_bf023967ee66row2_col7\" class=\"data row2 col7\" >0.47</td>\n",
       "                        <td id=\"T_ead240a8_aad6_11ea_9edf_bf023967ee66row2_col8\" class=\"data row2 col8\" >-0.095</td>\n",
       "                        <td id=\"T_ead240a8_aad6_11ea_9edf_bf023967ee66row2_col9\" class=\"data row2 col9\" >0.5</td>\n",
       "                        <td id=\"T_ead240a8_aad6_11ea_9edf_bf023967ee66row2_col10\" class=\"data row2 col10\" >-0.082</td>\n",
       "                        <td id=\"T_ead240a8_aad6_11ea_9edf_bf023967ee66row2_col11\" class=\"data row2 col11\" >0.26</td>\n",
       "            </tr>\n",
       "            <tr>\n",
       "                        <th id=\"T_ead240a8_aad6_11ea_9edf_bf023967ee66level0_row3\" class=\"row_heading level0 row3\" >Dietary risks DALYs (Disability-Adjusted Life Years) Rate</th>\n",
       "                        <td id=\"T_ead240a8_aad6_11ea_9edf_bf023967ee66row3_col0\" class=\"data row3 col0\" >-0.4</td>\n",
       "                        <td id=\"T_ead240a8_aad6_11ea_9edf_bf023967ee66row3_col1\" class=\"data row3 col1\" >0.34</td>\n",
       "                        <td id=\"T_ead240a8_aad6_11ea_9edf_bf023967ee66row3_col2\" class=\"data row3 col2\" >0.28</td>\n",
       "                        <td id=\"T_ead240a8_aad6_11ea_9edf_bf023967ee66row3_col3\" class=\"data row3 col3\" >1</td>\n",
       "                        <td id=\"T_ead240a8_aad6_11ea_9edf_bf023967ee66row3_col4\" class=\"data row3 col4\" >0.86</td>\n",
       "                        <td id=\"T_ead240a8_aad6_11ea_9edf_bf023967ee66row3_col5\" class=\"data row3 col5\" >-0.43</td>\n",
       "                        <td id=\"T_ead240a8_aad6_11ea_9edf_bf023967ee66row3_col6\" class=\"data row3 col6\" >0.04</td>\n",
       "                        <td id=\"T_ead240a8_aad6_11ea_9edf_bf023967ee66row3_col7\" class=\"data row3 col7\" >-0.12</td>\n",
       "                        <td id=\"T_ead240a8_aad6_11ea_9edf_bf023967ee66row3_col8\" class=\"data row3 col8\" >0.01</td>\n",
       "                        <td id=\"T_ead240a8_aad6_11ea_9edf_bf023967ee66row3_col9\" class=\"data row3 col9\" >0.31</td>\n",
       "                        <td id=\"T_ead240a8_aad6_11ea_9edf_bf023967ee66row3_col10\" class=\"data row3 col10\" >0.31</td>\n",
       "                        <td id=\"T_ead240a8_aad6_11ea_9edf_bf023967ee66row3_col11\" class=\"data row3 col11\" >0.15</td>\n",
       "            </tr>\n",
       "            <tr>\n",
       "                        <th id=\"T_ead240a8_aad6_11ea_9edf_bf023967ee66level0_row4\" class=\"row_heading level0 row4\" >Low physical activity DALYs (Disability-Adjusted Life Years) Rate</th>\n",
       "                        <td id=\"T_ead240a8_aad6_11ea_9edf_bf023967ee66row4_col0\" class=\"data row4 col0\" >-0.39</td>\n",
       "                        <td id=\"T_ead240a8_aad6_11ea_9edf_bf023967ee66row4_col1\" class=\"data row4 col1\" >0.51</td>\n",
       "                        <td id=\"T_ead240a8_aad6_11ea_9edf_bf023967ee66row4_col2\" class=\"data row4 col2\" >0.37</td>\n",
       "                        <td id=\"T_ead240a8_aad6_11ea_9edf_bf023967ee66row4_col3\" class=\"data row4 col3\" >0.86</td>\n",
       "                        <td id=\"T_ead240a8_aad6_11ea_9edf_bf023967ee66row4_col4\" class=\"data row4 col4\" >1</td>\n",
       "                        <td id=\"T_ead240a8_aad6_11ea_9edf_bf023967ee66row4_col5\" class=\"data row4 col5\" >-0.28</td>\n",
       "                        <td id=\"T_ead240a8_aad6_11ea_9edf_bf023967ee66row4_col6\" class=\"data row4 col6\" >0.3</td>\n",
       "                        <td id=\"T_ead240a8_aad6_11ea_9edf_bf023967ee66row4_col7\" class=\"data row4 col7\" >0.15</td>\n",
       "                        <td id=\"T_ead240a8_aad6_11ea_9edf_bf023967ee66row4_col8\" class=\"data row4 col8\" >0.013</td>\n",
       "                        <td id=\"T_ead240a8_aad6_11ea_9edf_bf023967ee66row4_col9\" class=\"data row4 col9\" >0.48</td>\n",
       "                        <td id=\"T_ead240a8_aad6_11ea_9edf_bf023967ee66row4_col10\" class=\"data row4 col10\" >0.1</td>\n",
       "                        <td id=\"T_ead240a8_aad6_11ea_9edf_bf023967ee66row4_col11\" class=\"data row4 col11\" >0.15</td>\n",
       "            </tr>\n",
       "            <tr>\n",
       "                        <th id=\"T_ead240a8_aad6_11ea_9edf_bf023967ee66level0_row5\" class=\"row_heading level0 row5\" >Neoplasms Prevalence Rate</th>\n",
       "                        <td id=\"T_ead240a8_aad6_11ea_9edf_bf023967ee66row5_col0\" class=\"data row5 col0\" >0.55</td>\n",
       "                        <td id=\"T_ead240a8_aad6_11ea_9edf_bf023967ee66row5_col1\" class=\"data row5 col1\" >0.069</td>\n",
       "                        <td id=\"T_ead240a8_aad6_11ea_9edf_bf023967ee66row5_col2\" class=\"data row5 col2\" >0.21</td>\n",
       "                        <td id=\"T_ead240a8_aad6_11ea_9edf_bf023967ee66row5_col3\" class=\"data row5 col3\" >-0.43</td>\n",
       "                        <td id=\"T_ead240a8_aad6_11ea_9edf_bf023967ee66row5_col4\" class=\"data row5 col4\" >-0.28</td>\n",
       "                        <td id=\"T_ead240a8_aad6_11ea_9edf_bf023967ee66row5_col5\" class=\"data row5 col5\" >1</td>\n",
       "                        <td id=\"T_ead240a8_aad6_11ea_9edf_bf023967ee66row5_col6\" class=\"data row5 col6\" >0.36</td>\n",
       "                        <td id=\"T_ead240a8_aad6_11ea_9edf_bf023967ee66row5_col7\" class=\"data row5 col7\" >0.56</td>\n",
       "                        <td id=\"T_ead240a8_aad6_11ea_9edf_bf023967ee66row5_col8\" class=\"data row5 col8\" >0.28</td>\n",
       "                        <td id=\"T_ead240a8_aad6_11ea_9edf_bf023967ee66row5_col9\" class=\"data row5 col9\" >0.097</td>\n",
       "                        <td id=\"T_ead240a8_aad6_11ea_9edf_bf023967ee66row5_col10\" class=\"data row5 col10\" >-0.53</td>\n",
       "                        <td id=\"T_ead240a8_aad6_11ea_9edf_bf023967ee66row5_col11\" class=\"data row5 col11\" >0.2</td>\n",
       "            </tr>\n",
       "            <tr>\n",
       "                        <th id=\"T_ead240a8_aad6_11ea_9edf_bf023967ee66level0_row6\" class=\"row_heading level0 row6\" >Prevalence of obesity among adults, BMI &GreaterEqual; 30 (age-standardized estimate) (%)</th>\n",
       "                        <td id=\"T_ead240a8_aad6_11ea_9edf_bf023967ee66row6_col0\" class=\"data row6 col0\" >0.071</td>\n",
       "                        <td id=\"T_ead240a8_aad6_11ea_9edf_bf023967ee66row6_col1\" class=\"data row6 col1\" >0.47</td>\n",
       "                        <td id=\"T_ead240a8_aad6_11ea_9edf_bf023967ee66row6_col2\" class=\"data row6 col2\" >0.54</td>\n",
       "                        <td id=\"T_ead240a8_aad6_11ea_9edf_bf023967ee66row6_col3\" class=\"data row6 col3\" >0.04</td>\n",
       "                        <td id=\"T_ead240a8_aad6_11ea_9edf_bf023967ee66row6_col4\" class=\"data row6 col4\" >0.3</td>\n",
       "                        <td id=\"T_ead240a8_aad6_11ea_9edf_bf023967ee66row6_col5\" class=\"data row6 col5\" >0.36</td>\n",
       "                        <td id=\"T_ead240a8_aad6_11ea_9edf_bf023967ee66row6_col6\" class=\"data row6 col6\" >1</td>\n",
       "                        <td id=\"T_ead240a8_aad6_11ea_9edf_bf023967ee66row6_col7\" class=\"data row6 col7\" >0.92</td>\n",
       "                        <td id=\"T_ead240a8_aad6_11ea_9edf_bf023967ee66row6_col8\" class=\"data row6 col8\" >-0.031</td>\n",
       "                        <td id=\"T_ead240a8_aad6_11ea_9edf_bf023967ee66row6_col9\" class=\"data row6 col9\" >0.82</td>\n",
       "                        <td id=\"T_ead240a8_aad6_11ea_9edf_bf023967ee66row6_col10\" class=\"data row6 col10\" >-0.46</td>\n",
       "                        <td id=\"T_ead240a8_aad6_11ea_9edf_bf023967ee66row6_col11\" class=\"data row6 col11\" >0.31</td>\n",
       "            </tr>\n",
       "            <tr>\n",
       "                        <th id=\"T_ead240a8_aad6_11ea_9edf_bf023967ee66level0_row7\" class=\"row_heading level0 row7\" >Prevalence of overweight among adults, BMI &GreaterEqual; 25 (crude estimate) (%)</th>\n",
       "                        <td id=\"T_ead240a8_aad6_11ea_9edf_bf023967ee66row7_col0\" class=\"data row7 col0\" >0.25</td>\n",
       "                        <td id=\"T_ead240a8_aad6_11ea_9edf_bf023967ee66row7_col1\" class=\"data row7 col1\" >0.43</td>\n",
       "                        <td id=\"T_ead240a8_aad6_11ea_9edf_bf023967ee66row7_col2\" class=\"data row7 col2\" >0.47</td>\n",
       "                        <td id=\"T_ead240a8_aad6_11ea_9edf_bf023967ee66row7_col3\" class=\"data row7 col3\" >-0.12</td>\n",
       "                        <td id=\"T_ead240a8_aad6_11ea_9edf_bf023967ee66row7_col4\" class=\"data row7 col4\" >0.15</td>\n",
       "                        <td id=\"T_ead240a8_aad6_11ea_9edf_bf023967ee66row7_col5\" class=\"data row7 col5\" >0.56</td>\n",
       "                        <td id=\"T_ead240a8_aad6_11ea_9edf_bf023967ee66row7_col6\" class=\"data row7 col6\" >0.92</td>\n",
       "                        <td id=\"T_ead240a8_aad6_11ea_9edf_bf023967ee66row7_col7\" class=\"data row7 col7\" >1</td>\n",
       "                        <td id=\"T_ead240a8_aad6_11ea_9edf_bf023967ee66row7_col8\" class=\"data row7 col8\" >0.14</td>\n",
       "                        <td id=\"T_ead240a8_aad6_11ea_9edf_bf023967ee66row7_col9\" class=\"data row7 col9\" >0.67</td>\n",
       "                        <td id=\"T_ead240a8_aad6_11ea_9edf_bf023967ee66row7_col10\" class=\"data row7 col10\" >-0.62</td>\n",
       "                        <td id=\"T_ead240a8_aad6_11ea_9edf_bf023967ee66row7_col11\" class=\"data row7 col11\" >0.36</td>\n",
       "            </tr>\n",
       "            <tr>\n",
       "                        <th id=\"T_ead240a8_aad6_11ea_9edf_bf023967ee66level0_row8\" class=\"row_heading level0 row8\" >Raised blood pressure (SBP>=140 OR DBP>=90) (crude estimate), 18+  years</th>\n",
       "                        <td id=\"T_ead240a8_aad6_11ea_9edf_bf023967ee66row8_col0\" class=\"data row8 col0\" >0.45</td>\n",
       "                        <td id=\"T_ead240a8_aad6_11ea_9edf_bf023967ee66row8_col1\" class=\"data row8 col1\" >0.32</td>\n",
       "                        <td id=\"T_ead240a8_aad6_11ea_9edf_bf023967ee66row8_col2\" class=\"data row8 col2\" >-0.095</td>\n",
       "                        <td id=\"T_ead240a8_aad6_11ea_9edf_bf023967ee66row8_col3\" class=\"data row8 col3\" >0.01</td>\n",
       "                        <td id=\"T_ead240a8_aad6_11ea_9edf_bf023967ee66row8_col4\" class=\"data row8 col4\" >0.013</td>\n",
       "                        <td id=\"T_ead240a8_aad6_11ea_9edf_bf023967ee66row8_col5\" class=\"data row8 col5\" >0.28</td>\n",
       "                        <td id=\"T_ead240a8_aad6_11ea_9edf_bf023967ee66row8_col6\" class=\"data row8 col6\" >-0.031</td>\n",
       "                        <td id=\"T_ead240a8_aad6_11ea_9edf_bf023967ee66row8_col7\" class=\"data row8 col7\" >0.14</td>\n",
       "                        <td id=\"T_ead240a8_aad6_11ea_9edf_bf023967ee66row8_col8\" class=\"data row8 col8\" >1</td>\n",
       "                        <td id=\"T_ead240a8_aad6_11ea_9edf_bf023967ee66row8_col9\" class=\"data row8 col9\" >0.02</td>\n",
       "                        <td id=\"T_ead240a8_aad6_11ea_9edf_bf023967ee66row8_col10\" class=\"data row8 col10\" >-0.16</td>\n",
       "                        <td id=\"T_ead240a8_aad6_11ea_9edf_bf023967ee66row8_col11\" class=\"data row8 col11\" >0.34</td>\n",
       "            </tr>\n",
       "            <tr>\n",
       "                        <th id=\"T_ead240a8_aad6_11ea_9edf_bf023967ee66level0_row9\" class=\"row_heading level0 row9\" >Raised fasting blood glucose (>= 7.0 mmol/L or on medication) (crude estimate), 18+  years</th>\n",
       "                        <td id=\"T_ead240a8_aad6_11ea_9edf_bf023967ee66row9_col0\" class=\"data row9 col0\" >-0.075</td>\n",
       "                        <td id=\"T_ead240a8_aad6_11ea_9edf_bf023967ee66row9_col1\" class=\"data row9 col1\" >0.48</td>\n",
       "                        <td id=\"T_ead240a8_aad6_11ea_9edf_bf023967ee66row9_col2\" class=\"data row9 col2\" >0.5</td>\n",
       "                        <td id=\"T_ead240a8_aad6_11ea_9edf_bf023967ee66row9_col3\" class=\"data row9 col3\" >0.31</td>\n",
       "                        <td id=\"T_ead240a8_aad6_11ea_9edf_bf023967ee66row9_col4\" class=\"data row9 col4\" >0.48</td>\n",
       "                        <td id=\"T_ead240a8_aad6_11ea_9edf_bf023967ee66row9_col5\" class=\"data row9 col5\" >0.097</td>\n",
       "                        <td id=\"T_ead240a8_aad6_11ea_9edf_bf023967ee66row9_col6\" class=\"data row9 col6\" >0.82</td>\n",
       "                        <td id=\"T_ead240a8_aad6_11ea_9edf_bf023967ee66row9_col7\" class=\"data row9 col7\" >0.67</td>\n",
       "                        <td id=\"T_ead240a8_aad6_11ea_9edf_bf023967ee66row9_col8\" class=\"data row9 col8\" >0.02</td>\n",
       "                        <td id=\"T_ead240a8_aad6_11ea_9edf_bf023967ee66row9_col9\" class=\"data row9 col9\" >1</td>\n",
       "                        <td id=\"T_ead240a8_aad6_11ea_9edf_bf023967ee66row9_col10\" class=\"data row9 col10\" >-0.41</td>\n",
       "                        <td id=\"T_ead240a8_aad6_11ea_9edf_bf023967ee66row9_col11\" class=\"data row9 col11\" >0.33</td>\n",
       "            </tr>\n",
       "            <tr>\n",
       "                        <th id=\"T_ead240a8_aad6_11ea_9edf_bf023967ee66level0_row10\" class=\"row_heading level0 row10\" >Stunting - height-for-age (<-2SD)</th>\n",
       "                        <td id=\"T_ead240a8_aad6_11ea_9edf_bf023967ee66row10_col0\" class=\"data row10 col0\" >-0.35</td>\n",
       "                        <td id=\"T_ead240a8_aad6_11ea_9edf_bf023967ee66row10_col1\" class=\"data row10 col1\" >-0.25</td>\n",
       "                        <td id=\"T_ead240a8_aad6_11ea_9edf_bf023967ee66row10_col2\" class=\"data row10 col2\" >-0.082</td>\n",
       "                        <td id=\"T_ead240a8_aad6_11ea_9edf_bf023967ee66row10_col3\" class=\"data row10 col3\" >0.31</td>\n",
       "                        <td id=\"T_ead240a8_aad6_11ea_9edf_bf023967ee66row10_col4\" class=\"data row10 col4\" >0.1</td>\n",
       "                        <td id=\"T_ead240a8_aad6_11ea_9edf_bf023967ee66row10_col5\" class=\"data row10 col5\" >-0.53</td>\n",
       "                        <td id=\"T_ead240a8_aad6_11ea_9edf_bf023967ee66row10_col6\" class=\"data row10 col6\" >-0.46</td>\n",
       "                        <td id=\"T_ead240a8_aad6_11ea_9edf_bf023967ee66row10_col7\" class=\"data row10 col7\" >-0.62</td>\n",
       "                        <td id=\"T_ead240a8_aad6_11ea_9edf_bf023967ee66row10_col8\" class=\"data row10 col8\" >-0.16</td>\n",
       "                        <td id=\"T_ead240a8_aad6_11ea_9edf_bf023967ee66row10_col9\" class=\"data row10 col9\" >-0.41</td>\n",
       "                        <td id=\"T_ead240a8_aad6_11ea_9edf_bf023967ee66row10_col10\" class=\"data row10 col10\" >1</td>\n",
       "                        <td id=\"T_ead240a8_aad6_11ea_9edf_bf023967ee66row10_col11\" class=\"data row10 col11\" >-0.15</td>\n",
       "            </tr>\n",
       "            <tr>\n",
       "                        <th id=\"T_ead240a8_aad6_11ea_9edf_bf023967ee66level0_row11\" class=\"row_heading level0 row11\" >daily tobacco smoking, age-standardized</th>\n",
       "                        <td id=\"T_ead240a8_aad6_11ea_9edf_bf023967ee66row11_col0\" class=\"data row11 col0\" >0.13</td>\n",
       "                        <td id=\"T_ead240a8_aad6_11ea_9edf_bf023967ee66row11_col1\" class=\"data row11 col1\" >0.27</td>\n",
       "                        <td id=\"T_ead240a8_aad6_11ea_9edf_bf023967ee66row11_col2\" class=\"data row11 col2\" >0.26</td>\n",
       "                        <td id=\"T_ead240a8_aad6_11ea_9edf_bf023967ee66row11_col3\" class=\"data row11 col3\" >0.15</td>\n",
       "                        <td id=\"T_ead240a8_aad6_11ea_9edf_bf023967ee66row11_col4\" class=\"data row11 col4\" >0.15</td>\n",
       "                        <td id=\"T_ead240a8_aad6_11ea_9edf_bf023967ee66row11_col5\" class=\"data row11 col5\" >0.2</td>\n",
       "                        <td id=\"T_ead240a8_aad6_11ea_9edf_bf023967ee66row11_col6\" class=\"data row11 col6\" >0.31</td>\n",
       "                        <td id=\"T_ead240a8_aad6_11ea_9edf_bf023967ee66row11_col7\" class=\"data row11 col7\" >0.36</td>\n",
       "                        <td id=\"T_ead240a8_aad6_11ea_9edf_bf023967ee66row11_col8\" class=\"data row11 col8\" >0.34</td>\n",
       "                        <td id=\"T_ead240a8_aad6_11ea_9edf_bf023967ee66row11_col9\" class=\"data row11 col9\" >0.33</td>\n",
       "                        <td id=\"T_ead240a8_aad6_11ea_9edf_bf023967ee66row11_col10\" class=\"data row11 col10\" >-0.15</td>\n",
       "                        <td id=\"T_ead240a8_aad6_11ea_9edf_bf023967ee66row11_col11\" class=\"data row11 col11\" >1</td>\n",
       "            </tr>\n",
       "    </tbody></table>"
      ],
      "text/plain": [
       "<pandas.io.formats.style.Styler at 0x7f474721ca90>"
      ]
     },
     "execution_count": 14,
     "metadata": {},
     "output_type": "execute_result"
    }
   ],
   "source": [
    "corr.style.background_gradient(cmap=sns.diverging_palette(220, 10, as_cmap=True)).set_precision(2)"
   ]
  },
  {
   "cell_type": "markdown",
   "metadata": {},
   "source": [
    "### Compute zscores and detect outliers"
   ]
  },
  {
   "cell_type": "markdown",
   "metadata": {},
   "source": [
    "#### Metabolic Risk Factor"
   ]
  },
  {
   "cell_type": "code",
   "execution_count": 15,
   "metadata": {},
   "outputs": [],
   "source": [
    "df_meta = df[(df['indicator_group']=='Metabolic')]\n",
    "#df_meta.head()"
   ]
  },
  {
   "cell_type": "code",
   "execution_count": 16,
   "metadata": {},
   "outputs": [],
   "source": [
    "#df_meta['country'].nunique()"
   ]
  },
  {
   "cell_type": "code",
   "execution_count": 17,
   "metadata": {},
   "outputs": [],
   "source": [
    "#len(df_meta)"
   ]
  },
  {
   "cell_type": "code",
   "execution_count": 18,
   "metadata": {},
   "outputs": [],
   "source": [
    "#df_meta['indicator'].unique()"
   ]
  },
  {
   "cell_type": "code",
   "execution_count": 19,
   "metadata": {},
   "outputs": [],
   "source": [
    "a = df_meta[df_meta['indicator']=='Raised fasting blood glucose (>= 7.0 mmol/L or on medication) (crude estimate), 18+  years' ] \n",
    "b = df_meta[df_meta['indicator']=='Raised blood pressure (SBP>=140 OR DBP>=90) (crude estimate), 18+  years' ] \n",
    "c = df_meta[df_meta['indicator']=='Prevalence of overweight among adults, BMI &GreaterEqual; 25 (crude estimate) (%)' ] \n",
    "#d = df_meta[df_meta['indicator']=='Prevalence of obesity among adults, BMI &GreaterEqual; 30 (age-standardized estimate) (%)' ] \n",
    "#e = df_meta[df_meta['indicator']=='Stunting - height-for-age (<-2SD)' ] \n",
    "\n",
    "common_countries = \\\n",
    "    set.intersection(set(a['country']), set(b['country']), set(c['country']))#,set(d['country'])) #,set(e['country']))"
   ]
  },
  {
   "cell_type": "code",
   "execution_count": 20,
   "metadata": {},
   "outputs": [],
   "source": [
    "df_meta = pd.concat([\n",
    "    a[a['country'].isin(common_countries)],\n",
    "    b[b['country'].isin(common_countries)],\n",
    "    c[c['country'].isin(common_countries)]#,\n",
    "   # d[d['country'].isin(common_countries)]#,\n",
    "   # e[e['country'].isin(common_countries)]\n",
    "    \n",
    "]).sort_values(by='country')"
   ]
  },
  {
   "cell_type": "code",
   "execution_count": 21,
   "metadata": {},
   "outputs": [
    {
     "name": "stdout",
     "output_type": "stream",
     "text": [
      "Data available complete for all indicators considered is for 191 countries\n"
     ]
    }
   ],
   "source": [
    "print('Data available complete for all indicators considered is for {} countries'. format(len(common_countries)))"
   ]
  },
  {
   "cell_type": "code",
   "execution_count": 22,
   "metadata": {},
   "outputs": [],
   "source": [
    "#df_meta.shape"
   ]
  },
  {
   "cell_type": "code",
   "execution_count": 23,
   "metadata": {},
   "outputs": [
    {
     "name": "stdout",
     "output_type": "stream",
     "text": [
      "Outlier Detection\n"
     ]
    }
   ],
   "source": [
    "print('Outlier Detection')"
   ]
  },
  {
   "cell_type": "code",
   "execution_count": 24,
   "metadata": {},
   "outputs": [
    {
     "data": {
      "image/png": "[encoded data removed]",
      "text/plain": [
       "<Figure size 792x576 with 1 Axes>"
      ]
     },
     "metadata": {},
     "output_type": "display_data"
    }
   ],
   "source": [
    "import seaborn as sns\n",
    "sns.set(rc={'figure.figsize':(11,8)})    \n",
    "irange = df_meta['indicator'].unique()\n",
    "\n",
    "for i in irange:\n",
    "    sns.boxplot(x='indicator', y = df_meta[df_meta['indicator']==i]['data'],data=df_meta,hue=\"indicator\")\n",
    "#ax = sns.boxplot(x=\"Trial\", y=\"value\", hue=\"Number\", data=mdf)  # RUN PLOT   "
   ]
  },
  {
   "cell_type": "code",
   "execution_count": 25,
   "metadata": {},
   "outputs": [
    {
     "name": "stdout",
     "output_type": "stream",
     "text": [
      "Q1 25 percentile of the given data is,  20.1\n",
      "Q1 50 percentile of the given data is,  22.3\n",
      "Q1 75 percentile of the given data is,  24.95\n",
      "Interquartile range is 4.849999999999998\n",
      "low_limit is 12.825000000000005\n",
      "up_limit is 32.224999999999994\n",
      "cumulative count of outlier in the dataset is 18\n"
     ]
    }
   ],
   "source": [
    "data = df_meta[df_meta['indicator']=='Raised blood pressure (SBP>=140 OR DBP>=90) (crude estimate), 18+  years']\n",
    "\n",
    "Q1 = np.percentile(data['data'] , 25, interpolation = 'midpoint')  \n",
    "Q2 = np.percentile(data['data'], 50, interpolation = 'midpoint')  \n",
    "Q3 = np.percentile(data['data'], 75, interpolation = 'midpoint')  \n",
    "  \n",
    "print('Q1 25 percentile of the given data is, ', Q1) \n",
    "print('Q1 50 percentile of the given data is, ', Q2) \n",
    "print('Q1 75 percentile of the given data is, ', Q3) \n",
    "  \n",
    "IQR = Q3 - Q1  \n",
    "print('Interquartile range is', IQR) \n",
    "\n",
    "low_lim = Q1 - 1.5 * IQR \n",
    "up_lim = Q3 + 1.5 * IQR \n",
    "print('low_limit is', low_lim) \n",
    "print('up_limit is', up_lim) \n",
    "\n",
    "\n",
    "outlier =[] \n",
    "out = pd.DataFrame()\n",
    "ind = []\n",
    "val = []\n",
    "for x,c,i in zip( data['data'], data['country'],data['indicator']): \n",
    "    if ((x> up_lim) or (x<low_lim)): \n",
    "        outlier.append(c) \n",
    "        ind.append(i)\n",
    "        val.append(x)\n",
    "\n",
    "print('cumulative count of outlier in the dataset is', len(outlier))"
   ]
  },
  {
   "cell_type": "code",
   "execution_count": 26,
   "metadata": {},
   "outputs": [
    {
     "name": "stdout",
     "output_type": "stream",
     "text": [
      "Q1 25 percentile of the given data is,  6.2\n",
      "Q1 50 percentile of the given data is,  8.5\n",
      "Q1 75 percentile of the given data is,  10.2\n",
      "Interquartile range is 3.999999999999999\n",
      "low_limit is 0.20000000000000195\n",
      "up_limit is 16.199999999999996\n",
      "cumulative outlier in the dataset is 30\n"
     ]
    }
   ],
   "source": [
    "data = df_meta[df_meta['indicator']=='Raised fasting blood glucose (>= 7.0 mmol/L or on medication) (crude estimate), 18+  years']\n",
    "\n",
    "Q1 = np.percentile(data['data'] , 25, interpolation = 'midpoint')  \n",
    "Q2 = np.percentile(data['data'], 50, interpolation = 'midpoint')  \n",
    "Q3 = np.percentile(data['data'], 75, interpolation = 'midpoint')  \n",
    "  \n",
    "print('Q1 25 percentile of the given data is, ', Q1) \n",
    "print('Q1 50 percentile of the given data is, ', Q2) \n",
    "print('Q1 75 percentile of the given data is, ', Q3) \n",
    "  \n",
    "IQR = Q3 - Q1  \n",
    "print('Interquartile range is', IQR) \n",
    "\n",
    "low_lim = Q1 - 1.5 * IQR \n",
    "up_lim = Q3 + 1.5 * IQR \n",
    "print('low_limit is', low_lim) \n",
    "print('up_limit is', up_lim) \n",
    "\n",
    "for x,c,i in zip( data['data'], data['country'],data['indicator']): \n",
    "    if ((x> up_lim) or (x<low_lim)): \n",
    "        outlier.append(c) \n",
    "        ind.append(i)\n",
    "        val.append(x)     \n",
    "\n",
    "print('cumulative outlier in the dataset is', len(val))"
   ]
  },
  {
   "cell_type": "code",
   "execution_count": 27,
   "metadata": {},
   "outputs": [],
   "source": [
    "#out.shape"
   ]
  },
  {
   "cell_type": "code",
   "execution_count": 28,
   "metadata": {},
   "outputs": [
    {
     "name": "stdout",
     "output_type": "stream",
     "text": [
      "Pivot Data\n"
     ]
    }
   ],
   "source": [
    "print('Pivot Data')"
   ]
  },
  {
   "cell_type": "code",
   "execution_count": 29,
   "metadata": {},
   "outputs": [
    {
     "name": "stdout",
     "output_type": "stream",
     "text": [
      "Prevalence of overweight among adults, BMI &GreaterEqual; 25 (crude estimate) (%)\n",
      "Raised fasting blood glucose (>= 7.0 mmol/L or on medication) (crude estimate), 18+  years\n",
      "Raised blood pressure (SBP>=140 OR DBP>=90) (crude estimate), 18+  years\n"
     ]
    },
    {
     "data": {
      "text/html": [
       "<div>\n",
       "<style scoped>\n",
       "    .dataframe tbody tr th:only-of-type {\n",
       "        vertical-align: middle;\n",
       "    }\n",
       "\n",
       "    .dataframe tbody tr th {\n",
       "        vertical-align: top;\n",
       "    }\n",
       "\n",
       "    .dataframe thead th {\n",
       "        text-align: right;\n",
       "    }\n",
       "</style>\n",
       "<table border=\"1\" class=\"dataframe\">\n",
       "  <thead>\n",
       "    <tr style=\"text-align: right;\">\n",
       "      <th></th>\n",
       "      <th>country</th>\n",
       "      <th>Prevalence of overweight among adults, BMI &amp;GreaterEqual; 25 (crude estimate) (%)</th>\n",
       "      <th>Raised fasting blood glucose (&gt;= 7.0 mmol/L or on medication) (crude estimate), 18+  years</th>\n",
       "      <th>Raised blood pressure (SBP&gt;=140 OR DBP&gt;=90) (crude estimate), 18+  years</th>\n",
       "    </tr>\n",
       "  </thead>\n",
       "  <tbody>\n",
       "    <tr>\n",
       "      <th>0</th>\n",
       "      <td>Afghanistan</td>\n",
       "      <td>19.7</td>\n",
       "      <td>8.4</td>\n",
       "      <td>23.0</td>\n",
       "    </tr>\n",
       "    <tr>\n",
       "      <th>1</th>\n",
       "      <td>Albania</td>\n",
       "      <td>58.7</td>\n",
       "      <td>8.3</td>\n",
       "      <td>31.6</td>\n",
       "    </tr>\n",
       "    <tr>\n",
       "      <th>2</th>\n",
       "      <td>Algeria</td>\n",
       "      <td>60.7</td>\n",
       "      <td>10.5</td>\n",
       "      <td>21.7</td>\n",
       "    </tr>\n",
       "    <tr>\n",
       "      <th>3</th>\n",
       "      <td>Andorra</td>\n",
       "      <td>68.1</td>\n",
       "      <td>9.1</td>\n",
       "      <td>24.5</td>\n",
       "    </tr>\n",
       "    <tr>\n",
       "      <th>4</th>\n",
       "      <td>Angola</td>\n",
       "      <td>23.9</td>\n",
       "      <td>5.6</td>\n",
       "      <td>22.3</td>\n",
       "    </tr>\n",
       "  </tbody>\n",
       "</table>\n",
       "</div>"
      ],
      "text/plain": [
       "       country  \\\n",
       "0  Afghanistan   \n",
       "1      Albania   \n",
       "2      Algeria   \n",
       "3      Andorra   \n",
       "4       Angola   \n",
       "\n",
       "   Prevalence of overweight among adults, BMI &GreaterEqual; 25 (crude estimate) (%)  \\\n",
       "0                                               19.7                                   \n",
       "1                                               58.7                                   \n",
       "2                                               60.7                                   \n",
       "3                                               68.1                                   \n",
       "4                                               23.9                                   \n",
       "\n",
       "   Raised fasting blood glucose (>= 7.0 mmol/L or on medication) (crude estimate), 18+  years  \\\n",
       "0                                                8.4                                            \n",
       "1                                                8.3                                            \n",
       "2                                               10.5                                            \n",
       "3                                                9.1                                            \n",
       "4                                                5.6                                            \n",
       "\n",
       "   Raised blood pressure (SBP>=140 OR DBP>=90) (crude estimate), 18+  years  \n",
       "0                                               23.0                         \n",
       "1                                               31.6                         \n",
       "2                                               21.7                         \n",
       "3                                               24.5                         \n",
       "4                                               22.3                         "
      ]
     },
     "execution_count": 29,
     "metadata": {},
     "output_type": "execute_result"
    }
   ],
   "source": [
    "df_metarisk=pd.DataFrame()\n",
    "irange = df_meta['indicator'].unique()\n",
    "df_meta.sort_values(['indicator', 'country'], ascending=True, inplace = True)\n",
    "\n",
    "for i in irange:\n",
    "    print(i)\n",
    "    pivot = df_meta[df_meta['indicator']==i].pivot(index='country', columns='indicator', values='data')\n",
    "    #print(pivot)\n",
    "    pivot.reset_index(inplace=True)\n",
    "    pivot.columns =['country', i]\n",
    "    df_metarisk['country']=pivot['country']\n",
    "    df_metarisk = pd.concat([df_metarisk, pivot[i]], axis=1)\n",
    "    #print(df_metarisk)\n",
    "    \n",
    "\n",
    "\n",
    "df_metarisk.head()\n",
    "\n"
   ]
  },
  {
   "cell_type": "code",
   "execution_count": 30,
   "metadata": {},
   "outputs": [],
   "source": [
    "df_metarisk=df_metarisk.iloc[:,0:4]"
   ]
  },
  {
   "cell_type": "code",
   "execution_count": 31,
   "metadata": {},
   "outputs": [
    {
     "data": {
      "text/plain": [
       "(191, 4)"
      ]
     },
     "execution_count": 31,
     "metadata": {},
     "output_type": "execute_result"
    }
   ],
   "source": [
    "df_metarisk.shape"
   ]
  },
  {
   "cell_type": "code",
   "execution_count": 32,
   "metadata": {},
   "outputs": [
    {
     "data": {
      "text/plain": [
       "\" cols = list(df_metarisk.columns)\\ncols.remove('country')\\ncols\\nfor col in cols:\\n    col_zscore = 'zscore_' + col\\n    df_metarisk[col_zscore] = (df_metarisk[col] - df_metarisk[col].mean())/df_metarisk[col].std(ddof=0)\\ndf_metarisk\""
      ]
     },
     "execution_count": 32,
     "metadata": {},
     "output_type": "execute_result"
    }
   ],
   "source": [
    "\"\"\" cols = list(df_metarisk.columns)\n",
    "cols.remove('country')\n",
    "cols\n",
    "for col in cols:\n",
    "    col_zscore = 'zscore_' + col\n",
    "    df_metarisk[col_zscore] = (df_metarisk[col] - df_metarisk[col].mean())/df_metarisk[col].std(ddof=0)\n",
    "df_metarisk\"\"\""
   ]
  },
  {
   "cell_type": "code",
   "execution_count": 33,
   "metadata": {},
   "outputs": [
    {
     "name": "stdout",
     "output_type": "stream",
     "text": [
      "Compute zscores\n"
     ]
    }
   ],
   "source": [
    "print('Compute zscores')"
   ]
  },
  {
   "cell_type": "code",
   "execution_count": 34,
   "metadata": {},
   "outputs": [],
   "source": [
    "from scipy.stats import zscore\n",
    "\n",
    "meta_zscore= df_metarisk.iloc[:,1:5]\n",
    "meta_zscore = meta_zscore.apply(zscore)\n",
    "#meta_zscore.head()"
   ]
  },
  {
   "cell_type": "code",
   "execution_count": 35,
   "metadata": {},
   "outputs": [],
   "source": [
    "meta_zscore['country']= df_metarisk.iloc[:,0]"
   ]
  },
  {
   "cell_type": "code",
   "execution_count": 36,
   "metadata": {},
   "outputs": [
    {
     "data": {
      "text/html": [
       "<div>\n",
       "<style scoped>\n",
       "    .dataframe tbody tr th:only-of-type {\n",
       "        vertical-align: middle;\n",
       "    }\n",
       "\n",
       "    .dataframe tbody tr th {\n",
       "        vertical-align: top;\n",
       "    }\n",
       "\n",
       "    .dataframe thead th {\n",
       "        text-align: right;\n",
       "    }\n",
       "</style>\n",
       "<table border=\"1\" class=\"dataframe\">\n",
       "  <thead>\n",
       "    <tr style=\"text-align: right;\">\n",
       "      <th></th>\n",
       "      <th>Prevalence of overweight among adults, BMI &amp;GreaterEqual; 25 (crude estimate) (%)</th>\n",
       "      <th>Raised fasting blood glucose (&gt;= 7.0 mmol/L or on medication) (crude estimate), 18+  years</th>\n",
       "      <th>Raised blood pressure (SBP&gt;=140 OR DBP&gt;=90) (crude estimate), 18+  years</th>\n",
       "      <th>country</th>\n",
       "    </tr>\n",
       "  </thead>\n",
       "  <tbody>\n",
       "    <tr>\n",
       "      <th>0</th>\n",
       "      <td>-1.578069</td>\n",
       "      <td>-0.166132</td>\n",
       "      <td>-0.041868</td>\n",
       "      <td>Afghanistan</td>\n",
       "    </tr>\n",
       "    <tr>\n",
       "      <th>1</th>\n",
       "      <td>0.555603</td>\n",
       "      <td>-0.188749</td>\n",
       "      <td>1.647851</td>\n",
       "      <td>Albania</td>\n",
       "    </tr>\n",
       "    <tr>\n",
       "      <th>2</th>\n",
       "      <td>0.665022</td>\n",
       "      <td>0.308819</td>\n",
       "      <td>-0.297290</td>\n",
       "      <td>Algeria</td>\n",
       "    </tr>\n",
       "    <tr>\n",
       "      <th>3</th>\n",
       "      <td>1.069872</td>\n",
       "      <td>-0.007815</td>\n",
       "      <td>0.252851</td>\n",
       "      <td>Andorra</td>\n",
       "    </tr>\n",
       "    <tr>\n",
       "      <th>4</th>\n",
       "      <td>-1.348289</td>\n",
       "      <td>-0.799401</td>\n",
       "      <td>-0.179403</td>\n",
       "      <td>Angola</td>\n",
       "    </tr>\n",
       "  </tbody>\n",
       "</table>\n",
       "</div>"
      ],
      "text/plain": [
       "   Prevalence of overweight among adults, BMI &GreaterEqual; 25 (crude estimate) (%)  \\\n",
       "0                                          -1.578069                                   \n",
       "1                                           0.555603                                   \n",
       "2                                           0.665022                                   \n",
       "3                                           1.069872                                   \n",
       "4                                          -1.348289                                   \n",
       "\n",
       "   Raised fasting blood glucose (>= 7.0 mmol/L or on medication) (crude estimate), 18+  years  \\\n",
       "0                                          -0.166132                                            \n",
       "1                                          -0.188749                                            \n",
       "2                                           0.308819                                            \n",
       "3                                          -0.007815                                            \n",
       "4                                          -0.799401                                            \n",
       "\n",
       "   Raised blood pressure (SBP>=140 OR DBP>=90) (crude estimate), 18+  years  \\\n",
       "0                                          -0.041868                          \n",
       "1                                           1.647851                          \n",
       "2                                          -0.297290                          \n",
       "3                                           0.252851                          \n",
       "4                                          -0.179403                          \n",
       "\n",
       "       country  \n",
       "0  Afghanistan  \n",
       "1      Albania  \n",
       "2      Algeria  \n",
       "3      Andorra  \n",
       "4       Angola  "
      ]
     },
     "execution_count": 36,
     "metadata": {},
     "output_type": "execute_result"
    }
   ],
   "source": [
    "meta_zscore.head()"
   ]
  },
  {
   "cell_type": "code",
   "execution_count": 37,
   "metadata": {},
   "outputs": [
    {
     "data": {
      "text/plain": [
       "191"
      ]
     },
     "execution_count": 37,
     "metadata": {},
     "output_type": "execute_result"
    }
   ],
   "source": [
    "len(meta_zscore)"
   ]
  },
  {
   "cell_type": "code",
   "execution_count": 38,
   "metadata": {},
   "outputs": [
    {
     "name": "stdout",
     "output_type": "stream",
     "text": [
      "Verify no nulls\n"
     ]
    },
    {
     "data": {
      "text/plain": [
       "Prevalence of overweight among adults, BMI &GreaterEqual; 25 (crude estimate) (%)             0\n",
       "Raised fasting blood glucose (>= 7.0 mmol/L or on medication) (crude estimate), 18+  years    0\n",
       "Raised blood pressure (SBP>=140 OR DBP>=90) (crude estimate), 18+  years                      0\n",
       "country                                                                                       0\n",
       "dtype: int64"
      ]
     },
     "execution_count": 38,
     "metadata": {},
     "output_type": "execute_result"
    }
   ],
   "source": [
    "print('Verify no nulls' )\n",
    "meta_zscore.isnull().sum()"
   ]
  },
  {
   "cell_type": "code",
   "execution_count": 39,
   "metadata": {},
   "outputs": [
    {
     "name": "stdout",
     "output_type": "stream",
     "text": [
      "Unpivot Data\n"
     ]
    }
   ],
   "source": [
    "print('Unpivot Data')"
   ]
  },
  {
   "cell_type": "code",
   "execution_count": 40,
   "metadata": {},
   "outputs": [
    {
     "data": {
      "text/html": [
       "<div>\n",
       "<style scoped>\n",
       "    .dataframe tbody tr th:only-of-type {\n",
       "        vertical-align: middle;\n",
       "    }\n",
       "\n",
       "    .dataframe tbody tr th {\n",
       "        vertical-align: top;\n",
       "    }\n",
       "\n",
       "    .dataframe thead th {\n",
       "        text-align: right;\n",
       "    }\n",
       "</style>\n",
       "<table border=\"1\" class=\"dataframe\">\n",
       "  <thead>\n",
       "    <tr style=\"text-align: right;\">\n",
       "      <th></th>\n",
       "      <th>country</th>\n",
       "      <th>indicator</th>\n",
       "      <th>value</th>\n",
       "      <th>indicator_group</th>\n",
       "    </tr>\n",
       "  </thead>\n",
       "  <tbody>\n",
       "    <tr>\n",
       "      <th>0</th>\n",
       "      <td>Afghanistan</td>\n",
       "      <td>Raised blood pressure (SBP&gt;=140 OR DBP&gt;=90) (c...</td>\n",
       "      <td>-0.041868</td>\n",
       "      <td>Metabolic</td>\n",
       "    </tr>\n",
       "    <tr>\n",
       "      <th>1</th>\n",
       "      <td>Albania</td>\n",
       "      <td>Raised blood pressure (SBP&gt;=140 OR DBP&gt;=90) (c...</td>\n",
       "      <td>1.647851</td>\n",
       "      <td>Metabolic</td>\n",
       "    </tr>\n",
       "    <tr>\n",
       "      <th>2</th>\n",
       "      <td>Algeria</td>\n",
       "      <td>Raised blood pressure (SBP&gt;=140 OR DBP&gt;=90) (c...</td>\n",
       "      <td>-0.297290</td>\n",
       "      <td>Metabolic</td>\n",
       "    </tr>\n",
       "    <tr>\n",
       "      <th>3</th>\n",
       "      <td>Andorra</td>\n",
       "      <td>Raised blood pressure (SBP&gt;=140 OR DBP&gt;=90) (c...</td>\n",
       "      <td>0.252851</td>\n",
       "      <td>Metabolic</td>\n",
       "    </tr>\n",
       "    <tr>\n",
       "      <th>4</th>\n",
       "      <td>Angola</td>\n",
       "      <td>Raised blood pressure (SBP&gt;=140 OR DBP&gt;=90) (c...</td>\n",
       "      <td>-0.179403</td>\n",
       "      <td>Metabolic</td>\n",
       "    </tr>\n",
       "  </tbody>\n",
       "</table>\n",
       "</div>"
      ],
      "text/plain": [
       "       country                                          indicator     value  \\\n",
       "0  Afghanistan  Raised blood pressure (SBP>=140 OR DBP>=90) (c... -0.041868   \n",
       "1      Albania  Raised blood pressure (SBP>=140 OR DBP>=90) (c...  1.647851   \n",
       "2      Algeria  Raised blood pressure (SBP>=140 OR DBP>=90) (c... -0.297290   \n",
       "3      Andorra  Raised blood pressure (SBP>=140 OR DBP>=90) (c...  0.252851   \n",
       "4       Angola  Raised blood pressure (SBP>=140 OR DBP>=90) (c... -0.179403   \n",
       "\n",
       "  indicator_group  \n",
       "0       Metabolic  \n",
       "1       Metabolic  \n",
       "2       Metabolic  \n",
       "3       Metabolic  \n",
       "4       Metabolic  "
      ]
     },
     "execution_count": 40,
     "metadata": {},
     "output_type": "execute_result"
    }
   ],
   "source": [
    "meta_zscore.reset_index(inplace=True)\n",
    "result_meta = pd.melt(meta_zscore, id_vars=['country'], var_name=['indicator'],\n",
    "        value_vars=['Raised blood pressure (SBP>=140 OR DBP>=90) (crude estimate), 18+  years', \n",
    "                                                      'Prevalence of overweight among adults, BMI &GreaterEqual; 25 (crude estimate) (%)',\n",
    "                                                     'Raised fasting blood glucose (>= 7.0 mmol/L or on medication) (crude estimate), 18+  years'])\n",
    "                                                     #'Prevalence of obesity among adults, BMI &GreaterEqual; 30 (age-standardized estimate) (%)'])\n",
    "result_meta['indicator_group']='Metabolic'\n",
    "result_meta.head()"
   ]
  },
  {
   "cell_type": "markdown",
   "metadata": {},
   "source": [
    "#### Behavorial Risk Factor"
   ]
  },
  {
   "cell_type": "code",
   "execution_count": 41,
   "metadata": {},
   "outputs": [],
   "source": [
    "df_behav = df[(df['indicator_group']=='Behavioral')] "
   ]
  },
  {
   "cell_type": "code",
   "execution_count": 42,
   "metadata": {},
   "outputs": [],
   "source": [
    "#df_behav['country'].nunique()"
   ]
  },
  {
   "cell_type": "code",
   "execution_count": 43,
   "metadata": {},
   "outputs": [],
   "source": [
    "#df_behav['indicator'].unique()"
   ]
  },
  {
   "cell_type": "code",
   "execution_count": 44,
   "metadata": {},
   "outputs": [],
   "source": [
    "a = df_behav[df_behav['indicator']=='Alcohol, total per capita (15+) consumption (in litres of pure alcohol)'] \n",
    "b = df_behav[df_behav['indicator']=='Dietary risks DALYs (Disability-Adjusted Life Years) Rate' ] \n",
    "c = df_behav[df_behav['indicator']=='Low physical activity DALYs (Disability-Adjusted Life Years) Rate' ] \n",
    "d = df_behav[df_behav['indicator']== 'daily tobacco smoking, age-standardized' ] \n",
    "\n",
    "\n",
    "\n",
    "common_countries_behav = \\\n",
    "    set.intersection( set(a['country']), set(b['country']), set(c['country']),set(d['country']))\n",
    "\n",
    "\n",
    "df_behav = pd.concat([\n",
    "    a[a['country'].isin(common_countries_behav)],\n",
    "    b[b['country'].isin(common_countries_behav)],\n",
    "   c[c['country'].isin(common_countries_behav)],\n",
    "    d[d['country'].isin(common_countries_behav)]\n",
    "    \n",
    "]).sort_values(by='country')"
   ]
  },
  {
   "cell_type": "code",
   "execution_count": 45,
   "metadata": {},
   "outputs": [
    {
     "name": "stdout",
     "output_type": "stream",
     "text": [
      "Data available complete for all indicators considered is for 172 countries\n"
     ]
    }
   ],
   "source": [
    "print('Data available complete for all indicators considered is for {} countries'. format(len(common_countries_behav)))"
   ]
  },
  {
   "cell_type": "code",
   "execution_count": 46,
   "metadata": {},
   "outputs": [
    {
     "name": "stdout",
     "output_type": "stream",
     "text": [
      "Outlier Detection\n"
     ]
    }
   ],
   "source": [
    "print('Outlier Detection')"
   ]
  },
  {
   "cell_type": "code",
   "execution_count": 47,
   "metadata": {},
   "outputs": [
    {
     "data": {
      "image/png": "[encoded data removed]",
      "text/plain": [
       "<Figure size 792x576 with 1 Axes>"
      ]
     },
     "metadata": {},
     "output_type": "display_data"
    }
   ],
   "source": [
    "import seaborn as sns\n",
    "sns.set(rc={'figure.figsize':(11,8)})    \n",
    "irange = df_behav['indicator'].unique()\n",
    "for i in irange:\n",
    "    sns.boxplot(x='indicator', y = df_behav[df_behav['indicator']==i]['data'],data=df_behav,hue='indicator')\n",
    "#ax = sns.boxplot(x=\"Trial\", y=\"value\", hue=\"Number\", data=mdf)  # RUN PLOT "
   ]
  },
  {
   "cell_type": "code",
   "execution_count": 48,
   "metadata": {},
   "outputs": [
    {
     "name": "stdout",
     "output_type": "stream",
     "text": [
      "Dietary risks DALYs (Disability-Adjusted Life Years) Rate: \n",
      "Q1 25 percentile of the given data is,  2046.3400000000001\n",
      "Q1 50 percentile of the given data is,  3002.935\n",
      "Q1 75 percentile of the given data is,  4109.105\n",
      "Interquartile range is 2062.7649999999994\n",
      "low_limit is -1047.807499999999\n",
      "up_limit is 7203.252499999999\n",
      "cumulative count outlier in the dataset is 39\n"
     ]
    }
   ],
   "source": [
    "print('Dietary risks DALYs (Disability-Adjusted Life Years) Rate: ')\n",
    "data = df_behav[df_behav['indicator']=='Dietary risks DALYs (Disability-Adjusted Life Years) Rate']\n",
    "\n",
    "Q1 = np.percentile(data['data'] , 25, interpolation = 'midpoint')  \n",
    "Q2 = np.percentile(data['data'], 50, interpolation = 'midpoint')  \n",
    "Q3 = np.percentile(data['data'], 75, interpolation = 'midpoint')  \n",
    "  \n",
    "print('Q1 25 percentile of the given data is, ', Q1) \n",
    "print('Q1 50 percentile of the given data is, ', Q2) \n",
    "print('Q1 75 percentile of the given data is, ', Q3) \n",
    "  \n",
    "IQR = Q3 - Q1  \n",
    "print('Interquartile range is', IQR) \n",
    "\n",
    "low_lim = Q1 - 1.5 * IQR \n",
    "up_lim = Q3 + 1.5 * IQR \n",
    "print('low_limit is', low_lim) \n",
    "print('up_limit is', up_lim) \n",
    "\n",
    "for x,c,i in zip( data['data'], data['country'],data['indicator']): \n",
    "    if ((x> up_lim) or (x<low_lim)): \n",
    "        outlier.append(c) \n",
    "        ind.append(i)\n",
    "        val.append(x)     \n",
    "\n",
    "print('cumulative count outlier in the dataset is', len(val))"
   ]
  },
  {
   "cell_type": "code",
   "execution_count": 49,
   "metadata": {},
   "outputs": [
    {
     "name": "stdout",
     "output_type": "stream",
     "text": [
      "Low physical activity DALYs (Disability-Adjusted Life Years) Rate\n",
      "Q1 25 percentile of the given data is,  209.02499999999998\n",
      "Q1 50 percentile of the given data is,  293.205\n",
      "Q1 75 percentile of the given data is,  435.395\n",
      "Interquartile range is 226.37\n",
      "low_limit is -130.53000000000003\n",
      "up_limit is 774.95\n",
      "cumulative outlier in the dataset is 50\n"
     ]
    }
   ],
   "source": [
    "print('Low physical activity DALYs (Disability-Adjusted Life Years) Rate')\n",
    "data = df_behav[df_behav['indicator']== 'Low physical activity DALYs (Disability-Adjusted Life Years) Rate']\n",
    "\n",
    "Q1 = np.percentile(data['data'] , 25, interpolation = 'midpoint')  \n",
    "Q2 = np.percentile(data['data'], 50, interpolation = 'midpoint')  \n",
    "Q3 = np.percentile(data['data'], 75, interpolation = 'midpoint')  \n",
    "  \n",
    "print('Q1 25 percentile of the given data is, ', Q1) \n",
    "print('Q1 50 percentile of the given data is, ', Q2) \n",
    "print('Q1 75 percentile of the given data is, ', Q3) \n",
    "  \n",
    "IQR = Q3 - Q1  \n",
    "print('Interquartile range is', IQR) \n",
    "\n",
    "low_lim = Q1 - 1.5 * IQR \n",
    "up_lim = Q3 + 1.5 * IQR \n",
    "print('low_limit is', low_lim) \n",
    "print('up_limit is', up_lim) \n",
    "\n",
    "for x,c,i in zip( data['data'], data['country'],data['indicator']): \n",
    "    if ((x> up_lim) or (x<low_lim)): \n",
    "        outlier.append(c) \n",
    "        ind.append(i)\n",
    "        val.append(x)     \n",
    "\n",
    "print('cumulative outlier in the dataset is', len(val))"
   ]
  },
  {
   "cell_type": "code",
   "execution_count": 50,
   "metadata": {
    "scrolled": true
   },
   "outputs": [
    {
     "name": "stdout",
     "output_type": "stream",
     "text": [
      "Daily tobacco smoking, age-standardized\n",
      "Q1 25 percentile of the given data is,  9.0\n",
      "Q1 50 percentile of the given data is,  15.0\n",
      "Q1 75 percentile of the given data is,  22.0\n",
      "Interquartile range is 13.0\n",
      "low_limit is -10.5\n",
      "up_limit is 41.5\n",
      "cumulative outlier in the dataset is 53\n"
     ]
    }
   ],
   "source": [
    "print('Daily tobacco smoking, age-standardized')\n",
    "data = df_behav[df_behav['indicator']== 'daily tobacco smoking, age-standardized']\n",
    "\n",
    "Q1 = np.percentile(data['data'] , 25, interpolation = 'midpoint')  \n",
    "Q2 = np.percentile(data['data'], 50, interpolation = 'midpoint')  \n",
    "Q3 = np.percentile(data['data'], 75, interpolation = 'midpoint')  \n",
    "  \n",
    "print('Q1 25 percentile of the given data is, ', Q1) \n",
    "print('Q1 50 percentile of the given data is, ', Q2) \n",
    "print('Q1 75 percentile of the given data is, ', Q3) \n",
    "  \n",
    "IQR = Q3 - Q1  \n",
    "print('Interquartile range is', IQR) \n",
    "\n",
    "low_lim = Q1 - 1.5 * IQR \n",
    "up_lim = Q3 + 1.5 * IQR \n",
    "print('low_limit is', low_lim) \n",
    "print('up_limit is', up_lim) \n",
    "\n",
    "for x,c,i in zip( data['data'], data['country'],data['indicator']): \n",
    "    if ((x> up_lim) or (x<low_lim)): \n",
    "        outlier.append(c) \n",
    "        ind.append(i)\n",
    "        val.append(x)     \n",
    "\n",
    "print('cumulative outlier in the dataset is', len(val))"
   ]
  },
  {
   "cell_type": "code",
   "execution_count": 51,
   "metadata": {},
   "outputs": [
    {
     "name": "stdout",
     "output_type": "stream",
     "text": [
      "Q1 25 percentile of the given data is,  2.25\n",
      "Q1 50 percentile of the given data is,  5.75\n",
      "Q1 75 percentile of the given data is,  9.55\n",
      "Interquartile range is 7.300000000000001\n",
      "low_limit is -8.700000000000001\n",
      "up_limit is 20.5\n",
      "cumulative outlier in the dataset is 53\n"
     ]
    }
   ],
   "source": [
    "data = df_behav[df_behav['indicator']== 'Alcohol, total per capita (15+) consumption (in litres of pure alcohol)']\n",
    "\n",
    "Q1 = np.percentile(data['data'] , 25, interpolation = 'midpoint')  \n",
    "Q2 = np.percentile(data['data'], 50, interpolation = 'midpoint')  \n",
    "Q3 = np.percentile(data['data'], 75, interpolation = 'midpoint')  \n",
    "  \n",
    "print('Q1 25 percentile of the given data is, ', Q1) \n",
    "print('Q1 50 percentile of the given data is, ', Q2) \n",
    "print('Q1 75 percentile of the given data is, ', Q3) \n",
    "  \n",
    "IQR = Q3 - Q1  \n",
    "print('Interquartile range is', IQR) \n",
    "\n",
    "low_lim = Q1 - 1.5 * IQR \n",
    "up_lim = Q3 + 1.5 * IQR \n",
    "print('low_limit is', low_lim) \n",
    "print('up_limit is', up_lim) \n",
    "\n",
    "for x,c,i in zip( data['data'], data['country'],data['indicator']): \n",
    "    if ((x> up_lim) or (x<low_lim)): \n",
    "        outlier.append(c) \n",
    "        ind.append(i)\n",
    "        val.append(x)     \n",
    "\n",
    "print('cumulative outlier in the dataset is', len(val))"
   ]
  },
  {
   "cell_type": "code",
   "execution_count": 52,
   "metadata": {},
   "outputs": [
    {
     "data": {
      "text/html": [
       "<div>\n",
       "<style scoped>\n",
       "    .dataframe tbody tr th:only-of-type {\n",
       "        vertical-align: middle;\n",
       "    }\n",
       "\n",
       "    .dataframe tbody tr th {\n",
       "        vertical-align: top;\n",
       "    }\n",
       "\n",
       "    .dataframe thead th {\n",
       "        text-align: right;\n",
       "    }\n",
       "</style>\n",
       "<table border=\"1\" class=\"dataframe\">\n",
       "  <thead>\n",
       "    <tr style=\"text-align: right;\">\n",
       "      <th></th>\n",
       "      <th>country</th>\n",
       "      <th>Alcohol, total per capita (15+) consumption (in litres of pure alcohol)</th>\n",
       "      <th>daily tobacco smoking, age-standardized</th>\n",
       "      <th>Low physical activity DALYs (Disability-Adjusted Life Years) Rate</th>\n",
       "      <th>Dietary risks DALYs (Disability-Adjusted Life Years) Rate</th>\n",
       "    </tr>\n",
       "  </thead>\n",
       "  <tbody>\n",
       "    <tr>\n",
       "      <th>0</th>\n",
       "      <td>Afghanistan</td>\n",
       "      <td>0.2</td>\n",
       "      <td>6.0</td>\n",
       "      <td>1173.26</td>\n",
       "      <td>9368.06</td>\n",
       "    </tr>\n",
       "    <tr>\n",
       "      <th>1</th>\n",
       "      <td>Albania</td>\n",
       "      <td>7.2</td>\n",
       "      <td>23.0</td>\n",
       "      <td>249.53</td>\n",
       "      <td>2771.23</td>\n",
       "    </tr>\n",
       "    <tr>\n",
       "      <th>2</th>\n",
       "      <td>Algeria</td>\n",
       "      <td>0.9</td>\n",
       "      <td>12.0</td>\n",
       "      <td>471.06</td>\n",
       "      <td>2963.28</td>\n",
       "    </tr>\n",
       "    <tr>\n",
       "      <th>3</th>\n",
       "      <td>Andorra</td>\n",
       "      <td>11.0</td>\n",
       "      <td>28.0</td>\n",
       "      <td>155.55</td>\n",
       "      <td>1142.57</td>\n",
       "    </tr>\n",
       "    <tr>\n",
       "      <th>4</th>\n",
       "      <td>Angola</td>\n",
       "      <td>6.9</td>\n",
       "      <td>6.0</td>\n",
       "      <td>305.94</td>\n",
       "      <td>3158.81</td>\n",
       "    </tr>\n",
       "  </tbody>\n",
       "</table>\n",
       "</div>"
      ],
      "text/plain": [
       "       country  \\\n",
       "0  Afghanistan   \n",
       "1      Albania   \n",
       "2      Algeria   \n",
       "3      Andorra   \n",
       "4       Angola   \n",
       "\n",
       "   Alcohol, total per capita (15+) consumption (in litres of pure alcohol)  \\\n",
       "0                                                0.2                         \n",
       "1                                                7.2                         \n",
       "2                                                0.9                         \n",
       "3                                               11.0                         \n",
       "4                                                6.9                         \n",
       "\n",
       "   daily tobacco smoking, age-standardized  \\\n",
       "0                                      6.0   \n",
       "1                                     23.0   \n",
       "2                                     12.0   \n",
       "3                                     28.0   \n",
       "4                                      6.0   \n",
       "\n",
       "   Low physical activity DALYs (Disability-Adjusted Life Years) Rate  \\\n",
       "0                                            1173.26                   \n",
       "1                                             249.53                   \n",
       "2                                             471.06                   \n",
       "3                                             155.55                   \n",
       "4                                             305.94                   \n",
       "\n",
       "   Dietary risks DALYs (Disability-Adjusted Life Years) Rate  \n",
       "0                                            9368.06          \n",
       "1                                            2771.23          \n",
       "2                                            2963.28          \n",
       "3                                            1142.57          \n",
       "4                                            3158.81          "
      ]
     },
     "execution_count": 52,
     "metadata": {},
     "output_type": "execute_result"
    }
   ],
   "source": [
    "df_behrisk=pd.DataFrame()\n",
    "irange = df_behav['indicator'].unique()\n",
    "df_behav.sort_values(['indicator', 'country'], ascending=True, inplace = True)\n",
    "\n",
    "\n",
    "\n",
    "for i in irange:\n",
    "    pivot = df_behav[df_behav['indicator']==i].pivot(index='country', columns='indicator', values='data')\n",
    "    pivot.reset_index(inplace=True)\n",
    "    pivot.columns =['country', i]\n",
    "    df_behrisk['country']=pivot['country']\n",
    "    #df_behrisk [i] = pivot[i]\n",
    "    df_behrisk = pd.concat([df_behrisk, pivot[i]], axis=1)\n",
    "    \n",
    "\n",
    "\n",
    "    \n",
    "\n",
    "df_behrisk.head()\n"
   ]
  },
  {
   "cell_type": "code",
   "execution_count": 53,
   "metadata": {},
   "outputs": [
    {
     "name": "stdout",
     "output_type": "stream",
     "text": [
      "calculate zscore\n"
     ]
    }
   ],
   "source": [
    "print('calculate zscore')"
   ]
  },
  {
   "cell_type": "code",
   "execution_count": 54,
   "metadata": {},
   "outputs": [
    {
     "data": {
      "text/html": [
       "<div>\n",
       "<style scoped>\n",
       "    .dataframe tbody tr th:only-of-type {\n",
       "        vertical-align: middle;\n",
       "    }\n",
       "\n",
       "    .dataframe tbody tr th {\n",
       "        vertical-align: top;\n",
       "    }\n",
       "\n",
       "    .dataframe thead th {\n",
       "        text-align: right;\n",
       "    }\n",
       "</style>\n",
       "<table border=\"1\" class=\"dataframe\">\n",
       "  <thead>\n",
       "    <tr style=\"text-align: right;\">\n",
       "      <th></th>\n",
       "      <th>Alcohol, total per capita (15+) consumption (in litres of pure alcohol)</th>\n",
       "      <th>daily tobacco smoking, age-standardized</th>\n",
       "      <th>Low physical activity DALYs (Disability-Adjusted Life Years) Rate</th>\n",
       "      <th>Dietary risks DALYs (Disability-Adjusted Life Years) Rate</th>\n",
       "    </tr>\n",
       "  </thead>\n",
       "  <tbody>\n",
       "    <tr>\n",
       "      <th>0</th>\n",
       "      <td>-1.399529</td>\n",
       "      <td>-1.049107</td>\n",
       "      <td>4.011284</td>\n",
       "      <td>3.348285</td>\n",
       "    </tr>\n",
       "    <tr>\n",
       "      <th>1</th>\n",
       "      <td>0.261911</td>\n",
       "      <td>0.696818</td>\n",
       "      <td>-0.501429</td>\n",
       "      <td>-0.317161</td>\n",
       "    </tr>\n",
       "    <tr>\n",
       "      <th>2</th>\n",
       "      <td>-1.233385</td>\n",
       "      <td>-0.432899</td>\n",
       "      <td>0.580815</td>\n",
       "      <td>-0.210451</td>\n",
       "    </tr>\n",
       "    <tr>\n",
       "      <th>3</th>\n",
       "      <td>1.163836</td>\n",
       "      <td>1.210325</td>\n",
       "      <td>-0.960551</td>\n",
       "      <td>-1.222106</td>\n",
       "    </tr>\n",
       "    <tr>\n",
       "      <th>4</th>\n",
       "      <td>0.190707</td>\n",
       "      <td>-1.049107</td>\n",
       "      <td>-0.225848</td>\n",
       "      <td>-0.101807</td>\n",
       "    </tr>\n",
       "  </tbody>\n",
       "</table>\n",
       "</div>"
      ],
      "text/plain": [
       "   Alcohol, total per capita (15+) consumption (in litres of pure alcohol)  \\\n",
       "0                                          -1.399529                         \n",
       "1                                           0.261911                         \n",
       "2                                          -1.233385                         \n",
       "3                                           1.163836                         \n",
       "4                                           0.190707                         \n",
       "\n",
       "   daily tobacco smoking, age-standardized  \\\n",
       "0                                -1.049107   \n",
       "1                                 0.696818   \n",
       "2                                -0.432899   \n",
       "3                                 1.210325   \n",
       "4                                -1.049107   \n",
       "\n",
       "   Low physical activity DALYs (Disability-Adjusted Life Years) Rate  \\\n",
       "0                                           4.011284                   \n",
       "1                                          -0.501429                   \n",
       "2                                           0.580815                   \n",
       "3                                          -0.960551                   \n",
       "4                                          -0.225848                   \n",
       "\n",
       "   Dietary risks DALYs (Disability-Adjusted Life Years) Rate  \n",
       "0                                           3.348285          \n",
       "1                                          -0.317161          \n",
       "2                                          -0.210451          \n",
       "3                                          -1.222106          \n",
       "4                                          -0.101807          "
      ]
     },
     "execution_count": 54,
     "metadata": {},
     "output_type": "execute_result"
    }
   ],
   "source": [
    "from scipy.stats import zscore\n",
    "\n",
    "behav_zscore= df_behrisk.iloc[:,1:5]\n",
    "behav_zscore = behav_zscore.apply(zscore)\n",
    "behav_zscore.head()"
   ]
  },
  {
   "cell_type": "code",
   "execution_count": 55,
   "metadata": {},
   "outputs": [
    {
     "data": {
      "text/plain": [
       "(172, 4)"
      ]
     },
     "execution_count": 55,
     "metadata": {},
     "output_type": "execute_result"
    }
   ],
   "source": [
    "behav_zscore.shape"
   ]
  },
  {
   "cell_type": "code",
   "execution_count": 56,
   "metadata": {},
   "outputs": [
    {
     "name": "stdout",
     "output_type": "stream",
     "text": [
      "unpivot data\n"
     ]
    }
   ],
   "source": [
    "print('unpivot data')"
   ]
  },
  {
   "cell_type": "code",
   "execution_count": 57,
   "metadata": {},
   "outputs": [
    {
     "data": {
      "text/html": [
       "<div>\n",
       "<style scoped>\n",
       "    .dataframe tbody tr th:only-of-type {\n",
       "        vertical-align: middle;\n",
       "    }\n",
       "\n",
       "    .dataframe tbody tr th {\n",
       "        vertical-align: top;\n",
       "    }\n",
       "\n",
       "    .dataframe thead th {\n",
       "        text-align: right;\n",
       "    }\n",
       "</style>\n",
       "<table border=\"1\" class=\"dataframe\">\n",
       "  <thead>\n",
       "    <tr style=\"text-align: right;\">\n",
       "      <th></th>\n",
       "      <th>country</th>\n",
       "      <th>indicator</th>\n",
       "      <th>value</th>\n",
       "      <th>indicator_group</th>\n",
       "    </tr>\n",
       "  </thead>\n",
       "  <tbody>\n",
       "    <tr>\n",
       "      <th>0</th>\n",
       "      <td>Afghanistan</td>\n",
       "      <td>Dietary risks DALYs (Disability-Adjusted Life ...</td>\n",
       "      <td>3.348285</td>\n",
       "      <td>Behavioral</td>\n",
       "    </tr>\n",
       "    <tr>\n",
       "      <th>1</th>\n",
       "      <td>Albania</td>\n",
       "      <td>Dietary risks DALYs (Disability-Adjusted Life ...</td>\n",
       "      <td>-0.317161</td>\n",
       "      <td>Behavioral</td>\n",
       "    </tr>\n",
       "    <tr>\n",
       "      <th>2</th>\n",
       "      <td>Algeria</td>\n",
       "      <td>Dietary risks DALYs (Disability-Adjusted Life ...</td>\n",
       "      <td>-0.210451</td>\n",
       "      <td>Behavioral</td>\n",
       "    </tr>\n",
       "    <tr>\n",
       "      <th>3</th>\n",
       "      <td>Andorra</td>\n",
       "      <td>Dietary risks DALYs (Disability-Adjusted Life ...</td>\n",
       "      <td>-1.222106</td>\n",
       "      <td>Behavioral</td>\n",
       "    </tr>\n",
       "    <tr>\n",
       "      <th>4</th>\n",
       "      <td>Angola</td>\n",
       "      <td>Dietary risks DALYs (Disability-Adjusted Life ...</td>\n",
       "      <td>-0.101807</td>\n",
       "      <td>Behavioral</td>\n",
       "    </tr>\n",
       "  </tbody>\n",
       "</table>\n",
       "</div>"
      ],
      "text/plain": [
       "       country                                          indicator     value  \\\n",
       "0  Afghanistan  Dietary risks DALYs (Disability-Adjusted Life ...  3.348285   \n",
       "1      Albania  Dietary risks DALYs (Disability-Adjusted Life ... -0.317161   \n",
       "2      Algeria  Dietary risks DALYs (Disability-Adjusted Life ... -0.210451   \n",
       "3      Andorra  Dietary risks DALYs (Disability-Adjusted Life ... -1.222106   \n",
       "4       Angola  Dietary risks DALYs (Disability-Adjusted Life ... -0.101807   \n",
       "\n",
       "  indicator_group  \n",
       "0      Behavioral  \n",
       "1      Behavioral  \n",
       "2      Behavioral  \n",
       "3      Behavioral  \n",
       "4      Behavioral  "
      ]
     },
     "execution_count": 57,
     "metadata": {},
     "output_type": "execute_result"
    }
   ],
   "source": [
    "behav_zscore['country'] = df_behrisk.iloc[:,0]\n",
    "behav_zscore.reset_index(inplace=True)\n",
    "result_beha = pd.melt(behav_zscore, id_vars=['country'], var_name=['indicator'],\n",
    "        value_vars=['Dietary risks DALYs (Disability-Adjusted Life Years) Rate', \n",
    "                                                     'Alcohol, total per capita (15+) consumption (in litres of pure alcohol)',\n",
    "                                                     'Low physical activity DALYs (Disability-Adjusted Life Years) Rate',\n",
    "                                                    'daily tobacco smoking, age-standardized'])\n",
    "result_beha['indicator_group']='Behavioral'\n",
    "result_beha.head()"
   ]
  },
  {
   "cell_type": "markdown",
   "metadata": {},
   "source": [
    "#### NCD Risk Factor"
   ]
  },
  {
   "cell_type": "code",
   "execution_count": 58,
   "metadata": {},
   "outputs": [],
   "source": [
    "df_ncd = df[(df['indicator_group']=='NCD')]\n",
    "#df_ncd.head()"
   ]
  },
  {
   "cell_type": "code",
   "execution_count": 59,
   "metadata": {},
   "outputs": [],
   "source": [
    "#df_ncd.isnull().sum()"
   ]
  },
  {
   "cell_type": "code",
   "execution_count": 60,
   "metadata": {},
   "outputs": [],
   "source": [
    "#df_ncd['country'].nunique()"
   ]
  },
  {
   "cell_type": "code",
   "execution_count": 61,
   "metadata": {},
   "outputs": [],
   "source": [
    "#df_ncd['indicator'].unique()"
   ]
  },
  {
   "cell_type": "code",
   "execution_count": 62,
   "metadata": {},
   "outputs": [],
   "source": [
    "a = df_ncd[df_ncd['indicator']=='Chronic respiratory diseases Prevalence Rate' ] \n",
    "b = df_ncd[df_ncd['indicator']=='Cardiovascular diseases Prevalence Rate'  ] \n",
    "c = df_ncd[df_ncd['indicator']=='Neoplasms Prevalence Rate' ] \n",
    "\n",
    "\n",
    "common_countries_ncd = \\\n",
    "    set.intersection(set(a['country']), set(b['country']), set(c['country']))\n",
    "\n",
    "\n",
    "df_ncd = pd.concat([\n",
    "    a[a['country'].isin(common_countries_ncd)],\n",
    "    b[b['country'].isin(common_countries_ncd)],\n",
    "    c[c['country'].isin(common_countries_ncd)]\n",
    "    \n",
    "]).sort_values(by='country')"
   ]
  },
  {
   "cell_type": "code",
   "execution_count": 63,
   "metadata": {},
   "outputs": [
    {
     "name": "stdout",
     "output_type": "stream",
     "text": [
      "Data available complete for all indicators considered is for 187 countries\n"
     ]
    }
   ],
   "source": [
    "print('Data available complete for all indicators considered is for {} countries'. format(len(common_countries_ncd)))"
   ]
  },
  {
   "cell_type": "code",
   "execution_count": 64,
   "metadata": {},
   "outputs": [],
   "source": [
    "#df_ncd.isnull().sum()"
   ]
  },
  {
   "cell_type": "code",
   "execution_count": 65,
   "metadata": {},
   "outputs": [
    {
     "name": "stdout",
     "output_type": "stream",
     "text": [
      "outlier detection\n"
     ]
    }
   ],
   "source": [
    "print('outlier detection')"
   ]
  },
  {
   "cell_type": "code",
   "execution_count": 66,
   "metadata": {},
   "outputs": [
    {
     "data": {
      "image/png": "[encoded data removed]",
      "text/plain": [
       "<Figure size 792x576 with 1 Axes>"
      ]
     },
     "metadata": {},
     "output_type": "display_data"
    }
   ],
   "source": [
    "import seaborn as sns\n",
    "sns.set(rc={'figure.figsize':(11,8)})    \n",
    "irange = df_ncd['indicator'].unique()\n",
    "for i in irange:\n",
    "    sns.boxplot(x='indicator', y = df_ncd[df_ncd['indicator']==i]['data'],data=df_ncd, hue='indicator')\n",
    "#ax = sns.boxplot(x=\"Trial\", y=\"value\", hue=\"Number\", data=mdf)  # RUN PLOT "
   ]
  },
  {
   "cell_type": "code",
   "execution_count": 67,
   "metadata": {},
   "outputs": [
    {
     "name": "stdout",
     "output_type": "stream",
     "text": [
      "Chronic respiratory diseases Prevalence Rate\n",
      "Q1 25 percentile of the given data is,  6645.299999999999\n",
      "Q1 50 percentile of the given data is,  7750.04\n",
      "Q1 75 percentile of the given data is,  8801.52\n",
      "Interquartile range is 2156.220000000001\n",
      "low_limit is 3410.9699999999975\n",
      "up_limit is 12035.850000000002\n",
      "cumulative count outlier in the dataset is 63\n"
     ]
    }
   ],
   "source": [
    "print('Chronic respiratory diseases Prevalence Rate')\n",
    "\n",
    "data = df_ncd[df_ncd['indicator']=='Chronic respiratory diseases Prevalence Rate']\n",
    "\n",
    "\n",
    "\n",
    "Q1 = np.percentile(data['data'] , 25, interpolation = 'midpoint')  \n",
    "Q2 = np.percentile(data['data'], 50, interpolation = 'midpoint')  \n",
    "Q3 = np.percentile(data['data'], 75, interpolation = 'midpoint')  \n",
    "  \n",
    "print('Q1 25 percentile of the given data is, ', Q1) \n",
    "print('Q1 50 percentile of the given data is, ', Q2) \n",
    "print('Q1 75 percentile of the given data is, ', Q3) \n",
    "  \n",
    "IQR = Q3 - Q1  \n",
    "print('Interquartile range is', IQR) \n",
    "\n",
    "low_lim = Q1 - 1.5 * IQR \n",
    "up_lim = Q3 + 1.5 * IQR \n",
    "print('low_limit is', low_lim) \n",
    "print('up_limit is', up_lim) \n",
    "\n",
    "for x,c,i in zip( data['data'], data['country'],data['indicator']): \n",
    "    if ((x> up_lim) or (x<low_lim)): \n",
    "        outlier.append(c) \n",
    "        ind.append(i)\n",
    "        val.append(x)     \n",
    "\n",
    "print('cumulative count outlier in the dataset is', len(val))"
   ]
  },
  {
   "cell_type": "code",
   "execution_count": 68,
   "metadata": {},
   "outputs": [
    {
     "name": "stdout",
     "output_type": "stream",
     "text": [
      "Cardiovascular diseases Prevalence Rate\n",
      "Q1 25 percentile of the given data is,  5757.695\n",
      "Q1 50 percentile of the given data is,  6205.78\n",
      "Q1 75 percentile of the given data is,  6806.485000000001\n",
      "Interquartile range is 1048.7900000000009\n",
      "low_limit is 4184.509999999998\n",
      "up_limit is 8379.670000000002\n",
      "cumulative count outlier in the dataset is 66\n"
     ]
    }
   ],
   "source": [
    "print('Cardiovascular diseases Prevalence Rate')\n",
    "\n",
    "data = df_ncd[df_ncd['indicator']=='Cardiovascular diseases Prevalence Rate']\n",
    "\n",
    "\n",
    "\n",
    "Q1 = np.percentile(data['data'] , 25, interpolation = 'midpoint')  \n",
    "Q2 = np.percentile(data['data'], 50, interpolation = 'midpoint')  \n",
    "Q3 = np.percentile(data['data'], 75, interpolation = 'midpoint')  \n",
    "  \n",
    "print('Q1 25 percentile of the given data is, ', Q1) \n",
    "print('Q1 50 percentile of the given data is, ', Q2) \n",
    "print('Q1 75 percentile of the given data is, ', Q3) \n",
    "  \n",
    "IQR = Q3 - Q1  \n",
    "print('Interquartile range is', IQR) \n",
    "\n",
    "low_lim = Q1 - 1.5 * IQR \n",
    "up_lim = Q3 + 1.5 * IQR \n",
    "print('low_limit is', low_lim) \n",
    "print('up_limit is', up_lim) \n",
    "\n",
    "for x,c,i in zip( data['data'], data['country'],data['indicator']): \n",
    "    if ((x> up_lim) or (x<low_lim)): \n",
    "        outlier.append(c) \n",
    "        ind.append(i)\n",
    "        val.append(x)     \n",
    "\n",
    "print('cumulative count outlier in the dataset is', len(val))"
   ]
  },
  {
   "cell_type": "code",
   "execution_count": 69,
   "metadata": {},
   "outputs": [
    {
     "name": "stdout",
     "output_type": "stream",
     "text": [
      "Neoplasms Prevalence Rate\n",
      "Q1 25 percentile of the given data is,  507.34\n",
      "Q1 50 percentile of the given data is,  673.16\n",
      "Q1 75 percentile of the given data is,  1395.0749999999998\n",
      "Interquartile range is 887.7349999999999\n",
      "low_limit is -824.2625\n",
      "up_limit is 2726.6775\n",
      "cumulative count outlier in the dataset is 70\n"
     ]
    }
   ],
   "source": [
    "print('Neoplasms Prevalence Rate')\n",
    "data = df_ncd[df_ncd['indicator']=='Neoplasms Prevalence Rate']\n",
    "\n",
    "\n",
    "\n",
    "Q1 = np.percentile(data['data'] , 25, interpolation = 'midpoint')  \n",
    "Q2 = np.percentile(data['data'], 50, interpolation = 'midpoint')  \n",
    "Q3 = np.percentile(data['data'], 75, interpolation = 'midpoint')  \n",
    "  \n",
    "print('Q1 25 percentile of the given data is, ', Q1) \n",
    "print('Q1 50 percentile of the given data is, ', Q2) \n",
    "print('Q1 75 percentile of the given data is, ', Q3) \n",
    "  \n",
    "IQR = Q3 - Q1  \n",
    "print('Interquartile range is', IQR) \n",
    "\n",
    "low_lim = Q1 - 1.5 * IQR \n",
    "up_lim = Q3 + 1.5 * IQR \n",
    "print('low_limit is', low_lim) \n",
    "print('up_limit is', up_lim) \n",
    "\n",
    "for x,c,i in zip( data['data'], data['country'],data['indicator']): \n",
    "    if ((x> up_lim) or (x<low_lim)): \n",
    "        outlier.append(c) \n",
    "        ind.append(i)\n",
    "        val.append(x)     \n",
    "\n",
    "print('cumulative count outlier in the dataset is', len(val))"
   ]
  },
  {
   "cell_type": "code",
   "execution_count": 70,
   "metadata": {},
   "outputs": [],
   "source": [
    "out = pd.DataFrame(list(zip(outlier,ind,val))) \n",
    "out.to_csv('outliers.csv')"
   ]
  },
  {
   "cell_type": "code",
   "execution_count": 71,
   "metadata": {},
   "outputs": [
    {
     "name": "stdout",
     "output_type": "stream",
     "text": [
      "There are 70 outliers detected.\n"
     ]
    }
   ],
   "source": [
    "print('There are {} outliers detected.'.format(out.shape[0]))"
   ]
  },
  {
   "cell_type": "code",
   "execution_count": 72,
   "metadata": {},
   "outputs": [
    {
     "data": {
      "text/html": [
       "<a download=\"data.csv\" href=\"data:text/csv;base64,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\" target=\"_blank\">Download all outliers</a>"
      ],
      "text/plain": [
       "<IPython.core.display.HTML object>"
      ]
     },
     "execution_count": 72,
     "metadata": {},
     "output_type": "execute_result"
    }
   ],
   "source": [
    "import pandas as pd\n",
    "df=pd.DataFrame()\n",
    "\n",
    "import base64  \n",
    "from IPython.display import HTML\n",
    "\n",
    "def create_download_link( df, title = \"Download all outliers\", filename = \"data.csv\"):  \n",
    "    csv = df.to_csv()\n",
    "    b64 = base64.b64encode(csv.encode())\n",
    "    payload = b64.decode()\n",
    "    html = '<a download=\"{filename}\" href=\"data:text/csv;base64,{payload}\" target=\"_blank\">{title}</a>'\n",
    "    html = html.format(payload=payload,title=title,filename=filename)\n",
    "    return HTML(html)\n",
    "\n",
    "\n",
    "create_download_link(out)"
   ]
  },
  {
   "cell_type": "code",
   "execution_count": 73,
   "metadata": {},
   "outputs": [
    {
     "name": "stdout",
     "output_type": "stream",
     "text": [
      "Neoplasms Prevalence Rate\n",
      "Chronic respiratory diseases Prevalence Rate\n",
      "Cardiovascular diseases Prevalence Rate\n"
     ]
    }
   ],
   "source": [
    "df_ncdrisk=pd.DataFrame()\n",
    "irange = df_ncd['indicator'].unique()\n",
    "df_ncd.sort_values(['indicator', 'country'], ascending=True, inplace = True)\n",
    "\n",
    "for i in irange:\n",
    "    print(i)\n",
    "    pivot = df_ncd[df_ncd['indicator']==i].pivot(index='country', columns='indicator', values='data')\n",
    "    pivot.reset_index(inplace=True)\n",
    "    pivot.columns =['country', i]\n",
    "    df_ncdrisk['country']=pivot['country']\n",
    "    #df_ncd [i] = pivot[i]\n",
    "    df_ncdrisk = pd.concat([df_ncdrisk, pivot[i]], axis=1)\n",
    "    \n",
    "    \n",
    "#df_ncdrisk.head()"
   ]
  },
  {
   "cell_type": "code",
   "execution_count": 74,
   "metadata": {},
   "outputs": [
    {
     "name": "stdout",
     "output_type": "stream",
     "text": [
      "Compute zscore for NCD\n"
     ]
    }
   ],
   "source": [
    "print('Compute zscore for NCD')"
   ]
  },
  {
   "cell_type": "code",
   "execution_count": 75,
   "metadata": {},
   "outputs": [
    {
     "data": {
      "text/html": [
       "<div>\n",
       "<style scoped>\n",
       "    .dataframe tbody tr th:only-of-type {\n",
       "        vertical-align: middle;\n",
       "    }\n",
       "\n",
       "    .dataframe tbody tr th {\n",
       "        vertical-align: top;\n",
       "    }\n",
       "\n",
       "    .dataframe thead th {\n",
       "        text-align: right;\n",
       "    }\n",
       "</style>\n",
       "<table border=\"1\" class=\"dataframe\">\n",
       "  <thead>\n",
       "    <tr style=\"text-align: right;\">\n",
       "      <th></th>\n",
       "      <th>Neoplasms Prevalence Rate</th>\n",
       "      <th>Chronic respiratory diseases Prevalence Rate</th>\n",
       "      <th>Cardiovascular diseases Prevalence Rate</th>\n",
       "    </tr>\n",
       "  </thead>\n",
       "  <tbody>\n",
       "    <tr>\n",
       "      <th>0</th>\n",
       "      <td>-0.672595</td>\n",
       "      <td>1.179129</td>\n",
       "      <td>2.209483</td>\n",
       "    </tr>\n",
       "    <tr>\n",
       "      <th>1</th>\n",
       "      <td>0.108444</td>\n",
       "      <td>-0.772627</td>\n",
       "      <td>2.500656</td>\n",
       "    </tr>\n",
       "    <tr>\n",
       "      <th>2</th>\n",
       "      <td>-0.631944</td>\n",
       "      <td>0.436743</td>\n",
       "      <td>0.997727</td>\n",
       "    </tr>\n",
       "    <tr>\n",
       "      <th>3</th>\n",
       "      <td>1.597424</td>\n",
       "      <td>0.629782</td>\n",
       "      <td>-0.153941</td>\n",
       "    </tr>\n",
       "    <tr>\n",
       "      <th>4</th>\n",
       "      <td>-0.805905</td>\n",
       "      <td>-0.147722</td>\n",
       "      <td>-0.920173</td>\n",
       "    </tr>\n",
       "  </tbody>\n",
       "</table>\n",
       "</div>"
      ],
      "text/plain": [
       "   Neoplasms Prevalence Rate  Chronic respiratory diseases Prevalence Rate  \\\n",
       "0                  -0.672595                                      1.179129   \n",
       "1                   0.108444                                     -0.772627   \n",
       "2                  -0.631944                                      0.436743   \n",
       "3                   1.597424                                      0.629782   \n",
       "4                  -0.805905                                     -0.147722   \n",
       "\n",
       "   Cardiovascular diseases Prevalence Rate  \n",
       "0                                 2.209483  \n",
       "1                                 2.500656  \n",
       "2                                 0.997727  \n",
       "3                                -0.153941  \n",
       "4                                -0.920173  "
      ]
     },
     "execution_count": 75,
     "metadata": {},
     "output_type": "execute_result"
    }
   ],
   "source": [
    "ncd_zscore= df_ncdrisk.iloc[:,1:5]\n",
    "ncd_zscore = ncd_zscore.apply(zscore)\n",
    "ncd_zscore.head()"
   ]
  },
  {
   "cell_type": "code",
   "execution_count": 76,
   "metadata": {},
   "outputs": [
    {
     "data": {
      "text/plain": [
       "(187, 3)"
      ]
     },
     "execution_count": 76,
     "metadata": {},
     "output_type": "execute_result"
    }
   ],
   "source": [
    "ncd_zscore.shape"
   ]
  },
  {
   "cell_type": "code",
   "execution_count": 77,
   "metadata": {},
   "outputs": [
    {
     "name": "stdout",
     "output_type": "stream",
     "text": [
      "unpivot data\n"
     ]
    }
   ],
   "source": [
    "print('unpivot data')"
   ]
  },
  {
   "cell_type": "code",
   "execution_count": 78,
   "metadata": {},
   "outputs": [
    {
     "data": {
      "text/html": [
       "<div>\n",
       "<style scoped>\n",
       "    .dataframe tbody tr th:only-of-type {\n",
       "        vertical-align: middle;\n",
       "    }\n",
       "\n",
       "    .dataframe tbody tr th {\n",
       "        vertical-align: top;\n",
       "    }\n",
       "\n",
       "    .dataframe thead th {\n",
       "        text-align: right;\n",
       "    }\n",
       "</style>\n",
       "<table border=\"1\" class=\"dataframe\">\n",
       "  <thead>\n",
       "    <tr style=\"text-align: right;\">\n",
       "      <th></th>\n",
       "      <th>country</th>\n",
       "      <th>indicator</th>\n",
       "      <th>value</th>\n",
       "      <th>indicator_group</th>\n",
       "    </tr>\n",
       "  </thead>\n",
       "  <tbody>\n",
       "    <tr>\n",
       "      <th>0</th>\n",
       "      <td>Afghanistan</td>\n",
       "      <td>Neoplasms Prevalence Rate</td>\n",
       "      <td>-0.672595</td>\n",
       "      <td>NCD</td>\n",
       "    </tr>\n",
       "    <tr>\n",
       "      <th>1</th>\n",
       "      <td>Albania</td>\n",
       "      <td>Neoplasms Prevalence Rate</td>\n",
       "      <td>0.108444</td>\n",
       "      <td>NCD</td>\n",
       "    </tr>\n",
       "    <tr>\n",
       "      <th>2</th>\n",
       "      <td>Algeria</td>\n",
       "      <td>Neoplasms Prevalence Rate</td>\n",
       "      <td>-0.631944</td>\n",
       "      <td>NCD</td>\n",
       "    </tr>\n",
       "    <tr>\n",
       "      <th>3</th>\n",
       "      <td>Andorra</td>\n",
       "      <td>Neoplasms Prevalence Rate</td>\n",
       "      <td>1.597424</td>\n",
       "      <td>NCD</td>\n",
       "    </tr>\n",
       "    <tr>\n",
       "      <th>4</th>\n",
       "      <td>Angola</td>\n",
       "      <td>Neoplasms Prevalence Rate</td>\n",
       "      <td>-0.805905</td>\n",
       "      <td>NCD</td>\n",
       "    </tr>\n",
       "  </tbody>\n",
       "</table>\n",
       "</div>"
      ],
      "text/plain": [
       "       country                  indicator     value indicator_group\n",
       "0  Afghanistan  Neoplasms Prevalence Rate -0.672595             NCD\n",
       "1      Albania  Neoplasms Prevalence Rate  0.108444             NCD\n",
       "2      Algeria  Neoplasms Prevalence Rate -0.631944             NCD\n",
       "3      Andorra  Neoplasms Prevalence Rate  1.597424             NCD\n",
       "4       Angola  Neoplasms Prevalence Rate -0.805905             NCD"
      ]
     },
     "execution_count": 78,
     "metadata": {},
     "output_type": "execute_result"
    }
   ],
   "source": [
    "ncd_zscore['country'] = df_ncdrisk.iloc[:,0]\n",
    "ncd_zscore.reset_index(inplace=True)\n",
    "result_ncd = pd.melt(ncd_zscore, id_vars=['country'], var_name=['indicator'],\n",
    "        value_vars=['Neoplasms Prevalence Rate', \n",
    "                                                      'Chronic respiratory diseases Prevalence Rate',\n",
    "                                                     'Cardiovascular diseases Prevalence Rate'\n",
    "                                                ])\n",
    "result_ncd['indicator_group']='NCD'\n",
    "result_ncd.head()"
   ]
  },
  {
   "cell_type": "code",
   "execution_count": 79,
   "metadata": {},
   "outputs": [],
   "source": [
    "result = result_ncd.append([result_beha, result_meta])\n",
    "result['value']=result['value'].round(2)\n",
    "#result.head()"
   ]
  },
  {
   "cell_type": "markdown",
   "metadata": {},
   "source": [
    "## Results"
   ]
  },
  {
   "cell_type": "code",
   "execution_count": 80,
   "metadata": {},
   "outputs": [
    {
     "name": "stdout",
     "output_type": "stream",
     "text": [
      "snapshot of the results: \n"
     ]
    },
    {
     "data": {
      "text/html": [
       "<div>\n",
       "<style scoped>\n",
       "    .dataframe tbody tr th:only-of-type {\n",
       "        vertical-align: middle;\n",
       "    }\n",
       "\n",
       "    .dataframe tbody tr th {\n",
       "        vertical-align: top;\n",
       "    }\n",
       "\n",
       "    .dataframe thead th {\n",
       "        text-align: right;\n",
       "    }\n",
       "</style>\n",
       "<table border=\"1\" class=\"dataframe\">\n",
       "  <thead>\n",
       "    <tr style=\"text-align: right;\">\n",
       "      <th></th>\n",
       "      <th>country</th>\n",
       "      <th>indicator</th>\n",
       "      <th>value</th>\n",
       "      <th>indicator_group</th>\n",
       "    </tr>\n",
       "  </thead>\n",
       "  <tbody>\n",
       "    <tr>\n",
       "      <th>0</th>\n",
       "      <td>Afghanistan</td>\n",
       "      <td>Neoplasms Prevalence Rate</td>\n",
       "      <td>-0.67</td>\n",
       "      <td>NCD</td>\n",
       "    </tr>\n",
       "    <tr>\n",
       "      <th>1</th>\n",
       "      <td>Albania</td>\n",
       "      <td>Neoplasms Prevalence Rate</td>\n",
       "      <td>0.11</td>\n",
       "      <td>NCD</td>\n",
       "    </tr>\n",
       "    <tr>\n",
       "      <th>2</th>\n",
       "      <td>Algeria</td>\n",
       "      <td>Neoplasms Prevalence Rate</td>\n",
       "      <td>-0.63</td>\n",
       "      <td>NCD</td>\n",
       "    </tr>\n",
       "    <tr>\n",
       "      <th>3</th>\n",
       "      <td>Andorra</td>\n",
       "      <td>Neoplasms Prevalence Rate</td>\n",
       "      <td>1.60</td>\n",
       "      <td>NCD</td>\n",
       "    </tr>\n",
       "    <tr>\n",
       "      <th>4</th>\n",
       "      <td>Angola</td>\n",
       "      <td>Neoplasms Prevalence Rate</td>\n",
       "      <td>-0.81</td>\n",
       "      <td>NCD</td>\n",
       "    </tr>\n",
       "    <tr>\n",
       "      <th>5</th>\n",
       "      <td>Antigua and Barbuda</td>\n",
       "      <td>Neoplasms Prevalence Rate</td>\n",
       "      <td>0.23</td>\n",
       "      <td>NCD</td>\n",
       "    </tr>\n",
       "    <tr>\n",
       "      <th>6</th>\n",
       "      <td>Argentina</td>\n",
       "      <td>Neoplasms Prevalence Rate</td>\n",
       "      <td>0.09</td>\n",
       "      <td>NCD</td>\n",
       "    </tr>\n",
       "    <tr>\n",
       "      <th>7</th>\n",
       "      <td>Armenia</td>\n",
       "      <td>Neoplasms Prevalence Rate</td>\n",
       "      <td>-0.08</td>\n",
       "      <td>NCD</td>\n",
       "    </tr>\n",
       "    <tr>\n",
       "      <th>8</th>\n",
       "      <td>Australia</td>\n",
       "      <td>Neoplasms Prevalence Rate</td>\n",
       "      <td>2.29</td>\n",
       "      <td>NCD</td>\n",
       "    </tr>\n",
       "    <tr>\n",
       "      <th>9</th>\n",
       "      <td>Austria</td>\n",
       "      <td>Neoplasms Prevalence Rate</td>\n",
       "      <td>1.38</td>\n",
       "      <td>NCD</td>\n",
       "    </tr>\n",
       "  </tbody>\n",
       "</table>\n",
       "</div>"
      ],
      "text/plain": [
       "               country                  indicator  value indicator_group\n",
       "0          Afghanistan  Neoplasms Prevalence Rate  -0.67             NCD\n",
       "1              Albania  Neoplasms Prevalence Rate   0.11             NCD\n",
       "2              Algeria  Neoplasms Prevalence Rate  -0.63             NCD\n",
       "3              Andorra  Neoplasms Prevalence Rate   1.60             NCD\n",
       "4               Angola  Neoplasms Prevalence Rate  -0.81             NCD\n",
       "5  Antigua and Barbuda  Neoplasms Prevalence Rate   0.23             NCD\n",
       "6            Argentina  Neoplasms Prevalence Rate   0.09             NCD\n",
       "7              Armenia  Neoplasms Prevalence Rate  -0.08             NCD\n",
       "8            Australia  Neoplasms Prevalence Rate   2.29             NCD\n",
       "9              Austria  Neoplasms Prevalence Rate   1.38             NCD"
      ]
     },
     "execution_count": 80,
     "metadata": {},
     "output_type": "execute_result"
    }
   ],
   "source": [
    "result['value'] = result['value'].astype('float64')\n",
    "print('snapshot of the results: ')\n",
    "result.head(10)"
   ]
  },
  {
   "cell_type": "code",
   "execution_count": 81,
   "metadata": {},
   "outputs": [
    {
     "name": "stdout",
     "output_type": "stream",
     "text": [
      "Number of data points per risk group\n"
     ]
    },
    {
     "data": {
      "text/plain": [
       "Behavioral    688\n",
       "Metabolic     573\n",
       "NCD           561\n",
       "Name: indicator_group, dtype: int64"
      ]
     },
     "execution_count": 81,
     "metadata": {},
     "output_type": "execute_result"
    }
   ],
   "source": [
    "print('Number of data points per risk group')\n",
    "result['indicator_group'].value_counts()"
   ]
  },
  {
   "cell_type": "code",
   "execution_count": 82,
   "metadata": {},
   "outputs": [
    {
     "name": "stdout",
     "output_type": "stream",
     "text": [
      "The dimensions of the unpivoted result file are (1822, 4)\n"
     ]
    }
   ],
   "source": [
    "print('The dimensions of the unpivoted result file are {}'.format(result.shape))"
   ]
  },
  {
   "cell_type": "code",
   "execution_count": 83,
   "metadata": {},
   "outputs": [],
   "source": [
    "result.to_csv('res.csv')"
   ]
  },
  {
   "cell_type": "code",
   "execution_count": 84,
   "metadata": {},
   "outputs": [],
   "source": [
    "#print(np.where(result['value'] > 3.0))"
   ]
  },
  {
   "cell_type": "code",
   "execution_count": 85,
   "metadata": {},
   "outputs": [],
   "source": [
    "#i = np.where(result['value'] > 3.0)[0]\n",
    "#result.iloc[i,:]"
   ]
  },
  {
   "cell_type": "markdown",
   "metadata": {},
   "source": [
    "### Export to csv"
   ]
  },
  {
   "cell_type": "code",
   "execution_count": 86,
   "metadata": {},
   "outputs": [
    {
     "data": {
      "text/html": [
       "<a download=\"data.csv\" href=\"data:text/csv;base64,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\" target=\"_blank\">Download all the results</a>"
      ],
      "text/plain": [
       "<IPython.core.display.HTML object>"
      ]
     },
     "execution_count": 86,
     "metadata": {},
     "output_type": "execute_result"
    }
   ],
   "source": [
    "result.to_csv('res.csv')\n",
    "\n",
    "import pandas as pd\n",
    "df=pd.DataFrame()\n",
    "\n",
    "import base64  \n",
    "from IPython.display import HTML\n",
    "\n",
    "def create_download_link( df, title = \"Download all the results\", filename = \"data.csv\"):  \n",
    "    csv = df.to_csv()\n",
    "    b64 = base64.b64encode(csv.encode())\n",
    "    payload = b64.decode()\n",
    "    html = '<a download=\"{filename}\" href=\"data:text/csv;base64,{payload}\" target=\"_blank\">{title}</a>'\n",
    "    html = html.format(payload=payload,title=title,filename=filename)\n",
    "    return HTML(html)\n",
    "\n",
    "\n",
    "create_download_link(result)"
   ]
  },
  {
   "cell_type": "markdown",
   "metadata": {},
   "source": [
    "### Visualization"
   ]
  },
  {
   "cell_type": "code",
   "execution_count": 87,
   "metadata": {},
   "outputs": [],
   "source": [
    "pivot = result.pivot(index='country', columns='indicator', values='value')\n",
    "#pivot.reset_index()\n",
    "pivot = pivot.reset_index(drop=False)\n",
    "#pivot.head()"
   ]
  },
  {
   "cell_type": "code",
   "execution_count": 88,
   "metadata": {},
   "outputs": [
    {
     "name": "stdout",
     "output_type": "stream",
     "text": [
      "Pivoted results has the following dimensions (193, 11)\n"
     ]
    }
   ],
   "source": [
    "print('Pivoted results has the following dimensions {}'.format(pivot.shape))"
   ]
  },
  {
   "cell_type": "code",
   "execution_count": 89,
   "metadata": {},
   "outputs": [
    {
     "name": "stdout",
     "output_type": "stream",
     "text": [
      "Gaps in data by count indicator\n",
      "country                                                                                        0\n",
      "Alcohol, total per capita (15+) consumption (in litres of pure alcohol)                       21\n",
      "Cardiovascular diseases Prevalence Rate                                                        6\n",
      "Chronic respiratory diseases Prevalence Rate                                                   6\n",
      "Dietary risks DALYs (Disability-Adjusted Life Years) Rate                                     21\n",
      "Low physical activity DALYs (Disability-Adjusted Life Years) Rate                             21\n",
      "Neoplasms Prevalence Rate                                                                      6\n",
      "Prevalence of overweight among adults, BMI &GreaterEqual; 25 (crude estimate) (%)              2\n",
      "Raised blood pressure (SBP>=140 OR DBP>=90) (crude estimate), 18+  years                       2\n",
      "Raised fasting blood glucose (>= 7.0 mmol/L or on medication) (crude estimate), 18+  years     2\n",
      "daily tobacco smoking, age-standardized                                                       21\n",
      "dtype: int64\n"
     ]
    }
   ],
   "source": [
    "print ('Gaps in data by count {}'.format( pivot.isnull().sum()))"
   ]
  },
  {
   "cell_type": "code",
   "execution_count": 90,
   "metadata": {},
   "outputs": [
    {
     "data": {
      "text/html": [
       "<a download=\"data.csv\" href=\"data:text/csv;base64,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\" target=\"_blank\">Download all gaps missing in data</a>"
      ],
      "text/plain": [
       "<IPython.core.display.HTML object>"
      ]
     },
     "execution_count": 90,
     "metadata": {},
     "output_type": "execute_result"
    }
   ],
   "source": [
    "missing = pivot[pivot.isnull().any(axis=1)]\n",
    "missing.to_csv('missing.csv')\n",
    "\n",
    "import pandas as pd\n",
    "df=pd.DataFrame()\n",
    "\n",
    "import base64  \n",
    "from IPython.display import HTML\n",
    "\n",
    "def create_download_link( df, title = \"Download all gaps missing in data\", filename = \"data.csv\"):  \n",
    "    csv = df.to_csv()\n",
    "    b64 = base64.b64encode(csv.encode())\n",
    "    payload = b64.decode()\n",
    "    html = '<a download=\"{filename}\" href=\"data:text/csv;base64,{payload}\" target=\"_blank\">{title}</a>'\n",
    "    html = html.format(payload=payload,title=title,filename=filename)\n",
    "    return HTML(html)\n",
    "\n",
    "\n",
    "create_download_link(missing)"
   ]
  },
  {
   "cell_type": "code",
   "execution_count": 91,
   "metadata": {},
   "outputs": [],
   "source": [
    "pivot = pivot.dropna() "
   ]
  },
  {
   "cell_type": "code",
   "execution_count": 92,
   "metadata": {},
   "outputs": [],
   "source": [
    "#pivot.isnull().sum()"
   ]
  },
  {
   "cell_type": "code",
   "execution_count": 93,
   "metadata": {},
   "outputs": [
    {
     "data": {
      "text/plain": [
       "(172, 11)"
      ]
     },
     "execution_count": 93,
     "metadata": {},
     "output_type": "execute_result"
    }
   ],
   "source": [
    "pivot.shape"
   ]
  },
  {
   "cell_type": "code",
   "execution_count": 94,
   "metadata": {},
   "outputs": [],
   "source": [
    "pivot['score'] = pivot.mean(axis=1).round(2)"
   ]
  },
  {
   "cell_type": "code",
   "execution_count": 95,
   "metadata": {},
   "outputs": [],
   "source": [
    "#pivot['Low physical activity DALYs (Disability-Adjusted Life Years) Rate']=pivot['Low physical activity DALYs (Disability-Adjusted Life Years) Rate']*-1"
   ]
  },
  {
   "cell_type": "code",
   "execution_count": 96,
   "metadata": {},
   "outputs": [],
   "source": [
    "score_min = pivot['score'].min()\n",
    "score_max= pivot['score'].max()"
   ]
  },
  {
   "cell_type": "code",
   "execution_count": 97,
   "metadata": {},
   "outputs": [
    {
     "name": "stdout",
     "output_type": "stream",
     "text": [
      "Normalized the scores 0-100\n"
     ]
    }
   ],
   "source": [
    "print('Normalized the scores 0-100')"
   ]
  },
  {
   "cell_type": "code",
   "execution_count": 98,
   "metadata": {},
   "outputs": [],
   "source": [
    "pivot['score_norm'] = (((pivot['score'] - score_min) / (score_max - score_min))*100).round(2)\n",
    "pivot['rank']= pivot['score_norm'].rank(ascending=False)"
   ]
  },
  {
   "cell_type": "code",
   "execution_count": 99,
   "metadata": {},
   "outputs": [],
   "source": [
    "#pivot.head()\n",
    "#pivot['score_norm'].min()"
   ]
  },
  {
   "cell_type": "code",
   "execution_count": 100,
   "metadata": {},
   "outputs": [
    {
     "data": {
      "text/html": [
       "<a download=\"data.csv\" href=\"data:text/csv;base64,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\" target=\"_blank\">Download Ranks in CSV</a>"
      ],
      "text/plain": [
       "<IPython.core.display.HTML object>"
      ]
     },
     "execution_count": 100,
     "metadata": {},
     "output_type": "execute_result"
    }
   ],
   "source": [
    "pivot.to_csv('ranks.csv')\n",
    "pivot.sort_values(by=['rank'])\n",
    "import pandas as pd\n",
    "df=pd.DataFrame()\n",
    "\n",
    "import base64  \n",
    "from IPython.display import HTML\n",
    "\n",
    "def create_download_link( df, title = \"Download Ranks in CSV\", filename = \"data.csv\"):  \n",
    "    csv = df.to_csv()\n",
    "    b64 = base64.b64encode(csv.encode())\n",
    "    payload = b64.decode()\n",
    "    html = '<a download=\"{filename}\" href=\"data:text/csv;base64,{payload}\" target=\"_blank\">{title}</a>'\n",
    "    html = html.format(payload=payload,title=title,filename=filename)\n",
    "    return HTML(html)\n",
    "\n",
    "\n",
    "create_download_link(pivot)"
   ]
  },
  {
   "cell_type": "code",
   "execution_count": 101,
   "metadata": {},
   "outputs": [],
   "source": [
    "#!pip install geopy"
   ]
  },
  {
   "cell_type": "code",
   "execution_count": 102,
   "metadata": {},
   "outputs": [],
   "source": [
    "# use geocoder to fetch the lat and lng of cities with locations that do not have a Trader Joe's\n",
    "from geopy.extra.rate_limiter import RateLimiter\n",
    "from geopy.geocoders import Nominatim\n",
    "\n",
    "lat=[]\n",
    "lng=[]\n",
    "\n",
    "\n",
    "for c in pivot['country']:\n",
    "    address = c\n",
    "    #print(c)\n",
    "    \n",
    "    geolocator = Nominatim(user_agent=\"explorer\",timeout=4)\n",
    "    #RateLimiter allows to perform bulk operations while gracefully handling error responses and adding delays when needed.\n",
    "    #to avoid: urlopen error timed\n",
    "    geocode = RateLimiter(geolocator.geocode, min_delay_seconds=4)\n",
    "    location = geolocator.geocode(address)\n",
    "    lat.append(location.latitude)\n",
    "    lng.append(location.longitude)\n",
    "    \n",
    "    \n",
    "pivot['Latitude']=lat\n",
    "pivot['Longitude']=lng"
   ]
  },
  {
   "cell_type": "code",
   "execution_count": 103,
   "metadata": {},
   "outputs": [],
   "source": [
    "#import plotly\n",
    "#plotly.__version__\n",
    "\n",
    "#!pip install plotly==4.8.1\n",
    "#!pip install chart-studio==1.0.0"
   ]
  },
  {
   "cell_type": "code",
   "execution_count": 105,
   "metadata": {
    "scrolled": false,
    "toc": true
   },
   "outputs": [
    {
     "data": {
      "text/html": [
       "\n",
       "        <iframe\n",
       "            width=\"1000px\"\n",
       "            height=\"600px\"\n",
       "            src=\"https://plotly.com/~gse19/2.embed\"\n",
       "            frameborder=\"0\"\n",
       "            allowfullscreen\n",
       "        ></iframe>\n",
       "        "
      ],
      "text/plain": [
       "<IPython.lib.display.IFrame at 0x7f473fa75320>"
      ]
     },
     "execution_count": 105,
     "metadata": {},
     "output_type": "execute_result"
    }
   ],
   "source": [
    "import plotly.express as px\n",
    "\n",
    "\n",
    "import chart_studio.plotly as py\n",
    "#import chart_studio.plotly as py\n",
    "\n",
    "from chart_studio.tools import set_config_file\n",
    "set_config_file(plotly_domain=\"https://plotly.com\", plotly_api_domain=\"https://api.plotly.com\")\n",
    "\n",
    "chart_studio.tools.set_credentials_file(username='gse19', api_key='BC3tpGMkqCm1Y8pIEK7e')\n",
    "\n",
    "\n",
    "\n",
    "#plotly.tools.set_credentials_file(username='gse19', api_key='BC3tpGMkqCm1Y8pIEK7e')\n",
    "\n",
    "from plotly import graph_objs as go\n",
    "#import plotly.graph_objects as go\n",
    "\n",
    "\n",
    "pivot['text'] = pivot['country'] + \" <br>Score: \" + pivot[\"score_norm\"].astype(str) + \"<br> Rank: \" +  pivot[\"rank\"].astype(str)\n",
    "fig = go.Figure(data = go.Scattergeo(\n",
    "    lon = pivot[\"Longitude\"],\n",
    "    lat = pivot[\"Latitude\"],\n",
    "    text = pivot[\"text\"],\n",
    "    mode = \"markers\",\n",
    "    marker = dict(\n",
    "        size = 10,\n",
    "        opacity = 0.8,\n",
    "        reversescale = True,\n",
    "        autocolorscale = False,\n",
    "        symbol = 'circle',\n",
    "        line = dict(\n",
    "            width = 1,\n",
    "            color = 'rgba(102, 102, 102)'\n",
    "        ),\n",
    "        cmin = pivot[\"score_norm\"].min(),\n",
    "        color = pivot[\"score_norm\"],\n",
    "        cmax = pivot[\"score_norm\"].max()\n",
    "        ,colorbar_title = \"Vulnerability Index\"\n",
    "    )\n",
    "))\n",
    "\n",
    "\n",
    "\n",
    "\n",
    "fig.update_layout(\n",
    "    title = \"Vulnerability Index for Countries Around the World <b> Hover over the circles\",\n",
    "    geo = dict(\n",
    "        scope = \"world\",\n",
    "        showland = True,\n",
    "    ),\n",
    "    width=1000, height=600\n",
    "    \n",
    "    \n",
    ")\n",
    "\n",
    "#fig.write_html('first_figure.html', auto_open=True)\n",
    "#fig.show()\n",
    "\n",
    "py.iplot(fig, filename = 'Vulnerability Index', auto_open=True)"
   ]
  },
  {
   "cell_type": "code",
   "execution_count": null,
   "metadata": {},
   "outputs": [],
   "source": [
    "#! pip uninstall plotly --yes\n",
    "#! conda uninstall plotly\n",
    "# conda install -c plotly plotly\n",
    "#! pip uninstall plotly"
   ]
  }
 ],
 "metadata": {
  "kernelspec": {
   "display_name": "Python 3.6",
   "language": "python",
   "name": "python3"
  },
  "language_info": {
   "codemirror_mode": {
    "name": "ipython",
    "version": 3
   },
   "file_extension": ".py",
   "mimetype": "text/x-python",
   "name": "python",
   "nbconvert_exporter": "python",
   "pygments_lexer": "ipython3",
   "version": "3.6.9"
  },
  "toc": {
   "base_numbering": 1,
   "nav_menu": {
    "height": "248px",
    "width": "260px"
   },
   "number_sections": true,
   "sideBar": false,
   "skip_h1_title": true,
   "title_cell": "Table of Contents",
   "title_sidebar": "Contents",
   "toc_cell": true,
   "toc_position": {
    "height": "660px",
    "left": "83px",
    "top": "151px",
    "width": "335px"
   },
   "toc_section_display": false,
   "toc_window_display": true
  }
 },
 "nbformat": 4,
 "nbformat_minor": 1
}
