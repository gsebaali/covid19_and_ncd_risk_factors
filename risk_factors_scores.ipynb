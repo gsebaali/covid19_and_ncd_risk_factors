{
 "cells": [
  {
   "cell_type": "markdown",
   "metadata": {
    "toc": true
   },
   "source": [
    "<h1>Table of Contents<span class=\"tocSkip\"></span></h1>\n",
    "<div class=\"toc\"><ul class=\"toc-item\"><li><span><a><span class=\"toc-item-num\">1  </span>Data pre-processing</a></span><ul class=\"toc-item\"><li><span><a><span class=\"toc-item-num\">1.1  </span>Import data</a></span></li><li><span><a><span class=\"toc-item-num\">1.2  </span>Group indicators into risk factors</a></span></li><li><span><a><span class=\"toc-item-num\">1.3  </span>Explore Indicator availability over the years</a></span></li><li><span><a><span class=\"toc-item-num\">1.4  </span>Explore data disagregation</a></span><ul class=\"toc-item\"><li><span><a><span class=\"toc-item-num\">1.4.1  </span>NCD Risk Factor</a></span></li><li><span><a><span class=\"toc-item-num\">1.4.2  </span>Metabolic &amp; Behavioral Risk Factors</a></span></li><li><span><a><span class=\"toc-item-num\">1.4.3  </span>Other Risk Factor</a></span></li></ul></li><li><span><a><span class=\"toc-item-num\">1.5  </span>Change rates to number [work in progress]</a></span></li><li><span><a><span class=\"toc-item-num\">1.6  </span>Explore correlations of indicators of risk factors</a></span><ul class=\"toc-item\"><li><span><a><span class=\"toc-item-num\">1.6.1  </span>Metabolic Risk Factor</a></span></li><li><span><a><span class=\"toc-item-num\">1.6.2  </span>Behavorial Risk Factor</a></span></li><li><span><a><span class=\"toc-item-num\">1.6.3  </span>NCD Risk Factor</a></span></li></ul></li><li><span><a><span class=\"toc-item-num\">1.7  </span>Explore Missing countries and data points</a></span></li></ul></li><li><span><a><span class=\"toc-item-num\">2  </span>Assigning Risk Factor Scores using Percentage Binning</a></span><ul class=\"toc-item\"><li><span><a><span class=\"toc-item-num\">2.1  </span>NCD Risk Factor</a></span></li><li><span><a><span class=\"toc-item-num\">2.2  </span>Metabolic Risk Factor</a></span></li><li><span><a><span class=\"toc-item-num\">2.3  </span>Behavioral Risk Factor</a></span></li></ul></li></ul></div>"
   ]
  },
  {
   "cell_type": "markdown",
   "metadata": {},
   "source": [
    "## Data pre-processing"
   ]
  },
  {
   "cell_type": "markdown",
   "metadata": {},
   "source": [
    "### Import data"
   ]
  },
  {
   "cell_type": "code",
   "execution_count": 2,
   "metadata": {},
   "outputs": [],
   "source": [
    "import pandas as pd\n",
    "df = pd.read_csv('covid19- merged risk factors-v2-06May20.csv')"
   ]
  },
  {
   "cell_type": "code",
   "execution_count": 3,
   "metadata": {},
   "outputs": [
    {
     "name": "stdout",
     "output_type": "stream",
     "text": [
      "There are 23512 rows in the imported dataset.\n"
     ]
    }
   ],
   "source": [
    "print('There are {} rows in the imported dataset.'.format(df.shape[0]))"
   ]
  },
  {
   "cell_type": "code",
   "execution_count": 4,
   "metadata": {},
   "outputs": [
    {
     "name": "stdout",
     "output_type": "stream",
     "text": [
      "There are 44 unique indicators in the imported dataset in total.\n"
     ]
    }
   ],
   "source": [
    "print('There are {} unique indicators in the imported dataset in total.'.format(df['Indicator'].nunique()))"
   ]
  },
  {
   "cell_type": "code",
   "execution_count": 5,
   "metadata": {},
   "outputs": [
    {
     "name": "stdout",
     "output_type": "stream",
     "text": [
      "colums imported and their datatypes\n"
     ]
    },
    {
     "data": {
      "text/plain": [
       "Country            object\n",
       "Year                int64\n",
       "Indicator          object\n",
       "Disaggregation     object\n",
       "Data              float64\n",
       "Source             object\n",
       "dtype: object"
      ]
     },
     "execution_count": 5,
     "metadata": {},
     "output_type": "execute_result"
    }
   ],
   "source": [
    "print('colums imported and their datatypes')\n",
    "df.dtypes"
   ]
  },
  {
   "cell_type": "code",
   "execution_count": 6,
   "metadata": {},
   "outputs": [
    {
     "data": {
      "text/html": [
       "<div>\n",
       "<table class=\"dataframe\">\n",
       "  <thead>\n",
       "    <tr style=\"text-align: right;\">\n",
       "      <th></th>\n",
       "      <th>Country</th>\n",
       "      <th>Year</th>\n",
       "      <th>Indicator</th>\n",
       "      <th>Disaggregation</th>\n",
       "      <th>Data</th>\n",
       "      <th>Source</th>\n",
       "    </tr>\n",
       "  </thead>\n",
       "  <tbody>\n",
       "    <tr>\n",
       "      <th>0</th>\n",
       "      <td>Albania</td>\n",
       "      <td>2013</td>\n",
       "      <td>Daily tobacco smoking, age-standardised</td>\n",
       "      <td>Both sexes</td>\n",
       "      <td>23.8</td>\n",
       "      <td>WHO GHO. https://apps.who.int/gho/data/node.ma...</td>\n",
       "    </tr>\n",
       "    <tr>\n",
       "      <th>1</th>\n",
       "      <td>Albania</td>\n",
       "      <td>2013</td>\n",
       "      <td>Daily tobacco smoking, age-standardised</td>\n",
       "      <td>Male</td>\n",
       "      <td>41.7</td>\n",
       "      <td>WHO GHO. https://apps.who.int/gho/data/node.ma...</td>\n",
       "    </tr>\n",
       "    <tr>\n",
       "      <th>2</th>\n",
       "      <td>Albania</td>\n",
       "      <td>2013</td>\n",
       "      <td>Daily tobacco smoking, age-standardised</td>\n",
       "      <td>Female</td>\n",
       "      <td>6.2</td>\n",
       "      <td>WHO GHO. https://apps.who.int/gho/data/node.ma...</td>\n",
       "    </tr>\n",
       "    <tr>\n",
       "      <th>3</th>\n",
       "      <td>Albania</td>\n",
       "      <td>2013</td>\n",
       "      <td>Daily cigarette smoking, age-standardised</td>\n",
       "      <td>Both sexes</td>\n",
       "      <td>21.3</td>\n",
       "      <td>WHO GHO. https://apps.who.int/gho/data/node.ma...</td>\n",
       "    </tr>\n",
       "    <tr>\n",
       "      <th>4</th>\n",
       "      <td>Albania</td>\n",
       "      <td>2013</td>\n",
       "      <td>Daily cigarette smoking, age-standardised</td>\n",
       "      <td>Male</td>\n",
       "      <td>38.4</td>\n",
       "      <td>WHO GHO. https://apps.who.int/gho/data/node.ma...</td>\n",
       "    </tr>\n",
       "  </tbody>\n",
       "</table>\n",
       "</div>"
      ],
      "text/plain": [
       "   Country  Year                                  Indicator Disaggregation  \\\n",
       "0  Albania  2013    Daily tobacco smoking, age-standardised     Both sexes   \n",
       "1  Albania  2013    Daily tobacco smoking, age-standardised           Male   \n",
       "2  Albania  2013    Daily tobacco smoking, age-standardised         Female   \n",
       "3  Albania  2013  Daily cigarette smoking, age-standardised     Both sexes   \n",
       "4  Albania  2013  Daily cigarette smoking, age-standardised           Male   \n",
       "\n",
       "   Data                                             Source  \n",
       "0  23.8  WHO GHO. https://apps.who.int/gho/data/node.ma...  \n",
       "1  41.7  WHO GHO. https://apps.who.int/gho/data/node.ma...  \n",
       "2   6.2  WHO GHO. https://apps.who.int/gho/data/node.ma...  \n",
       "3  21.3  WHO GHO. https://apps.who.int/gho/data/node.ma...  \n",
       "4  38.4  WHO GHO. https://apps.who.int/gho/data/node.ma...  "
      ]
     },
     "execution_count": 6,
     "metadata": {},
     "output_type": "execute_result"
    }
   ],
   "source": [
    "df.head()"
   ]
  },
  {
   "cell_type": "markdown",
   "metadata": {},
   "source": [
    "### Group indicators into risk factors"
   ]
  },
  {
   "cell_type": "code",
   "execution_count": 7,
   "metadata": {},
   "outputs": [],
   "source": [
    "groups=[]\n",
    "for i in df['Indicator']:\n",
    "    if i in ('Alcohol, heavy episodic drinking (15+) past 30 days (%), age-standardized',\n",
    "             'Alcohol, recorded per capita (15+) consumption (in litres of pure alcohol)',\n",
    "             'Current cigarette smoking, age-standardised',\n",
    "             'Current tobacco smoking, age-standardised',\n",
    "             'Daily cigarette smoking, age-standardised',\n",
    "             'Daily tobacco smoking, age-standardised'):\n",
    "        groups.append('Behavioral Risk Factor')\n",
    "    elif i in ('Raised blood pressure (SBP>=140 OR DBP>=90) (crude estimate), 18+  years',\n",
    "               'Raised fasting blood glucose (>= 7.0 mmol/L or on medication) (crude estimate), 18+  years',\n",
    "               'Stunting - height-for-age (<-2SD)',\n",
    "               'Interstitial lung disease and pulmonary sarcoidosis prevalence rate',\n",
    "               'Prevalence of obesity among adults, BMI &GreaterEqual; 30 (age-standardized estimate) (%)',\n",
    "               'Prevalence of overweight among adults, BMI &GreaterEqual; 25 (crude estimate) (%)'):\n",
    "        groups.append('Metabolic Risk Factor')\n",
    "    elif i in ('Chronic obstructive pulmonary disease prevalence rate',\n",
    "               'Chronic respiratory diseases prevalence rate',\n",
    "               'Asthma prevalence rate',\n",
    "               'Other chronic respiratory diseases prevalence rate',\n",
    "               'Pneumoconiosis prevalence rate',\n",
    "               'Estimated number of new cases, all cancers, all ages (crude-estimate)',\n",
    "               'Diabetes prevalence',\n",
    "               'Cancer prevalence',\n",
    "               'Cardiovascular diseases prevalence'):\n",
    "        groups.append('NCD Prevalence Rate')\n",
    "    elif i in ('Concentrations of fine particulate matter (PM2.5)',\n",
    "               'Total population by five-year age group (thousands)'):\n",
    "        groups.append('Other')\n",
    "    else:\n",
    "        groups.append('')\n",
    "        \n",
    "df['Risk Factor']=groups"
   ]
  },
  {
   "cell_type": "code",
   "execution_count": 8,
   "metadata": {},
   "outputs": [
    {
     "data": {
      "text/plain": [
       "array([''], dtype=object)"
      ]
     },
     "execution_count": 8,
     "metadata": {},
     "output_type": "execute_result"
    }
   ],
   "source": [
    "df_other = df[(df['Risk Factor'] != 'NCD Prevalence Rate') \n",
    "   & (df['Risk Factor'] != 'Metabolic Risk Factor') \n",
    "   & (df['Risk Factor'] != 'Behavioral Risk Factor')\n",
    " & (df['Risk Factor'] != 'Other')]\n",
    "df_other['Risk Factor'].unique()"
   ]
  },
  {
   "cell_type": "code",
   "execution_count": 9,
   "metadata": {},
   "outputs": [
    {
     "name": "stdout",
     "output_type": "stream",
     "text": [
      "Drop the following indicators that are not to be included in any risk factor analysis:\n"
     ]
    },
    {
     "data": {
      "text/plain": [
       "array(['HIV/AIDS prevalence rate ',\n",
       "       'HIV/AIDS - drug-susceptible tuberculosis prevalence',\n",
       "       'HIV/AIDS prevalence rate',\n",
       "       'Drug-susceptible tuberculosis prevalence rate',\n",
       "       'Tuberculosis prevalence rate',\n",
       "       'Multidrug-resistant tuberculosis without extensive drug resistance prevalence rate',\n",
       "       'Extensively drug-resistant tuberculosis prevalence rate',\n",
       "       'Out-of-pocket (OOPS) as % of Current Health Expenditure (CHE)',\n",
       "       'Female population by five-year age group (thousands)',\n",
       "       'Male population by five-year age group (thousands)',\n",
       "       'Age-standardized suicide rates (per 100 000 population)',\n",
       "       'Total density per 100 000 population: Hospitals',\n",
       "       'Medical doctors (per 10 000 population)',\n",
       "       'Nursing and midwifery personnel (per 10 000 population)',\n",
       "       'Bipolar disorder prevalence rate',\n",
       "       'Anxiety disorders prevalence rate',\n",
       "       'Eating disorders prevalence rate',\n",
       "       'Schizophrenia prevalence rate',\n",
       "       'Depressive disorders prevalence rate',\n",
       "       'Autism spectrum disorders prevalence rate',\n",
       "       'Attention-deficit/hyperactivity disorder prevalence rate',\n",
       "       'Conduct disorder prevalence rate',\n",
       "       'Idiopathic developmental intellectual disability prevalence rate',\n",
       "       'Other mental disorders prevalence rate'], dtype=object)"
      ]
     },
     "execution_count": 9,
     "metadata": {},
     "output_type": "execute_result"
    }
   ],
   "source": [
    "print('Drop the following indicators that are not to be included in any risk factor analysis:')\n",
    "dropi = df[df['Risk Factor'] ==''].index\n",
    "df.iloc[dropi,:]['Indicator'].unique()"
   ]
  },
  {
   "cell_type": "code",
   "execution_count": 10,
   "metadata": {},
   "outputs": [],
   "source": [
    "df.drop(dropi, inplace=True)"
   ]
  },
  {
   "cell_type": "code",
   "execution_count": 11,
   "metadata": {},
   "outputs": [
    {
     "name": "stdout",
     "output_type": "stream",
     "text": [
      "The dataset is reduced to 11061 rows.\n"
     ]
    }
   ],
   "source": [
    "print('The dataset is reduced to {} rows.'.format(df.shape[0]))"
   ]
  },
  {
   "cell_type": "markdown",
   "metadata": {},
   "source": [
    "### Explore Indicator availability over the years "
   ]
  },
  {
   "cell_type": "code",
   "execution_count": 12,
   "metadata": {},
   "outputs": [
    {
     "name": "stdout",
     "output_type": "stream",
     "text": [
      "The dataset has data in total 220 unique countries.\n"
     ]
    }
   ],
   "source": [
    "print('The dataset has data in total {} unique countries.'.format( df['Country'].nunique() ))"
   ]
  },
  {
   "cell_type": "code",
   "execution_count": 13,
   "metadata": {},
   "outputs": [
    {
     "name": "stdout",
     "output_type": "stream",
     "text": [
      "This is how the indicators data points per country are broken down: \n"
     ]
    },
    {
     "data": {
      "text/plain": [
       "Risk Factor             Indicator                                                                                   Year\n",
       "Behavioral Risk Factor  Alcohol, heavy episodic drinking (15+) past 30 days (%), age-standardized                   2016    188\n",
       "                        Alcohol, recorded per capita (15+) consumption (in litres of pure alcohol)                  2011      2\n",
       "                                                                                                                    2013     10\n",
       "                                                                                                                    2014      1\n",
       "                                                                                                                    2015     83\n",
       "                                                                                                                    2016     93\n",
       "                        Current cigarette smoking, age-standardised                                                 2013    127\n",
       "                        Current tobacco smoking, age-standardised                                                   2013    127\n",
       "                        Daily cigarette smoking, age-standardised                                                   2013    127\n",
       "                        Daily tobacco smoking, age-standardised                                                     2013    127\n",
       "Metabolic Risk Factor   Interstitial lung disease and pulmonary sarcoidosis prevalence rate                         2017    194\n",
       "                        Prevalence of obesity among adults, BMI &GreaterEqual; 30 (age-standardized estimate) (%)   2016    190\n",
       "                        Prevalence of overweight among adults, BMI &GreaterEqual; 25 (crude estimate) (%)           2016    190\n",
       "                        Raised blood pressure (SBP>=140 OR DBP>=90) (crude estimate), 18+  years                    2015    190\n",
       "                        Raised fasting blood glucose (>= 7.0 mmol/L or on medication) (crude estimate), 18+  years  2014    190\n",
       "                        Stunting - height-for-age (<-2SD)                                                           1985      1\n",
       "                                                                                                                    1994      1\n",
       "                                                                                                                    1995      3\n",
       "                                                                                                                    2000      3\n",
       "                                                                                                                    2001      1\n",
       "                                                                                                                    2002      1\n",
       "                                                                                                                    2004      3\n",
       "                                                                                                                    2005      1\n",
       "                                                                                                                    2007      5\n",
       "                                                                                                                    2008      2\n",
       "                                                                                                                    2009      6\n",
       "                                                                                                                    2010      8\n",
       "                                                                                                                    2011      4\n",
       "                                                                                                                    2012     13\n",
       "                                                                                                                    2013      9\n",
       "                                                                                                                    2014     19\n",
       "                                                                                                                    2015      9\n",
       "                                                                                                                    2016     16\n",
       "                                                                                                                    2017     14\n",
       "                                                                                                                    2018     26\n",
       "                                                                                                                    2019      6\n",
       "NCD Prevalence Rate     Asthma prevalence rate                                                                      2017    194\n",
       "                        Chronic obstructive pulmonary disease prevalence rate                                       2017    194\n",
       "                        Chronic respiratory diseases prevalence rate                                                2017    194\n",
       "                        Estimated number of new cases, all cancers, all ages (crude-estimate)                       2018    184\n",
       "                        Other chronic respiratory diseases prevalence rate                                          2017     17\n",
       "                        Pneumoconiosis prevalence rate                                                              2017    194\n",
       "Other                   Concentrations of fine particulate matter (PM2.5)                                           2016    193\n",
       "                        Total population by five-year age group (thousands)                                         2020    200\n",
       "Name: Country, dtype: int64"
      ]
     },
     "execution_count": 13,
     "metadata": {},
     "output_type": "execute_result"
    }
   ],
   "source": [
    "print('This is how the indicators data points per country are broken down: ')\n",
    "df.groupby(['Risk Factor','Indicator','Year'])['Country'].nunique()"
   ]
  },
  {
   "cell_type": "code",
   "execution_count": 14,
   "metadata": {},
   "outputs": [
    {
     "name": "stdout",
     "output_type": "stream",
     "text": [
      "The unquie number of countries that we have some data point for per year is as below: \n"
     ]
    },
    {
     "data": {
      "text/plain": [
       "Year\n",
       "1985      1\n",
       "1994      1\n",
       "1995      3\n",
       "2000      3\n",
       "2001      1\n",
       "2002      1\n",
       "2004      3\n",
       "2005      1\n",
       "2007      5\n",
       "2008      2\n",
       "2009      6\n",
       "2010      8\n",
       "2011      6\n",
       "2012     13\n",
       "2013    137\n",
       "2014    192\n",
       "2015    190\n",
       "2016    193\n",
       "2017    194\n",
       "2018    184\n",
       "2019      6\n",
       "2020    200\n",
       "Name: Country, dtype: int64"
      ]
     },
     "execution_count": 14,
     "metadata": {},
     "output_type": "execute_result"
    }
   ],
   "source": [
    "#unique number of countries in every year\n",
    "print('The unquie number of countries that we have some data point for per year is as below: ')\n",
    "df.groupby('Year')['Country'].nunique()"
   ]
  },
  {
   "cell_type": "code",
   "execution_count": 15,
   "metadata": {},
   "outputs": [
    {
     "name": "stdout",
     "output_type": "stream",
     "text": [
      "For 2017\n"
     ]
    },
    {
     "data": {
      "text/plain": [
       "Risk Factor            Indicator                                                            Year\n",
       "Metabolic Risk Factor  Interstitial lung disease and pulmonary sarcoidosis prevalence rate  2017    194\n",
       "                       Stunting - height-for-age (<-2SD)                                    2017     14\n",
       "NCD Prevalence Rate    Asthma prevalence rate                                               2017    194\n",
       "                       Chronic obstructive pulmonary disease prevalence rate                2017    194\n",
       "                       Chronic respiratory diseases prevalence rate                         2017    194\n",
       "                       Other chronic respiratory diseases prevalence rate                   2017     17\n",
       "                       Pneumoconiosis prevalence rate                                       2017    194\n",
       "Name: Country, dtype: int64"
      ]
     },
     "execution_count": 15,
     "metadata": {},
     "output_type": "execute_result"
    }
   ],
   "source": [
    "print('For 2017')\n",
    "df[df['Year']==2017].groupby(['Risk Factor','Indicator', 'Year'])['Country'].nunique()"
   ]
  },
  {
   "cell_type": "code",
   "execution_count": 16,
   "metadata": {},
   "outputs": [],
   "source": [
    "#'Drop stunting factor due to lack of data points\n",
    "dropi = df[df['Indicator'] =='Stunting - height-for-age (<-2SD)'].index\n",
    "df.iloc[dropi,:]['Indicator'].unique()\n",
    "df.drop(dropi,inplace=True)"
   ]
  },
  {
   "cell_type": "markdown",
   "metadata": {},
   "source": [
    "### Explore data disagregation"
   ]
  },
  {
   "cell_type": "code",
   "execution_count": 17,
   "metadata": {},
   "outputs": [
    {
     "name": "stdout",
     "output_type": "stream",
     "text": [
      "Numer of disaggregation category per indicator\n"
     ]
    },
    {
     "data": {
      "text/plain": [
       "Indicator\n",
       "Alcohol, heavy episodic drinking (15+) past 30 days (%), age-standardized                      3\n",
       "Alcohol, recorded per capita (15+) consumption (in litres of pure alcohol)                     1\n",
       "Asthma prevalence rate                                                                         1\n",
       "Chronic obstructive pulmonary disease prevalence rate                                          1\n",
       "Chronic respiratory diseases prevalence rate                                                   1\n",
       "Concentrations of fine particulate matter (PM2.5)                                              3\n",
       "Current cigarette smoking, age-standardised                                                    3\n",
       "Current tobacco smoking, age-standardised                                                      3\n",
       "Daily cigarette smoking, age-standardised                                                      3\n",
       "Daily tobacco smoking, age-standardised                                                        3\n",
       "Estimated number of new cases, all cancers, all ages (crude-estimate)                          0\n",
       "Interstitial lung disease and pulmonary sarcoidosis prevalence rate                            1\n",
       "Other chronic respiratory diseases prevalence rate                                             1\n",
       "Pneumoconiosis prevalence rate                                                                 1\n",
       "Prevalence of obesity among adults, BMI &GreaterEqual; 30 (age-standardized estimate) (%)      3\n",
       "Prevalence of overweight among adults, BMI &GreaterEqual; 25 (crude estimate) (%)              3\n",
       "Raised blood pressure (SBP>=140 OR DBP>=90) (crude estimate), 18+  years                       3\n",
       "Raised fasting blood glucose (>= 7.0 mmol/L or on medication) (crude estimate), 18+  years     3\n",
       "Total population by five-year age group (thousands)                                           21\n",
       "Name: Disaggregation, dtype: int64"
      ]
     },
     "execution_count": 17,
     "metadata": {},
     "output_type": "execute_result"
    }
   ],
   "source": [
    "print('Numer of disaggregation category per indicator')\n",
    "df.groupby(['Indicator'])['Disaggregation'].nunique()"
   ]
  },
  {
   "cell_type": "markdown",
   "metadata": {},
   "source": [
    "#### NCD Risk Factor"
   ]
  },
  {
   "cell_type": "code",
   "execution_count": 18,
   "metadata": {},
   "outputs": [
    {
     "name": "stdout",
     "output_type": "stream",
     "text": [
      "NCD Risk Factor is only aggregated by [nan 'Both sexes']\n"
     ]
    }
   ],
   "source": [
    "#this is only aggregated so good to go\n",
    "print ('NCD Risk Factor is only aggregated by {}'.format(df[(df['Risk Factor']=='NCD Prevalence Rate')]['Disaggregation'].unique()))"
   ]
  },
  {
   "cell_type": "markdown",
   "metadata": {},
   "source": [
    "#### Metabolic &amp; Behavioral Risk Factors"
   ]
  },
  {
   "cell_type": "markdown",
   "metadata": {},
   "source": [
    "For metabolic and behavioral risk factors, we keep 'Both sexes' aggregation and drop the rest."
   ]
  },
  {
   "cell_type": "code",
   "execution_count": 19,
   "metadata": {},
   "outputs": [],
   "source": [
    "dropi =  df[(df['Risk Factor']=='Metabolic Risk Factor')\n",
    "                &(df['Indicator'].isin(['Alcohol, heavy episodic drinking (15+) past 30 days (%), age-standardized', #both sexes\n",
    "                                 \n",
    "                                   'Current cigarette smoking, age-standardised',#both sexes\n",
    "                                   'Current tobacco smoking, age-standardised',#both sexes\n",
    "                                   'Daily cigarette smoking, age-standardised',#both sexes\n",
    "                                   'Daily tobacco smoking, age-standardised',#both sexes\n",
    "                                   'Prevalence of obesity among adults, BMI &GreaterEqual; 30 (age-standardized estimate) (%)',#both sexes\n",
    "                                   'Prevalence of overweight among adults, BMI &GreaterEqual; 25 (crude estimate) (%)',#both sexes\n",
    "                                   'Raised blood pressure (SBP>=140 OR DBP>=90) (crude estimate), 18+  years',#both sexes\n",
    "                                   'Raised fasting blood glucose (>= 7.0 mmol/L or on medication) (crude estimate), 18+  years']#both sexes\n",
    "                                 )) \n",
    "           & (df['Disaggregation']!='Both sexes')].index\n",
    "\n",
    "df.iloc[dropi,:]['Disaggregation'].unique()\n",
    "df.drop(dropi,inplace = True)"
   ]
  },
  {
   "cell_type": "markdown",
   "metadata": {},
   "source": [
    "#### Other Risk Factor"
   ]
  },
  {
   "cell_type": "code",
   "execution_count": 20,
   "metadata": {},
   "outputs": [
    {
     "data": {
      "text/plain": [
       "array(['0-4', '5-9', '10-14', '15-19', '20-24', '25-29', '30-34', '35-39',\n",
       "       '40-44', '45-49', '50-54', '55-59', '60-64', '65-69', '70-74',\n",
       "       '75-79', '80-84', '85-89', '90-94', '95-99', '100+'], dtype=object)"
      ]
     },
     "execution_count": 20,
     "metadata": {},
     "output_type": "execute_result"
    }
   ],
   "source": [
    "##how to handle this disaggregation\n",
    "df[df['Indicator']=='Total population by five-year age group (thousands)']['Disaggregation'].unique()\n",
    "#  'Concentrations of fine particulate matter (PM2.5)',#total"
   ]
  },
  {
   "cell_type": "markdown",
   "metadata": {},
   "source": [
    "### Change rates to number [work in progress]"
   ]
  },
  {
   "cell_type": "code",
   "execution_count": 21,
   "metadata": {},
   "outputs": [
    {
     "data": {
      "text/html": [
       "<div>\n",
       "<table class=\"dataframe\">\n",
       "  <thead>\n",
       "    <tr style=\"text-align: right;\">\n",
       "      <th></th>\n",
       "      <th>Country Name</th>\n",
       "      <th>Country Code</th>\n",
       "      <th>Indicator Name</th>\n",
       "      <th>Indicator Code</th>\n",
       "      <th>1960.0</th>\n",
       "      <th>1961.0</th>\n",
       "      <th>1962.0</th>\n",
       "      <th>1963.0</th>\n",
       "      <th>1964.0</th>\n",
       "      <th>1965.0</th>\n",
       "      <th>...</th>\n",
       "      <th>2011.0</th>\n",
       "      <th>2012.0</th>\n",
       "      <th>2013.0</th>\n",
       "      <th>2014.0</th>\n",
       "      <th>2015.0</th>\n",
       "      <th>2016.0</th>\n",
       "      <th>2017.0</th>\n",
       "      <th>2018.0</th>\n",
       "      <th>2019.0</th>\n",
       "      <th>nan</th>\n",
       "    </tr>\n",
       "  </thead>\n",
       "  <tbody>\n",
       "    <tr>\n",
       "      <th>4</th>\n",
       "      <td>Aruba</td>\n",
       "      <td>ABW</td>\n",
       "      <td>Population, total</td>\n",
       "      <td>SP.POP.TOTL</td>\n",
       "      <td>54211.0</td>\n",
       "      <td>55438.0</td>\n",
       "      <td>56225.0</td>\n",
       "      <td>56695.0</td>\n",
       "      <td>57032.0</td>\n",
       "      <td>57360.0</td>\n",
       "      <td>...</td>\n",
       "      <td>102046.0</td>\n",
       "      <td>102560.0</td>\n",
       "      <td>103159.0</td>\n",
       "      <td>103774.0</td>\n",
       "      <td>104341.0</td>\n",
       "      <td>104872.0</td>\n",
       "      <td>105366.0</td>\n",
       "      <td>105845.0</td>\n",
       "      <td>NaN</td>\n",
       "      <td>NaN</td>\n",
       "    </tr>\n",
       "    <tr>\n",
       "      <th>5</th>\n",
       "      <td>Afghanistan</td>\n",
       "      <td>AFG</td>\n",
       "      <td>Population, total</td>\n",
       "      <td>SP.POP.TOTL</td>\n",
       "      <td>8996973.0</td>\n",
       "      <td>9169410.0</td>\n",
       "      <td>9351441.0</td>\n",
       "      <td>9543205.0</td>\n",
       "      <td>9744781.0</td>\n",
       "      <td>9956320.0</td>\n",
       "      <td>...</td>\n",
       "      <td>30117413.0</td>\n",
       "      <td>31161376.0</td>\n",
       "      <td>32269589.0</td>\n",
       "      <td>33370794.0</td>\n",
       "      <td>34413603.0</td>\n",
       "      <td>35383128.0</td>\n",
       "      <td>36296400.0</td>\n",
       "      <td>37172386.0</td>\n",
       "      <td>NaN</td>\n",
       "      <td>NaN</td>\n",
       "    </tr>\n",
       "    <tr>\n",
       "      <th>6</th>\n",
       "      <td>Angola</td>\n",
       "      <td>AGO</td>\n",
       "      <td>Population, total</td>\n",
       "      <td>SP.POP.TOTL</td>\n",
       "      <td>5454933.0</td>\n",
       "      <td>5531472.0</td>\n",
       "      <td>5608539.0</td>\n",
       "      <td>5679458.0</td>\n",
       "      <td>5735044.0</td>\n",
       "      <td>5770570.0</td>\n",
       "      <td>...</td>\n",
       "      <td>24220661.0</td>\n",
       "      <td>25107931.0</td>\n",
       "      <td>26015780.0</td>\n",
       "      <td>26941779.0</td>\n",
       "      <td>27884381.0</td>\n",
       "      <td>28842484.0</td>\n",
       "      <td>29816748.0</td>\n",
       "      <td>30809762.0</td>\n",
       "      <td>NaN</td>\n",
       "      <td>NaN</td>\n",
       "    </tr>\n",
       "    <tr>\n",
       "      <th>7</th>\n",
       "      <td>Albania</td>\n",
       "      <td>ALB</td>\n",
       "      <td>Population, total</td>\n",
       "      <td>SP.POP.TOTL</td>\n",
       "      <td>1608800.0</td>\n",
       "      <td>1659800.0</td>\n",
       "      <td>1711319.0</td>\n",
       "      <td>1762621.0</td>\n",
       "      <td>1814135.0</td>\n",
       "      <td>1864791.0</td>\n",
       "      <td>...</td>\n",
       "      <td>2905195.0</td>\n",
       "      <td>2900401.0</td>\n",
       "      <td>2895092.0</td>\n",
       "      <td>2889104.0</td>\n",
       "      <td>2880703.0</td>\n",
       "      <td>2876101.0</td>\n",
       "      <td>2873457.0</td>\n",
       "      <td>2866376.0</td>\n",
       "      <td>NaN</td>\n",
       "      <td>NaN</td>\n",
       "    </tr>\n",
       "    <tr>\n",
       "      <th>8</th>\n",
       "      <td>Andorra</td>\n",
       "      <td>AND</td>\n",
       "      <td>Population, total</td>\n",
       "      <td>SP.POP.TOTL</td>\n",
       "      <td>13411.0</td>\n",
       "      <td>14375.0</td>\n",
       "      <td>15370.0</td>\n",
       "      <td>16412.0</td>\n",
       "      <td>17469.0</td>\n",
       "      <td>18549.0</td>\n",
       "      <td>...</td>\n",
       "      <td>83747.0</td>\n",
       "      <td>82427.0</td>\n",
       "      <td>80774.0</td>\n",
       "      <td>79213.0</td>\n",
       "      <td>78011.0</td>\n",
       "      <td>77297.0</td>\n",
       "      <td>77001.0</td>\n",
       "      <td>77006.0</td>\n",
       "      <td>NaN</td>\n",
       "      <td>NaN</td>\n",
       "    </tr>\n",
       "  </tbody>\n",
       "</table>\n",
       "<p>5 rows × 65 columns</p>\n",
       "</div>"
      ],
      "text/plain": [
       "  Country Name Country Code     Indicator Name Indicator Code     1960.0  \\\n",
       "4        Aruba          ABW  Population, total    SP.POP.TOTL    54211.0   \n",
       "5  Afghanistan          AFG  Population, total    SP.POP.TOTL  8996973.0   \n",
       "6       Angola          AGO  Population, total    SP.POP.TOTL  5454933.0   \n",
       "7      Albania          ALB  Population, total    SP.POP.TOTL  1608800.0   \n",
       "8      Andorra          AND  Population, total    SP.POP.TOTL    13411.0   \n",
       "\n",
       "      1961.0     1962.0     1963.0     1964.0     1965.0 ...       2011.0  \\\n",
       "4    55438.0    56225.0    56695.0    57032.0    57360.0 ...     102046.0   \n",
       "5  9169410.0  9351441.0  9543205.0  9744781.0  9956320.0 ...   30117413.0   \n",
       "6  5531472.0  5608539.0  5679458.0  5735044.0  5770570.0 ...   24220661.0   \n",
       "7  1659800.0  1711319.0  1762621.0  1814135.0  1864791.0 ...    2905195.0   \n",
       "8    14375.0    15370.0    16412.0    17469.0    18549.0 ...      83747.0   \n",
       "\n",
       "       2012.0      2013.0      2014.0      2015.0      2016.0      2017.0  \\\n",
       "4    102560.0    103159.0    103774.0    104341.0    104872.0    105366.0   \n",
       "5  31161376.0  32269589.0  33370794.0  34413603.0  35383128.0  36296400.0   \n",
       "6  25107931.0  26015780.0  26941779.0  27884381.0  28842484.0  29816748.0   \n",
       "7   2900401.0   2895092.0   2889104.0   2880703.0   2876101.0   2873457.0   \n",
       "8     82427.0     80774.0     79213.0     78011.0     77297.0     77001.0   \n",
       "\n",
       "       2018.0  2019.0  NaN  \n",
       "4    105845.0     NaN  NaN  \n",
       "5  37172386.0     NaN  NaN  \n",
       "6  30809762.0     NaN  NaN  \n",
       "7   2866376.0     NaN  NaN  \n",
       "8     77006.0     NaN  NaN  \n",
       "\n",
       "[5 rows x 65 columns]"
      ]
     },
     "execution_count": 21,
     "metadata": {},
     "output_type": "execute_result"
    }
   ],
   "source": [
    "#https://data.worldbank.org/indicator/SP.POP.TOTL\n",
    "pop = pd.read_csv('population.csv')\n",
    "pop.drop([0,1,2],inplace=True)\n",
    "\n",
    "#pop.iloc[0,4:62]  = pop.iloc[0,4:62].round(0)\n",
    "pop.rename(columns=pop.iloc[0],inplace=True)\n",
    "pop.drop([3],inplace=True)\n",
    "\n",
    "pop.head()"
   ]
  },
  {
   "cell_type": "code",
   "execution_count": 22,
   "metadata": {},
   "outputs": [],
   "source": [
    "c= pd.DataFrame(pop['Country Name'].unique(),columns=['Country']) #264"
   ]
  },
  {
   "cell_type": "code",
   "execution_count": 23,
   "metadata": {},
   "outputs": [],
   "source": [
    "d= pd.DataFrame( df['Country'].unique(),columns=['Country']) #220"
   ]
  },
  {
   "cell_type": "code",
   "execution_count": 24,
   "metadata": {},
   "outputs": [],
   "source": [
    "#d[~d['Country'].isin(c['Country'])]"
   ]
  },
  {
   "cell_type": "code",
   "execution_count": null,
   "metadata": {},
   "outputs": [],
   "source": []
  },
  {
   "cell_type": "markdown",
   "metadata": {},
   "source": [
    "### Explore correlations of indicators of risk factors"
   ]
  },
  {
   "cell_type": "markdown",
   "metadata": {},
   "source": [
    "#### Metabolic Risk Factor"
   ]
  },
  {
   "cell_type": "code",
   "execution_count": 25,
   "metadata": {},
   "outputs": [],
   "source": [
    "df_meta = df[(df['Risk Factor']=='Metabolic Risk Factor') &\n",
    "            df['Indicator'].isin (['Interstitial lung disease and pulmonary sarcoidosis prevalence rate' ,                     \n",
    "                        'Prevalence of obesity among adults, BMI &GreaterEqual; 30 (age-standardized estimate) (%)'  ,\n",
    "                        'Prevalence of overweight among adults, BMI &GreaterEqual; 25 (crude estimate) (%)' ,          \n",
    "                        'Raised blood pressure (SBP>=140 OR DBP>=90) (crude estimate), 18+  years' ,                  \n",
    "                        'Raised fasting blood glucose (>= 7.0 mmol/L or on medication) (crude estimate), 18+  years'])\n",
    "            & (df['Disaggregation']=='Both sexes')]\n",
    "\n",
    "#df_meta.head()"
   ]
  },
  {
   "cell_type": "code",
   "execution_count": 26,
   "metadata": {},
   "outputs": [
    {
     "name": "stderr",
     "output_type": "stream",
     "text": [
      "/home/nbuser/anaconda3_420/lib/python3.5/site-packages/ipykernel/__main__.py:3: SettingWithCopyWarning: \n",
      "A value is trying to be set on a copy of a slice from a DataFrame\n",
      "\n",
      "See the caveats in the documentation: http://pandas.pydata.org/pandas-docs/stable/indexing.html#indexing-view-versus-copy\n",
      "  app.launch_new_instance()\n",
      "/home/nbuser/anaconda3_420/lib/python3.5/site-packages/ipykernel/__main__.py:5: SettingWithCopyWarning: \n",
      "A value is trying to be set on a copy of a slice from a DataFrame\n",
      "\n",
      "See the caveats in the documentation: http://pandas.pydata.org/pandas-docs/stable/indexing.html#indexing-view-versus-copy\n",
      "/home/nbuser/anaconda3_420/lib/python3.5/site-packages/ipykernel/__main__.py:7: SettingWithCopyWarning: \n",
      "A value is trying to be set on a copy of a slice from a DataFrame\n",
      "\n",
      "See the caveats in the documentation: http://pandas.pydata.org/pandas-docs/stable/indexing.html#indexing-view-versus-copy\n",
      "/home/nbuser/anaconda3_420/lib/python3.5/site-packages/ipykernel/__main__.py:9: SettingWithCopyWarning: \n",
      "A value is trying to be set on a copy of a slice from a DataFrame\n",
      "\n",
      "See the caveats in the documentation: http://pandas.pydata.org/pandas-docs/stable/indexing.html#indexing-view-versus-copy\n",
      "/home/nbuser/anaconda3_420/lib/python3.5/site-packages/ipykernel/__main__.py:12: SettingWithCopyWarning: \n",
      "A value is trying to be set on a copy of a slice from a DataFrame\n",
      "\n",
      "See the caveats in the documentation: http://pandas.pydata.org/pandas-docs/stable/indexing.html#indexing-view-versus-copy\n"
     ]
    }
   ],
   "source": [
    "df_meta[(df_meta['Indicator']=='Interstitial lung disease and pulmonary sarcoidosis prevalence rate')& (df_meta['Country']=='Congo')]\n",
    "\n",
    "df_meta.drop([6949],inplace=True)\n",
    "df_meta[(df_meta['Indicator']=='Raised fasting blood glucose (>= 7.0 mmol/L or on medication) (crude estimate), 18+  years')& (df_meta['Country']=='Congo')]\n",
    "df_meta.drop([2198],inplace=True)\n",
    "df_meta[(df_meta['Indicator']=='Prevalence of obesity among adults, BMI &GreaterEqual; 30 (age-standardized estimate) (%)')& (df_meta['Country']=='Congo')]\n",
    "df_meta.drop([3944],inplace=True)\n",
    "df_meta[(df_meta['Indicator']== 'Prevalence of overweight among adults, BMI &GreaterEqual; 25 (crude estimate) (%)')& (df_meta['Country']=='Congo')]\n",
    "df_meta.drop([3344],inplace=True)\n",
    "\n",
    "df_meta[(df_meta['Indicator']== 'Raised blood pressure (SBP>=140 OR DBP>=90) (crude estimate), 18+  years' )& (df_meta['Country']=='Congo')]\n",
    "df_meta.drop([2798],inplace=True)"
   ]
  },
  {
   "cell_type": "code",
   "execution_count": 27,
   "metadata": {},
   "outputs": [
    {
     "name": "stderr",
     "output_type": "stream",
     "text": [
      "/home/nbuser/anaconda3_420/lib/python3.5/site-packages/ipykernel/__main__.py:3: SettingWithCopyWarning: \n",
      "A value is trying to be set on a copy of a slice from a DataFrame\n",
      "\n",
      "See the caveats in the documentation: http://pandas.pydata.org/pandas-docs/stable/indexing.html#indexing-view-versus-copy\n",
      "  app.launch_new_instance()\n"
     ]
    }
   ],
   "source": [
    "df_metarisk=pd.DataFrame()\n",
    "irange = df_meta['Indicator'].unique()\n",
    "df_meta.sort_values(['Indicator', 'Country'], ascending=True, inplace = True)\n",
    "\n",
    "for i in irange:\n",
    "    #print(i)\n",
    "    pivot = df_meta[df_meta['Indicator']==i].pivot(index='Country', columns='Indicator', values='Data')\n",
    "    pivot.reset_index(inplace=True)\n",
    "    pivot.columns =['Country', i]\n",
    "    df_metarisk['Country']=pivot['Country']\n",
    "    df_metarisk [i] = pivot[i]\n",
    "    \n",
    "\n",
    "\n",
    "#df_metarisk.head()"
   ]
  },
  {
   "cell_type": "code",
   "execution_count": 28,
   "metadata": {},
   "outputs": [
    {
     "name": "stderr",
     "output_type": "stream",
     "text": [
      "/home/nbuser/anaconda3_420/lib/python3.5/site-packages/matplotlib/font_manager.py:281: UserWarning: Matplotlib is building the font cache using fc-list. This may take a moment.\n",
      "  'Matplotlib is building the font cache using fc-list. '\n"
     ]
    },
    {
     "name": "stdout",
     "output_type": "stream",
     "text": [
      "<pandas.formats.style.Styler object at 0x7f14a20e1390>\n"
     ]
    },
    {
     "data": {
      "text/plain": [
       "<matplotlib.axes._subplots.AxesSubplot at 0x7f149cbf2d30>"
      ]
     },
     "execution_count": 28,
     "metadata": {},
     "output_type": "execute_result"
    }
   ],
   "source": [
    "import matplotlib.pyplot as pl\n",
    "import seaborn as sns\n",
    "import numpy as np\n",
    "x = df_metarisk.iloc[:,1:5]\n",
    "corr = x.corr()\n",
    "print(corr.style.background_gradient(cmap='coolwarm').set_precision(2))\n",
    "\n",
    "f, ax = pl.subplots(figsize=(8, 6))\n",
    "sns.heatmap(corr, mask=np.zeros_like(corr, dtype=np.bool), cmap=sns.diverging_palette(220, 10, as_cmap=True),\n",
    "            square=True, ax=ax)"
   ]
  },
  {
   "cell_type": "code",
   "execution_count": 29,
   "metadata": {},
   "outputs": [
    {
     "data": {
      "text/html": [
       "\n",
       "        <style>\n",
       "        \n",
       "        \n",
       "            #T_74a85f8a_9a22_11ea_9d76_00155d5ef93crow0_col0 {\n",
       "            \n",
       "                background-color:  #b40426;\n",
       "            \n",
       "            }\n",
       "        \n",
       "            #T_74a85f8a_9a22_11ea_9d76_00155d5ef93crow0_col1 {\n",
       "            \n",
       "                background-color:  #4a63d3;\n",
       "            \n",
       "            }\n",
       "        \n",
       "            #T_74a85f8a_9a22_11ea_9d76_00155d5ef93crow0_col2 {\n",
       "            \n",
       "                background-color:  #f4c6af;\n",
       "            \n",
       "            }\n",
       "        \n",
       "            #T_74a85f8a_9a22_11ea_9d76_00155d5ef93crow0_col3 {\n",
       "            \n",
       "                background-color:  #e97a5f;\n",
       "            \n",
       "            }\n",
       "        \n",
       "            #T_74a85f8a_9a22_11ea_9d76_00155d5ef93crow1_col0 {\n",
       "            \n",
       "                background-color:  #3b4cc0;\n",
       "            \n",
       "            }\n",
       "        \n",
       "            #T_74a85f8a_9a22_11ea_9d76_00155d5ef93crow1_col1 {\n",
       "            \n",
       "                background-color:  #b40426;\n",
       "            \n",
       "            }\n",
       "        \n",
       "            #T_74a85f8a_9a22_11ea_9d76_00155d5ef93crow1_col2 {\n",
       "            \n",
       "                background-color:  #3b4cc0;\n",
       "            \n",
       "            }\n",
       "        \n",
       "            #T_74a85f8a_9a22_11ea_9d76_00155d5ef93crow1_col3 {\n",
       "            \n",
       "                background-color:  #3b4cc0;\n",
       "            \n",
       "            }\n",
       "        \n",
       "            #T_74a85f8a_9a22_11ea_9d76_00155d5ef93crow2_col0 {\n",
       "            \n",
       "                background-color:  #f7b89c;\n",
       "            \n",
       "            }\n",
       "        \n",
       "            #T_74a85f8a_9a22_11ea_9d76_00155d5ef93crow2_col1 {\n",
       "            \n",
       "                background-color:  #6e90f2;\n",
       "            \n",
       "            }\n",
       "        \n",
       "            #T_74a85f8a_9a22_11ea_9d76_00155d5ef93crow2_col2 {\n",
       "            \n",
       "                background-color:  #b40426;\n",
       "            \n",
       "            }\n",
       "        \n",
       "            #T_74a85f8a_9a22_11ea_9d76_00155d5ef93crow2_col3 {\n",
       "            \n",
       "                background-color:  #d0473d;\n",
       "            \n",
       "            }\n",
       "        \n",
       "            #T_74a85f8a_9a22_11ea_9d76_00155d5ef93crow3_col0 {\n",
       "            \n",
       "                background-color:  #eb7d62;\n",
       "            \n",
       "            }\n",
       "        \n",
       "            #T_74a85f8a_9a22_11ea_9d76_00155d5ef93crow3_col1 {\n",
       "            \n",
       "                background-color:  #3b4cc0;\n",
       "            \n",
       "            }\n",
       "        \n",
       "            #T_74a85f8a_9a22_11ea_9d76_00155d5ef93crow3_col2 {\n",
       "            \n",
       "                background-color:  #d55042;\n",
       "            \n",
       "            }\n",
       "        \n",
       "            #T_74a85f8a_9a22_11ea_9d76_00155d5ef93crow3_col3 {\n",
       "            \n",
       "                background-color:  #b40426;\n",
       "            \n",
       "            }\n",
       "        \n",
       "        </style>\n",
       "\n",
       "        <table>\n",
       "        \n",
       "\n",
       "        <thead>\n",
       "            \n",
       "            <tr>\n",
       "                \n",
       "                \n",
       "                <th class=\"blank level0\">\n",
       "                  \n",
       "                \n",
       "                \n",
       "                \n",
       "                </th><th class=\"col_heading level0 col0\">\n",
       "                  Raised fasting blood glucose (&gt;= 7.0 mmol/L or on medication) (crude estimate), 18+  years\n",
       "                \n",
       "                \n",
       "                \n",
       "                </th><th class=\"col_heading level0 col1\">\n",
       "                  Raised blood pressure (SBP&gt;=140 OR DBP&gt;=90) (crude estimate), 18+  years\n",
       "                \n",
       "                \n",
       "                \n",
       "                </th><th class=\"col_heading level0 col2\">\n",
       "                  Prevalence of overweight among adults, BMI ≥ 25 (crude estimate) (%)\n",
       "                \n",
       "                \n",
       "                \n",
       "                </th><th class=\"col_heading level0 col3\">\n",
       "                  Prevalence of obesity among adults, BMI ≥ 30 (age-standardized estimate) (%)\n",
       "                \n",
       "                \n",
       "            </th></tr>\n",
       "            \n",
       "        </thead>\n",
       "        <tbody>\n",
       "            \n",
       "            <tr>\n",
       "                \n",
       "                \n",
       "                <th class=\"row_heading level0 row0\">\n",
       "                    Raised fasting blood glucose (&gt;= 7.0 mmol/L or on medication) (crude estimate), 18+  years\n",
       "                \n",
       "                \n",
       "                \n",
       "                </th><td class=\"data row0 col0\">\n",
       "                    1\n",
       "                \n",
       "                \n",
       "                \n",
       "                </td><td class=\"data row0 col1\">\n",
       "                    0.02\n",
       "                \n",
       "                \n",
       "                \n",
       "                </td><td class=\"data row0 col2\">\n",
       "                    0.67\n",
       "                \n",
       "                \n",
       "                \n",
       "                </td><td class=\"data row0 col3\">\n",
       "                    0.82\n",
       "                \n",
       "                \n",
       "            </td></tr>\n",
       "            \n",
       "            <tr>\n",
       "                \n",
       "                \n",
       "                <th class=\"row_heading level0 row1\">\n",
       "                    Raised blood pressure (SBP&gt;=140 OR DBP&gt;=90) (crude estimate), 18+  years\n",
       "                \n",
       "                \n",
       "                \n",
       "                </th><td class=\"data row1 col0\">\n",
       "                    0.02\n",
       "                \n",
       "                \n",
       "                \n",
       "                </td><td class=\"data row1 col1\">\n",
       "                    1\n",
       "                \n",
       "                \n",
       "                \n",
       "                </td><td class=\"data row1 col2\">\n",
       "                    0.14\n",
       "                \n",
       "                \n",
       "                \n",
       "                </td><td class=\"data row1 col3\">\n",
       "                    -0.033\n",
       "                \n",
       "                \n",
       "            </td></tr>\n",
       "            \n",
       "            <tr>\n",
       "                \n",
       "                \n",
       "                <th class=\"row_heading level0 row2\">\n",
       "                    Prevalence of overweight among adults, BMI ≥ 25 (crude estimate) (%)\n",
       "                \n",
       "                \n",
       "                \n",
       "                </th><td class=\"data row2 col0\">\n",
       "                    0.67\n",
       "                \n",
       "                \n",
       "                \n",
       "                </td><td class=\"data row2 col1\">\n",
       "                    0.14\n",
       "                \n",
       "                \n",
       "                \n",
       "                </td><td class=\"data row2 col2\">\n",
       "                    1\n",
       "                \n",
       "                \n",
       "                \n",
       "                </td><td class=\"data row2 col3\">\n",
       "                    0.92\n",
       "                \n",
       "                \n",
       "            </td></tr>\n",
       "            \n",
       "            <tr>\n",
       "                \n",
       "                \n",
       "                <th class=\"row_heading level0 row3\">\n",
       "                    Prevalence of obesity among adults, BMI ≥ 30 (age-standardized estimate) (%)\n",
       "                \n",
       "                \n",
       "                \n",
       "                </th><td class=\"data row3 col0\">\n",
       "                    0.82\n",
       "                \n",
       "                \n",
       "                \n",
       "                </td><td class=\"data row3 col1\">\n",
       "                    -0.033\n",
       "                \n",
       "                \n",
       "                \n",
       "                </td><td class=\"data row3 col2\">\n",
       "                    0.92\n",
       "                \n",
       "                \n",
       "                \n",
       "                </td><td class=\"data row3 col3\">\n",
       "                    1\n",
       "                \n",
       "                \n",
       "            </td></tr>\n",
       "            \n",
       "        </tbody>\n",
       "        </table>\n",
       "        "
      ],
      "text/plain": [
       "<pandas.formats.style.Styler at 0x7f149cac29e8>"
      ]
     },
     "execution_count": 29,
     "metadata": {},
     "output_type": "execute_result"
    }
   ],
   "source": [
    "corr.style.background_gradient(cmap='coolwarm').set_precision(2)"
   ]
  },
  {
   "cell_type": "markdown",
   "metadata": {},
   "source": [
    "#### Behavorial Risk Factor"
   ]
  },
  {
   "cell_type": "code",
   "execution_count": 30,
   "metadata": {},
   "outputs": [],
   "source": [
    "df_beh = df[(df['Risk Factor']=='Behavioral Risk Factor') &\n",
    "            df['Indicator'].isin (['Alcohol, heavy episodic drinking (15+) past 30 days (%), age-standardized' ,                     \n",
    "                       'Alcohol, recorded per capita (15+) consumption (in litres of pure alcohol)'  ,\n",
    "                                   'Current cigarette smoking, age-standardised',\n",
    "                                   'Current tobacco smoking, age-standardised',\n",
    "                                   'Daily cigarette smoking, age-standardised',\n",
    "                                   'Daily tobacco smoking, age-standardised'\n",
    "                                   \n",
    "                        ])\n",
    "            & (df['Disaggregation']=='Both sexes')]\n",
    "\n",
    "#df_beh.shape"
   ]
  },
  {
   "cell_type": "code",
   "execution_count": 31,
   "metadata": {},
   "outputs": [
    {
     "name": "stderr",
     "output_type": "stream",
     "text": [
      "/home/nbuser/anaconda3_420/lib/python3.5/site-packages/ipykernel/__main__.py:3: SettingWithCopyWarning: \n",
      "A value is trying to be set on a copy of a slice from a DataFrame\n",
      "\n",
      "See the caveats in the documentation: http://pandas.pydata.org/pandas-docs/stable/indexing.html#indexing-view-versus-copy\n",
      "  app.launch_new_instance()\n"
     ]
    }
   ],
   "source": [
    "df_beh[(df_beh['Indicator']=='Alcohol, heavy episodic drinking (15+) past 30 days (%), age-standardized')& (df_beh['Country']=='Congo')]\n",
    "\n",
    "df_beh.drop([7581],inplace=True)"
   ]
  },
  {
   "cell_type": "code",
   "execution_count": 32,
   "metadata": {},
   "outputs": [
    {
     "name": "stderr",
     "output_type": "stream",
     "text": [
      "/home/nbuser/anaconda3_420/lib/python3.5/site-packages/ipykernel/__main__.py:3: SettingWithCopyWarning: \n",
      "A value is trying to be set on a copy of a slice from a DataFrame\n",
      "\n",
      "See the caveats in the documentation: http://pandas.pydata.org/pandas-docs/stable/indexing.html#indexing-view-versus-copy\n",
      "  app.launch_new_instance()\n"
     ]
    },
    {
     "data": {
      "text/html": [
       "<div>\n",
       "<table class=\"dataframe\">\n",
       "  <thead>\n",
       "    <tr style=\"text-align: right;\">\n",
       "      <th></th>\n",
       "      <th>Country</th>\n",
       "      <th>Daily tobacco smoking, age-standardised</th>\n",
       "      <th>Daily cigarette smoking, age-standardised</th>\n",
       "      <th>Current tobacco smoking, age-standardised</th>\n",
       "      <th>Current cigarette smoking, age-standardised</th>\n",
       "      <th>Alcohol, heavy episodic drinking (15+) past 30 days (%), age-standardized</th>\n",
       "    </tr>\n",
       "  </thead>\n",
       "  <tbody>\n",
       "    <tr>\n",
       "      <th>0</th>\n",
       "      <td>Afghanistan</td>\n",
       "      <td>23.8</td>\n",
       "      <td>21.3</td>\n",
       "      <td>29.7</td>\n",
       "      <td>24.5</td>\n",
       "      <td>0.0</td>\n",
       "    </tr>\n",
       "    <tr>\n",
       "      <th>1</th>\n",
       "      <td>Albania</td>\n",
       "      <td>27.9</td>\n",
       "      <td>22.0</td>\n",
       "      <td>33.1</td>\n",
       "      <td>27.2</td>\n",
       "      <td>24.6</td>\n",
       "    </tr>\n",
       "    <tr>\n",
       "      <th>2</th>\n",
       "      <td>Algeria</td>\n",
       "      <td>18.1</td>\n",
       "      <td>17.3</td>\n",
       "      <td>25.3</td>\n",
       "      <td>22.9</td>\n",
       "      <td>0.6</td>\n",
       "    </tr>\n",
       "    <tr>\n",
       "      <th>3</th>\n",
       "      <td>Andorra</td>\n",
       "      <td>24.7</td>\n",
       "      <td>22.7</td>\n",
       "      <td>28.0</td>\n",
       "      <td>26.2</td>\n",
       "      <td>34.9</td>\n",
       "    </tr>\n",
       "    <tr>\n",
       "      <th>4</th>\n",
       "      <td>Angola</td>\n",
       "      <td>13.7</td>\n",
       "      <td>11.0</td>\n",
       "      <td>16.0</td>\n",
       "      <td>13.0</td>\n",
       "      <td>37.6</td>\n",
       "    </tr>\n",
       "  </tbody>\n",
       "</table>\n",
       "</div>"
      ],
      "text/plain": [
       "       Country  Daily tobacco smoking, age-standardised  \\\n",
       "0  Afghanistan                                     23.8   \n",
       "1      Albania                                     27.9   \n",
       "2      Algeria                                     18.1   \n",
       "3      Andorra                                     24.7   \n",
       "4       Angola                                     13.7   \n",
       "\n",
       "   Daily cigarette smoking, age-standardised  \\\n",
       "0                                       21.3   \n",
       "1                                       22.0   \n",
       "2                                       17.3   \n",
       "3                                       22.7   \n",
       "4                                       11.0   \n",
       "\n",
       "   Current tobacco smoking, age-standardised  \\\n",
       "0                                       29.7   \n",
       "1                                       33.1   \n",
       "2                                       25.3   \n",
       "3                                       28.0   \n",
       "4                                       16.0   \n",
       "\n",
       "   Current cigarette smoking, age-standardised  \\\n",
       "0                                         24.5   \n",
       "1                                         27.2   \n",
       "2                                         22.9   \n",
       "3                                         26.2   \n",
       "4                                         13.0   \n",
       "\n",
       "   Alcohol, heavy episodic drinking (15+) past 30 days (%), age-standardized  \n",
       "0                                                0.0                          \n",
       "1                                               24.6                          \n",
       "2                                                0.6                          \n",
       "3                                               34.9                          \n",
       "4                                               37.6                          "
      ]
     },
     "execution_count": 32,
     "metadata": {},
     "output_type": "execute_result"
    }
   ],
   "source": [
    "df_behrisk=pd.DataFrame()\n",
    "irange = df_beh['Indicator'].unique()\n",
    "df_beh.sort_values(['Indicator', 'Country'], ascending=True, inplace = True)\n",
    "\n",
    "\n",
    "\n",
    "for i in irange:\n",
    "    pivot = df_beh[df_beh['Indicator']==i].pivot(index='Country', columns='Indicator', values='Data')\n",
    "    pivot.reset_index(inplace=True)\n",
    "    pivot.columns =['Country', i]\n",
    "    df_behrisk['Country']=pivot['Country']\n",
    "    df_behrisk [i] = pivot[i]\n",
    "    \n",
    "\n",
    "\n",
    "df_behrisk.head()"
   ]
  },
  {
   "cell_type": "code",
   "execution_count": 33,
   "metadata": {},
   "outputs": [
    {
     "name": "stdout",
     "output_type": "stream",
     "text": [
      "<pandas.formats.style.Styler object at 0x7f149cf00048>\n"
     ]
    },
    {
     "data": {
      "text/plain": [
       "<matplotlib.axes._subplots.AxesSubplot at 0x7f149cba7208>"
      ]
     },
     "execution_count": 33,
     "metadata": {},
     "output_type": "execute_result"
    },
    {
     "data": {
      "image/png": "[encoded data removed]",
      "text/plain": [
       "<matplotlib.figure.Figure at 0x7f14a20e1208>"
      ]
     },
     "metadata": {},
     "output_type": "display_data"
    }
   ],
   "source": [
    "x = df_behrisk.iloc[:,1:6]\n",
    "corr = x.corr()\n",
    "print(corr.style.background_gradient(cmap='coolwarm').set_precision(2))\n",
    "\n",
    "f, ax = pl.subplots(figsize=(8, 6))\n",
    "sns.heatmap(corr, mask=np.zeros_like(corr, dtype=np.bool), cmap=sns.diverging_palette(220, 10, as_cmap=True),\n",
    "            square=True, ax=ax)"
   ]
  },
  {
   "cell_type": "code",
   "execution_count": 34,
   "metadata": {},
   "outputs": [
    {
     "data": {
      "text/html": [
       "\n",
       "        <style>\n",
       "        \n",
       "        \n",
       "            #T_7629072e_9a22_11ea_9d76_00155d5ef93crow0_col0 {\n",
       "            \n",
       "                background-color:  #b40426;\n",
       "            \n",
       "            }\n",
       "        \n",
       "            #T_7629072e_9a22_11ea_9d76_00155d5ef93crow0_col1 {\n",
       "            \n",
       "                background-color:  #cc403a;\n",
       "            \n",
       "            }\n",
       "        \n",
       "            #T_7629072e_9a22_11ea_9d76_00155d5ef93crow0_col2 {\n",
       "            \n",
       "                background-color:  #bb1b2c;\n",
       "            \n",
       "            }\n",
       "        \n",
       "            #T_7629072e_9a22_11ea_9d76_00155d5ef93crow0_col3 {\n",
       "            \n",
       "                background-color:  #c32e31;\n",
       "            \n",
       "            }\n",
       "        \n",
       "            #T_7629072e_9a22_11ea_9d76_00155d5ef93crow0_col4 {\n",
       "            \n",
       "                background-color:  #3d50c3;\n",
       "            \n",
       "            }\n",
       "        \n",
       "            #T_7629072e_9a22_11ea_9d76_00155d5ef93crow1_col0 {\n",
       "            \n",
       "                background-color:  #cc403a;\n",
       "            \n",
       "            }\n",
       "        \n",
       "            #T_7629072e_9a22_11ea_9d76_00155d5ef93crow1_col1 {\n",
       "            \n",
       "                background-color:  #b40426;\n",
       "            \n",
       "            }\n",
       "        \n",
       "            #T_7629072e_9a22_11ea_9d76_00155d5ef93crow1_col2 {\n",
       "            \n",
       "                background-color:  #cf453c;\n",
       "            \n",
       "            }\n",
       "        \n",
       "            #T_7629072e_9a22_11ea_9d76_00155d5ef93crow1_col3 {\n",
       "            \n",
       "                background-color:  #c32e31;\n",
       "            \n",
       "            }\n",
       "        \n",
       "            #T_7629072e_9a22_11ea_9d76_00155d5ef93crow1_col4 {\n",
       "            \n",
       "                background-color:  #465ecf;\n",
       "            \n",
       "            }\n",
       "        \n",
       "            #T_7629072e_9a22_11ea_9d76_00155d5ef93crow2_col0 {\n",
       "            \n",
       "                background-color:  #bb1b2c;\n",
       "            \n",
       "            }\n",
       "        \n",
       "            #T_7629072e_9a22_11ea_9d76_00155d5ef93crow2_col1 {\n",
       "            \n",
       "                background-color:  #d0473d;\n",
       "            \n",
       "            }\n",
       "        \n",
       "            #T_7629072e_9a22_11ea_9d76_00155d5ef93crow2_col2 {\n",
       "            \n",
       "                background-color:  #b40426;\n",
       "            \n",
       "            }\n",
       "        \n",
       "            #T_7629072e_9a22_11ea_9d76_00155d5ef93crow2_col3 {\n",
       "            \n",
       "                background-color:  #be242e;\n",
       "            \n",
       "            }\n",
       "        \n",
       "            #T_7629072e_9a22_11ea_9d76_00155d5ef93crow2_col4 {\n",
       "            \n",
       "                background-color:  #3b4cc0;\n",
       "            \n",
       "            }\n",
       "        \n",
       "            #T_7629072e_9a22_11ea_9d76_00155d5ef93crow3_col0 {\n",
       "            \n",
       "                background-color:  #c32e31;\n",
       "            \n",
       "            }\n",
       "        \n",
       "            #T_7629072e_9a22_11ea_9d76_00155d5ef93crow3_col1 {\n",
       "            \n",
       "                background-color:  #c32e31;\n",
       "            \n",
       "            }\n",
       "        \n",
       "            #T_7629072e_9a22_11ea_9d76_00155d5ef93crow3_col2 {\n",
       "            \n",
       "                background-color:  #be242e;\n",
       "            \n",
       "            }\n",
       "        \n",
       "            #T_7629072e_9a22_11ea_9d76_00155d5ef93crow3_col3 {\n",
       "            \n",
       "                background-color:  #b40426;\n",
       "            \n",
       "            }\n",
       "        \n",
       "            #T_7629072e_9a22_11ea_9d76_00155d5ef93crow3_col4 {\n",
       "            \n",
       "                background-color:  #4055c8;\n",
       "            \n",
       "            }\n",
       "        \n",
       "            #T_7629072e_9a22_11ea_9d76_00155d5ef93crow4_col0 {\n",
       "            \n",
       "                background-color:  #3b4cc0;\n",
       "            \n",
       "            }\n",
       "        \n",
       "            #T_7629072e_9a22_11ea_9d76_00155d5ef93crow4_col1 {\n",
       "            \n",
       "                background-color:  #3b4cc0;\n",
       "            \n",
       "            }\n",
       "        \n",
       "            #T_7629072e_9a22_11ea_9d76_00155d5ef93crow4_col2 {\n",
       "            \n",
       "                background-color:  #3b4cc0;\n",
       "            \n",
       "            }\n",
       "        \n",
       "            #T_7629072e_9a22_11ea_9d76_00155d5ef93crow4_col3 {\n",
       "            \n",
       "                background-color:  #3b4cc0;\n",
       "            \n",
       "            }\n",
       "        \n",
       "            #T_7629072e_9a22_11ea_9d76_00155d5ef93crow4_col4 {\n",
       "            \n",
       "                background-color:  #b40426;\n",
       "            \n",
       "            }\n",
       "        \n",
       "        </style>\n",
       "\n",
       "        <table>\n",
       "        \n",
       "\n",
       "        <thead>\n",
       "            \n",
       "            <tr>\n",
       "                \n",
       "                \n",
       "                <th class=\"blank level0\">\n",
       "                  \n",
       "                \n",
       "                \n",
       "                \n",
       "                </th><th class=\"col_heading level0 col0\">\n",
       "                  Daily tobacco smoking, age-standardised\n",
       "                \n",
       "                \n",
       "                \n",
       "                </th><th class=\"col_heading level0 col1\">\n",
       "                  Daily cigarette smoking, age-standardised\n",
       "                \n",
       "                \n",
       "                \n",
       "                </th><th class=\"col_heading level0 col2\">\n",
       "                  Current tobacco smoking, age-standardised\n",
       "                \n",
       "                \n",
       "                \n",
       "                </th><th class=\"col_heading level0 col3\">\n",
       "                  Current cigarette smoking, age-standardised\n",
       "                \n",
       "                \n",
       "                \n",
       "                </th><th class=\"col_heading level0 col4\">\n",
       "                  Alcohol, heavy episodic drinking (15+) past 30 days (%), age-standardized\n",
       "                \n",
       "                \n",
       "            </th></tr>\n",
       "            \n",
       "        </thead>\n",
       "        <tbody>\n",
       "            \n",
       "            <tr>\n",
       "                \n",
       "                \n",
       "                <th class=\"row_heading level0 row0\">\n",
       "                    Daily tobacco smoking, age-standardised\n",
       "                \n",
       "                \n",
       "                \n",
       "                </th><td class=\"data row0 col0\">\n",
       "                    1\n",
       "                \n",
       "                \n",
       "                \n",
       "                </td><td class=\"data row0 col1\">\n",
       "                    0.93\n",
       "                \n",
       "                \n",
       "                \n",
       "                </td><td class=\"data row0 col2\">\n",
       "                    0.98\n",
       "                \n",
       "                \n",
       "                \n",
       "                </td><td class=\"data row0 col3\">\n",
       "                    0.96\n",
       "                \n",
       "                \n",
       "                \n",
       "                </td><td class=\"data row0 col4\">\n",
       "                    -0.012\n",
       "                \n",
       "                \n",
       "            </td></tr>\n",
       "            \n",
       "            <tr>\n",
       "                \n",
       "                \n",
       "                <th class=\"row_heading level0 row1\">\n",
       "                    Daily cigarette smoking, age-standardised\n",
       "                \n",
       "                \n",
       "                \n",
       "                </th><td class=\"data row1 col0\">\n",
       "                    0.93\n",
       "                \n",
       "                \n",
       "                \n",
       "                </td><td class=\"data row1 col1\">\n",
       "                    1\n",
       "                \n",
       "                \n",
       "                \n",
       "                </td><td class=\"data row1 col2\">\n",
       "                    0.92\n",
       "                \n",
       "                \n",
       "                \n",
       "                </td><td class=\"data row1 col3\">\n",
       "                    0.96\n",
       "                \n",
       "                \n",
       "                \n",
       "                </td><td class=\"data row1 col4\">\n",
       "                    0.018\n",
       "                \n",
       "                \n",
       "            </td></tr>\n",
       "            \n",
       "            <tr>\n",
       "                \n",
       "                \n",
       "                <th class=\"row_heading level0 row2\">\n",
       "                    Current tobacco smoking, age-standardised\n",
       "                \n",
       "                \n",
       "                \n",
       "                </th><td class=\"data row2 col0\">\n",
       "                    0.98\n",
       "                \n",
       "                \n",
       "                \n",
       "                </td><td class=\"data row2 col1\">\n",
       "                    0.92\n",
       "                \n",
       "                \n",
       "                \n",
       "                </td><td class=\"data row2 col2\">\n",
       "                    1\n",
       "                \n",
       "                \n",
       "                \n",
       "                </td><td class=\"data row2 col3\">\n",
       "                    0.97\n",
       "                \n",
       "                \n",
       "                \n",
       "                </td><td class=\"data row2 col4\">\n",
       "                    -0.022\n",
       "                \n",
       "                \n",
       "            </td></tr>\n",
       "            \n",
       "            <tr>\n",
       "                \n",
       "                \n",
       "                <th class=\"row_heading level0 row3\">\n",
       "                    Current cigarette smoking, age-standardised\n",
       "                \n",
       "                \n",
       "                \n",
       "                </th><td class=\"data row3 col0\">\n",
       "                    0.96\n",
       "                \n",
       "                \n",
       "                \n",
       "                </td><td class=\"data row3 col1\">\n",
       "                    0.96\n",
       "                \n",
       "                \n",
       "                \n",
       "                </td><td class=\"data row3 col2\">\n",
       "                    0.97\n",
       "                \n",
       "                \n",
       "                \n",
       "                </td><td class=\"data row3 col3\">\n",
       "                    1\n",
       "                \n",
       "                \n",
       "                \n",
       "                </td><td class=\"data row3 col4\">\n",
       "                    -0.00051\n",
       "                \n",
       "                \n",
       "            </td></tr>\n",
       "            \n",
       "            <tr>\n",
       "                \n",
       "                \n",
       "                <th class=\"row_heading level0 row4\">\n",
       "                    Alcohol, heavy episodic drinking (15+) past 30 days (%), age-standardized\n",
       "                \n",
       "                \n",
       "                \n",
       "                </th><td class=\"data row4 col0\">\n",
       "                    -0.012\n",
       "                \n",
       "                \n",
       "                \n",
       "                </td><td class=\"data row4 col1\">\n",
       "                    0.018\n",
       "                \n",
       "                \n",
       "                \n",
       "                </td><td class=\"data row4 col2\">\n",
       "                    -0.022\n",
       "                \n",
       "                \n",
       "                \n",
       "                </td><td class=\"data row4 col3\">\n",
       "                    -0.00051\n",
       "                \n",
       "                \n",
       "                \n",
       "                </td><td class=\"data row4 col4\">\n",
       "                    1\n",
       "                \n",
       "                \n",
       "            </td></tr>\n",
       "            \n",
       "        </tbody>\n",
       "        </table>\n",
       "        "
      ],
      "text/plain": [
       "<pandas.formats.style.Styler at 0x7f149cbfc780>"
      ]
     },
     "execution_count": 34,
     "metadata": {},
     "output_type": "execute_result"
    }
   ],
   "source": [
    "corr.style.background_gradient(cmap='coolwarm').set_precision(2)"
   ]
  },
  {
   "cell_type": "markdown",
   "metadata": {},
   "source": [
    "#### NCD Risk Factor"
   ]
  },
  {
   "cell_type": "code",
   "execution_count": 35,
   "metadata": {},
   "outputs": [],
   "source": [
    "df_perc=df[(df['Year']==2017) & (df['Risk Factor']=='NCD Prevalence Rate')]"
   ]
  },
  {
   "cell_type": "code",
   "execution_count": 36,
   "metadata": {},
   "outputs": [
    {
     "name": "stderr",
     "output_type": "stream",
     "text": [
      "/home/nbuser/anaconda3_420/lib/python3.5/site-packages/ipykernel/__main__.py:4: SettingWithCopyWarning: \n",
      "A value is trying to be set on a copy of a slice from a DataFrame\n",
      "\n",
      "See the caveats in the documentation: http://pandas.pydata.org/pandas-docs/stable/indexing.html#indexing-view-versus-copy\n",
      "/home/nbuser/anaconda3_420/lib/python3.5/site-packages/ipykernel/__main__.py:8: SettingWithCopyWarning: \n",
      "A value is trying to be set on a copy of a slice from a DataFrame\n",
      "\n",
      "See the caveats in the documentation: http://pandas.pydata.org/pandas-docs/stable/indexing.html#indexing-view-versus-copy\n",
      "/home/nbuser/anaconda3_420/lib/python3.5/site-packages/ipykernel/__main__.py:11: SettingWithCopyWarning: \n",
      "A value is trying to be set on a copy of a slice from a DataFrame\n",
      "\n",
      "See the caveats in the documentation: http://pandas.pydata.org/pandas-docs/stable/indexing.html#indexing-view-versus-copy\n",
      "/home/nbuser/anaconda3_420/lib/python3.5/site-packages/ipykernel/__main__.py:14: SettingWithCopyWarning: \n",
      "A value is trying to be set on a copy of a slice from a DataFrame\n",
      "\n",
      "See the caveats in the documentation: http://pandas.pydata.org/pandas-docs/stable/indexing.html#indexing-view-versus-copy\n"
     ]
    }
   ],
   "source": [
    "## remove duplicates of Congo\n",
    "\n",
    "df_perc[(df_perc['Indicator']=='Asthma prevalence rate')&( df_perc['Country']=='Congo')]\n",
    "df_perc.drop([6367], inplace=True)\n",
    "\n",
    "\n",
    "df_perc[df_perc['Indicator']=='Chronic obstructive pulmonary disease prevalence rate']['Country'].nunique()\n",
    "df_perc.drop([6563], inplace=True)\n",
    "\n",
    "df_perc[df_perc['Indicator']=='Chronic respiratory diseases prevalence rate']['Country'].nunique()\n",
    "df_perc.drop([6758], inplace=True)\n",
    "\n",
    "df_perc[df_perc['Indicator']=='Pneumoconiosis prevalence rate']['Country'].nunique()\n",
    "df_perc.drop([7165], inplace=True)\n",
    "\n"
   ]
  },
  {
   "cell_type": "code",
   "execution_count": 37,
   "metadata": {},
   "outputs": [
    {
     "name": "stdout",
     "output_type": "stream",
     "text": [
      "all 0 for the indicator: \"Other chronic respiratory diseases prevalence rate\" so will drop this indicator as no info is there\n"
     ]
    },
    {
     "name": "stderr",
     "output_type": "stream",
     "text": [
      "/home/nbuser/anaconda3_420/lib/python3.5/site-packages/ipykernel/__main__.py:5: SettingWithCopyWarning: \n",
      "A value is trying to be set on a copy of a slice from a DataFrame\n",
      "\n",
      "See the caveats in the documentation: http://pandas.pydata.org/pandas-docs/stable/indexing.html#indexing-view-versus-copy\n"
     ]
    }
   ],
   "source": [
    "#exclude pne \n",
    "print('all 0 for the indicator: \"Other chronic respiratory diseases prevalence rate\" so will drop this indicator as no info is there')\n",
    "df_perc[df_perc['Indicator']=='Other chronic respiratory diseases prevalence rate']\n",
    "dropi = df_perc[df_perc['Indicator']=='Other chronic respiratory diseases prevalence rate'].index #all 0's\n",
    "df_perc.drop(dropi, inplace=True)"
   ]
  },
  {
   "cell_type": "code",
   "execution_count": 39,
   "metadata": {},
   "outputs": [
    {
     "name": "stderr",
     "output_type": "stream",
     "text": [
      "/home/nbuser/anaconda3_420/lib/python3.5/site-packages/ipykernel/__main__.py:3: SettingWithCopyWarning: \n",
      "A value is trying to be set on a copy of a slice from a DataFrame\n",
      "\n",
      "See the caveats in the documentation: http://pandas.pydata.org/pandas-docs/stable/indexing.html#indexing-view-versus-copy\n",
      "  app.launch_new_instance()\n"
     ]
    },
    {
     "data": {
      "text/html": [
       "<div>\n",
       "<table class=\"dataframe\">\n",
       "  <thead>\n",
       "    <tr style=\"text-align: right;\">\n",
       "      <th></th>\n",
       "      <th>Country</th>\n",
       "      <th>Asthma prevalence rate</th>\n",
       "      <th>Chronic obstructive pulmonary disease prevalence rate</th>\n",
       "      <th>Chronic respiratory diseases prevalence rate</th>\n",
       "      <th>Pneumoconiosis prevalence rate</th>\n",
       "    </tr>\n",
       "  </thead>\n",
       "  <tbody>\n",
       "    <tr>\n",
       "      <th>0</th>\n",
       "      <td>Afghanistan</td>\n",
       "      <td>5520.271311</td>\n",
       "      <td>2469.099987</td>\n",
       "      <td>7642.147073</td>\n",
       "      <td>2.058286</td>\n",
       "    </tr>\n",
       "    <tr>\n",
       "      <th>1</th>\n",
       "      <td>Albania</td>\n",
       "      <td>2997.681117</td>\n",
       "      <td>6006.422879</td>\n",
       "      <td>8591.616027</td>\n",
       "      <td>10.350787</td>\n",
       "    </tr>\n",
       "    <tr>\n",
       "      <th>2</th>\n",
       "      <td>Algeria</td>\n",
       "      <td>5538.954664</td>\n",
       "      <td>3244.627805</td>\n",
       "      <td>8362.724221</td>\n",
       "      <td>3.654775</td>\n",
       "    </tr>\n",
       "    <tr>\n",
       "      <th>3</th>\n",
       "      <td>American Samoa</td>\n",
       "      <td>10523.876750</td>\n",
       "      <td>3124.340929</td>\n",
       "      <td>12777.207680</td>\n",
       "      <td>6.501375</td>\n",
       "    </tr>\n",
       "    <tr>\n",
       "      <th>4</th>\n",
       "      <td>Andorra</td>\n",
       "      <td>6255.701893</td>\n",
       "      <td>5819.334315</td>\n",
       "      <td>11420.807580</td>\n",
       "      <td>0.227133</td>\n",
       "    </tr>\n",
       "  </tbody>\n",
       "</table>\n",
       "</div>"
      ],
      "text/plain": [
       "          Country  Asthma prevalence rate  \\\n",
       "0     Afghanistan             5520.271311   \n",
       "1         Albania             2997.681117   \n",
       "2         Algeria             5538.954664   \n",
       "3  American Samoa            10523.876750   \n",
       "4         Andorra             6255.701893   \n",
       "\n",
       "   Chronic obstructive pulmonary disease prevalence rate  \\\n",
       "0                                        2469.099987       \n",
       "1                                        6006.422879       \n",
       "2                                        3244.627805       \n",
       "3                                        3124.340929       \n",
       "4                                        5819.334315       \n",
       "\n",
       "   Chronic respiratory diseases prevalence rate  \\\n",
       "0                                   7642.147073   \n",
       "1                                   8591.616027   \n",
       "2                                   8362.724221   \n",
       "3                                  12777.207680   \n",
       "4                                  11420.807580   \n",
       "\n",
       "   Pneumoconiosis prevalence rate  \n",
       "0                        2.058286  \n",
       "1                       10.350787  \n",
       "2                        3.654775  \n",
       "3                        6.501375  \n",
       "4                        0.227133  "
      ]
     },
     "execution_count": 39,
     "metadata": {},
     "output_type": "execute_result"
    }
   ],
   "source": [
    "df_ncd=pd.DataFrame()\n",
    "irange = df_perc['Indicator'].unique()\n",
    "df_perc.sort_values(['Indicator', 'Country'], ascending=True, inplace = True)\n",
    "\n",
    "for i in irange:\n",
    "\n",
    "    pivot = df_perc[df_perc['Indicator']==i].pivot(index='Country', columns='Indicator', values='Data')\n",
    "    pivot.reset_index(inplace=True)\n",
    "    pivot.columns =['Country', i]\n",
    "    df_ncd['Country']=pivot['Country']\n",
    "    df_ncd [i] = pivot[i]\n",
    "    \n",
    "\n",
    "\n",
    "df_ncd.head()"
   ]
  },
  {
   "cell_type": "code",
   "execution_count": 40,
   "metadata": {},
   "outputs": [
    {
     "name": "stdout",
     "output_type": "stream",
     "text": [
      "<pandas.formats.style.Styler object at 0x7f14a20e1550>\n"
     ]
    },
    {
     "data": {
      "text/plain": [
       "<matplotlib.axes._subplots.AxesSubplot at 0x7f149ca5a710>"
      ]
     },
     "execution_count": 40,
     "metadata": {},
     "output_type": "execute_result"
    },
    {
     "data": {
      "image/png": "[encoded data removed]",
      "text/plain": [
       "<matplotlib.figure.Figure at 0x7f149c3cdeb8>"
      ]
     },
     "metadata": {},
     "output_type": "display_data"
    }
   ],
   "source": [
    "x =  df_ncd.iloc[:,1:4]\n",
    "x.head()\n",
    "import matplotlib.pyplot as pl\n",
    "import seaborn as sns\n",
    "import numpy as np\n",
    "\n",
    "corr = x.corr()\n",
    "print(corr.style.background_gradient(cmap='coolwarm').set_precision(2))\n",
    "\n",
    "f, ax = pl.subplots(figsize=(8, 6))\n",
    "sns.heatmap(corr, mask=np.zeros_like(corr, dtype=np.bool), cmap=sns.diverging_palette(220, 10, as_cmap=True),\n",
    "            square=True, ax=ax)"
   ]
  },
  {
   "cell_type": "code",
   "execution_count": 41,
   "metadata": {},
   "outputs": [
    {
     "data": {
      "text/html": [
       "\n",
       "        <style>\n",
       "        \n",
       "        \n",
       "            #T_81022112_9a22_11ea_9d76_00155d5ef93crow0_col0 {\n",
       "            \n",
       "                background-color:  #b40426;\n",
       "            \n",
       "            }\n",
       "        \n",
       "            #T_81022112_9a22_11ea_9d76_00155d5ef93crow0_col1 {\n",
       "            \n",
       "                background-color:  #3b4cc0;\n",
       "            \n",
       "            }\n",
       "        \n",
       "            #T_81022112_9a22_11ea_9d76_00155d5ef93crow0_col2 {\n",
       "            \n",
       "                background-color:  #3b4cc0;\n",
       "            \n",
       "            }\n",
       "        \n",
       "            #T_81022112_9a22_11ea_9d76_00155d5ef93crow1_col0 {\n",
       "            \n",
       "                background-color:  #3b4cc0;\n",
       "            \n",
       "            }\n",
       "        \n",
       "            #T_81022112_9a22_11ea_9d76_00155d5ef93crow1_col1 {\n",
       "            \n",
       "                background-color:  #b40426;\n",
       "            \n",
       "            }\n",
       "        \n",
       "            #T_81022112_9a22_11ea_9d76_00155d5ef93crow1_col2 {\n",
       "            \n",
       "                background-color:  #93b5fe;\n",
       "            \n",
       "            }\n",
       "        \n",
       "            #T_81022112_9a22_11ea_9d76_00155d5ef93crow2_col0 {\n",
       "            \n",
       "                background-color:  #f7b99e;\n",
       "            \n",
       "            }\n",
       "        \n",
       "            #T_81022112_9a22_11ea_9d76_00155d5ef93crow2_col1 {\n",
       "            \n",
       "                background-color:  #f4987a;\n",
       "            \n",
       "            }\n",
       "        \n",
       "            #T_81022112_9a22_11ea_9d76_00155d5ef93crow2_col2 {\n",
       "            \n",
       "                background-color:  #b40426;\n",
       "            \n",
       "            }\n",
       "        \n",
       "        </style>\n",
       "\n",
       "        <table>\n",
       "        \n",
       "\n",
       "        <thead>\n",
       "            \n",
       "            <tr>\n",
       "                \n",
       "                \n",
       "                <th class=\"blank level0\">\n",
       "                  \n",
       "                \n",
       "                \n",
       "                \n",
       "                </th><th class=\"col_heading level0 col0\">\n",
       "                  Asthma prevalence rate\n",
       "                \n",
       "                \n",
       "                \n",
       "                </th><th class=\"col_heading level0 col1\">\n",
       "                  Chronic obstructive pulmonary disease prevalence rate\n",
       "                \n",
       "                \n",
       "                \n",
       "                </th><th class=\"col_heading level0 col2\">\n",
       "                  Chronic respiratory diseases prevalence rate\n",
       "                \n",
       "                \n",
       "            </th></tr>\n",
       "            \n",
       "        </thead>\n",
       "        <tbody>\n",
       "            \n",
       "            <tr>\n",
       "                \n",
       "                \n",
       "                <th class=\"row_heading level0 row0\">\n",
       "                    Asthma prevalence rate\n",
       "                \n",
       "                \n",
       "                \n",
       "                </th><td class=\"data row0 col0\">\n",
       "                    1\n",
       "                \n",
       "                \n",
       "                \n",
       "                </td><td class=\"data row0 col1\">\n",
       "                    0.041\n",
       "                \n",
       "                \n",
       "                \n",
       "                </td><td class=\"data row0 col2\">\n",
       "                    0.68\n",
       "                \n",
       "                \n",
       "            </td></tr>\n",
       "            \n",
       "            <tr>\n",
       "                \n",
       "                \n",
       "                <th class=\"row_heading level0 row1\">\n",
       "                    Chronic obstructive pulmonary disease prevalence rate\n",
       "                \n",
       "                \n",
       "                \n",
       "                </th><td class=\"data row1 col0\">\n",
       "                    0.041\n",
       "                \n",
       "                \n",
       "                \n",
       "                </td><td class=\"data row1 col1\">\n",
       "                    1\n",
       "                \n",
       "                \n",
       "                \n",
       "                </td><td class=\"data row1 col2\">\n",
       "                    0.76\n",
       "                \n",
       "                \n",
       "            </td></tr>\n",
       "            \n",
       "            <tr>\n",
       "                \n",
       "                \n",
       "                <th class=\"row_heading level0 row2\">\n",
       "                    Chronic respiratory diseases prevalence rate\n",
       "                \n",
       "                \n",
       "                \n",
       "                </th><td class=\"data row2 col0\">\n",
       "                    0.68\n",
       "                \n",
       "                \n",
       "                \n",
       "                </td><td class=\"data row2 col1\">\n",
       "                    0.76\n",
       "                \n",
       "                \n",
       "                \n",
       "                </td><td class=\"data row2 col2\">\n",
       "                    1\n",
       "                \n",
       "                \n",
       "            </td></tr>\n",
       "            \n",
       "        </tbody>\n",
       "        </table>\n",
       "        "
      ],
      "text/plain": [
       "<pandas.formats.style.Styler at 0x7f149c392048>"
      ]
     },
     "execution_count": 41,
     "metadata": {},
     "output_type": "execute_result"
    }
   ],
   "source": [
    "corr.style.background_gradient(cmap='coolwarm').set_precision(2)"
   ]
  },
  {
   "cell_type": "markdown",
   "metadata": {},
   "source": [
    "### Explore Missing countries and data points"
   ]
  },
  {
   "cell_type": "code",
   "execution_count": 42,
   "metadata": {},
   "outputs": [],
   "source": [
    "a = df[(df['Indicator']=='Prevalence of obesity among adults, BMI &GreaterEqual; 30 (age-standardized estimate) (%)')  & ( df['Year']==2016)\n",
    "      ]#    190\n",
    "\n",
    "\n",
    "b = df[(df['Indicator']=='Prevalence of overweight among adults, BMI &GreaterEqual; 25 (crude estimate) (%)')          & (df['Year'] ==2016)]\n",
    "\n",
    "\n",
    "c = df[(df['Indicator']=='Raised blood pressure (SBP>=140 OR DBP>=90) (crude estimate), 18+  years'  )                 & (df['Year'] ==2015 ) ]\n",
    "\n",
    "d = df[(df['Indicator'] == 'Raised fasting blood glucose (>= 7.0 mmol/L or on medication) (crude estimate), 18+  years') & (df['Year']==2014 ) \n",
    "      ]\n",
    "e=a"
   ]
  },
  {
   "cell_type": "code",
   "execution_count": 43,
   "metadata": {},
   "outputs": [],
   "source": [
    "#e = df[(df['Indicator']=='Alcohol, heavy episodic drinking (15+) past 30 days (%), age-standardized' )     & ( df['Year']==2016)  ]  \n",
    "#e = df[(df['Indicator']== 'Alcohol, recorded per capita (15+) consumption (in litres of pure alcohol)' )    & ( df['Year']==2016) ]         \n",
    "#e = df[(df['Indicator']== 'Current cigarette smoking, age-standardised')  & ( df['Year']==2013)   ]\n",
    "#e = df[(df['Indicator']==  'Current tobacco smoking, age-standardised')     & ( df['Year']==2013)]                                             \n",
    "#e = df[(df['Indicator']==  'Daily cigarette smoking, age-standardised')       & ( df['Year']==2013)  ]  \n",
    "\n",
    "e = df[(df['Indicator']==  'Daily tobacco smoking, age-standardised')       & ( df['Year']==2013)  ]   \n",
    "\n",
    "\n",
    "#e = df[(df['Indicator']=='Concentrations of fine particulate matter (PM2.5)  ' )     & ( df['Year']==2016)  ]  \n",
    "#e = df[(df['Indicator']=='Concentrations of fine particulate matter (PM2.5)  ' )     & ( df['Year']==2020)  ]  "
   ]
  },
  {
   "cell_type": "code",
   "execution_count": 44,
   "metadata": {},
   "outputs": [],
   "source": [
    "set_country = e['Country'].unique()\n",
    "set_country =  pd.DataFrame(set_country,columns=['Country'])\n",
    "complete_country =df[(df['Year']==2017) & (df['Risk Factor']=='NCD Prevalence Rate')]['Country'].unique()\n",
    "complete_country=pd.DataFrame(complete_country,columns=['Country'])\n",
    "\n",
    "m = complete_country[~complete_country['Country'].isin(set_country['Country'])]\n",
    "#Behavioral Risk Factor "
   ]
  },
  {
   "cell_type": "markdown",
   "metadata": {},
   "source": [
    "## Assigning Risk Factor Scores using Percentage Binning"
   ]
  },
  {
   "cell_type": "markdown",
   "metadata": {},
   "source": [
    "### NCD Risk Factor"
   ]
  },
  {
   "cell_type": "code",
   "execution_count": 45,
   "metadata": {},
   "outputs": [],
   "source": [
    "c = df_ncd.iloc[:,0]\n",
    "df_ncd = df_ncd.iloc[:,1:4]"
   ]
  },
  {
   "cell_type": "code",
   "execution_count": 46,
   "metadata": {},
   "outputs": [
    {
     "data": {
      "text/html": [
       "<div>\n",
       "<table class=\"dataframe\">\n",
       "  <thead>\n",
       "    <tr style=\"text-align: right;\">\n",
       "      <th></th>\n",
       "      <th>Asthma prevalence rate</th>\n",
       "      <th>Chronic obstructive pulmonary disease prevalence rate</th>\n",
       "      <th>Chronic respiratory diseases prevalence rate</th>\n",
       "    </tr>\n",
       "  </thead>\n",
       "  <tbody>\n",
       "    <tr>\n",
       "      <th>0.1</th>\n",
       "      <td>3126.645501</td>\n",
       "      <td>1492.849325</td>\n",
       "      <td>4901.256075</td>\n",
       "    </tr>\n",
       "    <tr>\n",
       "      <th>0.2</th>\n",
       "      <td>3408.827396</td>\n",
       "      <td>1841.480321</td>\n",
       "      <td>5734.883690</td>\n",
       "    </tr>\n",
       "    <tr>\n",
       "      <th>0.3</th>\n",
       "      <td>3797.558609</td>\n",
       "      <td>2205.271818</td>\n",
       "      <td>6352.331379</td>\n",
       "    </tr>\n",
       "    <tr>\n",
       "      <th>0.4</th>\n",
       "      <td>4172.810457</td>\n",
       "      <td>2689.453156</td>\n",
       "      <td>7095.647589</td>\n",
       "    </tr>\n",
       "    <tr>\n",
       "      <th>0.5</th>\n",
       "      <td>4624.548553</td>\n",
       "      <td>3037.251289</td>\n",
       "      <td>7895.822310</td>\n",
       "    </tr>\n",
       "    <tr>\n",
       "      <th>0.6</th>\n",
       "      <td>5061.977852</td>\n",
       "      <td>3409.192267</td>\n",
       "      <td>8737.381272</td>\n",
       "    </tr>\n",
       "    <tr>\n",
       "      <th>0.7</th>\n",
       "      <td>5427.108594</td>\n",
       "      <td>4210.077151</td>\n",
       "      <td>9704.144244</td>\n",
       "    </tr>\n",
       "    <tr>\n",
       "      <th>0.8</th>\n",
       "      <td>6410.425313</td>\n",
       "      <td>5841.020325</td>\n",
       "      <td>11256.259790</td>\n",
       "    </tr>\n",
       "    <tr>\n",
       "      <th>0.9</th>\n",
       "      <td>7520.879333</td>\n",
       "      <td>6478.024228</td>\n",
       "      <td>12322.973105</td>\n",
       "    </tr>\n",
       "    <tr>\n",
       "      <th>1.0</th>\n",
       "      <td>12095.018780</td>\n",
       "      <td>10643.456040</td>\n",
       "      <td>15356.234020</td>\n",
       "    </tr>\n",
       "  </tbody>\n",
       "</table>\n",
       "</div>"
      ],
      "text/plain": [
       "     Asthma prevalence rate  \\\n",
       "0.1             3126.645501   \n",
       "0.2             3408.827396   \n",
       "0.3             3797.558609   \n",
       "0.4             4172.810457   \n",
       "0.5             4624.548553   \n",
       "0.6             5061.977852   \n",
       "0.7             5427.108594   \n",
       "0.8             6410.425313   \n",
       "0.9             7520.879333   \n",
       "1.0            12095.018780   \n",
       "\n",
       "     Chronic obstructive pulmonary disease prevalence rate  \\\n",
       "0.1                                        1492.849325       \n",
       "0.2                                        1841.480321       \n",
       "0.3                                        2205.271818       \n",
       "0.4                                        2689.453156       \n",
       "0.5                                        3037.251289       \n",
       "0.6                                        3409.192267       \n",
       "0.7                                        4210.077151       \n",
       "0.8                                        5841.020325       \n",
       "0.9                                        6478.024228       \n",
       "1.0                                       10643.456040       \n",
       "\n",
       "     Chronic respiratory diseases prevalence rate  \n",
       "0.1                                   4901.256075  \n",
       "0.2                                   5734.883690  \n",
       "0.3                                   6352.331379  \n",
       "0.4                                   7095.647589  \n",
       "0.5                                   7895.822310  \n",
       "0.6                                   8737.381272  \n",
       "0.7                                   9704.144244  \n",
       "0.8                                  11256.259790  \n",
       "0.9                                  12322.973105  \n",
       "1.0                                  15356.234020  "
      ]
     },
     "execution_count": 46,
     "metadata": {},
     "output_type": "execute_result"
    }
   ],
   "source": [
    "qt = df_ncd.quantile([.1, 0.2, 0.3, 0.4, 0.5, 0.6, 0.7,0.8,0.9,1])\n",
    "qt"
   ]
  },
  {
   "cell_type": "code",
   "execution_count": 47,
   "metadata": {},
   "outputs": [],
   "source": [
    "perc=pd.DataFrame()\n",
    "l = df_ncd.shape[0]\n",
    "\n",
    "for i in range(0,3):\n",
    "    binn = []\n",
    "    for j in range(0,l ):\n",
    "        for q in range (0,10):\n",
    "            if df_ncd.iloc[j,i]<=qt.iloc[q,i]:\n",
    "                binn.append(q+1)\n",
    "                break\n",
    "    perc[i] = binn\n",
    "perc.columns = df_ncd.columns\n",
    "perc['Country']=c\n",
    "            "
   ]
  },
  {
   "cell_type": "code",
   "execution_count": 48,
   "metadata": {},
   "outputs": [
    {
     "data": {
      "text/html": [
       "<div>\n",
       "<table class=\"dataframe\">\n",
       "  <thead>\n",
       "    <tr style=\"text-align: right;\">\n",
       "      <th></th>\n",
       "      <th>Asthma prevalence rate</th>\n",
       "      <th>Chronic obstructive pulmonary disease prevalence rate</th>\n",
       "      <th>Chronic respiratory diseases prevalence rate</th>\n",
       "      <th>Country</th>\n",
       "    </tr>\n",
       "  </thead>\n",
       "  <tbody>\n",
       "    <tr>\n",
       "      <th>0</th>\n",
       "      <td>8</td>\n",
       "      <td>4</td>\n",
       "      <td>5</td>\n",
       "      <td>Afghanistan</td>\n",
       "    </tr>\n",
       "    <tr>\n",
       "      <th>1</th>\n",
       "      <td>1</td>\n",
       "      <td>9</td>\n",
       "      <td>6</td>\n",
       "      <td>Albania</td>\n",
       "    </tr>\n",
       "    <tr>\n",
       "      <th>2</th>\n",
       "      <td>8</td>\n",
       "      <td>6</td>\n",
       "      <td>6</td>\n",
       "      <td>Algeria</td>\n",
       "    </tr>\n",
       "    <tr>\n",
       "      <th>3</th>\n",
       "      <td>10</td>\n",
       "      <td>6</td>\n",
       "      <td>10</td>\n",
       "      <td>American Samoa</td>\n",
       "    </tr>\n",
       "    <tr>\n",
       "      <th>4</th>\n",
       "      <td>8</td>\n",
       "      <td>8</td>\n",
       "      <td>9</td>\n",
       "      <td>Andorra</td>\n",
       "    </tr>\n",
       "    <tr>\n",
       "      <th>5</th>\n",
       "      <td>7</td>\n",
       "      <td>1</td>\n",
       "      <td>4</td>\n",
       "      <td>Angola</td>\n",
       "    </tr>\n",
       "    <tr>\n",
       "      <th>6</th>\n",
       "      <td>9</td>\n",
       "      <td>4</td>\n",
       "      <td>6</td>\n",
       "      <td>Antigua and Barbuda</td>\n",
       "    </tr>\n",
       "    <tr>\n",
       "      <th>7</th>\n",
       "      <td>5</td>\n",
       "      <td>7</td>\n",
       "      <td>6</td>\n",
       "      <td>Argentina</td>\n",
       "    </tr>\n",
       "    <tr>\n",
       "      <th>8</th>\n",
       "      <td>3</td>\n",
       "      <td>8</td>\n",
       "      <td>6</td>\n",
       "      <td>Armenia</td>\n",
       "    </tr>\n",
       "    <tr>\n",
       "      <th>9</th>\n",
       "      <td>10</td>\n",
       "      <td>8</td>\n",
       "      <td>10</td>\n",
       "      <td>Australia</td>\n",
       "    </tr>\n",
       "  </tbody>\n",
       "</table>\n",
       "</div>"
      ],
      "text/plain": [
       "   Asthma prevalence rate  \\\n",
       "0                       8   \n",
       "1                       1   \n",
       "2                       8   \n",
       "3                      10   \n",
       "4                       8   \n",
       "5                       7   \n",
       "6                       9   \n",
       "7                       5   \n",
       "8                       3   \n",
       "9                      10   \n",
       "\n",
       "   Chronic obstructive pulmonary disease prevalence rate  \\\n",
       "0                                                  4       \n",
       "1                                                  9       \n",
       "2                                                  6       \n",
       "3                                                  6       \n",
       "4                                                  8       \n",
       "5                                                  1       \n",
       "6                                                  4       \n",
       "7                                                  7       \n",
       "8                                                  8       \n",
       "9                                                  8       \n",
       "\n",
       "   Chronic respiratory diseases prevalence rate              Country  \n",
       "0                                             5          Afghanistan  \n",
       "1                                             6              Albania  \n",
       "2                                             6              Algeria  \n",
       "3                                            10       American Samoa  \n",
       "4                                             9              Andorra  \n",
       "5                                             4               Angola  \n",
       "6                                             6  Antigua and Barbuda  \n",
       "7                                             6            Argentina  \n",
       "8                                             6              Armenia  \n",
       "9                                            10            Australia  "
      ]
     },
     "execution_count": 48,
     "metadata": {},
     "output_type": "execute_result"
    }
   ],
   "source": [
    "perc.head(10)"
   ]
  },
  {
   "cell_type": "markdown",
   "metadata": {},
   "source": [
    "### Metabolic Risk Factor"
   ]
  },
  {
   "cell_type": "markdown",
   "metadata": {},
   "source": [
    "### Behavioral Risk Factor"
   ]
  },
  {
   "cell_type": "code",
   "execution_count": null,
   "metadata": {},
   "outputs": [],
   "source": []
  }
 ],
 "metadata": {
  "kernelspec": {
   "display_name": "Python 3",
   "language": "python",
   "name": "python3"
  },
  "language_info": {
   "codemirror_mode": {
    "name": "ipython",
    "version": 3
   },
   "file_extension": ".py",
   "mimetype": "text/x-python",
   "name": "python",
   "nbconvert_exporter": "python",
   "pygments_lexer": "ipython3",
   "version": "3.5.4"
  },
  "toc": {
   "base_numbering": 1,
   "nav_menu": {},
   "number_sections": true,
   "sideBar": true,
   "skip_h1_title": true,
   "title_cell": "Table of Contents",
   "title_sidebar": "Contents",
   "toc_cell": true,
   "toc_position": {},
   "toc_section_display": true,
   "toc_window_display": false
  }
 },
 "nbformat": 4,
 "nbformat_minor": 1
}
